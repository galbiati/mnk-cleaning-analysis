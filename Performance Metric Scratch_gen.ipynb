{
 "cells": [
  {
   "cell_type": "code",
   "execution_count": 1,
   "metadata": {
    "collapsed": false
   },
   "outputs": [],
   "source": [
    "import numpy as np\n",
    "import pandas as pd\n",
    "import matplotlib.pyplot as plt\n",
    "import seaborn as sns\n",
    "import scipy.stats as sts\n",
    "from pprint import pprint\n",
    "import os\n",
    "sns.set_style('white')\n",
    "sns.set_context('poster')\n",
    "sns.set_palette(['#E97F02', '#490A3D', '#BD1550']) #http://www.colourlovers.com/palette/848743/(%E2%97%95_%E2%80%9D_%E2%97%95)\n",
    "%matplotlib inline"
   ]
  },
  {
   "cell_type": "code",
   "execution_count": 2,
   "metadata": {
    "collapsed": true
   },
   "outputs": [],
   "source": [
    "direc = '../../Data/2_eye/Clean/Game/'"
   ]
  },
  {
   "cell_type": "code",
   "execution_count": 3,
   "metadata": {
    "collapsed": false
   },
   "outputs": [],
   "source": [
    "files = [f for f in os.listdir(direc) if ((f[0] != \"_\") & (f[0] != \".\"))]\n",
    "subjects = [f[:2] for f in files]\n",
    "dataset = [pd.read_csv(direc + f).drop('Unnamed: 0', axis=1)  for f in files] #\n",
    "datadict = dict(zip(subjects, dataset))"
   ]
  },
  {
   "cell_type": "code",
   "execution_count": 4,
   "metadata": {
    "collapsed": false
   },
   "outputs": [],
   "source": [
    "oberr = pd.read_csv('../1_gen/objective_errors.csv')\n",
    "def bits2boards(num):\n",
    "    s = '{0:b}'.format(num)\n",
    "    return '0'*(36-len(s)) + s\n",
    "\n",
    "oberr.loc[:, 'bp'] = oberr.loc[:, '0_pieces'].map(bits2boards)\n",
    "oberr.loc[:, 'wp'] = oberr.loc[:, '1_pieces'].map(bits2boards)\n",
    "\n",
    "oberr = oberr.loc[:, ['bp', 'wp', 'color', 'Game_theoretic_value', \n",
    "                      'Confirmed', 'value_Zeyan ', 'confirmed_Zeyan']]\n",
    "oberr.columns = ['bp', 'wp', 'color', 'gtv', 'gtv_c', 'zv', 'zv_c']\n",
    "\n",
    "positions = pd.read_csv('../1_gen/experiment_boards_new.txt', sep='\\t', \n",
    "            names=['bp', 'wp', 'a', 'aval', 'b', 'bval', 'c', 'mu'])\n",
    "positions.loc[:, 'attempts'] = 0\n",
    "positions.loc[:, 'errors'] = 0"
   ]
  },
  {
   "cell_type": "code",
   "execution_count": 5,
   "metadata": {
    "collapsed": true
   },
   "outputs": [],
   "source": [
    "gamout = ['subject', 'color', 'bp', 'wp', 'response', 'rt']\n",
    "afcout = ['subject', 'color', 'bp', 'wp', 'response', 'rt', 'a', 'b', 'aval', 'bval']\n",
    "evaout = ['subject', 'color', 'bp', 'wp', 'response', 'rt', 'val']\n",
    "new_cols = ['a', 'b', 'aval', 'bval', 'val']"
   ]
  },
  {
   "cell_type": "code",
   "execution_count": 6,
   "metadata": {
    "collapsed": false
   },
   "outputs": [],
   "source": [
    "def append_tables(df):\n",
    "    for i in new_cols:\n",
    "        df.loc[:, i] = np.nan\n",
    "    d = df.loc[df.status==\"AFC2\", :]\n",
    "    \n",
    "    for obs in d.index.values:\n",
    "        c = positions.loc[\n",
    "            (positions.bp == d.loc[obs, 'bp']) & (positions.wp == d.loc[obs, 'wp']), \n",
    "            :]\n",
    "        if len(c) > 1:\n",
    "            c = int(c.loc[c.index.values[0], :])\n",
    "        if len(c) == 1:\n",
    "            for h in ['a', 'b', 'aval', 'bval']:\n",
    "                df.loc[obs, h] = int(c.loc[:, h].values[0])\n",
    "    \n",
    "    d = df.loc[df.status=='EVAL', :]\n",
    "    for obs in d.index.values:\n",
    "        o = oberr.loc[\n",
    "            (oberr.bp == d.loc[obs, 'bp']) & (oberr.wp == d.loc[obs, 'wp']), \n",
    "            :]\n",
    "        if len(c) > 1:\n",
    "            o = o.loc[o.index.values[0], :]\n",
    "        if len(c) == 1:\n",
    "            df.loc[obs, 'val'] = o.loc[:, 'gtv'].values[0]\n",
    "    \n",
    "    return df\n",
    "\n",
    "def find_errors(df):\n",
    "    for i in ['error', 'val']:\n",
    "        df.loc[:, i] = np.nan\n",
    "    d = df.loc[df.status==\"AFC2\", :]\n",
    "    \n",
    "    for obs in d.index.values:\n",
    "        \n",
    "        c = positions.loc[\n",
    "            (positions.bp == d.loc[obs, 'bp']) & (positions.wp == d.loc[obs, 'wp']), \n",
    "            :]\n",
    "        o = oberr.loc[\n",
    "            (oberr.bp == d.loc[obs, 'bp']) & (oberr.wp == d.loc[obs, 'wp']), \n",
    "            :]\n",
    "        \n",
    "        if len(c) > 1:\n",
    "            c = c.loc[c.index.values[0], :]\n",
    "        if len(o) > 1:\n",
    "            o = o.loc[o.index.values[0], :]\n",
    "        if len(c) == 1:\n",
    "            positions.loc[c.index.values[0], 'attempts'] += 1\n",
    "            if d.loc[obs, 'response'] == c.loc[:, 'a'].values[0]:\n",
    "                if c.loc[:, 'aval'].values[0] < c.loc[:, 'bval'].values[0]:\n",
    "                    df.loc[obs, 'error'] = 1\n",
    "                    positions.loc[c.index.values[0], 'errors'] += 1\n",
    "                else:\n",
    "                    df.loc[obs, 'error'] = 0\n",
    "            elif d.loc[obs, 'response'] == c.loc[:, 'b'].values[0]:\n",
    "                if c.loc[:, 'aval'].values[0] > c.loc[:, 'bval'].values[0]:\n",
    "                    df.loc[obs, 'error'] = 1\n",
    "                    positions.loc[c.index.values[0], 'errors'] += 1\n",
    "                else:\n",
    "                    df.loc[obs, 'error'] = 0\n",
    "        if len(o) == 1:\n",
    "            df.loc[obs, 'val'] = o.loc[:, 'gtv'].values[0]\n",
    "    return df\n",
    "\n",
    "dataset = list(map(append_tables, dataset))"
   ]
  },
  {
   "cell_type": "code",
   "execution_count": 7,
   "metadata": {
    "collapsed": false,
    "scrolled": false
   },
   "outputs": [
    {
     "data": {
      "text/html": [
       "<div>\n",
       "<table border=\"1\" class=\"dataframe\">\n",
       "  <thead>\n",
       "    <tr style=\"text-align: right;\">\n",
       "      <th></th>\n",
       "      <th>subject</th>\n",
       "      <th>color</th>\n",
       "      <th>bp</th>\n",
       "      <th>wp</th>\n",
       "      <th>response</th>\n",
       "      <th>rt</th>\n",
       "    </tr>\n",
       "  </thead>\n",
       "  <tbody>\n",
       "    <tr>\n",
       "      <th>0</th>\n",
       "      <td>0</td>\n",
       "      <td>0</td>\n",
       "      <td>000000000000000000000000000000000000</td>\n",
       "      <td>100000000000000000000000000000000000</td>\n",
       "      <td>0</td>\n",
       "      <td>9.193</td>\n",
       "    </tr>\n",
       "    <tr>\n",
       "      <th>1</th>\n",
       "      <td>0</td>\n",
       "      <td>0</td>\n",
       "      <td>000000000000000000000000000000000000</td>\n",
       "      <td>010000000000000000000000000000000000</td>\n",
       "      <td>1</td>\n",
       "      <td>1.009</td>\n",
       "    </tr>\n",
       "    <tr>\n",
       "      <th>2</th>\n",
       "      <td>0</td>\n",
       "      <td>0</td>\n",
       "      <td>000000000000000000000000000000000000</td>\n",
       "      <td>001000000000000000000000000000000000</td>\n",
       "      <td>2</td>\n",
       "      <td>0.878</td>\n",
       "    </tr>\n",
       "    <tr>\n",
       "      <th>3</th>\n",
       "      <td>0</td>\n",
       "      <td>0</td>\n",
       "      <td>000000000000000000000000000000000000</td>\n",
       "      <td>000100000000000000000000000000000000</td>\n",
       "      <td>3</td>\n",
       "      <td>1.160</td>\n",
       "    </tr>\n",
       "    <tr>\n",
       "      <th>4</th>\n",
       "      <td>0</td>\n",
       "      <td>0</td>\n",
       "      <td>000000000000000000000000000000000000</td>\n",
       "      <td>000010000000000000000000000000000000</td>\n",
       "      <td>4</td>\n",
       "      <td>0.919</td>\n",
       "    </tr>\n",
       "  </tbody>\n",
       "</table>\n",
       "</div>"
      ],
      "text/plain": [
       "   subject  color                                    bp  \\\n",
       "0        0      0  000000000000000000000000000000000000   \n",
       "1        0      0  000000000000000000000000000000000000   \n",
       "2        0      0  000000000000000000000000000000000000   \n",
       "3        0      0  000000000000000000000000000000000000   \n",
       "4        0      0  000000000000000000000000000000000000   \n",
       "\n",
       "                                     wp  response     rt  \n",
       "0  100000000000000000000000000000000000         0  9.193  \n",
       "1  010000000000000000000000000000000000         1  1.009  \n",
       "2  001000000000000000000000000000000000         2  0.878  \n",
       "3  000100000000000000000000000000000000         3  1.160  \n",
       "4  000010000000000000000000000000000000         4  0.919  "
      ]
     },
     "execution_count": 7,
     "metadata": {},
     "output_type": "execute_result"
    }
   ],
   "source": [
    "def export_data(ds, save=False):\n",
    "    gam = pd.concat([d.loc[~d.status.isin(['AFC2', 'EVAL']) & (d.rt != 0), gamout]\n",
    "                    for d in dataset]).reset_index(drop=True)\n",
    "    afc = pd.concat([d.loc[d.status == 'AFC2', afcout] \n",
    "                    for d in dataset]).reset_index(drop=True)\n",
    "    afc.loc[:, new_cols[:-1]] = afc.loc[:, new_cols[:-1]].astype(int)\n",
    "    eva = pd.concat([d.loc[d.status == 'EVAL', evaout]\n",
    "                    for d in dataset]).reset_index(drop=True)\n",
    "    eva.loc[:, 'val'] = eva.loc[:, 'val'].astype(int)\n",
    "    if save:\n",
    "        gam.to_csv(direc + '/_summaries/all_games.csv', header=False, index=False)\n",
    "        afc.to_csv(direc + '/_summaries/all_afcs.csv', header=False, index=False)\n",
    "        eva.to_csv(direc + '/_summaries/all_evals.csv', header=False, index=False)\n",
    "    \n",
    "    return gam, afc, eva\n",
    "\n",
    "g, a, e = export_data(dataset, save=True);\n",
    "g.head()"
   ]
  },
  {
   "cell_type": "markdown",
   "metadata": {},
   "source": [
    "# Difficulties"
   ]
  },
  {
   "cell_type": "code",
   "execution_count": 7,
   "metadata": {
    "collapsed": false
   },
   "outputs": [],
   "source": [
    "gxc, wxc, dxc = [pd.read_csv('../Statistics/' + c + '.csv').drop('Unnamed: 0', axis=1) \n",
    "    for c in ['games_x_computer', 'wins_x_computer', 'draws_x_computer']]"
   ]
  },
  {
   "cell_type": "code",
   "execution_count": 8,
   "metadata": {
    "collapsed": false
   },
   "outputs": [
    {
     "name": "stdout",
     "output_type": "stream",
     "text": [
      "[ 0.11111111  0.15        0.21428571  0.3125      0.52        0.52631579\n",
      "  0.375       0.4         0.6         0.23076923  0.45454545  0.32432432\n",
      "  0.5         0.33333333  0.42857143  0.60606061  0.66666667  0.65625\n",
      "  0.52941176  0.52173913  0.7         0.46153846  0.66666667  0.8\n",
      "  0.66666667  0.375       0.375       0.66666667  0.33333333  0.8       ]\n"
     ]
    },
    {
     "name": "stderr",
     "output_type": "stream",
     "text": [
      "/Users/gianni/anaconda/lib/python3.4/site-packages/matplotlib/collections.py:590: FutureWarning: elementwise comparison failed; returning scalar instead, but in the future will perform elementwise comparison\n",
      "  if self._edgecolors == str('face'):\n"
     ]
    },
    {
     "data": {
      "image/png": "[encoded data removed]",
      "text/plain": [
       "<matplotlib.figure.Figure at 0x1098aa7f0>"
      ]
     },
     "metadata": {},
     "output_type": "display_data"
    }
   ],
   "source": [
    "difficulties = np.nansum(wxc.values, axis=0) / np.nansum(gxc.values, axis=0)\n",
    "print(difficulties)\n",
    "plt.scatter(np.arange(difficulties.size), difficulties, c='#BD1550')\n",
    "sns.despine()"
   ]
  },
  {
   "cell_type": "code",
   "execution_count": 9,
   "metadata": {
    "collapsed": false
   },
   "outputs": [],
   "source": [
    "x = np.arange(difficulties.size)\n",
    "y = difficulties + (np.nansum(dxc.values, axis=0) / np.nansum(gxc.values, axis=0))"
   ]
  },
  {
   "cell_type": "code",
   "execution_count": 10,
   "metadata": {
    "collapsed": false
   },
   "outputs": [
    {
     "name": "stderr",
     "output_type": "stream",
     "text": [
      "/Users/gianni/anaconda/lib/python3.4/site-packages/matplotlib/collections.py:590: FutureWarning: elementwise comparison failed; returning scalar instead, but in the future will perform elementwise comparison\n",
      "  if self._edgecolors == str('face'):\n"
     ]
    },
    {
     "data": {
      "image/png": "[encoded data removed]",
      "text/plain": [
       "<matplotlib.figure.Figure at 0x1098aa0f0>"
      ]
     },
     "metadata": {},
     "output_type": "display_data"
    }
   ],
   "source": [
    "fig, axes = plt.subplots(1, 2, figsize=(16,8), squeeze=False, sharex=True, sharey=True)\n",
    "slope, intercept, rval, pval, stderr = sts.mstats.linregress(x, y)\n",
    "# print(\"R^2 = \" + str(rval**2))\n",
    "# print(\"p = \" + str(pval))\n",
    "sns.regplot(x, y, ax=axes[0, 0])\n",
    "sns.regplot(x, difficulties, ax=axes[0, 1])\n",
    "axes[0, 0].text(0, .9, \n",
    "                s=(\"$R^2 = \\ {rval:.3f}$\").format(rval=(rval**2)),\n",
    "                fontsize=18)\n",
    "axes[0, 0].text(0, .87,\n",
    "                s=(\"$p = \\ {pval:.3}$\").format(pval=pval),\n",
    "                fontsize=18)\n",
    "axes[0, 0].set_xlim([-1, 36])\n",
    "axes[0, 0].set_ylabel('Win Ratio')\n",
    "axes[0, 0].set_xlabel('Computer Opponent Rank')\n",
    "sns.despine()\n",
    "fig.savefig('../Figures/Winrate_computerrank.png')"
   ]
  },
  {
   "cell_type": "code",
   "execution_count": null,
   "metadata": {
    "collapsed": true
   },
   "outputs": [],
   "source": []
  }
 ],
 "metadata": {
  "kernelspec": {
   "display_name": "Python 3",
   "language": "python",
   "name": "python3"
  },
  "language_info": {
   "codemirror_mode": {
    "name": "ipython",
    "version": 3
   },
   "file_extension": ".py",
   "mimetype": "text/x-python",
   "name": "python",
   "nbconvert_exporter": "python",
   "pygments_lexer": "ipython3",
   "version": "3.4.3"
  }
 },
 "nbformat": 4,
 "nbformat_minor": 0
}
