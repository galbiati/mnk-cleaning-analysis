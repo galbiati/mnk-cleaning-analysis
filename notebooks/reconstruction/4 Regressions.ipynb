{
 "cells": [
  {
   "cell_type": "code",
   "execution_count": null,
   "metadata": {},
   "outputs": [],
   "source": [
    "import os\n",
    "\n",
    "import matplotlib.pyplot as plt\n",
    "import numpy as np\n",
    "import pandas as pd\n",
    "import scipy.stats as sts\n",
    "import seaborn as sns\n",
    "import statsmodels\n",
    "import statsmodels.api as sm\n",
    "from statsmodels.formula.api import ols\n",
    "\n",
    "from lib.utility_functions import *\n",
    "from lib.exp4 import *\n",
    "\n",
    "sns.set_style('white')\n",
    "sns.set_context('talk')\n",
    "\n",
    "pd.set_option('display.max_columns', 40)\n",
    "\n",
    "% matplotlib inline"
   ]
  },
  {
   "cell_type": "code",
   "execution_count": null,
   "metadata": {},
   "outputs": [],
   "source": [
    "tidy = pd.read_csv('./tidy_data.csv', index_col=0)\n",
    "\n",
    "tidy['Condition'] = tidy['Condition'].map({'Trained': 1, 'Naive': 0})\n",
    "tidy['Is Real'] = tidy['Is Real'].astype(np.uint8)"
   ]
  },
  {
   "cell_type": "code",
   "execution_count": null,
   "metadata": {},
   "outputs": [],
   "source": [
    "def regression_report(x_name, y_name, data, axes):\n",
    "    x = tidy[x_name].values\n",
    "    y = tidy[y_name].values\n",
    "\n",
    "    reg = sts.linregress(x, y)\n",
    "\n",
    "    xmin = x.min()\n",
    "    xmax = x.max()\n",
    "    xscale = (xmax - xmin) / 4\n",
    "    \n",
    "    reg_x = np.arange(xmin - xscale, xmax + xscale * 2, xscale)\n",
    "    reg_y = reg.slope * reg_x + reg.intercept\n",
    "\n",
    "    print('{} regression:'.format(x_name), reg, '\\n')\n",
    "\n",
    "    axes.plot(x, y, linestyle='none', marker='o', alpha=.1)\n",
    "    axes.plot(reg_x, reg_y, linestyle='--')\n",
    "    sns.despine()\n",
    "    \n",
    "    return reg"
   ]
  },
  {
   "cell_type": "markdown",
   "metadata": {},
   "source": [
    "## Errors vs Condition"
   ]
  },
  {
   "cell_type": "code",
   "execution_count": null,
   "metadata": {},
   "outputs": [],
   "source": [
    "fig, axes = plt.subplots(1, 3, figsize=(12, 6))\n",
    "\n",
    "condition_regression = regression_report('Condition', 'Total Errors', tidy, axes[0])\n",
    "position_type_regression = regression_report('Is Real', 'Total Errors', tidy, axes[1])\n",
    "num_pieces_regression = regression_report('Num Pieces', 'Total Errors', tidy, axes[2])\n",
    "\n",
    "plt.setp(\n",
    "    axes[0], \n",
    "    xlabel='Condition', xlim=[-.5, 1.5], xticks=[0, 1], xticklabels=['Naive', 'Trained'],\n",
    "    ylabel='Total Errors'\n",
    ");\n",
    "\n",
    "plt.setp(\n",
    "    axes[1], \n",
    "    xlabel='Condition', xlim=[-.5, 1.5], xticks=[0, 1], xticklabels=['Fake', 'Real'],\n",
    "    ylabel='Total Errors'\n",
    ");\n",
    "\n",
    "plt.setp(\n",
    "    axes[2], \n",
    "    xlabel='Num Pieces', xlim=[10, 19], \n",
    "    xticks=np.arange(11, 19, 1), xticklabels=np.arange(11, 19, 1, dtype=np.uint8),\n",
    "    ylabel='Total Errors'\n",
    ");"
   ]
  },
  {
   "cell_type": "code",
   "execution_count": null,
   "metadata": {},
   "outputs": [],
   "source": []
  }
 ],
 "metadata": {
  "kernelspec": {
   "display_name": "Python [default]",
   "language": "python",
   "name": "python3"
  },
  "language_info": {
   "codemirror_mode": {
    "name": "ipython",
    "version": 3
   },
   "file_extension": ".py",
   "mimetype": "text/x-python",
   "name": "python",
   "nbconvert_exporter": "python",
   "pygments_lexer": "ipython3",
   "version": "3.5.6"
  }
 },
 "nbformat": 4,
 "nbformat_minor": 2
}
