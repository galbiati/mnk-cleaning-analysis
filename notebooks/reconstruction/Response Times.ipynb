{
 "cells": [
  {
   "cell_type": "code",
   "execution_count": 3,
   "metadata": {},
   "outputs": [],
   "source": [
    "# Python Standard Libraries\n",
    "import os\n",
    "\n",
    "# Python Scientific Libraries\n",
    "import matplotlib.pyplot as plt\n",
    "import numpy as np\n",
    "import pandas as pd\n",
    "import scipy.stats as sts\n",
    "import seaborn as sns\n",
    "import statsmodels\n",
    "import statsmodels.api as sm\n",
    "import statsmodels.formula.api as smf\n",
    "\n",
    "from sklearn.metrics.pairwise import euclidean_distances\n",
    "\n",
    "# Config\n",
    "sns.set_style('white')\n",
    "sns.set_context('paper')\n",
    "\n",
    "pd.set_option('display.max_columns', 40)\n",
    "\n",
    "%matplotlib inline"
   ]
  },
  {
   "cell_type": "code",
   "execution_count": 5,
   "metadata": {},
   "outputs": [],
   "source": [
    "tidy = pd.read_csv('../../src/tidy_data.csv', index_col=0)\n",
    "tidy['Condition'] = tidy['Condition'].map(lambda x: 'Untrained' if x == 'Naive' else x)\n",
    "tidy['Position ID'] = tidy['Position ID'].map(int)\n",
    "tidy['Num Dif'] = tidy['Num Pieces (final)'] - tidy['Num Pieces']\n",
    "tidy['Type II Error Rate'] = tidy['Type II Errors'] / tidy['Num Pieces']\n",
    "\n",
    "groups = tidy.groupby('Subject ID')\n",
    "\n",
    "def mean_correct(df):\n",
    "    return (df[['Response Time']] - df['Response Time'].mean()) / df['Response Time'].std()\n",
    "\n",
    "tidy['Corrected Response Time'] = groups.apply(mean_correct)"
   ]
  },
  {
   "cell_type": "code",
   "execution_count": 6,
   "metadata": {},
   "outputs": [],
   "source": [
    "vals = ['Black Position', 'White Position', 'Is Real', 'Num Pieces']\n",
    "\n",
    "board_set = tidy.pivot_table(index='Position ID', values=vals, aggfunc=lambda x: x.unique()[0])[vals]"
   ]
  },
  {
   "cell_type": "code",
   "execution_count": 7,
   "metadata": {},
   "outputs": [
    {
     "data": {
      "text/html": [
       "<div>\n",
       "<style scoped>\n",
       "    .dataframe tbody tr th:only-of-type {\n",
       "        vertical-align: middle;\n",
       "    }\n",
       "\n",
       "    .dataframe tbody tr th {\n",
       "        vertical-align: top;\n",
       "    }\n",
       "\n",
       "    .dataframe thead th {\n",
       "        text-align: right;\n",
       "    }\n",
       "</style>\n",
       "<table border=\"1\" class=\"dataframe\">\n",
       "  <thead>\n",
       "    <tr style=\"text-align: right;\">\n",
       "      <th></th>\n",
       "      <th>Response Time</th>\n",
       "      <th>Type II Error Rate</th>\n",
       "      <th>Condition</th>\n",
       "    </tr>\n",
       "    <tr>\n",
       "      <th>Subject ID</th>\n",
       "      <th></th>\n",
       "      <th></th>\n",
       "      <th></th>\n",
       "    </tr>\n",
       "  </thead>\n",
       "  <tbody>\n",
       "    <tr>\n",
       "      <th>1455888279254</th>\n",
       "      <td>43.975740</td>\n",
       "      <td>0.301904</td>\n",
       "      <td>Trained</td>\n",
       "    </tr>\n",
       "    <tr>\n",
       "      <th>1455896400640</th>\n",
       "      <td>17.160010</td>\n",
       "      <td>0.229159</td>\n",
       "      <td>Trained</td>\n",
       "    </tr>\n",
       "    <tr>\n",
       "      <th>1455905621344</th>\n",
       "      <td>17.292635</td>\n",
       "      <td>0.071440</td>\n",
       "      <td>Trained</td>\n",
       "    </tr>\n",
       "    <tr>\n",
       "      <th>1455913823185</th>\n",
       "      <td>16.284312</td>\n",
       "      <td>0.218968</td>\n",
       "      <td>Trained</td>\n",
       "    </tr>\n",
       "    <tr>\n",
       "      <th>1455999209774</th>\n",
       "      <td>11.836917</td>\n",
       "      <td>0.203749</td>\n",
       "      <td>Trained</td>\n",
       "    </tr>\n",
       "  </tbody>\n",
       "</table>\n",
       "</div>"
      ],
      "text/plain": [
       "               Response Time  Type II Error Rate Condition\n",
       "Subject ID                                                \n",
       "1455888279254      43.975740            0.301904   Trained\n",
       "1455896400640      17.160010            0.229159   Trained\n",
       "1455905621344      17.292635            0.071440   Trained\n",
       "1455913823185      16.284312            0.218968   Trained\n",
       "1455999209774      11.836917            0.203749   Trained"
      ]
     },
     "execution_count": 7,
     "metadata": {},
     "output_type": "execute_result"
    }
   ],
   "source": [
    "reaction_time_df = tidy.pivot_table(index='Subject ID', \n",
    "                                    values=['Response Time', 'Type II Error Rate'], \n",
    "                                    aggfunc=np.mean)\n",
    "\n",
    "reaction_time_df['Condition'] = reaction_time_df.index.map(\n",
    "    lambda x: tidy.loc[tidy['Subject ID'] == x, 'Condition'].values[0]\n",
    ")\n",
    "\n",
    "reaction_time_df.head()"
   ]
  },
  {
   "cell_type": "code",
   "execution_count": 8,
   "metadata": {},
   "outputs": [
    {
     "name": "stdout",
     "output_type": "stream",
     "text": [
      "Optimization terminated successfully.\n",
      "         Current function value: 0.452095\n",
      "         Iterations 5\n",
      "                           Logit Regression Results                           \n",
      "==============================================================================\n",
      "Dep. Variable:     Type II Error Rate   No. Observations:                   38\n",
      "Model:                          Logit   Df Residuals:                       36\n",
      "Method:                           MLE   Df Model:                            1\n",
      "Date:                Mon, 04 Feb 2019   Pseudo R-squ.:                     inf\n",
      "Time:                        15:45:25   Log-Likelihood:                -17.180\n",
      "converged:                       True   LL-Null:                        0.0000\n",
      "                                        LLR p-value:                     1.000\n",
      "=================================================================================\n",
      "                    coef    std err          z      P>|z|      [0.025      0.975]\n",
      "---------------------------------------------------------------------------------\n",
      "const            -1.1142      0.983     -1.133      0.257      -3.042       0.813\n",
      "Response Time    -0.0005      0.066     -0.007      0.994      -0.129       0.128\n",
      "=================================================================================\n"
     ]
    },
    {
     "name": "stderr",
     "output_type": "stream",
     "text": [
      "/anaconda3/lib/python3.7/site-packages/statsmodels/discrete/discrete_model.py:3313: RuntimeWarning: divide by zero encountered in double_scalars\n",
      "  return 1 - self.llf/self.llnull\n"
     ]
    },
    {
     "data": {
      "image/png": "[encoded data removed]",
      "text/plain": [
       "<Figure size 600x450 with 1 Axes>"
      ]
     },
     "metadata": {
      "needs_background": "light"
     },
     "output_type": "display_data"
    }
   ],
   "source": [
    "fig, axes = plt.subplots(1, 1, figsize=(4, 3), dpi=150)\n",
    "\n",
    "# outlier_filter = reaction_time_df['Response Time'] <= (reaction_time_df['Response Time'].mean() + 3 * reaction_time_df['Response Time'].std())\n",
    "# x = reaction_time_df.loc[outlier_filter, 'Response Time'].values\n",
    "# y = reaction_time_df.loc[outlier_filter, 'Type II Error Rate'].values\n",
    "\n",
    "x = reaction_time_df['Response Time']\n",
    "y = reaction_time_df['Type II Error Rate']\n",
    "axes.plot(x, y, marker='o', linestyle='none')\n",
    "\n",
    "x_ = sm.add_constant(x)\n",
    "model = sm.Logit(y, x_)\n",
    "result = model.fit()\n",
    "print(result.summary())\n",
    "\n",
    "model_support = sm.add_constant(np.arange(0, 40))\n",
    "model_prediction = model.predict(result.params, model_support)\n",
    "axes.plot(model_support[:, 1], model_prediction)\n",
    "\n",
    "plt.setp(axes, xlabel='Response Time (s)', ylabel='Type II Error Rate')\n",
    "sns.despine()"
   ]
  }
 ],
 "metadata": {
  "kernelspec": {
   "display_name": "Python 3",
   "language": "python",
   "name": "python3"
  },
  "language_info": {
   "codemirror_mode": {
    "name": "ipython",
    "version": 3
   },
   "file_extension": ".py",
   "mimetype": "text/x-python",
   "name": "python",
   "nbconvert_exporter": "python",
   "pygments_lexer": "ipython3",
   "version": "3.7.2"
  }
 },
 "nbformat": 4,
 "nbformat_minor": 2
}
