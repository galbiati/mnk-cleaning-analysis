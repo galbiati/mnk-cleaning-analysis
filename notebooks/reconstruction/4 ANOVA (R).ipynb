{
 "cells": [
  {
   "cell_type": "markdown",
   "metadata": {},
   "source": [
    "### Refs\n",
    "\n",
    "- http://personality-project.org/r/r.guide/r.anova.html\n",
    "- http://www.cookbook-r.com/Statistical_analysis/ANOVA/#mixed-design-anova\n",
    "- https://www.statmethods.net/stats/anova.html\n",
    "\n",
    "R's ANOVA relies on the data being in \"tidy\" format - that is, not prepared into a means table. Conversion of data into tidy format is done in Python notebook **4 Data Cleaning and Exploration**\n",
    "\n",
    "The notation for R's ANOVA interface exposes the use of a linear model. See the above links for demonstrations of the notations. See Castella & Bergman's stats text or BDA3 section 15.6 for more on relationship between linear models and ANOVA.\n",
    "\n",
    "**Do we need to use something like Tukey's HSD?**"
   ]
  },
  {
   "cell_type": "code",
   "execution_count": 1,
   "metadata": {},
   "outputs": [],
   "source": [
    "library(tidyr)"
   ]
  },
  {
   "cell_type": "markdown",
   "metadata": {},
   "source": [
    "### Load data\n",
    "\n",
    "Read in tidy data and mark Subject.ID as a factor for within-subjects"
   ]
  },
  {
   "cell_type": "code",
   "execution_count": 2,
   "metadata": {},
   "outputs": [],
   "source": [
    "dataframe <- read.csv('./tidy_data.csv')\n",
    "\n",
    "dataframe$Subject.ID <- factor(dataframe$Subject.ID)"
   ]
  },
  {
   "cell_type": "markdown",
   "metadata": {},
   "source": [
    "### ANOVA for Total Errors\n",
    "```\n",
    "Mixed design\n",
    "\n",
    "Between : Condition\n",
    "Within : Is.Real\n",
    "DV : Total.Errors\n",
    "```"
   ]
  },
  {
   "cell_type": "code",
   "execution_count": 7,
   "metadata": {},
   "outputs": [
    {
     "data": {
      "text/plain": [
       "\n",
       "Error: Subject.ID\n",
       "          Df Sum Sq Mean Sq F value Pr(>F)\n",
       "Condition  1    261   261.1   0.869  0.357\n",
       "Residuals 36  10814   300.4               \n",
       "\n",
       "Error: Subject.ID:Is.Real\n",
       "                  Df Sum Sq Mean Sq F value Pr(>F)    \n",
       "Is.Real            1   4055    4055 389.206 <2e-16 ***\n",
       "Condition:Is.Real  1      0       0   0.002  0.967    \n",
       "Residuals         36    375      10                   \n",
       "---\n",
       "Signif. codes:  0 ‘***’ 0.001 ‘**’ 0.01 ‘*’ 0.05 ‘.’ 0.1 ‘ ’ 1\n",
       "\n",
       "Error: Within\n",
       "            Df Sum Sq Mean Sq F value Pr(>F)\n",
       "Residuals 3572  46441      13               "
      ]
     },
     "metadata": {},
     "output_type": "display_data"
    }
   ],
   "source": [
    "aov_errors_trialtype_condition <- aov(\n",
    "    Total.Errors ~ Condition*Is.Real + Error(Subject.ID/Is.Real), \n",
    "    data=dataframe\n",
    ")\n",
    "\n",
    "summary(aov_errors_trialtype_condition)"
   ]
  },
  {
   "cell_type": "markdown",
   "metadata": {},
   "source": [
    "### ANOVA for Response Time\n",
    "\n",
    "```\n",
    "Mixed design\n",
    "\n",
    "Between : Condtion\n",
    "Within : Is.Real\n",
    "DV : Response.Time\n",
    "```"
   ]
  },
  {
   "cell_type": "code",
   "execution_count": 8,
   "metadata": {},
   "outputs": [
    {
     "data": {
      "text/plain": [
       "\n",
       "Error: Subject.ID\n",
       "          Df Sum Sq Mean Sq F value Pr(>F)\n",
       "Condition  1   5905    5905   1.855  0.182\n",
       "Residuals 36 114631    3184               \n",
       "\n",
       "Error: Subject.ID:Is.Real\n",
       "                  Df Sum Sq Mean Sq F value Pr(>F)\n",
       "Is.Real            1    236   236.0   1.037  0.315\n",
       "Condition:Is.Real  1     27    27.2   0.120  0.732\n",
       "Residuals         36   8194   227.6               \n",
       "\n",
       "Error: Within\n",
       "            Df Sum Sq Mean Sq F value Pr(>F)\n",
       "Residuals 3572 434344   121.6               "
      ]
     },
     "metadata": {},
     "output_type": "display_data"
    }
   ],
   "source": [
    "aov_responsetime_trialtype_condition <- aov(Response.Time ~ Condition*Is.Real + Error(Subject.ID/Is.Real), data=dataframe)\n",
    "\n",
    "summary(aov_responsetime_trialtype_condition)"
   ]
  },
  {
   "cell_type": "code",
   "execution_count": 11,
   "metadata": {},
   "outputs": [
    {
     "data": {
      "text/plain": [
       "\n",
       "Error: Subject.ID\n",
       "          Df Sum Sq Mean Sq F value Pr(>F)\n",
       "Condition  1    261   261.1   0.869  0.357\n",
       "Residuals 36  10814   300.4               \n",
       "\n",
       "Error: Subject.ID:Is.Real\n",
       "                  Df Sum Sq Mean Sq F value Pr(>F)    \n",
       "Is.Real            1   4055    4055 389.206 <2e-16 ***\n",
       "Condition:Is.Real  1      0       0   0.002  0.967    \n",
       "Residuals         36    375      10                   \n",
       "---\n",
       "Signif. codes:  0 ‘***’ 0.001 ‘**’ 0.01 ‘*’ 0.05 ‘.’ 0.1 ‘ ’ 1\n",
       "\n",
       "Error: Subject.ID:Num.Pieces\n",
       "                     Df Sum Sq Mean Sq F value Pr(>F)    \n",
       "Num.Pieces            1  11882   11882 878.765 <2e-16 ***\n",
       "Condition:Num.Pieces  1      2       2   0.145  0.705    \n",
       "Residuals            36    487      14                   \n",
       "---\n",
       "Signif. codes:  0 ‘***’ 0.001 ‘**’ 0.01 ‘*’ 0.05 ‘.’ 0.1 ‘ ’ 1\n",
       "\n",
       "Error: Subject.ID:Is.Real:Num.Pieces\n",
       "                             Df Sum Sq Mean Sq F value  Pr(>F)   \n",
       "Is.Real:Num.Pieces            1  66.55   66.55   9.022 0.00483 **\n",
       "Condition:Is.Real:Num.Pieces  1   0.75    0.75   0.102 0.75138   \n",
       "Residuals                    36 265.57    7.38                   \n",
       "---\n",
       "Signif. codes:  0 ‘***’ 0.001 ‘**’ 0.01 ‘*’ 0.05 ‘.’ 0.1 ‘ ’ 1\n",
       "\n",
       "Error: Within\n",
       "            Df Sum Sq Mean Sq F value Pr(>F)\n",
       "Residuals 3496  33738    9.65               "
      ]
     },
     "metadata": {},
     "output_type": "display_data"
    }
   ],
   "source": [
    "aov_errors_trialtype_condition <- aov(\n",
    "    Total.Errors ~ Condition*Is.Real*Num.Pieces + Error(Subject.ID/(Is.Real*Num.Pieces)), \n",
    "    data=dataframe\n",
    ")\n",
    "\n",
    "summary(aov_errors_trialtype_condition)"
   ]
  },
  {
   "cell_type": "code",
   "execution_count": null,
   "metadata": {},
   "outputs": [],
   "source": []
  }
 ],
 "metadata": {
  "kernelspec": {
   "display_name": "R 3.3",
   "language": "R",
   "name": "ir33"
  },
  "language_info": {
   "codemirror_mode": "r",
   "file_extension": ".r",
   "mimetype": "text/x-r-source",
   "name": "R",
   "pygments_lexer": "r",
   "version": "3.5.0"
  }
 },
 "nbformat": 4,
 "nbformat_minor": 2
}
