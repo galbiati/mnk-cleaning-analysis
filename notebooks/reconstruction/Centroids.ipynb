{
 "cells": [
  {
   "cell_type": "code",
   "execution_count": 35,
   "metadata": {},
   "outputs": [],
   "source": [
    "# Python Standard Libraries\n",
    "import os\n",
    "import sys\n",
    "\n",
    "# Python Scientific Libraries\n",
    "import matplotlib.pyplot as plt\n",
    "import numpy as np\n",
    "import pandas as pd\n",
    "import scipy.stats as sts\n",
    "import seaborn as sns\n",
    "import statsmodels\n",
    "import statsmodels.api as sm\n",
    "import statsmodels.formula.api as smf\n",
    "\n",
    "from sklearn.metrics.pairwise import euclidean_distances\n",
    "\n",
    "# Project Libraries\n",
    "sys.path.append('../../src')\n",
    "# import lib.exp4 as exp4\n",
    "# import lib.reconstruction.errors as errs\n",
    "# import lib.reconstruction.features as ftrs\n",
    "# import lib.reconstruction.neighbors as nbrs\n",
    "\n",
    "# import lib.utility_functions as uf\n",
    "# import lib.util.datatype_utilities as dtutils\n",
    "\n",
    "from lib.reconstruction.errors import get_errors_per_location\n",
    "from lib.util.datatype_utilities import position_string_to_array\n",
    "\n",
    "# Config\n",
    "sns.set_style('white')\n",
    "sns.set_context('paper')\n",
    "\n",
    "pd.set_option('display.max_columns', 40)\n",
    "\n",
    "%matplotlib inline"
   ]
  },
  {
   "cell_type": "code",
   "execution_count": 2,
   "metadata": {},
   "outputs": [
    {
     "data": {
      "image/png": "[encoded data removed]",
      "text/plain": [
       "<Figure size 288x72 with 1 Axes>"
      ]
     },
     "metadata": {
      "needs_background": "light"
     },
     "output_type": "display_data"
    }
   ],
   "source": [
    "colors = sns.cubehelix_palette(n_colors=2, start=0.5, hue=1, rot=.1, light=.65) \n",
    "colors += sns.cubehelix_palette(n_colors=2, start=2.5, hue=1, rot=.1, light=.65)\n",
    "sns.palplot(colors)"
   ]
  },
  {
   "cell_type": "code",
   "execution_count": 3,
   "metadata": {},
   "outputs": [],
   "source": [
    "colors = dict(zip(['real', 'fake', 'trained', 'untrained'], colors))"
   ]
  },
  {
   "cell_type": "code",
   "execution_count": 4,
   "metadata": {},
   "outputs": [],
   "source": [
    "tidy = pd.read_csv('../../src/tidy_data.csv', index_col=0)\n",
    "tidy['Condition'] = tidy['Condition'].map(lambda x: 'Untrained' if x == 'Naive' else x)\n",
    "tidy['Position ID'] = tidy['Position ID'].map(int)\n",
    "tidy['Num Dif'] = tidy['Num Pieces (final)'] - tidy['Num Pieces']\n",
    "\n",
    "vals = ['Black Position', 'White Position', 'Is Real', 'Num Pieces']\n",
    "\n",
    "board_set = tidy.pivot_table(index='Position ID', values=vals, aggfunc=lambda x: x.unique()[0])[vals]"
   ]
  },
  {
   "cell_type": "code",
   "execution_count": 21,
   "metadata": {},
   "outputs": [],
   "source": [
    "def position_string_to_coordinates(position_string):\n",
    "    position_array = position_string_to_array(position_string)\n",
    "    coordinates = np.stack(np.where(position_array == 1)).T\n",
    "    return coordinates\n",
    "\n",
    "\n",
    "filled_board = np.ones((4, 9), dtype=np.uint8)\n",
    "all_coordinates = np.stack(np.where(filled_board == 1)).T\n",
    "\n",
    "\n",
    "def get_distances_to_centroid(position_string):\n",
    "    position_array = position_string_to_array(position_string)\n",
    "    coordinates = np.stack(np.where(position_array == 1)).T\n",
    "    centroid = coordinates.mean(axis=0, keepdims=True)\n",
    "    distances = euclidean_distances(centroid, all_coordinates).reshape((4, 9))\n",
    "    \n",
    "    return distances\n",
    "\n",
    "\n",
    "def apply_get_distances(row):\n",
    "    black_position_string = row['Black Position']\n",
    "    white_position_string = row['White Position']\n",
    "    \n",
    "    black_coordinates = position_string_to_coordinates(black_position_string)\n",
    "    white_coordinates = position_string_to_coordinates(white_position_string)\n",
    "    coordinates = np.concatenate([black_coordinates, white_coordinates])\n",
    "    \n",
    "    centroid = coordinates.mean(axis=0, keepdims=True)\n",
    "    distances = euclidean_distances(centroid, all_coordinates)\n",
    "    \n",
    "    return distances[0, :].tolist()\n",
    "\n",
    "distances_df = pd.DataFrame(\n",
    "    board_set.apply(apply_get_distances, axis=1), \n",
    "    index=board_set.index, \n",
    "    columns=['distance']\n",
    ")\n",
    "    \n",
    "\n",
    "# distances = get_distances_to_centroid(board_set.loc[0, 'Black Position'])"
   ]
  },
  {
   "cell_type": "code",
   "execution_count": 37,
   "metadata": {},
   "outputs": [
    {
     "data": {
      "image/png": "[encoded data removed]",
      "text/plain": [
       "<Figure size 600x450 with 2 Axes>"
      ]
     },
     "metadata": {
      "needs_background": "light"
     },
     "output_type": "display_data"
    }
   ],
   "source": [
    "fig, axes = plt.subplots(1, 1, figsize=(4, 3), dpi=150)\n",
    "sns.heatmap(np.stack(distances_df.loc[70]).reshape(4, 9), square=True, ax=axes, vmin=0, vmax=6);"
   ]
  },
  {
   "cell_type": "code",
   "execution_count": 36,
   "metadata": {},
   "outputs": [],
   "source": [
    "errors_by_location_2 = tidy.apply(lambda x: get_errors_per_location(x, '2'), \n",
    "                                  axis=1)"
   ]
  },
  {
   "cell_type": "code",
   "execution_count": null,
   "metadata": {},
   "outputs": [],
   "source": [
    "# Distance from board center\n",
    "# Rank\n",
    "# Spearman with error dependent\n",
    "\n",
    "# Also\n",
    "# Is neighborhood size correlated with distance from board center?\n",
    "\n",
    "# Add coefficient to logistic regression for distance to board center\n",
    "# Scatter nbrh size vs board center distance\n",
    "\n",
    "# Fancy plot\n",
    "# Scatter nbrh size; each point coded by Type II (gradient color)"
   ]
  },
  {
   "cell_type": "code",
   "execution_count": null,
   "metadata": {},
   "outputs": [],
   "source": []
  },
  {
   "cell_type": "code",
   "execution_count": null,
   "metadata": {},
   "outputs": [],
   "source": []
  }
 ],
 "metadata": {
  "kernelspec": {
   "display_name": "Python 3",
   "language": "python",
   "name": "python3"
  },
  "language_info": {
   "codemirror_mode": {
    "name": "ipython",
    "version": 3
   },
   "file_extension": ".py",
   "mimetype": "text/x-python",
   "name": "python",
   "nbconvert_exporter": "python",
   "pygments_lexer": "ipython3",
   "version": "3.7.2"
  }
 },
 "nbformat": 4,
 "nbformat_minor": 2
}
