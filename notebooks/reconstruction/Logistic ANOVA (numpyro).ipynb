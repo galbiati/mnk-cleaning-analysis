{
 "cells": [
  {
   "cell_type": "markdown",
   "metadata": {},
   "source": [
    "## Notebook setup"
   ]
  },
  {
   "cell_type": "code",
   "execution_count": 1,
   "metadata": {},
   "outputs": [],
   "source": [
    "# Standard libraries\n",
    "import os\n",
    "import sys\n",
    "\n",
    "# Plotting libraries\n",
    "import matplotlib.pyplot as plt\n",
    "import seaborn as sns\n",
    "\n",
    "# Numerical libraries\n",
    "import jax.numpy as jnp\n",
    "import numpy as np\n",
    "import pandas as pd\n",
    "import patsy as pt\n",
    "\n",
    "import statsmodels\n",
    "import statsmodels.api as sm\n",
    "import statsmodels.formula.api as smf\n",
    "\n",
    "import numpyro\n",
    "import numpyro.distributions as dist\n",
    "\n",
    "from numpyro import handlers\n",
    "from numpyro.diagnostics import hpdi\n",
    "from numpyro.mcmc import MCMC, NUTS\n",
    "\n",
    "from statsmodels.formula.api import ols\n",
    "\n",
    "# Internal libraries\n",
    "sys.path.append('../../src')\n",
    "from lib.reconstruction.bayes.preprocessing.pivots import (load_tidy, \n",
    "                                                           compute_extra_tidy, \n",
    "                                                           compute_per_subject_pivot, \n",
    "                                                           compute_per_trial_pivot)"
   ]
  },
  {
   "cell_type": "code",
   "execution_count": 2,
   "metadata": {},
   "outputs": [],
   "source": [
    "# Notebook configuration\n",
    "pd.set_option('display.max_columns', 40)\n",
    "# os.environ['THEANO_FLAGS'] = 'device=cuda,floatX=float32'\n",
    "\n",
    "sns.set_context('paper')\n",
    "sns.set_style('white')\n",
    "\n",
    "colors = sns.cubehelix_palette(n_colors=2, start=0.5, hue=1, rot=.1, light=.65) \n",
    "colors += sns.cubehelix_palette(n_colors=2, start=2.5, hue=1, rot=.1, light=.65)\n",
    "\n",
    "%matplotlib inline"
   ]
  },
  {
   "cell_type": "markdown",
   "metadata": {},
   "source": [
    "## Load data"
   ]
  },
  {
   "cell_type": "code",
   "execution_count": 3,
   "metadata": {},
   "outputs": [],
   "source": [
    "tidy_df, board_set_df = load_tidy('../../etc/reconstruction/tidy_data.csv')\n",
    "extra_tidy_df = compute_extra_tidy(tidy_df)\n",
    "per_trial_df = compute_per_trial_pivot(extra_tidy_df)\n",
    "per_subject_df = compute_per_subject_pivot(per_trial_df)"
   ]
  },
  {
   "cell_type": "markdown",
   "metadata": {},
   "source": [
    "### Data preprocessing"
   ]
  },
  {
   "cell_type": "code",
   "execution_count": 4,
   "metadata": {},
   "outputs": [],
   "source": [
    "num_position_levels = len(extra_tidy_df.position_type.unique())\n",
    "num_condition_levels = len(extra_tidy_df.condition_indicator.unique())\n",
    "num_interaction_levels = num_position_levels * num_condition_levels\n",
    "num_subjects = len(extra_tidy_df.usubject.unique())\n",
    "\n",
    "def get_model_inputs(df, target_column, count_column):\n",
    "    y = df[target_column].values\n",
    "    n = df[count_column].values\n",
    "    \n",
    "    num_obs = len(y)\n",
    "\n",
    "    p_cat = df.position_type.astype('category').cat.codes.values\n",
    "    c_cat = df.condition_indicator.astype('category').cat.codes.values\n",
    "    i_cat = df.interaction.astype('category').cat.codes.values\n",
    "    s_cat = df.interaction.astype('category').cat.codes.values\n",
    "    \n",
    "    return y, n, num_obs, p_cat, c_cat, i_cat, s_cat\n",
    "    \n",
    "\n",
    "y, n, num_obs, p_cat, c_cat, i_cat, s_cat = get_model_inputs(per_subject_df, \n",
    "                                                             'errors_2', \n",
    "                                                             'occupied')"
   ]
  },
  {
   "cell_type": "code",
   "execution_count": 5,
   "metadata": {},
   "outputs": [],
   "source": [
    "formula = 'errors_2 ~ C(usubject, Sum) + C(condition_indicator, Sum) * C(position_type, Sum)'\n",
    "# formula = 'errors_2 ~ C(condition_indicator, Sum) * C(position_type, Sum)'\n",
    "exogenous_df, endogenous_df = pt.dmatrices(formula, per_trial_df, \n",
    "                                           return_type='dataframe', \n",
    "                                           NA_action='raise')\n",
    "endogenous_df = endogenous_df.astype(int)"
   ]
  },
  {
   "cell_type": "code",
   "execution_count": 6,
   "metadata": {},
   "outputs": [],
   "source": [
    "extra_tidy_df['successes_2'] = extra_tidy_df['occupied'] - extra_tidy_df['errors_2']\n",
    "# formula = 'errors_2 ~ C(usubject, Sum) + C(condition_indicator, Sum) * C(position_type, Sum)'\n",
    "formula = 'errors_2 ~ C(condition_indicator, Sum) * C(position_type, Sum)'\n",
    "\n",
    "exogenous_df, endogenous_df = pt.dmatrices(formula, extra_tidy_df, \n",
    "                                           return_type='dataframe', \n",
    "                                           NA_action='raise')\n",
    "endogenous_df = endogenous_df.astype(int)\n",
    "\n",
    "# sm_model = sm.GLM(endogenous_df, extra_tidy_df[['successes_2', 'errors_2']], \n",
    "#                   family=Bernoulli())\n",
    "\n",
    "sm_model = sm.Logit.from_formula(formula, extra_tidy_df)"
   ]
  },
  {
   "cell_type": "code",
   "execution_count": 7,
   "metadata": {},
   "outputs": [
    {
     "name": "stdout",
     "output_type": "stream",
     "text": [
      "Optimization terminated successfully.\n",
      "         Current function value: 0.328225\n",
      "         Iterations 6\n"
     ]
    }
   ],
   "source": [
    "result = sm_model.fit()"
   ]
  },
  {
   "cell_type": "code",
   "execution_count": 8,
   "metadata": {},
   "outputs": [
    {
     "data": {
      "text/html": [
       "<table class=\"simpletable\">\n",
       "<caption>Logit Regression Results</caption>\n",
       "<tr>\n",
       "  <th>Dep. Variable:</th>       <td>errors_2</td>     <th>  No. Observations:  </th>   <td>131328</td>  \n",
       "</tr>\n",
       "<tr>\n",
       "  <th>Model:</th>                 <td>Logit</td>      <th>  Df Residuals:      </th>   <td>131324</td>  \n",
       "</tr>\n",
       "<tr>\n",
       "  <th>Method:</th>                 <td>MLE</td>       <th>  Df Model:          </th>   <td>     3</td>  \n",
       "</tr>\n",
       "<tr>\n",
       "  <th>Date:</th>            <td>Sat, 28 Sep 2019</td> <th>  Pseudo R-squ.:     </th>  <td>0.006555</td> \n",
       "</tr>\n",
       "<tr>\n",
       "  <th>Time:</th>                <td>15:59:41</td>     <th>  Log-Likelihood:    </th>  <td> -43105.</td> \n",
       "</tr>\n",
       "<tr>\n",
       "  <th>converged:</th>             <td>True</td>       <th>  LL-Null:           </th>  <td> -43390.</td> \n",
       "</tr>\n",
       "<tr>\n",
       "  <th>Covariance Type:</th>     <td>nonrobust</td>    <th>  LLR p-value:       </th> <td>5.792e-123</td>\n",
       "</tr>\n",
       "</table>\n",
       "<table class=\"simpletable\">\n",
       "<tr>\n",
       "                               <td></td>                                  <th>coef</th>     <th>std err</th>      <th>z</th>      <th>P>|z|</th>  <th>[0.025</th>    <th>0.975]</th>  \n",
       "</tr>\n",
       "<tr>\n",
       "  <th>Intercept</th>                                                   <td>   -2.1894</td> <td>    0.009</td> <td> -236.471</td> <td> 0.000</td> <td>   -2.208</td> <td>   -2.171</td>\n",
       "</tr>\n",
       "<tr>\n",
       "  <th>C(condition_indicator, Sum)[S.0]</th>                            <td>    0.0663</td> <td>    0.009</td> <td>    7.162</td> <td> 0.000</td> <td>    0.048</td> <td>    0.084</td>\n",
       "</tr>\n",
       "<tr>\n",
       "  <th>C(position_type, Sum)[S.0]</th>                                  <td>    0.2079</td> <td>    0.009</td> <td>   22.452</td> <td> 0.000</td> <td>    0.190</td> <td>    0.226</td>\n",
       "</tr>\n",
       "<tr>\n",
       "  <th>C(condition_indicator, Sum)[S.0]:C(position_type, Sum)[S.0]</th> <td>    0.0048</td> <td>    0.009</td> <td>    0.514</td> <td> 0.607</td> <td>   -0.013</td> <td>    0.023</td>\n",
       "</tr>\n",
       "</table>"
      ],
      "text/plain": [
       "<class 'statsmodels.iolib.summary.Summary'>\n",
       "\"\"\"\n",
       "                           Logit Regression Results                           \n",
       "==============================================================================\n",
       "Dep. Variable:               errors_2   No. Observations:               131328\n",
       "Model:                          Logit   Df Residuals:                   131324\n",
       "Method:                           MLE   Df Model:                            3\n",
       "Date:                Sat, 28 Sep 2019   Pseudo R-squ.:                0.006555\n",
       "Time:                        15:59:41   Log-Likelihood:                -43105.\n",
       "converged:                       True   LL-Null:                       -43390.\n",
       "Covariance Type:            nonrobust   LLR p-value:                5.792e-123\n",
       "===============================================================================================================================\n",
       "                                                                  coef    std err          z      P>|z|      [0.025      0.975]\n",
       "-------------------------------------------------------------------------------------------------------------------------------\n",
       "Intercept                                                      -2.1894      0.009   -236.471      0.000      -2.208      -2.171\n",
       "C(condition_indicator, Sum)[S.0]                                0.0663      0.009      7.162      0.000       0.048       0.084\n",
       "C(position_type, Sum)[S.0]                                      0.2079      0.009     22.452      0.000       0.190       0.226\n",
       "C(condition_indicator, Sum)[S.0]:C(position_type, Sum)[S.0]     0.0048      0.009      0.514      0.607      -0.013       0.023\n",
       "===============================================================================================================================\n",
       "\"\"\""
      ]
     },
     "execution_count": 8,
     "metadata": {},
     "output_type": "execute_result"
    }
   ],
   "source": [
    "result.summary()"
   ]
  },
  {
   "cell_type": "code",
   "execution_count": 9,
   "metadata": {
    "scrolled": true
   },
   "outputs": [
    {
     "data": {
      "text/plain": [
       "Intercept                                                     -2.189402\n",
       "C(condition_indicator, Sum)[S.0]                               0.066306\n",
       "C(position_type, Sum)[S.0]                                     0.207879\n",
       "C(condition_indicator, Sum)[S.0]:C(position_type, Sum)[S.0]    0.004756\n",
       "dtype: float64"
      ]
     },
     "execution_count": 9,
     "metadata": {},
     "output_type": "execute_result"
    }
   ],
   "source": [
    "result.params"
   ]
  },
  {
   "cell_type": "code",
   "execution_count": 10,
   "metadata": {},
   "outputs": [
    {
     "data": {
      "text/plain": [
       "array([0, 1, 0, 1, 0, 1, 0, 1, 0, 1, 0, 1, 0, 1, 0, 1, 0, 1, 0, 1, 0, 1,\n",
       "       0, 1, 0, 1, 0, 1, 0, 1, 0, 1, 0, 1, 0, 1, 0, 1, 0, 1, 0, 1, 0, 1,\n",
       "       0, 1, 0, 1, 0, 1, 0, 1, 0, 1, 0, 1, 0, 1, 0, 1, 0, 1, 0, 1, 0, 1,\n",
       "       0, 1, 0, 1, 0, 1, 0, 1, 0, 1], dtype=int8)"
      ]
     },
     "execution_count": 10,
     "metadata": {},
     "output_type": "execute_result"
    }
   ],
   "source": [
    "p_cat"
   ]
  },
  {
   "cell_type": "code",
   "execution_count": null,
   "metadata": {},
   "outputs": [],
   "source": []
  },
  {
   "cell_type": "code",
   "execution_count": null,
   "metadata": {},
   "outputs": [],
   "source": [
    "def get_coefficient(name, shape=1):\n",
    "    sigma = numpyro.sample(f'sigma_{name}', dist.Gamma(1.64, .32))\n",
    "    a = numpyro.sample(f'a_{name}', dist.Normal(jnp.zeros(shape), sigma))\n",
    "    return a\n",
    "\n",
    "def model(condition=None, position=None, subject=None):\n",
    "    intercept = numpyro.sample('a', dist.Normal(0, 1))\n",
    "    a_condition = get_coefficient('condition')"
   ]
  },
  {
   "cell_type": "code",
   "execution_count": null,
   "metadata": {},
   "outputs": [],
   "source": []
  }
 ],
 "metadata": {
  "kernelspec": {
   "display_name": "research37",
   "language": "python",
   "name": "research37"
  },
  "language_info": {
   "codemirror_mode": {
    "name": "ipython",
    "version": 3
   },
   "file_extension": ".py",
   "mimetype": "text/x-python",
   "name": "python",
   "nbconvert_exporter": "python",
   "pygments_lexer": "ipython3",
   "version": "3.7.3"
  }
 },
 "nbformat": 4,
 "nbformat_minor": 2
}
