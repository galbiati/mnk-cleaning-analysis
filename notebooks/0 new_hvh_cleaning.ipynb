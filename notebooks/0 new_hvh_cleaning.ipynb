{
 "cells": [
  {
   "cell_type": "code",
   "execution_count": 45,
   "metadata": {
    "collapsed": true,
    "deletable": true,
    "editable": true
   },
   "outputs": [],
   "source": [
    "import numpy as np\n",
    "import pandas as pd\n",
    "import os"
   ]
  },
  {
   "cell_type": "code",
   "execution_count": 57,
   "metadata": {
    "collapsed": false,
    "deletable": true,
    "editable": true
   },
   "outputs": [
    {
     "name": "stdout",
     "output_type": "stream",
     "text": [
      "AG_SQ_040814_RAW.csv\n"
     ]
    }
   ],
   "source": [
    "# test\n",
    "files = os.listdir('../../../Data/0_hvh/Raw/')\n",
    "print(files[2])\n",
    "column_names = ['idx', 'gi', 'mi', 'status', 's1', 'color', 'response', 'bp', 'wp', 'rt', 'time', 'ip']\n",
    "keepers = ['subject', 'color', 'bp', 'wp', 'response', 'rt']\n",
    "data = pd.read_csv('../../../Data/0_hvh/Raw/' + files[2], names=column_names)\n",
    "data = data.loc[data.status.isin(['in progress', 'win', 'draw']), :]\n",
    "smap = dict(zip(data.ip.unique(), (0, 1)))\n",
    "data.loc[:, 'subject'] = data.ip.map(smap)\n",
    "data.loc[:, 'bl'] = [len(data.loc[i, 'bp'] + data.loc[i, 'wp']) for i in data.index.values]\n",
    "valids = (data.response < 36) & (data.bl < 72)\n",
    "data = data.loc[valids, keepers]"
   ]
  },
  {
   "cell_type": "code",
   "execution_count": 133,
   "metadata": {
    "collapsed": false,
    "deletable": true,
    "editable": true
   },
   "outputs": [],
   "source": [
    "class Aggregator():\n",
    "    def __init__(self, directory):\n",
    "        self.get_npiece = lambda p: np.array(list(p)).astype(int).sum()\n",
    "        self.directory = directory\n",
    "        self.column_names = ['idx', 'gi', 'mi', 'status', 's1', 'color', 'response', 'bp', 'wp', 'rt', 'time', 'ip']\n",
    "        self.keepers = ['gi', 'color', 'bp', 'wp', 'response', 'rt', 'time', 'subject']\n",
    "        self.model_keepers = ['subject', 'color', 'bp', 'wp', 'response', 'rt']\n",
    "        \n",
    "        self.files = self.get_files(self.directory)\n",
    "        self.data = self.load_data()\n",
    "        \n",
    "    def get_files(self, directory):\n",
    "        fs = os.listdir(directory)\n",
    "        fs = [f for f in fs if f[-3:] == 'csv']\n",
    "        return fs\n",
    "    \n",
    "    def load_file(self, fname):\n",
    "        data = pd.read_csv(self.directory + fname, names=self.column_names)\n",
    "        data = data.loc[data.status.isin(['in progress', 'win', 'draw']), :]\n",
    "        smap = dict(zip(data.ip.unique(), (0, 1)))\n",
    "        data.loc[:, 'subject'] = data.ip.map(smap)\n",
    "        data.loc[:, 'bl'] = [len(data.loc[i, 'bp'] + data.loc[i, 'wp']) for i in data.index.values]\n",
    "        return data.loc[(data.response < 36) & (data.bl <= 72), self.keepers]\n",
    "        \n",
    "    def load_data(self):\n",
    "        D = []\n",
    "        for i, f in enumerate(self.files):\n",
    "            d = self.load_file(f)\n",
    "            d.loc[:, 'subject'] += 2*i\n",
    "            D.append(d)\n",
    "        return pd.concat(D).reset_index(drop=True)\n",
    "    \n",
    "    def format_data(self):\n",
    "\n",
    "        self.data.loc[:, 'color'] = self.data.color.map({'B':0, 'W':1})\n",
    "        \n",
    "        def correct_position(i, c):\n",
    "            p, r = self.data.loc[i, [c, 'response']]\n",
    "            p = list(p)\n",
    "            p[r] = '0'\n",
    "            return ''.join(p)\n",
    "        \n",
    "        for i in self.data.loc[self.data.color==0, :].index.values:\n",
    "            self.data.loc[i, 'bp'] = correct_position(i, 'bp')\n",
    "        for i in self.data.loc[self.data.color==1, :].index.values:\n",
    "            self.data.loc[i, 'wp'] = correct_position(i, 'wp')\n",
    "            \n",
    "        self.data.loc[:, 'pdif'] = self.data.bp.map(self.get_npiece) - self.data.wp.map(self.get_npiece)\n",
    "        self.data = self.data.loc[self.data.color == self.data.pdif, self.keepers].reset_index(drop=True)\n",
    "        "
   ]
  },
  {
   "cell_type": "code",
   "execution_count": 136,
   "metadata": {
    "collapsed": false,
    "deletable": true,
    "editable": true
   },
   "outputs": [],
   "source": [
    "data = Aggregator('../../../Data/0_hvh/Raw/')\n",
    "data.format_data()\n",
    "\n",
    "data.data[data.model_keepers].to_csv('../../../Data/0_hvh/Clean/_summaries/model_input.csv', index=False, header=False, sep=',')"
   ]
  }
 ],
 "metadata": {
  "kernelspec": {
   "display_name": "Python [default]",
   "language": "python",
   "name": "python3"
  },
  "language_info": {
   "codemirror_mode": {
    "name": "ipython",
    "version": 3
   },
   "file_extension": ".py",
   "mimetype": "text/x-python",
   "name": "python",
   "nbconvert_exporter": "python",
   "pygments_lexer": "ipython3",
   "version": "3.5.2"
  }
 },
 "nbformat": 4,
 "nbformat_minor": 0
}
