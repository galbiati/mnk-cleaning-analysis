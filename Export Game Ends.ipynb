{
 "cells": [
  {
   "cell_type": "code",
   "execution_count": null,
   "metadata": {
    "collapsed": true,
    "deletable": true,
    "editable": true
   },
   "outputs": [],
   "source": [
    "import pandas as pd\n",
    "\n",
    "data = pd.read_csv('../../Data/1_gen/Clean/_summaries/all_games_all_fields.csv')\n",
    "ends = data.loc[data.status.isin(['win', 'draw']), :]\n",
    "wins = pd.DataFrame(index=ends.index, columns=['human', 'computer', 'black_player', 'outcome'])\n",
    "wins.loc[:, 'human'] = ends.loc[:, 'human']\n",
    "wins.loc[:, 'computer'] = ends.loc[:, 'computer']\n",
    "\n",
    "def who_is_black(row):\n",
    "    # 1 if human is black, o if comp\n",
    "    if row.subject == row.human:\n",
    "        if row.color == 0:\n",
    "            return 1\n",
    "        else:\n",
    "            return 0\n",
    "    else:\n",
    "        if row.color == 0:\n",
    "            return 0\n",
    "        else:\n",
    "            return 1\n",
    "        \n",
    "def who_won(row):\n",
    "    # 1 if black wins, 0 if draw, -1 if white wins\n",
    "    if row.status == 'draw':\n",
    "        return 0\n",
    "    elif row.color == 0:\n",
    "        return 1\n",
    "    else:\n",
    "        return -1\n",
    "    \n",
    "for i in ends.index.values:\n",
    "    r = ends.loc[i, :]\n",
    "    b = who_is_black(r)\n",
    "    w = who_won(r)\n",
    "    wins.loc[i, 'black_player'] = b\n",
    "    wins.loc[i, 'outcome'] = w\n",
    "    \n",
    "wins.to_csv('../../Data/1_gen/Clean/_summaries/outcomes.csv', index=False, header=False)"
   ]
  }
 ],
 "metadata": {
  "kernelspec": {
   "display_name": "Python [default]",
   "language": "python",
   "name": "python3"
  },
  "language_info": {
   "codemirror_mode": {
    "name": "ipython",
    "version": 3
   },
   "file_extension": ".py",
   "mimetype": "text/x-python",
   "name": "python",
   "nbconvert_exporter": "python",
   "pygments_lexer": "ipython3",
   "version": "3.5.2"
  }
 },
 "nbformat": 4,
 "nbformat_minor": 0
}
