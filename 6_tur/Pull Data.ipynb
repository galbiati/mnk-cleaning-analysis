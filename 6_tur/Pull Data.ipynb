{
 "cells": [
  {
   "cell_type": "code",
   "execution_count": null,
   "metadata": {},
   "outputs": [],
   "source": [
    "import pymongo\n",
    "import pandas as pd\n",
    "import matplotlib.pyplot as plt\n",
    "import numpy as np\n",
    "import scipy.stats as sts\n",
    "import seaborn as sns\n",
    "\n",
    "sns.set_style('white')\n",
    "\n",
    "%matplotlib inline\n",
    "\n",
    "dump_dir = ''\n",
    "client = pymongo.MongoClient('localhost', 27017)\n",
    "db = client.gamesdb"
   ]
  },
  {
   "cell_type": "code",
   "execution_count": null,
   "metadata": {},
   "outputs": [],
   "source": [
    "db.collection_names()"
   ]
  },
  {
   "cell_type": "markdown",
   "metadata": {},
   "source": [
    "## AI"
   ]
  },
  {
   "cell_type": "code",
   "execution_count": null,
   "metadata": {
    "collapsed": true
   },
   "outputs": [],
   "source": [
    "C = db.turing\n",
    "cursor = C.find({'task':'AI'})\n",
    "\n",
    "output_cols = ['user_name', 'opponent', 'color', 'bp', 'wp', 'response', 'rt', 'ts', 'status']\n",
    "\n",
    "AI = pd.DataFrame(list(cursor))"
   ]
  },
  {
   "cell_type": "code",
   "execution_count": null,
   "metadata": {},
   "outputs": [],
   "source": [
    "print(AI.user_name.unique())\n",
    "AI.head()"
   ]
  },
  {
   "cell_type": "code",
   "execution_count": null,
   "metadata": {},
   "outputs": [],
   "source": [
    "exclude = ['adfjk', 'bas', 'weiji', 'Ahmed']\n",
    "AI = AI.loc[~AI.user_name.isin(exclude)].reset_index(drop=True)"
   ]
  },
  {
   "cell_type": "code",
   "execution_count": null,
   "metadata": {
    "collapsed": true
   },
   "outputs": [],
   "source": [
    "AI_out = AI.loc[AI.status != 'ready', output_cols]\n",
    "AI_out['new_game'] = AI.bp.map(lambda x: int(np.array(list(x)).astype(int).sum()==1))\n",
    "AI_out['last_move'] = AI_out['new_game'].shift(-1)\n",
    "AI_out['status_code'] = AI_out.status.map(lambda x: 1 if x=='win' else 0)\n",
    "AI_out['opponent'] = AI_out['opponent'].astype(int)\n",
    "AI_out['opponent_bin'] = AI_out['opponent'] // 5\n",
    "AI_out.to_csv(dump_dir + 'AI.csv')"
   ]
  },
  {
   "cell_type": "code",
   "execution_count": null,
   "metadata": {},
   "outputs": [],
   "source": [
    "gl = np.loadtxt('/Users/maadmin/Downloads/game_length.txt') * 1.5\n",
    "cursor = db.test_collection.find({'task': {'$in': ['turing']}})\n",
    "T = pd.DataFrame(list(cursor))\n",
    "exclude = ['bas', 'bvf', 'tes', 'test', 'gianni', 'dsfv', 'yunqi', 'adfjk', 'badsafgdsdg', 'don', 'Weiji', 'adfads', 'admin']\n",
    "output_cols = ['user_name', 'task', 'clip_id', 'choice', 'feedback', 'timestamp', 'trial_start', 'experiment_start', 'start']\n",
    "T = T.loc[~T.user_name.isin(exclude), output_cols].reset_index(drop=True)\n",
    "T['feedback'] = T['feedback'].map(lambda x: 0 if x == 'false' else 1)\n",
    "T['rt'] = (T['timestamp'].astype(int) - T['timestamp'].astype(int).shift(1))\n",
    "T['game_length'] = gl[T['clip_id']]\n",
    "T.to_csv(dump_dir + 'Turing.csv')\n",
    "T.head()"
   ]
  },
  {
   "cell_type": "markdown",
   "metadata": {},
   "source": [
    "## Turing figures"
   ]
  },
  {
   "cell_type": "code",
   "execution_count": null,
   "metadata": {
    "scrolled": false
   },
   "outputs": [],
   "source": [
    "clip_piv = T.pivot_table(index='clip_id', values='feedback', aggfunc=np.sum)\n",
    "\n",
    "fig, axes = plt.subplots(1, 1, figsize=(10, 6))\n",
    "\n",
    "axes.hist(clip_piv.values, normed=True, color='grey', edgecolor='white', bins=np.arange(0, 27, 1))\n",
    "x = np.arange(0, 26, 1)\n",
    "y = sts.binom.pmf(x, T['user_name'].unique().size, T['feedback'].mean())\n",
    "axes.plot(x, y, color='black', label='binomial pmf, p = population mean')\n",
    "plt.setp(axes, xlabel='Number of correct responses per clip', ylabel='Frequency of response')\n",
    "axes.legend()\n",
    "sns.despine()"
   ]
  },
  {
   "cell_type": "code",
   "execution_count": null,
   "metadata": {},
   "outputs": [],
   "source": [
    "sub_piv = T.pivot_table(index='user_name', values='feedback', aggfunc=np.mean)\n",
    "plt.hist(sub_piv.values, bins=np.arange(.4, .7, .025))\n",
    "sns.despine()"
   ]
  },
  {
   "cell_type": "code",
   "execution_count": null,
   "metadata": {},
   "outputs": [],
   "source": [
    "fd = T.loc[(T.user_name=='FD'), :]\n",
    "gl[fd.clip_id.astype(int)]"
   ]
  },
  {
   "cell_type": "code",
   "execution_count": null,
   "metadata": {},
   "outputs": [],
   "source": [
    "winfrac = AI_out.loc[AI_out.last_move==1, :].pivot_table(\n",
    "    index='opponent_bin', values='status_code', aggfunc=np.mean\n",
    ").sort_index()\n",
    "\n",
    "winfrac.plot()\n",
    "sns.despine()"
   ]
  },
  {
   "cell_type": "markdown",
   "metadata": {},
   "source": [
    "# Turing"
   ]
  },
  {
   "cell_type": "code",
   "execution_count": null,
   "metadata": {},
   "outputs": [],
   "source": [
    "fd['gl'] = gl[fd.clip_id.astype(int)]\n",
    "\n",
    "plt.hist(fd.rt.values[1:]/1000 - fd.gl.values[1:], bins=np.arange(-10, 140, 5))\n",
    "sns.despine()"
   ]
  },
  {
   "cell_type": "code",
   "execution_count": null,
   "metadata": {},
   "outputs": [],
   "source": [
    "g = turing.loc[turing.user_name.isin(['Weiji']), :] # 'gianni'\n",
    "g['correct'] = g['feedback'].map(lambda x: x=='true').astype(int)\n",
    "g['correct'] = g['correct'].astype(int)\n",
    "sts.bayes_mvs(g.correct, alpha=.95) #.loc[g.user_name=='BB', :]"
   ]
  },
  {
   "cell_type": "code",
   "execution_count": null,
   "metadata": {},
   "outputs": [],
   "source": [
    "sts.bayes_mvs(g.loc[g.user_name=='FD', 'correct'].values.astype(int))"
   ]
  },
  {
   "cell_type": "code",
   "execution_count": null,
   "metadata": {
    "collapsed": true
   },
   "outputs": [],
   "source": []
  },
  {
   "cell_type": "code",
   "execution_count": null,
   "metadata": {},
   "outputs": [],
   "source": [
    "g.loc[g.user_name=='FD', 'choice'].values.astype(int).size"
   ]
  },
  {
   "cell_type": "code",
   "execution_count": null,
   "metadata": {},
   "outputs": [],
   "source": [
    "x = g.loc[g.user_name=='BB', 'choice'].values.astype(int)\n",
    "y = g.loc[g.user_name=='gianni', 'choice'].values.astype(int)\n",
    "print(sts.linregress(x, y))\n",
    "plt.plot(\n",
    "    x, \n",
    "    y, \n",
    "    linestyle='none', marker='o'\n",
    ")\n",
    "\n",
    "sns.despine()"
   ]
  },
  {
   "cell_type": "code",
   "execution_count": null,
   "metadata": {
    "scrolled": true
   },
   "outputs": [],
   "source": [
    "BB = g.loc[g.user_name=='BB', :]\n",
    "print(sts.linregress(BB.choice.astype(int), BB.correct.astype(int)))"
   ]
  },
  {
   "cell_type": "code",
   "execution_count": null,
   "metadata": {},
   "outputs": [],
   "source": [
    "x = np.abs(50-BB.loc[BB.correct==1, 'choice'].values.astype(int))\n",
    "y = np.abs(50-BB.loc[BB.correct==0, 'choice'].values.astype(int))\n",
    "plt.hist(np.abs(50-BB.loc[BB.correct==1, 'choice'].values.astype(int)), bins=np.arange(0, 51, 2), alpha=.8, normed=True)\n",
    "plt.hist(np.abs(50-BB.loc[BB.correct==0, 'choice'].values.astype(int)), bins=np.arange(0, 51, 2), alpha=.8, normed=True)\n",
    "sns.despine()"
   ]
  },
  {
   "cell_type": "code",
   "execution_count": null,
   "metadata": {},
   "outputs": [],
   "source": [
    "sts.bayes_mvs(y)"
   ]
  },
  {
   "cell_type": "code",
   "execution_count": null,
   "metadata": {},
   "outputs": [],
   "source": [
    "sts.bayes_mvs(x)"
   ]
  },
  {
   "cell_type": "code",
   "execution_count": null,
   "metadata": {
    "collapsed": true
   },
   "outputs": [],
   "source": []
  },
  {
   "cell_type": "markdown",
   "metadata": {},
   "source": [
    "## One offs:\n",
    "\n",
    "(correcting errors)"
   ]
  },
  {
   "cell_type": "code",
   "execution_count": null,
   "metadata": {},
   "outputs": [],
   "source": [
    "# EXAMPLE: replace user_name field to be correct\n",
    "\n",
    "F = {'user_name': }\n",
    "U = {'$set': {'user_name': 'MJ'}}\n",
    "\n",
    "C.update(F, U, multi=True)"
   ]
  },
  {
   "cell_type": "code",
   "execution_count": null,
   "metadata": {},
   "outputs": [],
   "source": [
    "# EXAMPLE: remove test user from database\n",
    "\n",
    "F = {'user_name': {'$in': ['gianni', 'bas', 'test']}}\n",
    "\n",
    "C.remove(F, multi=True)"
   ]
  },
  {
   "cell_type": "code",
   "execution_count": null,
   "metadata": {
    "collapsed": true
   },
   "outputs": [],
   "source": []
  }
 ],
 "metadata": {
  "anaconda-cloud": {},
  "kernelspec": {
   "display_name": "Python [default]",
   "language": "python",
   "name": "python3"
  },
  "language_info": {
   "codemirror_mode": {
    "name": "ipython",
    "version": 3
   },
   "file_extension": ".py",
   "mimetype": "text/x-python",
   "name": "python",
   "nbconvert_exporter": "python",
   "pygments_lexer": "ipython3",
   "version": "3.5.4"
  }
 },
 "nbformat": 4,
 "nbformat_minor": 1
}
