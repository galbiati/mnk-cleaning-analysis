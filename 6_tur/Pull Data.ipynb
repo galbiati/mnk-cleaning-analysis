{
 "cells": [
  {
   "cell_type": "code",
   "execution_count": 1,
   "metadata": {
    "collapsed": false
   },
   "outputs": [],
   "source": [
    "import pymongo\n",
    "import pandas as pd\n",
    "import matplotlib.pyplot as plt\n",
    "import numpy as np\n",
    "import scipy.stats as sts\n",
    "import seaborn as sns\n",
    "\n",
    "sns.set_style('white')\n",
    "\n",
    "%matplotlib inline\n",
    "\n",
    "dump_dir = ''\n",
    "client = pymongo.MongoClient('localhost', 27017)\n",
    "db = client.gamesdb"
   ]
  },
  {
   "cell_type": "code",
   "execution_count": 10,
   "metadata": {
    "collapsed": false
   },
   "outputs": [
    {
     "data": {
      "text/plain": [
       "['turing', 'test_collection']"
      ]
     },
     "execution_count": 10,
     "metadata": {},
     "output_type": "execute_result"
    }
   ],
   "source": [
    "db.collection_names()"
   ]
  },
  {
   "cell_type": "markdown",
   "metadata": {},
   "source": [
    "## AI"
   ]
  },
  {
   "cell_type": "code",
   "execution_count": 2,
   "metadata": {
    "collapsed": true
   },
   "outputs": [],
   "source": [
    "C = db.turing\n",
    "cursor = C.find({'task':'AI'})\n",
    "\n",
    "output_cols = ['user_name', 'opponent', 'color', 'bp', 'wp', 'response', 'rt', 'ts', 'status']\n",
    "\n",
    "AI = pd.DataFrame(list(cursor))"
   ]
  },
  {
   "cell_type": "code",
   "execution_count": 3,
   "metadata": {
    "collapsed": false
   },
   "outputs": [
    {
     "name": "stdout",
     "output_type": "stream",
     "text": [
      "['RR' 'SR' 'JC' 'MJ' 'OM' 'CR' 'AV' 'BB' 'FD' 'adfjk' 'bas' 'AF' 'SD' 'ARS'\n",
      " 'DT' 'AJ' 'TCK' 'GK' 'TW' 'weiji' 'DX' 'CW' 'AP' 'CS' 'JP' 'AS' 'PC'\n",
      " 'Ahmed' 'SJ']\n"
     ]
    },
    {
     "data": {
      "text/html": [
       "<div>\n",
       "<table border=\"1\" class=\"dataframe\">\n",
       "  <thead>\n",
       "    <tr style=\"text-align: right;\">\n",
       "      <th></th>\n",
       "      <th>_id</th>\n",
       "      <th>bp</th>\n",
       "      <th>color</th>\n",
       "      <th>gi</th>\n",
       "      <th>initials</th>\n",
       "      <th>mt</th>\n",
       "      <th>mxy</th>\n",
       "      <th>opponent</th>\n",
       "      <th>response</th>\n",
       "      <th>rt</th>\n",
       "      <th>status</th>\n",
       "      <th>task</th>\n",
       "      <th>ts</th>\n",
       "      <th>user_name</th>\n",
       "      <th>wp</th>\n",
       "    </tr>\n",
       "  </thead>\n",
       "  <tbody>\n",
       "    <tr>\n",
       "      <th>0</th>\n",
       "      <td>57fba6489100de0961e9c639</td>\n",
       "      <td>000000000000000000000000000000000000</td>\n",
       "      <td>0</td>\n",
       "      <td>0</td>\n",
       "      <td>1476109832464</td>\n",
       "      <td></td>\n",
       "      <td></td>\n",
       "      <td>17</td>\n",
       "      <td>99</td>\n",
       "      <td>0</td>\n",
       "      <td>ready</td>\n",
       "      <td>AI</td>\n",
       "      <td>1476109895631</td>\n",
       "      <td>RR</td>\n",
       "      <td>000000000000000000000000000000000000</td>\n",
       "    </tr>\n",
       "    <tr>\n",
       "      <th>1</th>\n",
       "      <td>57fba64e9100de0961e9c63a</td>\n",
       "      <td>000000000000010000000000000000000000</td>\n",
       "      <td>0</td>\n",
       "      <td>0</td>\n",
       "      <td>1476109832464</td>\n",
       "      <td>1476109898467,1476109898477,1476109898487,1476...</td>\n",
       "      <td>322,304;323,302;326,298;327,294;329,291;329,28...</td>\n",
       "      <td>17</td>\n",
       "      <td>13</td>\n",
       "      <td>4013</td>\n",
       "      <td>playing</td>\n",
       "      <td>AI</td>\n",
       "      <td>1476109901690</td>\n",
       "      <td>RR</td>\n",
       "      <td>000000000000000000000000000000000000</td>\n",
       "    </tr>\n",
       "    <tr>\n",
       "      <th>2</th>\n",
       "      <td>57fba6549100de0961e9c63b</td>\n",
       "      <td>000000000000010000000100000000000000</td>\n",
       "      <td>0</td>\n",
       "      <td>0</td>\n",
       "      <td>1476109832464</td>\n",
       "      <td>1476109901690,1476109905593,1476109905603,1476...</td>\n",
       "      <td>965,333;966,334;968,335;969,336;971,338;974,34...</td>\n",
       "      <td>17</td>\n",
       "      <td>21</td>\n",
       "      <td>2503</td>\n",
       "      <td>playing</td>\n",
       "      <td>AI</td>\n",
       "      <td>1476109907286</td>\n",
       "      <td>RR</td>\n",
       "      <td>000000000000100000000000000000000000</td>\n",
       "    </tr>\n",
       "    <tr>\n",
       "      <th>3</th>\n",
       "      <td>57fba65a9100de0961e9c63c</td>\n",
       "      <td>000000000000010000000100000001000000</td>\n",
       "      <td>0</td>\n",
       "      <td>0</td>\n",
       "      <td>1476109832464</td>\n",
       "      <td>1476109907296,1476109907469,1476109907469,1476...</td>\n",
       "      <td>851,493;853,493;853,494;856,495;858,495;862,49...</td>\n",
       "      <td>17</td>\n",
       "      <td>29</td>\n",
       "      <td>2626</td>\n",
       "      <td>playing</td>\n",
       "      <td>AI</td>\n",
       "      <td>1476109913015</td>\n",
       "      <td>RR</td>\n",
       "      <td>000000000000100000001000000000000000</td>\n",
       "    </tr>\n",
       "    <tr>\n",
       "      <th>4</th>\n",
       "      <td>57fba6609100de0961e9c63d</td>\n",
       "      <td>000000000000010000000100000011000000</td>\n",
       "      <td>0</td>\n",
       "      <td>0</td>\n",
       "      <td>1476109832464</td>\n",
       "      <td>1476109913015,1476109913125,1476109913135,1476...</td>\n",
       "      <td>698,627;699,627;700,627;701,627;703,627;707,62...</td>\n",
       "      <td>17</td>\n",
       "      <td>28</td>\n",
       "      <td>3476</td>\n",
       "      <td>playing</td>\n",
       "      <td>AI</td>\n",
       "      <td>1476109919462</td>\n",
       "      <td>RR</td>\n",
       "      <td>000001000000100000001000000000000000</td>\n",
       "    </tr>\n",
       "  </tbody>\n",
       "</table>\n",
       "</div>"
      ],
      "text/plain": [
       "                        _id                                    bp color gi  \\\n",
       "0  57fba6489100de0961e9c639  000000000000000000000000000000000000     0  0   \n",
       "1  57fba64e9100de0961e9c63a  000000000000010000000000000000000000     0  0   \n",
       "2  57fba6549100de0961e9c63b  000000000000010000000100000000000000     0  0   \n",
       "3  57fba65a9100de0961e9c63c  000000000000010000000100000001000000     0  0   \n",
       "4  57fba6609100de0961e9c63d  000000000000010000000100000011000000     0  0   \n",
       "\n",
       "        initials                                                 mt  \\\n",
       "0  1476109832464                                                      \n",
       "1  1476109832464  1476109898467,1476109898477,1476109898487,1476...   \n",
       "2  1476109832464  1476109901690,1476109905593,1476109905603,1476...   \n",
       "3  1476109832464  1476109907296,1476109907469,1476109907469,1476...   \n",
       "4  1476109832464  1476109913015,1476109913125,1476109913135,1476...   \n",
       "\n",
       "                                                 mxy opponent response    rt  \\\n",
       "0                                                          17       99     0   \n",
       "1  322,304;323,302;326,298;327,294;329,291;329,28...       17       13  4013   \n",
       "2  965,333;966,334;968,335;969,336;971,338;974,34...       17       21  2503   \n",
       "3  851,493;853,493;853,494;856,495;858,495;862,49...       17       29  2626   \n",
       "4  698,627;699,627;700,627;701,627;703,627;707,62...       17       28  3476   \n",
       "\n",
       "    status task             ts user_name                                    wp  \n",
       "0    ready   AI  1476109895631        RR  000000000000000000000000000000000000  \n",
       "1  playing   AI  1476109901690        RR  000000000000000000000000000000000000  \n",
       "2  playing   AI  1476109907286        RR  000000000000100000000000000000000000  \n",
       "3  playing   AI  1476109913015        RR  000000000000100000001000000000000000  \n",
       "4  playing   AI  1476109919462        RR  000001000000100000001000000000000000  "
      ]
     },
     "execution_count": 3,
     "metadata": {},
     "output_type": "execute_result"
    }
   ],
   "source": [
    "print(AI.user_name.unique())\n",
    "AI.head()"
   ]
  },
  {
   "cell_type": "code",
   "execution_count": 5,
   "metadata": {
    "collapsed": false
   },
   "outputs": [],
   "source": [
    "exclude = ['adfjk', 'bas', 'weiji', 'Ahmed']\n",
    "AI = AI.loc[~AI.user_name.isin(exclude)].reset_index(drop=True)"
   ]
  },
  {
   "cell_type": "code",
   "execution_count": 6,
   "metadata": {
    "collapsed": true
   },
   "outputs": [],
   "source": [
    "AI_out = AI.loc[AI.status != 'ready', output_cols]\n",
    "AI_out['new_game'] = AI.bp.map(lambda x: int(np.array(list(x)).astype(int).sum()==1))\n",
    "AI_out['last_move'] = AI_out['new_game'].shift(-1)\n",
    "AI_out['status_code'] = AI_out.status.map(lambda x: 1 if x=='win' else 0)\n",
    "AI_out['opponent'] = AI_out['opponent'].astype(int)\n",
    "AI_out['opponent_bin'] = AI_out['opponent'] // 5\n",
    "AI_out.to_csv(dump_dir + 'AI.csv')"
   ]
  },
  {
   "cell_type": "code",
   "execution_count": 32,
   "metadata": {
    "collapsed": false
   },
   "outputs": [
    {
     "name": "stderr",
     "output_type": "stream",
     "text": [
      "/Users/maadmin/anaconda/lib/python3.5/site-packages/ipykernel/__main__.py:10: VisibleDeprecationWarning: non integer (and non boolean) array-likes will not be accepted as indices in the future\n"
     ]
    },
    {
     "data": {
      "text/html": [
       "<div>\n",
       "<table border=\"1\" class=\"dataframe\">\n",
       "  <thead>\n",
       "    <tr style=\"text-align: right;\">\n",
       "      <th></th>\n",
       "      <th>user_name</th>\n",
       "      <th>task</th>\n",
       "      <th>clip_id</th>\n",
       "      <th>choice</th>\n",
       "      <th>feedback</th>\n",
       "      <th>timestamp</th>\n",
       "      <th>trial_start</th>\n",
       "      <th>experiment_start</th>\n",
       "      <th>start</th>\n",
       "      <th>rt</th>\n",
       "      <th>game_length</th>\n",
       "    </tr>\n",
       "  </thead>\n",
       "  <tbody>\n",
       "    <tr>\n",
       "      <th>0</th>\n",
       "      <td>RR</td>\n",
       "      <td>turing</td>\n",
       "      <td>86</td>\n",
       "      <td>65</td>\n",
       "      <td>0</td>\n",
       "      <td>1476191048451</td>\n",
       "      <td>NaN</td>\n",
       "      <td>NaN</td>\n",
       "      <td>1476189968850</td>\n",
       "      <td>NaN</td>\n",
       "      <td>7.5</td>\n",
       "    </tr>\n",
       "    <tr>\n",
       "      <th>1</th>\n",
       "      <td>RR</td>\n",
       "      <td>turing</td>\n",
       "      <td>50</td>\n",
       "      <td>63</td>\n",
       "      <td>0</td>\n",
       "      <td>1476191167511</td>\n",
       "      <td>NaN</td>\n",
       "      <td>NaN</td>\n",
       "      <td>1476191108153</td>\n",
       "      <td>119060.0</td>\n",
       "      <td>3.0</td>\n",
       "    </tr>\n",
       "    <tr>\n",
       "      <th>2</th>\n",
       "      <td>RR</td>\n",
       "      <td>turing</td>\n",
       "      <td>48</td>\n",
       "      <td>34</td>\n",
       "      <td>0</td>\n",
       "      <td>1476191190372</td>\n",
       "      <td>NaN</td>\n",
       "      <td>NaN</td>\n",
       "      <td>1476191108153</td>\n",
       "      <td>22861.0</td>\n",
       "      <td>10.5</td>\n",
       "    </tr>\n",
       "    <tr>\n",
       "      <th>3</th>\n",
       "      <td>RR</td>\n",
       "      <td>turing</td>\n",
       "      <td>35</td>\n",
       "      <td>33</td>\n",
       "      <td>0</td>\n",
       "      <td>1476191217315</td>\n",
       "      <td>NaN</td>\n",
       "      <td>NaN</td>\n",
       "      <td>1476191108153</td>\n",
       "      <td>26943.0</td>\n",
       "      <td>9.0</td>\n",
       "    </tr>\n",
       "    <tr>\n",
       "      <th>4</th>\n",
       "      <td>RR</td>\n",
       "      <td>turing</td>\n",
       "      <td>64</td>\n",
       "      <td>38</td>\n",
       "      <td>0</td>\n",
       "      <td>1476191241350</td>\n",
       "      <td>NaN</td>\n",
       "      <td>NaN</td>\n",
       "      <td>1476191108153</td>\n",
       "      <td>24035.0</td>\n",
       "      <td>7.5</td>\n",
       "    </tr>\n",
       "  </tbody>\n",
       "</table>\n",
       "</div>"
      ],
      "text/plain": [
       "  user_name    task clip_id choice  feedback      timestamp trial_start  \\\n",
       "0        RR  turing      86     65         0  1476191048451         NaN   \n",
       "1        RR  turing      50     63         0  1476191167511         NaN   \n",
       "2        RR  turing      48     34         0  1476191190372         NaN   \n",
       "3        RR  turing      35     33         0  1476191217315         NaN   \n",
       "4        RR  turing      64     38         0  1476191241350         NaN   \n",
       "\n",
       "  experiment_start          start        rt  game_length  \n",
       "0              NaN  1476189968850       NaN          7.5  \n",
       "1              NaN  1476191108153  119060.0          3.0  \n",
       "2              NaN  1476191108153   22861.0         10.5  \n",
       "3              NaN  1476191108153   26943.0          9.0  \n",
       "4              NaN  1476191108153   24035.0          7.5  "
      ]
     },
     "execution_count": 32,
     "metadata": {},
     "output_type": "execute_result"
    }
   ],
   "source": [
    "gl = np.loadtxt('/Users/maadmin/Downloads/game_length.txt') * 1.5\n",
    "cursor = db.test_collection.find({'task': {'$in': ['turing']}})\n",
    "T = pd.DataFrame(list(cursor))\n",
    "exclude = ['bas', 'bvf', 'tes', 'test', 'gianni', 'dsfv', 'yunqi', 'adfjk', 'badsafgdsdg', 'don', 'Weiji', 'adfads', 'admin']\n",
    "output_cols = ['user_name', 'task', 'clip_id', 'choice', 'feedback', 'timestamp', 'trial_start', 'experiment_start', 'start']\n",
    "T = T.loc[~T.user_name.isin(exclude), output_cols].reset_index(drop=True)\n",
    "T['feedback'] = T['feedback'].map(lambda x: 0 if x == 'false' else 1)\n",
    "T['rt'] = (T['timestamp'].astype(int) - T['timestamp'].astype(int).shift(1))\n",
    "T['game_length'] = gl[T['clip_id']]\n",
    "T.to_csv(dump_dir + 'Turing.csv')\n",
    "T.head()"
   ]
  },
  {
   "cell_type": "markdown",
   "metadata": {},
   "source": [
    "## Turing figures"
   ]
  },
  {
   "cell_type": "code",
   "execution_count": 58,
   "metadata": {
    "collapsed": false,
    "scrolled": false
   },
   "outputs": [
    {
     "data": {
      "image/png": "[encoded data removed]",
      "text/plain": [
       "<matplotlib.figure.Figure at 0x1103b08d0>"
      ]
     },
     "metadata": {},
     "output_type": "display_data"
    }
   ],
   "source": [
    "clip_piv = T.pivot_table(index='clip_id', values='feedback', aggfunc=np.sum)\n",
    "\n",
    "fig, axes = plt.subplots(1, 1, figsize=(10, 6))\n",
    "\n",
    "axes.hist(clip_piv.values, normed=True, color='grey', edgecolor='white', bins=np.arange(0, 27, 1))\n",
    "x = np.arange(0, 26, 1)\n",
    "y = sts.binom.pmf(x, T['user_name'].unique().size, T['feedback'].mean())\n",
    "axes.plot(x, y, color='black', label='binomial pmf, p = population mean')\n",
    "plt.setp(axes, xlabel='Number of correct responses per clip', ylabel='Frequency of response')\n",
    "axes.legend()\n",
    "sns.despine()"
   ]
  },
  {
   "cell_type": "code",
   "execution_count": 72,
   "metadata": {
    "collapsed": false
   },
   "outputs": [
    {
     "data": {
      "image/png": "[encoded data removed]",
      "text/plain": [
       "<matplotlib.figure.Figure at 0x110190278>"
      ]
     },
     "metadata": {},
     "output_type": "display_data"
    }
   ],
   "source": [
    "sub_piv = T.pivot_table(index='user_name', values='feedback', aggfunc=np.mean)\n",
    "plt.hist(sub_piv.values, bins=np.arange(.4, .7, .025))\n",
    "sns.despine()"
   ]
  },
  {
   "cell_type": "code",
   "execution_count": 20,
   "metadata": {
    "collapsed": false
   },
   "outputs": [
    {
     "data": {
      "text/plain": [
       "array([  7.5,   3. ,  12. ,   7.5,  15. ,  12. ,  12. ,  13.5,   4.5,\n",
       "        30. ,   4.5,  10.5,  16.5,   6. ,  16.5,   4.5,  10.5,  18. ,\n",
       "         3. ,  19.5,  28.5,  42. ,  15. ,   3. ,   6. ,   7.5,  13.5,\n",
       "        25.5,  19.5,   3. ,  24. ,  24. ,  15. ,  15. ,   9. ,  22.5,\n",
       "        24. ,  27. ,   3. ,  22.5,   4.5,  19.5,  24. ,  15. ,   3. ,\n",
       "        12. ,   1.5,   3. ,  15. ,   7.5,  13.5,  24. ,  10.5,  18. ,\n",
       "         4.5,   1.5,  24. ,  12. ,  16.5,   9. ,  19.5,   6. ,  10.5,\n",
       "        31.5,  15. ,  15. ,  19.5,  51. ,  16.5,  12. ,   7.5,   6. ,\n",
       "         9. ,  10.5,   7.5,  16.5,   4.5,  12. ,  10.5,  15. ,  19.5,\n",
       "        10.5,  13.5,  22.5,  16.5,  12. ,  10.5,  10.5,   9. ,  21. ,\n",
       "        13.5,  15. ,   4.5,   1.5,   9. ,  13.5,  12. ,  27. ,  12. ,\n",
       "        30. ,   3. ,   6. ,  10.5,  10.5,   6. ,   1.5,  15. ,  24. ,\n",
       "        18. ,  31.5,   9. ,  18. ,   4.5,   4.5,  18. ,   4.5,  15. ,\n",
       "        37.5,  42. ,  19.5,  15. ,   7.5,  10.5,  27. ])"
      ]
     },
     "execution_count": 20,
     "metadata": {},
     "output_type": "execute_result"
    }
   ],
   "source": [
    "fd = T.loc[(T.user_name=='FD'), :]\n",
    "gl[fd.clip_id.astype(int)]"
   ]
  },
  {
   "cell_type": "code",
   "execution_count": 4,
   "metadata": {
    "collapsed": false
   },
   "outputs": [
    {
     "data": {
      "image/png": "[encoded data removed]",
      "text/plain": [
       "<matplotlib.figure.Figure at 0x10f7e6cc0>"
      ]
     },
     "metadata": {},
     "output_type": "display_data"
    }
   ],
   "source": [
    "winfrac = AI_out.loc[AI_out.last_move==1, :].pivot_table(\n",
    "    index='opponent_bin', values='status_code', aggfunc=np.mean\n",
    ").sort_index()\n",
    "\n",
    "winfrac.plot()\n",
    "sns.despine()"
   ]
  },
  {
   "cell_type": "markdown",
   "metadata": {},
   "source": [
    "# Turing"
   ]
  },
  {
   "cell_type": "code",
   "execution_count": 8,
   "metadata": {
    "collapsed": false
   },
   "outputs": [
    {
     "data": {
      "image/png": "[encoded data removed]",
      "text/plain": [
       "<matplotlib.figure.Figure at 0x10fa63208>"
      ]
     },
     "metadata": {},
     "output_type": "display_data"
    }
   ],
   "source": [
    "fd['gl'] = gl[fd.clip_id.astype(int)]\n",
    "\n",
    "plt.hist(fd.rt.values[1:]/1000 - fd.gl.values[1:], bins=np.arange(-10, 140, 5))\n",
    "sns.despine()"
   ]
  },
  {
   "cell_type": "code",
   "execution_count": 9,
   "metadata": {
    "collapsed": false
   },
   "outputs": [
    {
     "data": {
      "text/plain": [
       "(Mean(statistic=0.68333333333333335, minmax=(0.61472367213265267, 0.75194299453401403)),\n",
       " Variance(statistic=0.22005649717514122, minmax=(0.17871828631541622, 0.27077796608729293)),\n",
       " Std_dev(statistic=0.46843969636424665, minmax=(0.42275085607886848, 0.52036330201820813)))"
      ]
     },
     "execution_count": 9,
     "metadata": {},
     "output_type": "execute_result"
    }
   ],
   "source": [
    "g = turing.loc[turing.user_name.isin(['Weiji']), :] # 'gianni'\n",
    "g['correct'] = g['feedback'].map(lambda x: x=='true').astype(int)\n",
    "g['correct'] = g['correct'].astype(int)\n",
    "sts.bayes_mvs(g.correct, alpha=.95) #.loc[g.user_name=='BB', :]"
   ]
  },
  {
   "cell_type": "code",
   "execution_count": 5,
   "metadata": {
    "collapsed": false
   },
   "outputs": [
    {
     "data": {
      "text/plain": [
       "(Mean(statistic=0.44354838709677419, minmax=(0.36930764278629979, 0.51778913140724858)),\n",
       " Variance(statistic=0.25293255131964815, minmax=(0.20418940138459951, 0.31106434740491695)),\n",
       " Std_dev(statistic=0.50188598687186847, minmax=(0.45187321383835038, 0.55773142945768883)))"
      ]
     },
     "execution_count": 5,
     "metadata": {},
     "output_type": "execute_result"
    }
   ],
   "source": [
    "sts.bayes_mvs(g.loc[g.user_name=='FD', 'correct'].values.astype(int))"
   ]
  },
  {
   "cell_type": "code",
   "execution_count": null,
   "metadata": {
    "collapsed": true
   },
   "outputs": [],
   "source": []
  },
  {
   "cell_type": "code",
   "execution_count": 6,
   "metadata": {
    "collapsed": false
   },
   "outputs": [
    {
     "data": {
      "text/plain": [
       "124"
      ]
     },
     "execution_count": 6,
     "metadata": {},
     "output_type": "execute_result"
    }
   ],
   "source": [
    "g.loc[g.user_name=='FD', 'choice'].values.astype(int).size"
   ]
  },
  {
   "cell_type": "code",
   "execution_count": 41,
   "metadata": {
    "collapsed": false
   },
   "outputs": [
    {
     "name": "stdout",
     "output_type": "stream",
     "text": [
      "LinregressResult(slope=-0.0037701386286998779, intercept=55.311405254777071, rvalue=-0.0047663172843010956, pvalue=0.96323956356561502, stderr=0.081584096915791812)\n"
     ]
    },
    {
     "data": {
      "image/png": "[encoded data removed]",
      "text/plain": [
       "<matplotlib.figure.Figure at 0x1166526a0>"
      ]
     },
     "metadata": {},
     "output_type": "display_data"
    }
   ],
   "source": [
    "x = g.loc[g.user_name=='BB', 'choice'].values.astype(int)\n",
    "y = g.loc[g.user_name=='gianni', 'choice'].values.astype(int)\n",
    "print(sts.linregress(x, y))\n",
    "plt.plot(\n",
    "    x, \n",
    "    y, \n",
    "    linestyle='none', marker='o'\n",
    ")\n",
    "\n",
    "sns.despine()"
   ]
  },
  {
   "cell_type": "code",
   "execution_count": 10,
   "metadata": {
    "collapsed": false,
    "scrolled": true
   },
   "outputs": [
    {
     "name": "stdout",
     "output_type": "stream",
     "text": [
      "LinregressResult(slope=-0.0017997644917839752, intercept=0.74570632393084624, rvalue=-0.086974910919928705, pvalue=0.39944556658541497, stderr=0.0021262233129241532)\n"
     ]
    }
   ],
   "source": [
    "BB = g.loc[g.user_name=='BB', :]\n",
    "print(sts.linregress(BB.choice.astype(int), BB.correct.astype(int)))"
   ]
  },
  {
   "cell_type": "code",
   "execution_count": 29,
   "metadata": {
    "collapsed": false
   },
   "outputs": [
    {
     "data": {
      "image/png": "[encoded data removed]",
      "text/plain": [
       "<matplotlib.figure.Figure at 0x116170860>"
      ]
     },
     "metadata": {},
     "output_type": "display_data"
    }
   ],
   "source": [
    "x = np.abs(50-BB.loc[BB.correct==1, 'choice'].values.astype(int))\n",
    "y = np.abs(50-BB.loc[BB.correct==0, 'choice'].values.astype(int))\n",
    "plt.hist(np.abs(50-BB.loc[BB.correct==1, 'choice'].values.astype(int)), bins=np.arange(0, 51, 2), alpha=.8, normed=True)\n",
    "plt.hist(np.abs(50-BB.loc[BB.correct==0, 'choice'].values.astype(int)), bins=np.arange(0, 51, 2), alpha=.8, normed=True)\n",
    "sns.despine()"
   ]
  },
  {
   "cell_type": "code",
   "execution_count": 30,
   "metadata": {
    "collapsed": false
   },
   "outputs": [
    {
     "data": {
      "text/plain": [
       "(Mean(statistic=16.03125, minmax=(12.571276874115487, 19.491223125884513)),\n",
       " Variance(statistic=142.44719827586206, minmax=(91.829214779006804, 214.2555463201835)),\n",
       " Std_dev(statistic=11.832697957626831, minmax=(9.5827561160141599, 14.637470625766717)))"
      ]
     },
     "execution_count": 30,
     "metadata": {},
     "output_type": "execute_result"
    }
   ],
   "source": [
    "sts.bayes_mvs(y)"
   ]
  },
  {
   "cell_type": "code",
   "execution_count": 27,
   "metadata": {
    "collapsed": false
   },
   "outputs": [
    {
     "data": {
      "text/plain": [
       "(Mean(statistic=21.921875, minmax=(19.258516522312245, 24.585233477687755)),\n",
       " Variance(statistic=168.23949795081967, minmax=(124.35196573453598, 224.36161925181236)),\n",
       " Std_dev(statistic=12.917669418094432, minmax=(11.151321255104078, 14.978705526573796)))"
      ]
     },
     "execution_count": 27,
     "metadata": {},
     "output_type": "execute_result"
    }
   ],
   "source": [
    "sts.bayes_mvs(x)"
   ]
  },
  {
   "cell_type": "code",
   "execution_count": null,
   "metadata": {
    "collapsed": true
   },
   "outputs": [],
   "source": []
  },
  {
   "cell_type": "markdown",
   "metadata": {},
   "source": [
    "## One offs:\n",
    "\n",
    "(correcting errors)"
   ]
  },
  {
   "cell_type": "code",
   "execution_count": 87,
   "metadata": {
    "collapsed": false
   },
   "outputs": [
    {
     "data": {
      "text/plain": [
       "{'n': 404, 'nModified': 404, 'ok': 1, 'updatedExisting': True}"
      ]
     },
     "execution_count": 87,
     "metadata": {},
     "output_type": "execute_result"
    }
   ],
   "source": [
    "# EXAMPLE: replace user_name field to be correct\n",
    "\n",
    "F = {'user_name': }\n",
    "U = {'$set': {'user_name': 'MJ'}}\n",
    "\n",
    "C.update(F, U, multi=True)"
   ]
  },
  {
   "cell_type": "code",
   "execution_count": 19,
   "metadata": {
    "collapsed": false
   },
   "outputs": [
    {
     "data": {
      "text/plain": [
       "{'n': 13, 'ok': 1}"
      ]
     },
     "execution_count": 19,
     "metadata": {},
     "output_type": "execute_result"
    }
   ],
   "source": [
    "# EXAMPLE: remove test user from database\n",
    "\n",
    "F = {'user_name': {'$in': ['gianni', 'bas', 'test']}}\n",
    "\n",
    "C.remove(F, multi=True)"
   ]
  },
  {
   "cell_type": "code",
   "execution_count": null,
   "metadata": {
    "collapsed": true
   },
   "outputs": [],
   "source": []
  }
 ],
 "metadata": {
  "anaconda-cloud": {},
  "kernelspec": {
   "display_name": "Python [default]",
   "language": "python",
   "name": "python3"
  },
  "language_info": {
   "codemirror_mode": {
    "name": "ipython",
    "version": 3
   },
   "file_extension": ".py",
   "mimetype": "text/x-python",
   "name": "python",
   "nbconvert_exporter": "python",
   "pygments_lexer": "ipython3",
   "version": "3.5.2"
  }
 },
 "nbformat": 4,
 "nbformat_minor": 1
}
