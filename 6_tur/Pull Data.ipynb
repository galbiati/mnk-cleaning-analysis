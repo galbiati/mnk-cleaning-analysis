{
 "cells": [
  {
   "cell_type": "code",
   "execution_count": 4,
   "metadata": {
    "collapsed": true
   },
   "outputs": [],
   "source": [
    "import pymongo\n",
    "import pandas as pd\n",
    "\n",
    "dump_dir = '/Users/gianni/Google Drive/Bas Zahy Gianni - Games/'"
   ]
  },
  {
   "cell_type": "code",
   "execution_count": 5,
   "metadata": {
    "collapsed": false
   },
   "outputs": [],
   "source": [
    "client = pymongo.MongoClient('localhost', 27017)\n",
    "db = client.gamesdb\n",
    "C = db.test_collection\n",
    "cursor = C.find({'clip_id':{'$exists':True}})\n",
    "df = pd.DataFrame(list(cursor))"
   ]
  },
  {
   "cell_type": "code",
   "execution_count": 6,
   "metadata": {
    "collapsed": false
   },
   "outputs": [
    {
     "data": {
      "text/html": [
       "<div>\n",
       "<table border=\"1\" class=\"dataframe\">\n",
       "  <thead>\n",
       "    <tr style=\"text-align: right;\">\n",
       "      <th></th>\n",
       "      <th>_id</th>\n",
       "      <th>choice</th>\n",
       "      <th>clip_id</th>\n",
       "      <th>start</th>\n",
       "      <th>timestamp</th>\n",
       "      <th>user_name</th>\n",
       "    </tr>\n",
       "  </thead>\n",
       "  <tbody>\n",
       "    <tr>\n",
       "      <th>0</th>\n",
       "      <td>57d8085cf89fad2f90e60929</td>\n",
       "      <td>human</td>\n",
       "      <td>2</td>\n",
       "      <td>1473775667634</td>\n",
       "      <td>1473775708303</td>\n",
       "      <td>oogie</td>\n",
       "    </tr>\n",
       "    <tr>\n",
       "      <th>1</th>\n",
       "      <td>57d8086df89fad2f90e6092a</td>\n",
       "      <td>computer</td>\n",
       "      <td>3</td>\n",
       "      <td>1473775667634</td>\n",
       "      <td>1473775725966</td>\n",
       "      <td>oogie</td>\n",
       "    </tr>\n",
       "    <tr>\n",
       "      <th>2</th>\n",
       "      <td>57d80f41f89fad2f90e6092b</td>\n",
       "      <td>computer</td>\n",
       "      <td>4</td>\n",
       "      <td>1473775667634</td>\n",
       "      <td>1473777473039</td>\n",
       "      <td>oogie</td>\n",
       "    </tr>\n",
       "    <tr>\n",
       "      <th>3</th>\n",
       "      <td>57d80f51f89fad2f90e6092c</td>\n",
       "      <td>human</td>\n",
       "      <td>5</td>\n",
       "      <td>1473775667634</td>\n",
       "      <td>1473777489012</td>\n",
       "      <td>oogie</td>\n",
       "    </tr>\n",
       "    <tr>\n",
       "      <th>4</th>\n",
       "      <td>57d82aabf89fad38bb62482c</td>\n",
       "      <td>human</td>\n",
       "      <td>1</td>\n",
       "      <td>1473783196718</td>\n",
       "      <td>1473784491188</td>\n",
       "      <td>oogie</td>\n",
       "    </tr>\n",
       "  </tbody>\n",
       "</table>\n",
       "</div>"
      ],
      "text/plain": [
       "                        _id    choice clip_id          start      timestamp  \\\n",
       "0  57d8085cf89fad2f90e60929     human       2  1473775667634  1473775708303   \n",
       "1  57d8086df89fad2f90e6092a  computer       3  1473775667634  1473775725966   \n",
       "2  57d80f41f89fad2f90e6092b  computer       4  1473775667634  1473777473039   \n",
       "3  57d80f51f89fad2f90e6092c     human       5  1473775667634  1473777489012   \n",
       "4  57d82aabf89fad38bb62482c     human       1  1473783196718  1473784491188   \n",
       "\n",
       "  user_name  \n",
       "0     oogie  \n",
       "1     oogie  \n",
       "2     oogie  \n",
       "3     oogie  \n",
       "4     oogie  "
      ]
     },
     "execution_count": 6,
     "metadata": {},
     "output_type": "execute_result"
    }
   ],
   "source": [
    "df.head()"
   ]
  },
  {
   "cell_type": "code",
   "execution_count": 7,
   "metadata": {
    "collapsed": true
   },
   "outputs": [],
   "source": [
    "df.to_csv(dump_dir + 'mongo_exp_dump.csv')"
   ]
  },
  {
   "cell_type": "code",
   "execution_count": null,
   "metadata": {
    "collapsed": true
   },
   "outputs": [],
   "source": []
  }
 ],
 "metadata": {
  "anaconda-cloud": {},
  "kernelspec": {
   "display_name": "Python [default]",
   "language": "python",
   "name": "python3"
  },
  "language_info": {
   "codemirror_mode": {
    "name": "ipython",
    "version": 3
   },
   "file_extension": ".py",
   "mimetype": "text/x-python",
   "name": "python",
   "nbconvert_exporter": "python",
   "pygments_lexer": "ipython3",
   "version": "3.5.2"
  }
 },
 "nbformat": 4,
 "nbformat_minor": 1
}
