{
 "cells": [
  {
   "cell_type": "code",
   "execution_count": 1,
   "metadata": {
    "collapsed": false
   },
   "outputs": [],
   "source": [
    "import pymongo\n",
    "import pandas as pd\n",
    "import matplotlib.pyplot as plt\n",
    "import numpy as np\n",
    "import scipy.stats as sts\n",
    "import seaborn as sns\n",
    "\n",
    "sns.set_style('white')\n",
    "\n",
    "%matplotlib inline\n",
    "\n",
    "dump_dir = ''\n",
    "client = pymongo.MongoClient('localhost', 27017)\n",
    "db = client.gamesdb"
   ]
  },
  {
   "cell_type": "markdown",
   "metadata": {},
   "source": [
    "## AI"
   ]
  },
  {
   "cell_type": "code",
   "execution_count": 2,
   "metadata": {
    "collapsed": true
   },
   "outputs": [],
   "source": [
    "C = db.turing\n",
    "cursor = C.find({'task':'AI'})\n",
    "\n",
    "output_cols = ['user_name', 'opponent', 'color', 'bp', 'wp', 'response', 'rt', 'ts', 'status']\n",
    "\n",
    "AI = pd.DataFrame(list(cursor))"
   ]
  },
  {
   "cell_type": "code",
   "execution_count": 3,
   "metadata": {
    "collapsed": false
   },
   "outputs": [
    {
     "name": "stdout",
     "output_type": "stream",
     "text": [
      "['RR' 'SR' 'JC' 'MJ' 'OM' 'CR' 'AV' 'BB']\n"
     ]
    },
    {
     "data": {
      "text/html": [
       "<div>\n",
       "<table border=\"1\" class=\"dataframe\">\n",
       "  <thead>\n",
       "    <tr style=\"text-align: right;\">\n",
       "      <th></th>\n",
       "      <th>_id</th>\n",
       "      <th>bp</th>\n",
       "      <th>color</th>\n",
       "      <th>gi</th>\n",
       "      <th>initials</th>\n",
       "      <th>mt</th>\n",
       "      <th>mxy</th>\n",
       "      <th>opponent</th>\n",
       "      <th>response</th>\n",
       "      <th>rt</th>\n",
       "      <th>status</th>\n",
       "      <th>task</th>\n",
       "      <th>ts</th>\n",
       "      <th>user_name</th>\n",
       "      <th>wp</th>\n",
       "    </tr>\n",
       "  </thead>\n",
       "  <tbody>\n",
       "    <tr>\n",
       "      <th>0</th>\n",
       "      <td>57fba6489100de0961e9c639</td>\n",
       "      <td>000000000000000000000000000000000000</td>\n",
       "      <td>0</td>\n",
       "      <td>0</td>\n",
       "      <td>1476109832464</td>\n",
       "      <td></td>\n",
       "      <td></td>\n",
       "      <td>17</td>\n",
       "      <td>99</td>\n",
       "      <td>0</td>\n",
       "      <td>ready</td>\n",
       "      <td>AI</td>\n",
       "      <td>1476109895631</td>\n",
       "      <td>RR</td>\n",
       "      <td>000000000000000000000000000000000000</td>\n",
       "    </tr>\n",
       "    <tr>\n",
       "      <th>1</th>\n",
       "      <td>57fba64e9100de0961e9c63a</td>\n",
       "      <td>000000000000010000000000000000000000</td>\n",
       "      <td>0</td>\n",
       "      <td>0</td>\n",
       "      <td>1476109832464</td>\n",
       "      <td>1476109898467,1476109898477,1476109898487,1476...</td>\n",
       "      <td>322,304;323,302;326,298;327,294;329,291;329,28...</td>\n",
       "      <td>17</td>\n",
       "      <td>13</td>\n",
       "      <td>4013</td>\n",
       "      <td>playing</td>\n",
       "      <td>AI</td>\n",
       "      <td>1476109901690</td>\n",
       "      <td>RR</td>\n",
       "      <td>000000000000000000000000000000000000</td>\n",
       "    </tr>\n",
       "    <tr>\n",
       "      <th>2</th>\n",
       "      <td>57fba6549100de0961e9c63b</td>\n",
       "      <td>000000000000010000000100000000000000</td>\n",
       "      <td>0</td>\n",
       "      <td>0</td>\n",
       "      <td>1476109832464</td>\n",
       "      <td>1476109901690,1476109905593,1476109905603,1476...</td>\n",
       "      <td>965,333;966,334;968,335;969,336;971,338;974,34...</td>\n",
       "      <td>17</td>\n",
       "      <td>21</td>\n",
       "      <td>2503</td>\n",
       "      <td>playing</td>\n",
       "      <td>AI</td>\n",
       "      <td>1476109907286</td>\n",
       "      <td>RR</td>\n",
       "      <td>000000000000100000000000000000000000</td>\n",
       "    </tr>\n",
       "    <tr>\n",
       "      <th>3</th>\n",
       "      <td>57fba65a9100de0961e9c63c</td>\n",
       "      <td>000000000000010000000100000001000000</td>\n",
       "      <td>0</td>\n",
       "      <td>0</td>\n",
       "      <td>1476109832464</td>\n",
       "      <td>1476109907296,1476109907469,1476109907469,1476...</td>\n",
       "      <td>851,493;853,493;853,494;856,495;858,495;862,49...</td>\n",
       "      <td>17</td>\n",
       "      <td>29</td>\n",
       "      <td>2626</td>\n",
       "      <td>playing</td>\n",
       "      <td>AI</td>\n",
       "      <td>1476109913015</td>\n",
       "      <td>RR</td>\n",
       "      <td>000000000000100000001000000000000000</td>\n",
       "    </tr>\n",
       "    <tr>\n",
       "      <th>4</th>\n",
       "      <td>57fba6609100de0961e9c63d</td>\n",
       "      <td>000000000000010000000100000011000000</td>\n",
       "      <td>0</td>\n",
       "      <td>0</td>\n",
       "      <td>1476109832464</td>\n",
       "      <td>1476109913015,1476109913125,1476109913135,1476...</td>\n",
       "      <td>698,627;699,627;700,627;701,627;703,627;707,62...</td>\n",
       "      <td>17</td>\n",
       "      <td>28</td>\n",
       "      <td>3476</td>\n",
       "      <td>playing</td>\n",
       "      <td>AI</td>\n",
       "      <td>1476109919462</td>\n",
       "      <td>RR</td>\n",
       "      <td>000001000000100000001000000000000000</td>\n",
       "    </tr>\n",
       "  </tbody>\n",
       "</table>\n",
       "</div>"
      ],
      "text/plain": [
       "                        _id                                    bp color gi  \\\n",
       "0  57fba6489100de0961e9c639  000000000000000000000000000000000000     0  0   \n",
       "1  57fba64e9100de0961e9c63a  000000000000010000000000000000000000     0  0   \n",
       "2  57fba6549100de0961e9c63b  000000000000010000000100000000000000     0  0   \n",
       "3  57fba65a9100de0961e9c63c  000000000000010000000100000001000000     0  0   \n",
       "4  57fba6609100de0961e9c63d  000000000000010000000100000011000000     0  0   \n",
       "\n",
       "        initials                                                 mt  \\\n",
       "0  1476109832464                                                      \n",
       "1  1476109832464  1476109898467,1476109898477,1476109898487,1476...   \n",
       "2  1476109832464  1476109901690,1476109905593,1476109905603,1476...   \n",
       "3  1476109832464  1476109907296,1476109907469,1476109907469,1476...   \n",
       "4  1476109832464  1476109913015,1476109913125,1476109913135,1476...   \n",
       "\n",
       "                                                 mxy opponent response    rt  \\\n",
       "0                                                          17       99     0   \n",
       "1  322,304;323,302;326,298;327,294;329,291;329,28...       17       13  4013   \n",
       "2  965,333;966,334;968,335;969,336;971,338;974,34...       17       21  2503   \n",
       "3  851,493;853,493;853,494;856,495;858,495;862,49...       17       29  2626   \n",
       "4  698,627;699,627;700,627;701,627;703,627;707,62...       17       28  3476   \n",
       "\n",
       "    status task             ts user_name                                    wp  \n",
       "0    ready   AI  1476109895631        RR  000000000000000000000000000000000000  \n",
       "1  playing   AI  1476109901690        RR  000000000000000000000000000000000000  \n",
       "2  playing   AI  1476109907286        RR  000000000000100000000000000000000000  \n",
       "3  playing   AI  1476109913015        RR  000000000000100000001000000000000000  \n",
       "4  playing   AI  1476109919462        RR  000001000000100000001000000000000000  "
      ]
     },
     "execution_count": 3,
     "metadata": {},
     "output_type": "execute_result"
    }
   ],
   "source": [
    "print(AI.user_name.unique())\n",
    "AI.head()"
   ]
  },
  {
   "cell_type": "code",
   "execution_count": 4,
   "metadata": {
    "collapsed": false
   },
   "outputs": [
    {
     "data": {
      "image/png": "[encoded data removed]",
      "text/plain": [
       "<matplotlib.figure.Figure at 0x114e786d8>"
      ]
     },
     "metadata": {},
     "output_type": "display_data"
    }
   ],
   "source": [
    "AI_out = AI.loc[AI.status != 'ready', output_cols]\n",
    "AI_out['new_game'] = AI.bp.map(lambda x: int(np.array(list(x)).astype(int).sum()==1))\n",
    "AI_out['last_move'] = AI_out['new_game'].shift(-1)\n",
    "AI_out['status_code'] = AI_out.status.map(lambda x: 1 if x=='win' else 0)\n",
    "AI_out['opponent'] = AI_out['opponent'].astype(int)\n",
    "AI_out['opponent_bin'] = AI_out['opponent'] // 5\n",
    "winfrac = AI_out.loc[AI_out.last_move==1, :].pivot_table(\n",
    "    index='opponent_bin', values='status_code', aggfunc=np.mean\n",
    ").sort_index()\n",
    "\n",
    "winfrac.plot()\n",
    "sns.despine()"
   ]
  },
  {
   "cell_type": "markdown",
   "metadata": {},
   "source": [
    "# Turing"
   ]
  },
  {
   "cell_type": "code",
   "execution_count": 5,
   "metadata": {
    "collapsed": false
   },
   "outputs": [],
   "source": [
    "cursor = db.test_collection.find({'user_name': {'$in': ['MJ', 'OM', 'CR', 'AV', 'BB','gianni']}})\n",
    "turing = pd.DataFrame(list(cursor))\n",
    "turing = turing.loc[:, ['user_name', 'clip_id', 'choice', 'feedback', 'timestamp']]\n",
    "turing.head()\n",
    "turing.to_csv(dump_dir + 'turing_pilot.csv')"
   ]
  },
  {
   "cell_type": "code",
   "execution_count": 44,
   "metadata": {
    "collapsed": false
   },
   "outputs": [
    {
     "data": {
      "text/plain": [
       "(Mean(statistic=0.52380952380952384, minmax=(0.2908562898221122, 0.75676275779693547)),\n",
       " Variance(statistic=0.29100529100529093, minmax=(0.15329691245760654, 0.54615960978511002)),\n",
       " Std_dev(statistic=0.53201229152894602, minmax=(0.39153149612464966, 0.73902612253228905)))"
      ]
     },
     "execution_count": 44,
     "metadata": {},
     "output_type": "execute_result"
    }
   ],
   "source": [
    "g = turing.loc[turing.user_name.isin(['MJ', 'OM', 'BB', 'AV']), :] # 'gianni'\n",
    "g['correct'] = g['feedback'].map(lambda x: x=='true').astype(int)\n",
    "g['correct'] = g['correct'].astype(int)\n",
    "sts.bayes_mvs(g.correct, alpha=.95) #.loc[g.user_name=='BB', :]"
   ]
  },
  {
   "cell_type": "code",
   "execution_count": 32,
   "metadata": {
    "collapsed": false
   },
   "outputs": [
    {
     "data": {
      "text/plain": [
       "96"
      ]
     },
     "execution_count": 32,
     "metadata": {},
     "output_type": "execute_result"
    }
   ],
   "source": [
    "g.loc[g.user_name=='gianni', 'choice'].values.astype(int).size"
   ]
  },
  {
   "cell_type": "code",
   "execution_count": 41,
   "metadata": {
    "collapsed": false
   },
   "outputs": [
    {
     "name": "stdout",
     "output_type": "stream",
     "text": [
      "LinregressResult(slope=-0.0037701386286998779, intercept=55.311405254777071, rvalue=-0.0047663172843010956, pvalue=0.96323956356561502, stderr=0.081584096915791812)\n"
     ]
    },
    {
     "data": {
      "image/png": "[encoded data removed]",
      "text/plain": [
       "<matplotlib.figure.Figure at 0x1166526a0>"
      ]
     },
     "metadata": {},
     "output_type": "display_data"
    }
   ],
   "source": [
    "x = g.loc[g.user_name=='BB', 'choice'].values.astype(int)\n",
    "y = g.loc[g.user_name=='gianni', 'choice'].values.astype(int)\n",
    "print(sts.linregress(x, y))\n",
    "plt.plot(\n",
    "    x, \n",
    "    y, \n",
    "    linestyle='none', marker='o'\n",
    ")\n",
    "\n",
    "sns.despine()"
   ]
  },
  {
   "cell_type": "code",
   "execution_count": 42,
   "metadata": {
    "collapsed": false,
    "scrolled": true
   },
   "outputs": [
    {
     "name": "stdout",
     "output_type": "stream",
     "text": [
      "LinregressResult(slope=-0.0017997644917839752, intercept=0.74570632393084624, rvalue=-0.086974910919928705, pvalue=0.39944556658541497, stderr=0.0021262233129241532)\n"
     ]
    }
   ],
   "source": [
    "BB = g.loc[g.user_name=='BB', :]\n",
    "print(sts.linregress(BB.choice.astype(int), BB.correct.astype(int)))"
   ]
  },
  {
   "cell_type": "markdown",
   "metadata": {},
   "source": [
    "## One offs:\n",
    "\n",
    "(correcting errors)"
   ]
  },
  {
   "cell_type": "code",
   "execution_count": 87,
   "metadata": {
    "collapsed": false
   },
   "outputs": [
    {
     "data": {
      "text/plain": [
       "{'n': 404, 'nModified': 404, 'ok': 1, 'updatedExisting': True}"
      ]
     },
     "execution_count": 87,
     "metadata": {},
     "output_type": "execute_result"
    }
   ],
   "source": [
    "# EXAMPLE: replace user_name field to be correct\n",
    "\n",
    "F = {'user_name': }\n",
    "U = {'$set': {'user_name': 'MJ'}}\n",
    "\n",
    "C.update(F, U, multi=True)"
   ]
  },
  {
   "cell_type": "code",
   "execution_count": 19,
   "metadata": {
    "collapsed": false
   },
   "outputs": [
    {
     "data": {
      "text/plain": [
       "{'n': 13, 'ok': 1}"
      ]
     },
     "execution_count": 19,
     "metadata": {},
     "output_type": "execute_result"
    }
   ],
   "source": [
    "# EXAMPLE: remove test user from database\n",
    "\n",
    "F = {'user_name': {'$in': ['gianni', 'bas', 'test']}}\n",
    "\n",
    "C.remove(F, multi=True)"
   ]
  },
  {
   "cell_type": "code",
   "execution_count": null,
   "metadata": {
    "collapsed": true
   },
   "outputs": [],
   "source": []
  }
 ],
 "metadata": {
  "anaconda-cloud": {},
  "kernelspec": {
   "display_name": "Python [default]",
   "language": "python",
   "name": "python3"
  },
  "language_info": {
   "codemirror_mode": {
    "name": "ipython",
    "version": 3
   },
   "file_extension": ".py",
   "mimetype": "text/x-python",
   "name": "python",
   "nbconvert_exporter": "python",
   "pygments_lexer": "ipython3",
   "version": "3.5.2"
  }
 },
 "nbformat": 4,
 "nbformat_minor": 1
}
