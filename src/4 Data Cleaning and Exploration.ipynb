{
 "cells": [
  {
   "cell_type": "markdown",
   "metadata": {},
   "source": [
    "# Exploring reconstruction data\n",
    "\n",
    "Some notes.\n",
    "\n",
    "1. Response times are not correct on stimulus/submission records and will need to be reconstructed\n",
    "2. I find *no indication* that there are errors in the final submission. This leaves the weird indicator observations at position 0 to be explained, but it's clear they are not causing the board representation to be incorrect.\n",
    "\n",
    "Some todos.\n",
    "\n",
    "1. Count neighboring pieces at each position for each and both colors for error prediction\n",
    "2. Look at distribution of errors by unique position.\n",
    "3. Should probably do a more proper factor analysis rather than independent tests and regressions, but these are adequate (and clear!) enough for a first pass\n",
    "4. **SUPER IMPORTANT** import real/fake records for all positions!\n"
   ]
  },
  {
   "cell_type": "markdown",
   "metadata": {},
   "source": [
    "## Boilerplate\n",
    "\n",
    "Imports and data loading."
   ]
  },
  {
   "cell_type": "code",
   "execution_count": 1,
   "metadata": {},
   "outputs": [
    {
     "name": "stderr",
     "output_type": "stream",
     "text": [
      "/Users/gianni/anaconda/lib/python3.5/site-packages/statsmodels/compat/pandas.py:56: FutureWarning: The pandas.core.datetools module is deprecated and will be removed in a future version. Please use the pandas.tseries module instead.\n",
      "  from pandas.core import datetools\n"
     ]
    }
   ],
   "source": [
    "import os\n",
    "\n",
    "import matplotlib.pyplot as plt\n",
    "import numpy as np\n",
    "import pandas as pd\n",
    "import scipy.stats as sts\n",
    "import seaborn as sns\n",
    "import statsmodels\n",
    "import statsmodels.api as sm\n",
    "from statsmodels.formula.api import ols\n",
    "\n",
    "from lib.utility_functions import *\n",
    "from lib.exp4 import *\n",
    "\n",
    "sns.set_style('white')\n",
    "sns.set_context('talk')\n",
    "\n",
    "% matplotlib inline"
   ]
  },
  {
   "cell_type": "code",
   "execution_count": 2,
   "metadata": {},
   "outputs": [],
   "source": [
    "data_dir = os.path.expanduser('~/Google Drive/Bas Zahy Gianni - Games/Data/4_rcn/Raw Data')\n",
    "trained_files_dir = os.path.join(data_dir, 'Trained')\n",
    "naive_files_dir = os.path.join(data_dir, 'Untrained')\n",
    "\n",
    "all_files = get_all_csvs(trained_files_dir) + get_all_csvs(naive_files_dir)\n",
    "\n",
    "DF = load_data(all_files)\n",
    "DF = process_data(DF)\n",
    "\n",
    "bpi, wpi, bpf, wpf = unpack_positions(DF)\n",
    "\n",
    "black_errors = (bpf != bpi).astype(int)\n",
    "white_errors = (wpf != wpi).astype(int)"
   ]
  },
  {
   "cell_type": "code",
   "execution_count": 3,
   "metadata": {},
   "outputs": [
    {
     "data": {
      "text/plain": [
       "Index(['Subject ID', 'Condition', 'Game Index', 'Position ID', 'Is Real',\n",
       "       'Black Position', 'White Position', 'Black Position (final)',\n",
       "       'White Position (final)', 'Num Black Pieces', 'Num White Pieces',\n",
       "       'Num Pieces', 'Total Black Errors', 'Total White Errors',\n",
       "       'Total Errors', 'Type I Errors (black)', 'Type I Errors (white)',\n",
       "       'Type I Errors', 'Type II Errors (black)', 'Type II Errors (white)',\n",
       "       'Type II Errors', 'Type III Errors (black)', 'Type III Errors (white)',\n",
       "       'Type III Errors'],\n",
       "      dtype='object')"
      ]
     },
     "execution_count": 3,
     "metadata": {},
     "output_type": "execute_result"
    }
   ],
   "source": [
    "DF.columns"
   ]
  },
  {
   "cell_type": "code",
   "execution_count": 4,
   "metadata": {},
   "outputs": [
    {
     "data": {
      "text/html": [
       "<div>\n",
       "<style>\n",
       "    .dataframe thead tr:only-child th {\n",
       "        text-align: right;\n",
       "    }\n",
       "\n",
       "    .dataframe thead th {\n",
       "        text-align: left;\n",
       "    }\n",
       "\n",
       "    .dataframe tbody tr th {\n",
       "        vertical-align: top;\n",
       "    }\n",
       "</style>\n",
       "<table border=\"1\" class=\"dataframe\">\n",
       "  <thead>\n",
       "    <tr style=\"text-align: right;\">\n",
       "      <th></th>\n",
       "      <th>Subject ID</th>\n",
       "      <th>Condition</th>\n",
       "      <th>Game Index</th>\n",
       "      <th>Position ID</th>\n",
       "      <th>Is Real</th>\n",
       "      <th>Black Position</th>\n",
       "      <th>White Position</th>\n",
       "      <th>Black Position (final)</th>\n",
       "      <th>White Position (final)</th>\n",
       "      <th>Num Black Pieces</th>\n",
       "      <th>...</th>\n",
       "      <th>Type I Errors (white)</th>\n",
       "      <th>Type I Errors</th>\n",
       "      <th>Type II Errors (black)</th>\n",
       "      <th>Type II Errors (white)</th>\n",
       "      <th>Type II Errors</th>\n",
       "      <th>Type III Errors (black)</th>\n",
       "      <th>Type III Errors (white)</th>\n",
       "      <th>Type III Errors</th>\n",
       "      <th>Num Pieces (final)</th>\n",
       "      <th>Numerosity Error</th>\n",
       "    </tr>\n",
       "  </thead>\n",
       "  <tbody>\n",
       "    <tr>\n",
       "      <th>0</th>\n",
       "      <td>1456159044009</td>\n",
       "      <td>Trained</td>\n",
       "      <td>0</td>\n",
       "      <td>73.0</td>\n",
       "      <td>True</td>\n",
       "      <td>100000000001011010000111000000000000</td>\n",
       "      <td>000000000010100000001000100000110100</td>\n",
       "      <td>100000000001011000000111010000000000</td>\n",
       "      <td>000000000010000100001000100000110000</td>\n",
       "      <td>8</td>\n",
       "      <td>...</td>\n",
       "      <td>1</td>\n",
       "      <td>2</td>\n",
       "      <td>1</td>\n",
       "      <td>2</td>\n",
       "      <td>3</td>\n",
       "      <td>0</td>\n",
       "      <td>0</td>\n",
       "      <td>0</td>\n",
       "      <td>14</td>\n",
       "      <td>1</td>\n",
       "    </tr>\n",
       "    <tr>\n",
       "      <th>2</th>\n",
       "      <td>1456159044009</td>\n",
       "      <td>Trained</td>\n",
       "      <td>1</td>\n",
       "      <td>44.0</td>\n",
       "      <td>False</td>\n",
       "      <td>000010000100100011001101000000001000</td>\n",
       "      <td>000100000010001100000000000011010110</td>\n",
       "      <td>000010000000100000001100000000000000</td>\n",
       "      <td>000000000000000000000000000001101000</td>\n",
       "      <td>9</td>\n",
       "      <td>...</td>\n",
       "      <td>1</td>\n",
       "      <td>1</td>\n",
       "      <td>4</td>\n",
       "      <td>8</td>\n",
       "      <td>12</td>\n",
       "      <td>1</td>\n",
       "      <td>0</td>\n",
       "      <td>1</td>\n",
       "      <td>7</td>\n",
       "      <td>11</td>\n",
       "    </tr>\n",
       "    <tr>\n",
       "      <th>4</th>\n",
       "      <td>1456159044009</td>\n",
       "      <td>Trained</td>\n",
       "      <td>2</td>\n",
       "      <td>91.0</td>\n",
       "      <td>True</td>\n",
       "      <td>000100010001011100000011000000100000</td>\n",
       "      <td>000011100000100010000100100000010100</td>\n",
       "      <td>000000000000011000000011000000100000</td>\n",
       "      <td>000011100000100010000000100000010100</td>\n",
       "      <td>9</td>\n",
       "      <td>...</td>\n",
       "      <td>0</td>\n",
       "      <td>0</td>\n",
       "      <td>4</td>\n",
       "      <td>1</td>\n",
       "      <td>5</td>\n",
       "      <td>0</td>\n",
       "      <td>0</td>\n",
       "      <td>0</td>\n",
       "      <td>13</td>\n",
       "      <td>5</td>\n",
       "    </tr>\n",
       "    <tr>\n",
       "      <th>6</th>\n",
       "      <td>1456159044009</td>\n",
       "      <td>Trained</td>\n",
       "      <td>3</td>\n",
       "      <td>62.0</td>\n",
       "      <td>True</td>\n",
       "      <td>010001000000100000011100000000010000</td>\n",
       "      <td>000110000000010000100011000000000000</td>\n",
       "      <td>000000000010100000001000000001100000</td>\n",
       "      <td>000110000000010000000011000000000000</td>\n",
       "      <td>7</td>\n",
       "      <td>...</td>\n",
       "      <td>0</td>\n",
       "      <td>3</td>\n",
       "      <td>5</td>\n",
       "      <td>1</td>\n",
       "      <td>6</td>\n",
       "      <td>0</td>\n",
       "      <td>0</td>\n",
       "      <td>0</td>\n",
       "      <td>10</td>\n",
       "      <td>3</td>\n",
       "    </tr>\n",
       "    <tr>\n",
       "      <th>8</th>\n",
       "      <td>1456159044009</td>\n",
       "      <td>Trained</td>\n",
       "      <td>4</td>\n",
       "      <td>54.0</td>\n",
       "      <td>True</td>\n",
       "      <td>000010000000001000000000000011010010</td>\n",
       "      <td>100100000000000000000010100100100000</td>\n",
       "      <td>000000000000100000000111000000000000</td>\n",
       "      <td>100100000000010000000000000100100100</td>\n",
       "      <td>6</td>\n",
       "      <td>...</td>\n",
       "      <td>2</td>\n",
       "      <td>5</td>\n",
       "      <td>6</td>\n",
       "      <td>1</td>\n",
       "      <td>7</td>\n",
       "      <td>0</td>\n",
       "      <td>1</td>\n",
       "      <td>1</td>\n",
       "      <td>10</td>\n",
       "      <td>2</td>\n",
       "    </tr>\n",
       "  </tbody>\n",
       "</table>\n",
       "<p>5 rows × 26 columns</p>\n",
       "</div>"
      ],
      "text/plain": [
       "      Subject ID Condition  Game Index  Position ID Is Real  \\\n",
       "0  1456159044009   Trained           0         73.0    True   \n",
       "2  1456159044009   Trained           1         44.0   False   \n",
       "4  1456159044009   Trained           2         91.0    True   \n",
       "6  1456159044009   Trained           3         62.0    True   \n",
       "8  1456159044009   Trained           4         54.0    True   \n",
       "\n",
       "                         Black Position                        White Position  \\\n",
       "0  100000000001011010000111000000000000  000000000010100000001000100000110100   \n",
       "2  000010000100100011001101000000001000  000100000010001100000000000011010110   \n",
       "4  000100010001011100000011000000100000  000011100000100010000100100000010100   \n",
       "6  010001000000100000011100000000010000  000110000000010000100011000000000000   \n",
       "8  000010000000001000000000000011010010  100100000000000000000010100100100000   \n",
       "\n",
       "                 Black Position (final)                White Position (final)  \\\n",
       "0  100000000001011000000111010000000000  000000000010000100001000100000110000   \n",
       "2  000010000000100000001100000000000000  000000000000000000000000000001101000   \n",
       "4  000000000000011000000011000000100000  000011100000100010000000100000010100   \n",
       "6  000000000010100000001000000001100000  000110000000010000000011000000000000   \n",
       "8  000000000000100000000111000000000000  100100000000010000000000000100100100   \n",
       "\n",
       "   Num Black Pieces        ...         Type I Errors (white)  Type I Errors  \\\n",
       "0                 8        ...                             1              2   \n",
       "2                 9        ...                             1              1   \n",
       "4                 9        ...                             0              0   \n",
       "6                 7        ...                             0              3   \n",
       "8                 6        ...                             2              5   \n",
       "\n",
       "   Type II Errors (black)  Type II Errors (white)  Type II Errors  \\\n",
       "0                       1                       2               3   \n",
       "2                       4                       8              12   \n",
       "4                       4                       1               5   \n",
       "6                       5                       1               6   \n",
       "8                       6                       1               7   \n",
       "\n",
       "   Type III Errors (black)  Type III Errors (white)  Type III Errors  \\\n",
       "0                        0                        0                0   \n",
       "2                        1                        0                1   \n",
       "4                        0                        0                0   \n",
       "6                        0                        0                0   \n",
       "8                        0                        1                1   \n",
       "\n",
       "   Num Pieces (final)  Numerosity Error  \n",
       "0                  14                 1  \n",
       "2                   7                11  \n",
       "4                  13                 5  \n",
       "6                  10                 3  \n",
       "8                  10                 2  \n",
       "\n",
       "[5 rows x 26 columns]"
      ]
     },
     "execution_count": 4,
     "metadata": {},
     "output_type": "execute_result"
    }
   ],
   "source": [
    "def count_final_pieces(row):\n",
    "    num_bp = np.sum([int(i) for i in row['Black Position (final)']])\n",
    "    num_wp = np.sum([int(i) for i in row['White Position (final)']])\n",
    "    return num_bp + num_wp\n",
    "\n",
    "DF['Num Pieces (final)'] = DF.apply(count_final_pieces, axis=1)\n",
    "DF['Numerosity Error'] = np.abs(DF['Num Pieces'] - DF['Num Pieces (final)'])\n",
    "DF.head()"
   ]
  },
  {
   "cell_type": "markdown",
   "metadata": {},
   "source": [
    "## Compute errors\n",
    "\n",
    "First extract positions as numpy arrays for easier manipulation\n",
    "\n",
    "### Error types\n",
    "\n",
    "\n",
    "- **Black**: differences in black boards\n",
    "- **White**: differences in white boards\n",
    "- **Type I**: \"false positive\"; putting a piece where there was not one\n",
    "- **Type II**: \"false negative\"; neglecting a piece where there should have been one\n",
    "- **Type III**: \"swap\"; switching the color on a piece"
   ]
  },
  {
   "cell_type": "markdown",
   "metadata": {},
   "source": [
    "## Questions"
   ]
  },
  {
   "cell_type": "markdown",
   "metadata": {},
   "source": [
    "### Are there errors in the board representation data?\n",
    "\n",
    "Yunqi previously had trouble with some oddities in the board construction sequences where a piece would be placed in position 0 (top left corner), but the board representation didn't change.\n",
    "\n",
    "**Answer**: \n",
    "- No sign that there are excessive errors at position 0; not sure what Yunqi did before...\n",
    "- Does *not* explain the quesitionable records. They must be utility indicators for the server/client, but I haven't found where in the code they're being produced or why they're necessary. Something to follow up on, but not a practical problem; those records can simply be dropped."
   ]
  },
  {
   "cell_type": "code",
   "execution_count": null,
   "metadata": {
    "collapsed": true
   },
   "outputs": [],
   "source": [
    "black_errors_by_location = black_errors.sum(axis=1)\n",
    "white_errors_by_location = white_errors.sum(axis=1)"
   ]
  },
  {
   "cell_type": "code",
   "execution_count": null,
   "metadata": {},
   "outputs": [],
   "source": [
    "fig, axes = plt.subplots(1, 2, figsize=(15, 5), squeeze=False, sharex=True, sharey=True)\n",
    "\n",
    "ax = axes[0, 0]\n",
    "ax.bar(np.arange(36), black_errors_by_location)\n",
    "plt.setp(ax, ylabel='Error Count', xlabel='Board Location (Black)')\n",
    "\n",
    "ax = axes[0, 1]\n",
    "ax.bar(np.arange(36), white_errors_by_location)\n",
    "plt.setp(ax, xlabel='Board Location (White)')\n",
    "\n",
    "sns.despine()"
   ]
  },
  {
   "cell_type": "markdown",
   "metadata": {},
   "source": [
    "Just another very quick confirmation - there are *never* conflicts between pieces of different color in the final representation."
   ]
  },
  {
   "cell_type": "code",
   "execution_count": 3,
   "metadata": {},
   "outputs": [
    {
     "ename": "NameError",
     "evalue": "name 'bpf' is not defined",
     "output_type": "error",
     "traceback": [
      "\u001b[0;31m---------------------------------------------------------------------------\u001b[0m",
      "\u001b[0;31mNameError\u001b[0m                                 Traceback (most recent call last)",
      "\u001b[0;32m<ipython-input-3-1410272a812f>\u001b[0m in \u001b[0;36m<module>\u001b[0;34m()\u001b[0m\n\u001b[0;32m----> 1\u001b[0;31m \u001b[0;34m(\u001b[0m\u001b[0;34m(\u001b[0m\u001b[0mbpf\u001b[0m \u001b[0;34m==\u001b[0m \u001b[0;36m1\u001b[0m\u001b[0;34m)\u001b[0m \u001b[0;34m&\u001b[0m \u001b[0;34m(\u001b[0m\u001b[0mwpf\u001b[0m \u001b[0;34m==\u001b[0m \u001b[0;36m1\u001b[0m\u001b[0;34m)\u001b[0m\u001b[0;34m)\u001b[0m\u001b[0;34m.\u001b[0m\u001b[0mastype\u001b[0m\u001b[0;34m(\u001b[0m\u001b[0mint\u001b[0m\u001b[0;34m)\u001b[0m\u001b[0;34m.\u001b[0m\u001b[0msum\u001b[0m\u001b[0;34m(\u001b[0m\u001b[0;34m)\u001b[0m\u001b[0;34m\u001b[0m\u001b[0m\n\u001b[0m",
      "\u001b[0;31mNameError\u001b[0m: name 'bpf' is not defined"
     ]
    }
   ],
   "source": [
    "((bpf == 1) & (wpf == 1)).astype(int).sum()"
   ]
  },
  {
   "cell_type": "markdown",
   "metadata": {},
   "source": [
    "### Are there differences in error rates between experts and non experts?\n",
    "\n",
    "Answer: looks like yes to me, but has a complicated and significant relationship with the number of pieces. What's the correct analysis? Is this an ANOVA sort of thing for frequentists?\n",
    "\n",
    "TODO: ELO rating effect for trained subjects?"
   ]
  },
  {
   "cell_type": "code",
   "execution_count": 4,
   "metadata": {},
   "outputs": [
    {
     "ename": "NameError",
     "evalue": "name 'DF' is not defined",
     "output_type": "error",
     "traceback": [
      "\u001b[0;31m---------------------------------------------------------------------------\u001b[0m",
      "\u001b[0;31mNameError\u001b[0m                                 Traceback (most recent call last)",
      "\u001b[0;32m<ipython-input-4-d96a5d87fb55>\u001b[0m in \u001b[0;36m<module>\u001b[0;34m()\u001b[0m\n\u001b[0;32m----> 1\u001b[0;31m \u001b[0mpiv\u001b[0m \u001b[0;34m=\u001b[0m \u001b[0mDF\u001b[0m\u001b[0;34m.\u001b[0m\u001b[0mpivot_table\u001b[0m\u001b[0;34m(\u001b[0m\u001b[0mindex\u001b[0m\u001b[0;34m=\u001b[0m\u001b[0;34m'Num Pieces'\u001b[0m\u001b[0;34m,\u001b[0m \u001b[0mvalues\u001b[0m\u001b[0;34m=\u001b[0m\u001b[0;34m'Total Errors'\u001b[0m\u001b[0;34m,\u001b[0m \u001b[0mcolumns\u001b[0m\u001b[0;34m=\u001b[0m\u001b[0;34m'Condition'\u001b[0m\u001b[0;34m,\u001b[0m \u001b[0mmargins\u001b[0m\u001b[0;34m=\u001b[0m\u001b[0;32mTrue\u001b[0m\u001b[0;34m,\u001b[0m \u001b[0maggfunc\u001b[0m\u001b[0;34m=\u001b[0m\u001b[0mnp\u001b[0m\u001b[0;34m.\u001b[0m\u001b[0mmean\u001b[0m\u001b[0;34m)\u001b[0m\u001b[0;34m\u001b[0m\u001b[0m\n\u001b[0m\u001b[1;32m      2\u001b[0m \u001b[0mpiv\u001b[0m \u001b[0;31m# just showing off pandas here\u001b[0m\u001b[0;34m\u001b[0m\u001b[0m\n",
      "\u001b[0;31mNameError\u001b[0m: name 'DF' is not defined"
     ]
    }
   ],
   "source": [
    "piv = DF.pivot_table(index='Num Pieces', values='Total Errors', columns='Condition', margins=True, aggfunc=np.mean)\n",
    "piv # just showing off pandas here"
   ]
  },
  {
   "cell_type": "code",
   "execution_count": 5,
   "metadata": {},
   "outputs": [
    {
     "ename": "NameError",
     "evalue": "name 'DF' is not defined",
     "output_type": "error",
     "traceback": [
      "\u001b[0;31m---------------------------------------------------------------------------\u001b[0m",
      "\u001b[0;31mNameError\u001b[0m                                 Traceback (most recent call last)",
      "\u001b[0;32m<ipython-input-5-10ae2bddcb99>\u001b[0m in \u001b[0;36m<module>\u001b[0;34m()\u001b[0m\n\u001b[1;32m      1\u001b[0m \u001b[0mfig\u001b[0m\u001b[0;34m,\u001b[0m \u001b[0maxes\u001b[0m \u001b[0;34m=\u001b[0m \u001b[0mplt\u001b[0m\u001b[0;34m.\u001b[0m\u001b[0msubplots\u001b[0m\u001b[0;34m(\u001b[0m\u001b[0;36m2\u001b[0m\u001b[0;34m,\u001b[0m \u001b[0;36m2\u001b[0m\u001b[0;34m,\u001b[0m \u001b[0mfigsize\u001b[0m\u001b[0;34m=\u001b[0m\u001b[0;34m(\u001b[0m\u001b[0;36m15\u001b[0m\u001b[0;34m,\u001b[0m \u001b[0;36m10\u001b[0m\u001b[0;34m)\u001b[0m\u001b[0;34m,\u001b[0m \u001b[0msqueeze\u001b[0m\u001b[0;34m=\u001b[0m\u001b[0;32mFalse\u001b[0m\u001b[0;34m)\u001b[0m\u001b[0;34m\u001b[0m\u001b[0m\n\u001b[1;32m      2\u001b[0m \u001b[0;34m\u001b[0m\u001b[0m\n\u001b[0;32m----> 3\u001b[0;31m \u001b[0mtr\u001b[0m \u001b[0;34m=\u001b[0m \u001b[0mDF\u001b[0m\u001b[0;34m.\u001b[0m\u001b[0mloc\u001b[0m\u001b[0;34m[\u001b[0m\u001b[0mDF\u001b[0m\u001b[0;34m[\u001b[0m\u001b[0;34m'Condition'\u001b[0m\u001b[0;34m]\u001b[0m \u001b[0;34m==\u001b[0m \u001b[0;34m'Trained'\u001b[0m\u001b[0;34m]\u001b[0m\u001b[0;34m\u001b[0m\u001b[0m\n\u001b[0m\u001b[1;32m      4\u001b[0m \u001b[0mna\u001b[0m \u001b[0;34m=\u001b[0m \u001b[0mDF\u001b[0m\u001b[0;34m.\u001b[0m\u001b[0mloc\u001b[0m\u001b[0;34m[\u001b[0m\u001b[0mDF\u001b[0m\u001b[0;34m[\u001b[0m\u001b[0;34m'Condition'\u001b[0m\u001b[0;34m]\u001b[0m \u001b[0;34m==\u001b[0m \u001b[0;34m'Naive'\u001b[0m\u001b[0;34m]\u001b[0m\u001b[0;34m\u001b[0m\u001b[0m\n\u001b[1;32m      5\u001b[0m \u001b[0;34m\u001b[0m\u001b[0m\n",
      "\u001b[0;31mNameError\u001b[0m: name 'DF' is not defined"
     ]
    },
    {
     "data": {
      "image/png": "[encoded data removed]",
      "text/plain": [
       "<matplotlib.figure.Figure at 0x1c08a82240>"
      ]
     },
     "metadata": {},
     "output_type": "display_data"
    }
   ],
   "source": [
    "fig, axes = plt.subplots(2, 2, figsize=(15, 10), squeeze=False)\n",
    "\n",
    "tr = DF.loc[DF['Condition'] == 'Trained']\n",
    "na = DF.loc[DF['Condition'] == 'Naive']\n",
    "\n",
    "ax = axes[0, 0]\n",
    "sns.barplot(x='Condition', y='Total Errors', data=DF, ax=ax)\n",
    "plt.setp(ax, ylabel='Mean # Errors')\n",
    "ttest = sts.ttest_ind(tr['Total Errors'], na['Total Errors'])\n",
    "print('Condition independent t-test:\\n', ttest, '\\n\\n')\n",
    "\n",
    "ax = axes[0, 1]\n",
    "sns.barplot(x='Num Pieces', y='Total Errors', hue='Condition', data=DF, ax=ax, ci=None)\n",
    "plt.setp(ax, xlabel='Target # Pieces', ylabel='Mean # Errors')\n",
    "\n",
    "ax = axes[1, 1]\n",
    "\n",
    "ax.scatter(tr['Num Pieces'], tr['Total Errors'], alpha=.5)\n",
    "ax.scatter(na['Num Pieces'], na['Total Errors'], alpha=.5)\n",
    "lr = sts.linregress(DF['Num Pieces'], DF['Total Errors'])\n",
    "lr_tr = sts.linregress(tr['Num Pieces'], tr['Total Errors'])\n",
    "lr_na = sts.linregress(na['Num Pieces'], na['Total Errors'])\n",
    "print('# Pieces vs Total Errors correlation\\n\\nAll:', lr, '\\n\\nTrained', lr_tr, '\\n\\nNaive', lr_na)\n",
    "\n",
    "x = np.arange(10, 20)\n",
    "ax.plot(x, x * lr_tr.slope + lr_tr.intercept, linewidth=3)\n",
    "ax.plot(x, x * lr_na.slope + lr_na.intercept, linewidth=3)\n",
    "ax.plot(x, x * lr.slope + lr.intercept, color='black', linewidth=4)\n",
    "plt.setp(ax, ylabel='Total # Errors', xlabel='Target # Pieces')\n",
    "\n",
    "axes[1, 0].set_visible(False)\n",
    "\n",
    "sns.despine()"
   ]
  },
  {
   "cell_type": "markdown",
   "metadata": {},
   "source": [
    "### Are there different patterns for forgetting pieces, adding extras, and switching colors?\n",
    "\n",
    "**Answer**: Yes, looks like it.\n",
    "\n",
    "- More experienced players *may* be *slightly* more likely to add a piece where none previously existed\n",
    "- More experienced players are substantially less likely to forget a piece\n",
    "- More experienced players are somewhat less likely to get the color of a piece wrong"
   ]
  },
  {
   "cell_type": "code",
   "execution_count": 10,
   "metadata": {},
   "outputs": [
    {
     "name": "stdout",
     "output_type": "stream",
     "text": [
      "Type I Ttest:\n",
      " Ttest_indResult(statistic=2.0829104407523378, pvalue=0.037328912594820775) \n",
      "\n",
      "Type II Ttest:\n",
      " Ttest_indResult(statistic=-5.1225228229880369, pvalue=3.170965772659798e-07) \n",
      "\n",
      "Type III Ttest:\n",
      " Ttest_indResult(statistic=-3.8508961941492612, pvalue=0.00011970699502190505) \n",
      "\n"
     ]
    },
    {
     "data": {
      "image/png": "[encoded data removed]",
      "text/plain": [
       "<matplotlib.figure.Figure at 0x10c562828>"
      ]
     },
     "metadata": {},
     "output_type": "display_data"
    }
   ],
   "source": [
    "fig, axes = plt.subplots(1, 3, figsize=(21, 5), squeeze=False, sharey=True)\n",
    "\n",
    "ax = axes[0, 0]\n",
    "sns.barplot(x='Condition', y='Type I Errors', data=DF, ax=ax)\n",
    "ttest = sts.ttest_ind(tr['Type I Errors'], na['Type I Errors'])\n",
    "print('Type I Ttest:\\n', ttest, '\\n')\n",
    "\n",
    "ax = axes[0, 1]\n",
    "sns.barplot(x='Condition', y='Type II Errors', data=DF, ax=ax)\n",
    "ttest = sts.ttest_ind(tr['Type II Errors'], na['Type II Errors'])\n",
    "print('Type II Ttest:\\n', ttest, '\\n')\n",
    "\n",
    "ax = axes[0, 2]\n",
    "sns.barplot(x='Condition', y='Type III Errors', data=DF, ax=ax)\n",
    "ttest = sts.ttest_ind(tr['Type III Errors'], na['Type III Errors'])\n",
    "print('Type III Ttest:\\n', ttest, '\\n')\n",
    "\n",
    "\n",
    "sns.despine()"
   ]
  },
  {
   "cell_type": "markdown",
   "metadata": {},
   "source": [
    "### How does error likelihood depend on location?\n",
    "\n",
    "Bonferonni correction!!\n",
    "\n",
    "The below could use some further clarity - looks like it has to do with distribution of stimuli as much as anything else. For example, could divide by number of times a piece is located at that position."
   ]
  },
  {
   "cell_type": "code",
   "execution_count": 11,
   "metadata": {
    "scrolled": false
   },
   "outputs": [
    {
     "data": {
      "image/png": "[encoded data removed]",
      "text/plain": [
       "<matplotlib.figure.Figure at 0x1139a35f8>"
      ]
     },
     "metadata": {},
     "output_type": "display_data"
    }
   ],
   "source": [
    "fig, axes = plt.subplots(3, 3, figsize=(21, 12), squeeze=False)\n",
    "heatmap_kws = {'cbar': False, 'square': True}\n",
    "heatmap = lambda data, ax: sns.heatmap(data.reshape([4, 9]), ax=ax, **heatmap_kws)\n",
    "\n",
    "heatmap(black_errors_by_location, axes[0, 0])\n",
    "heatmap(bpi.sum(axis=1), axes[1, 0])\n",
    "heatmap(black_errors_by_location / bpi.sum(axis=1), axes[2, 0])\n",
    "heatmap(white_errors_by_location, axes[0, 1])\n",
    "heatmap(wpi.sum(axis=1), axes[1, 1])\n",
    "heatmap(white_errors_by_location / wpi.sum(axis=1), axes[2, 1])\n",
    "heatmap(black_errors_by_location + white_errors_by_location, axes[0, 2])\n",
    "heatmap((bpi + wpi).sum(axis=1), axes[1, 2])\n",
    "heatmap((black_errors_by_location + white_errors_by_location) / (bpi + wpi).sum(axis=1), axes[2, 2])\n",
    "\n",
    "plt.setp(axes, yticklabels=[], xticklabels=[])\n",
    "plt.setp(axes[0, 0], ylabel='# Errors', xlabel='Black')\n",
    "plt.setp(axes[0, 1], xlabel='White')\n",
    "plt.setp(axes[0, 2], xlabel='All')\n",
    "plt.setp(axes[1, 0], ylabel='# Occurrences')\n",
    "plt.setp(axes[2, 0], ylabel='# Errors / # Occurrences')\n",
    "\n",
    "sns.despine(left=True, bottom=True)"
   ]
  },
  {
   "cell_type": "markdown",
   "metadata": {},
   "source": [
    "### Is there an effect from real vs fake positions? Is there an interaction between position type and condition?\n",
    "\n",
    "**Answer**: Yes effect; no interaction. It looks like the fake positions were substantially harder for *both* groups. This signals a substantial difference in basic statistics with the real and fake positions. (I think this is probably a manipulation failure)."
   ]
  },
  {
   "cell_type": "code",
   "execution_count": 12,
   "metadata": {},
   "outputs": [
    {
     "data": {
      "text/html": [
       "<div>\n",
       "<style>\n",
       "    .dataframe thead tr:only-child th {\n",
       "        text-align: right;\n",
       "    }\n",
       "\n",
       "    .dataframe thead th {\n",
       "        text-align: left;\n",
       "    }\n",
       "\n",
       "    .dataframe tbody tr th {\n",
       "        vertical-align: top;\n",
       "    }\n",
       "</style>\n",
       "<table border=\"1\" class=\"dataframe\">\n",
       "  <thead>\n",
       "    <tr style=\"text-align: right;\">\n",
       "      <th>Condition</th>\n",
       "      <th>Naive</th>\n",
       "      <th>Trained</th>\n",
       "    </tr>\n",
       "    <tr>\n",
       "      <th>Is Real</th>\n",
       "      <th></th>\n",
       "      <th></th>\n",
       "    </tr>\n",
       "  </thead>\n",
       "  <tbody>\n",
       "    <tr>\n",
       "      <th>False</th>\n",
       "      <td>7.449561</td>\n",
       "      <td>6.910088</td>\n",
       "    </tr>\n",
       "    <tr>\n",
       "      <th>True</th>\n",
       "      <td>5.336623</td>\n",
       "      <td>4.805921</td>\n",
       "    </tr>\n",
       "  </tbody>\n",
       "</table>\n",
       "</div>"
      ],
      "text/plain": [
       "Condition     Naive   Trained\n",
       "Is Real                      \n",
       "False      7.449561  6.910088\n",
       "True       5.336623  4.805921"
      ]
     },
     "execution_count": 12,
     "metadata": {},
     "output_type": "execute_result"
    }
   ],
   "source": [
    "DF.pivot_table(index='Is Real', columns='Condition', values='Total Errors')"
   ]
  },
  {
   "cell_type": "code",
   "execution_count": 13,
   "metadata": {},
   "outputs": [
    {
     "data": {
      "text/plain": [
       "Index(['Subject ID', 'Condition', 'Game Index', 'Position ID', 'Is Real',\n",
       "       'Black Position', 'White Position', 'Black Position (final)',\n",
       "       'White Position (final)', 'Num Black Pieces', 'Num White Pieces',\n",
       "       'Num Pieces', 'Total Black Errors', 'Total White Errors',\n",
       "       'Total Errors', 'Type I Errors (black)', 'Type I Errors (white)',\n",
       "       'Type I Errors', 'Type II Errors (black)', 'Type II Errors (white)',\n",
       "       'Type II Errors', 'Type III Errors (black)', 'Type III Errors (white)',\n",
       "       'Type III Errors', 'Num Pieces (final)', 'Numerosity Error'],\n",
       "      dtype='object')"
      ]
     },
     "execution_count": 13,
     "metadata": {},
     "output_type": "execute_result"
    }
   ],
   "source": [
    "DF.columns"
   ]
  },
  {
   "cell_type": "code",
   "execution_count": 18,
   "metadata": {},
   "outputs": [
    {
     "name": "stderr",
     "output_type": "stream",
     "text": [
      "/Users/gianni/anaconda/lib/python3.5/site-packages/scipy/stats/_distn_infrastructure.py:879: RuntimeWarning: invalid value encountered in greater\n",
      "  return (self.a < x) & (x < self.b)\n",
      "/Users/gianni/anaconda/lib/python3.5/site-packages/scipy/stats/_distn_infrastructure.py:879: RuntimeWarning: invalid value encountered in less\n",
      "  return (self.a < x) & (x < self.b)\n",
      "/Users/gianni/anaconda/lib/python3.5/site-packages/scipy/stats/_distn_infrastructure.py:1818: RuntimeWarning: invalid value encountered in less_equal\n",
      "  cond2 = cond0 & (x <= self.a)\n"
     ]
    },
    {
     "data": {
      "text/html": [
       "<div>\n",
       "<style>\n",
       "    .dataframe thead tr:only-child th {\n",
       "        text-align: right;\n",
       "    }\n",
       "\n",
       "    .dataframe thead th {\n",
       "        text-align: left;\n",
       "    }\n",
       "\n",
       "    .dataframe tbody tr th {\n",
       "        vertical-align: top;\n",
       "    }\n",
       "</style>\n",
       "<table border=\"1\" class=\"dataframe\">\n",
       "  <thead>\n",
       "    <tr style=\"text-align: right;\">\n",
       "      <th></th>\n",
       "      <th>df</th>\n",
       "      <th>sum_sq</th>\n",
       "      <th>mean_sq</th>\n",
       "      <th>F</th>\n",
       "      <th>PR(&gt;F)</th>\n",
       "    </tr>\n",
       "  </thead>\n",
       "  <tbody>\n",
       "    <tr>\n",
       "      <th>C(f1)</th>\n",
       "      <td>1.0</td>\n",
       "      <td>261.122807</td>\n",
       "      <td>261.122807</td>\n",
       "      <td>16.510869</td>\n",
       "      <td>4.939166e-05</td>\n",
       "    </tr>\n",
       "    <tr>\n",
       "      <th>C(f2)</th>\n",
       "      <td>1.0</td>\n",
       "      <td>4054.746711</td>\n",
       "      <td>4054.746711</td>\n",
       "      <td>256.382789</td>\n",
       "      <td>8.108954e-56</td>\n",
       "    </tr>\n",
       "    <tr>\n",
       "      <th>C(f1):C(f2)</th>\n",
       "      <td>1.0</td>\n",
       "      <td>0.017544</td>\n",
       "      <td>0.017544</td>\n",
       "      <td>0.001109</td>\n",
       "      <td>9.734322e-01</td>\n",
       "    </tr>\n",
       "    <tr>\n",
       "      <th>Residual</th>\n",
       "      <td>3644.0</td>\n",
       "      <td>57630.611842</td>\n",
       "      <td>15.815206</td>\n",
       "      <td>NaN</td>\n",
       "      <td>NaN</td>\n",
       "    </tr>\n",
       "  </tbody>\n",
       "</table>\n",
       "</div>"
      ],
      "text/plain": [
       "                 df        sum_sq      mean_sq           F        PR(>F)\n",
       "C(f1)           1.0    261.122807   261.122807   16.510869  4.939166e-05\n",
       "C(f2)           1.0   4054.746711  4054.746711  256.382789  8.108954e-56\n",
       "C(f1):C(f2)     1.0      0.017544     0.017544    0.001109  9.734322e-01\n",
       "Residual     3644.0  57630.611842    15.815206         NaN           NaN"
      ]
     },
     "execution_count": 18,
     "metadata": {},
     "output_type": "execute_result"
    }
   ],
   "source": [
    "smDF = pd.DataFrame(index=DF.index, columns=['target', 'f1', 'f2'])\n",
    "\n",
    "smDF['target'] = DF['Total Errors']\n",
    "smDF['f2'] = DF['Is Real']\n",
    "smDF['f1'] = DF['Condition']\n",
    "\n",
    "formula = 'target ~ C(f1) + C(f2) + C(f1):C(f2)'\n",
    "model = ols(formula, smDF).fit()\n",
    "\n",
    "anova_table = statsmodels.stats.anova.anova_lm(model, typ=1)\n",
    "anova_table"
   ]
  },
  {
   "cell_type": "code",
   "execution_count": 19,
   "metadata": {},
   "outputs": [
    {
     "data": {
      "text/html": [
       "<table class=\"simpletable\">\n",
       "<caption>OLS Regression Results</caption>\n",
       "<tr>\n",
       "  <th>Dep. Variable:</th>         <td>target</td>      <th>  R-squared:         </th> <td>   0.070</td> \n",
       "</tr>\n",
       "<tr>\n",
       "  <th>Model:</th>                   <td>OLS</td>       <th>  Adj. R-squared:    </th> <td>   0.069</td> \n",
       "</tr>\n",
       "<tr>\n",
       "  <th>Method:</th>             <td>Least Squares</td>  <th>  F-statistic:       </th> <td>   90.96</td> \n",
       "</tr>\n",
       "<tr>\n",
       "  <th>Date:</th>             <td>Tue, 06 Feb 2018</td> <th>  Prob (F-statistic):</th> <td>9.15e-57</td> \n",
       "</tr>\n",
       "<tr>\n",
       "  <th>Time:</th>                 <td>22:47:25</td>     <th>  Log-Likelihood:    </th> <td> -10210.</td> \n",
       "</tr>\n",
       "<tr>\n",
       "  <th>No. Observations:</th>      <td>  3648</td>      <th>  AIC:               </th> <td>2.043e+04</td>\n",
       "</tr>\n",
       "<tr>\n",
       "  <th>Df Residuals:</th>          <td>  3644</td>      <th>  BIC:               </th> <td>2.045e+04</td>\n",
       "</tr>\n",
       "<tr>\n",
       "  <th>Df Model:</th>              <td>     3</td>      <th>                     </th>     <td> </td>    \n",
       "</tr>\n",
       "<tr>\n",
       "  <th>Covariance Type:</th>      <td>nonrobust</td>    <th>                     </th>     <td> </td>    \n",
       "</tr>\n",
       "</table>\n",
       "<table class=\"simpletable\">\n",
       "<tr>\n",
       "                 <td></td>                   <th>coef</th>     <th>std err</th>      <th>t</th>      <th>P>|t|</th>  <th>[0.025</th>    <th>0.975]</th>  \n",
       "</tr>\n",
       "<tr>\n",
       "  <th>Intercept</th>                      <td>    7.4496</td> <td>    0.132</td> <td>   56.571</td> <td> 0.000</td> <td>    7.191</td> <td>    7.708</td>\n",
       "</tr>\n",
       "<tr>\n",
       "  <th>C(f1)[T.Trained]</th>               <td>   -0.5395</td> <td>    0.186</td> <td>   -2.897</td> <td> 0.004</td> <td>   -0.905</td> <td>   -0.174</td>\n",
       "</tr>\n",
       "<tr>\n",
       "  <th>C(f2)[T.True]</th>                  <td>   -2.1129</td> <td>    0.186</td> <td>  -11.346</td> <td> 0.000</td> <td>   -2.478</td> <td>   -1.748</td>\n",
       "</tr>\n",
       "<tr>\n",
       "  <th>C(f1)[T.Trained]:C(f2)[T.True]</th> <td>    0.0088</td> <td>    0.263</td> <td>    0.033</td> <td> 0.973</td> <td>   -0.508</td> <td>    0.525</td>\n",
       "</tr>\n",
       "</table>\n",
       "<table class=\"simpletable\">\n",
       "<tr>\n",
       "  <th>Omnibus:</th>       <td>131.596</td> <th>  Durbin-Watson:     </th> <td>   1.592</td>\n",
       "</tr>\n",
       "<tr>\n",
       "  <th>Prob(Omnibus):</th> <td> 0.000</td>  <th>  Jarque-Bera (JB):  </th> <td> 145.648</td>\n",
       "</tr>\n",
       "<tr>\n",
       "  <th>Skew:</th>          <td> 0.489</td>  <th>  Prob(JB):          </th> <td>2.36e-32</td>\n",
       "</tr>\n",
       "<tr>\n",
       "  <th>Kurtosis:</th>      <td> 3.024</td>  <th>  Cond. No.          </th> <td>    6.85</td>\n",
       "</tr>\n",
       "</table>"
      ],
      "text/plain": [
       "<class 'statsmodels.iolib.summary.Summary'>\n",
       "\"\"\"\n",
       "                            OLS Regression Results                            \n",
       "==============================================================================\n",
       "Dep. Variable:                 target   R-squared:                       0.070\n",
       "Model:                            OLS   Adj. R-squared:                  0.069\n",
       "Method:                 Least Squares   F-statistic:                     90.96\n",
       "Date:                Tue, 06 Feb 2018   Prob (F-statistic):           9.15e-57\n",
       "Time:                        22:47:25   Log-Likelihood:                -10210.\n",
       "No. Observations:                3648   AIC:                         2.043e+04\n",
       "Df Residuals:                    3644   BIC:                         2.045e+04\n",
       "Df Model:                           3                                         \n",
       "Covariance Type:            nonrobust                                         \n",
       "==================================================================================================\n",
       "                                     coef    std err          t      P>|t|      [0.025      0.975]\n",
       "--------------------------------------------------------------------------------------------------\n",
       "Intercept                          7.4496      0.132     56.571      0.000       7.191       7.708\n",
       "C(f1)[T.Trained]                  -0.5395      0.186     -2.897      0.004      -0.905      -0.174\n",
       "C(f2)[T.True]                     -2.1129      0.186    -11.346      0.000      -2.478      -1.748\n",
       "C(f1)[T.Trained]:C(f2)[T.True]     0.0088      0.263      0.033      0.973      -0.508       0.525\n",
       "==============================================================================\n",
       "Omnibus:                      131.596   Durbin-Watson:                   1.592\n",
       "Prob(Omnibus):                  0.000   Jarque-Bera (JB):              145.648\n",
       "Skew:                           0.489   Prob(JB):                     2.36e-32\n",
       "Kurtosis:                       3.024   Cond. No.                         6.85\n",
       "==============================================================================\n",
       "\n",
       "Warnings:\n",
       "[1] Standard Errors assume that the covariance matrix of the errors is correctly specified.\n",
       "\"\"\""
      ]
     },
     "execution_count": 19,
     "metadata": {},
     "output_type": "execute_result"
    }
   ],
   "source": [
    "model.summary()"
   ]
  },
  {
   "cell_type": "code",
   "execution_count": 20,
   "metadata": {},
   "outputs": [
    {
     "name": "stderr",
     "output_type": "stream",
     "text": [
      "/Users/gianni/anaconda/lib/python3.5/site-packages/scipy/stats/_distn_infrastructure.py:879: RuntimeWarning: invalid value encountered in greater\n",
      "  return (self.a < x) & (x < self.b)\n",
      "/Users/gianni/anaconda/lib/python3.5/site-packages/scipy/stats/_distn_infrastructure.py:879: RuntimeWarning: invalid value encountered in less\n",
      "  return (self.a < x) & (x < self.b)\n",
      "/Users/gianni/anaconda/lib/python3.5/site-packages/scipy/stats/_distn_infrastructure.py:1818: RuntimeWarning: invalid value encountered in less_equal\n",
      "  cond2 = cond0 & (x <= self.a)\n"
     ]
    },
    {
     "data": {
      "text/html": [
       "<div>\n",
       "<style>\n",
       "    .dataframe thead tr:only-child th {\n",
       "        text-align: right;\n",
       "    }\n",
       "\n",
       "    .dataframe thead th {\n",
       "        text-align: left;\n",
       "    }\n",
       "\n",
       "    .dataframe tbody tr th {\n",
       "        vertical-align: top;\n",
       "    }\n",
       "</style>\n",
       "<table border=\"1\" class=\"dataframe\">\n",
       "  <thead>\n",
       "    <tr style=\"text-align: right;\">\n",
       "      <th></th>\n",
       "      <th>df</th>\n",
       "      <th>sum_sq</th>\n",
       "      <th>mean_sq</th>\n",
       "      <th>F</th>\n",
       "      <th>PR(&gt;F)</th>\n",
       "    </tr>\n",
       "  </thead>\n",
       "  <tbody>\n",
       "    <tr>\n",
       "      <th>C(f1)</th>\n",
       "      <td>1.0</td>\n",
       "      <td>156.256853</td>\n",
       "      <td>156.256853</td>\n",
       "      <td>30.874751</td>\n",
       "      <td>2.949485e-08</td>\n",
       "    </tr>\n",
       "    <tr>\n",
       "      <th>C(f2)</th>\n",
       "      <td>1.0</td>\n",
       "      <td>301.645011</td>\n",
       "      <td>301.645011</td>\n",
       "      <td>59.601959</td>\n",
       "      <td>1.489725e-14</td>\n",
       "    </tr>\n",
       "    <tr>\n",
       "      <th>C(f1):C(f2)</th>\n",
       "      <td>1.0</td>\n",
       "      <td>12.908169</td>\n",
       "      <td>12.908169</td>\n",
       "      <td>2.550522</td>\n",
       "      <td>1.103445e-01</td>\n",
       "    </tr>\n",
       "    <tr>\n",
       "      <th>Residual</th>\n",
       "      <td>3644.0</td>\n",
       "      <td>18442.253289</td>\n",
       "      <td>5.060992</td>\n",
       "      <td>NaN</td>\n",
       "      <td>NaN</td>\n",
       "    </tr>\n",
       "  </tbody>\n",
       "</table>\n",
       "</div>"
      ],
      "text/plain": [
       "                 df        sum_sq     mean_sq          F        PR(>F)\n",
       "C(f1)           1.0    156.256853  156.256853  30.874751  2.949485e-08\n",
       "C(f2)           1.0    301.645011  301.645011  59.601959  1.489725e-14\n",
       "C(f1):C(f2)     1.0     12.908169   12.908169   2.550522  1.103445e-01\n",
       "Residual     3644.0  18442.253289    5.060992        NaN           NaN"
      ]
     },
     "execution_count": 20,
     "metadata": {},
     "output_type": "execute_result"
    }
   ],
   "source": [
    "smDF = pd.DataFrame(index=DF.index, columns=['target', 'f1', 'f2'])\n",
    "\n",
    "smDF['target'] = DF['Numerosity Error']\n",
    "smDF['f2'] = DF['Is Real']\n",
    "smDF['f1'] = DF['Condition']\n",
    "\n",
    "formula = 'target ~ C(f1) + C(f2) + C(f1):C(f2)'\n",
    "model = ols(formula, smDF).fit()\n",
    "\n",
    "anova_table = statsmodels.stats.anova.anova_lm(model, typ=1)\n",
    "anova_table"
   ]
  },
  {
   "cell_type": "code",
   "execution_count": 21,
   "metadata": {},
   "outputs": [
    {
     "name": "stderr",
     "output_type": "stream",
     "text": [
      "/Users/gianni/anaconda/lib/python3.5/site-packages/scipy/stats/_distn_infrastructure.py:879: RuntimeWarning: invalid value encountered in greater\n",
      "  return (self.a < x) & (x < self.b)\n",
      "/Users/gianni/anaconda/lib/python3.5/site-packages/scipy/stats/_distn_infrastructure.py:879: RuntimeWarning: invalid value encountered in less\n",
      "  return (self.a < x) & (x < self.b)\n",
      "/Users/gianni/anaconda/lib/python3.5/site-packages/scipy/stats/_distn_infrastructure.py:1818: RuntimeWarning: invalid value encountered in less_equal\n",
      "  cond2 = cond0 & (x <= self.a)\n"
     ]
    },
    {
     "data": {
      "text/html": [
       "<div>\n",
       "<style>\n",
       "    .dataframe thead tr:only-child th {\n",
       "        text-align: right;\n",
       "    }\n",
       "\n",
       "    .dataframe thead th {\n",
       "        text-align: left;\n",
       "    }\n",
       "\n",
       "    .dataframe tbody tr th {\n",
       "        vertical-align: top;\n",
       "    }\n",
       "</style>\n",
       "<table border=\"1\" class=\"dataframe\">\n",
       "  <thead>\n",
       "    <tr style=\"text-align: right;\">\n",
       "      <th></th>\n",
       "      <th>df</th>\n",
       "      <th>sum_sq</th>\n",
       "      <th>mean_sq</th>\n",
       "      <th>F</th>\n",
       "      <th>PR(&gt;F)</th>\n",
       "    </tr>\n",
       "  </thead>\n",
       "  <tbody>\n",
       "    <tr>\n",
       "      <th>C(f1)</th>\n",
       "      <td>1.0</td>\n",
       "      <td>261.122807</td>\n",
       "      <td>261.122807</td>\n",
       "      <td>21.166532</td>\n",
       "      <td>4.354946e-06</td>\n",
       "    </tr>\n",
       "    <tr>\n",
       "      <th>C(f2)</th>\n",
       "      <td>1.0</td>\n",
       "      <td>4054.746711</td>\n",
       "      <td>4054.746711</td>\n",
       "      <td>328.676489</td>\n",
       "      <td>2.236130e-70</td>\n",
       "    </tr>\n",
       "    <tr>\n",
       "      <th>C(f3)</th>\n",
       "      <td>7.0</td>\n",
       "      <td>12334.104167</td>\n",
       "      <td>1762.014881</td>\n",
       "      <td>142.828370</td>\n",
       "      <td>1.916405e-186</td>\n",
       "    </tr>\n",
       "    <tr>\n",
       "      <th>C(f1):C(f2)</th>\n",
       "      <td>1.0</td>\n",
       "      <td>0.017544</td>\n",
       "      <td>0.017544</td>\n",
       "      <td>0.001422</td>\n",
       "      <td>9.699204e-01</td>\n",
       "    </tr>\n",
       "    <tr>\n",
       "      <th>C(f2):C(f3)</th>\n",
       "      <td>7.0</td>\n",
       "      <td>622.358553</td>\n",
       "      <td>88.908365</td>\n",
       "      <td>7.206884</td>\n",
       "      <td>1.359510e-08</td>\n",
       "    </tr>\n",
       "    <tr>\n",
       "      <th>C(f1):C(f3)</th>\n",
       "      <td>7.0</td>\n",
       "      <td>22.236842</td>\n",
       "      <td>3.176692</td>\n",
       "      <td>0.257502</td>\n",
       "      <td>9.699207e-01</td>\n",
       "    </tr>\n",
       "    <tr>\n",
       "      <th>C(f1):C(f2):C(f3)</th>\n",
       "      <td>7.0</td>\n",
       "      <td>42.807018</td>\n",
       "      <td>6.115288</td>\n",
       "      <td>0.495703</td>\n",
       "      <td>8.383237e-01</td>\n",
       "    </tr>\n",
       "    <tr>\n",
       "      <th>Residual</th>\n",
       "      <td>3616.0</td>\n",
       "      <td>44609.105263</td>\n",
       "      <td>12.336589</td>\n",
       "      <td>NaN</td>\n",
       "      <td>NaN</td>\n",
       "    </tr>\n",
       "  </tbody>\n",
       "</table>\n",
       "</div>"
      ],
      "text/plain": [
       "                       df        sum_sq      mean_sq           F  \\\n",
       "C(f1)                 1.0    261.122807   261.122807   21.166532   \n",
       "C(f2)                 1.0   4054.746711  4054.746711  328.676489   \n",
       "C(f3)                 7.0  12334.104167  1762.014881  142.828370   \n",
       "C(f1):C(f2)           1.0      0.017544     0.017544    0.001422   \n",
       "C(f2):C(f3)           7.0    622.358553    88.908365    7.206884   \n",
       "C(f1):C(f3)           7.0     22.236842     3.176692    0.257502   \n",
       "C(f1):C(f2):C(f3)     7.0     42.807018     6.115288    0.495703   \n",
       "Residual           3616.0  44609.105263    12.336589         NaN   \n",
       "\n",
       "                          PR(>F)  \n",
       "C(f1)               4.354946e-06  \n",
       "C(f2)               2.236130e-70  \n",
       "C(f3)              1.916405e-186  \n",
       "C(f1):C(f2)         9.699204e-01  \n",
       "C(f2):C(f3)         1.359510e-08  \n",
       "C(f1):C(f3)         9.699207e-01  \n",
       "C(f1):C(f2):C(f3)   8.383237e-01  \n",
       "Residual                     NaN  "
      ]
     },
     "execution_count": 21,
     "metadata": {},
     "output_type": "execute_result"
    }
   ],
   "source": [
    "smDF = pd.DataFrame(index=DF.index, columns=['target', 'f1', 'f2'])\n",
    "\n",
    "smDF['target'] = DF['Total Errors']\n",
    "smDF['f2'] = DF['Is Real']\n",
    "smDF['f1'] = DF['Condition']\n",
    "smDF['f3'] = DF['Num Pieces']\n",
    "\n",
    "\n",
    "formula = 'target ~ C(f1) + C(f2) + C(f3) + C(f1):C(f2) + C(f2):C(f3) + C(f1):C(f3) + C(f1):C(f2):C(f3)'\n",
    "model = ols(formula, smDF).fit()\n",
    "\n",
    "anova_table = statsmodels.stats.anova.anova_lm(model, typ=1)\n",
    "anova_table"
   ]
  },
  {
   "cell_type": "code",
   "execution_count": 22,
   "metadata": {},
   "outputs": [
    {
     "data": {
      "text/html": [
       "<table class=\"simpletable\">\n",
       "<caption>OLS Regression Results</caption>\n",
       "<tr>\n",
       "  <th>Dep. Variable:</th>         <td>target</td>      <th>  R-squared:         </th> <td>   0.280</td> \n",
       "</tr>\n",
       "<tr>\n",
       "  <th>Model:</th>                   <td>OLS</td>       <th>  Adj. R-squared:    </th> <td>   0.274</td> \n",
       "</tr>\n",
       "<tr>\n",
       "  <th>Method:</th>             <td>Least Squares</td>  <th>  F-statistic:       </th> <td>   45.33</td> \n",
       "</tr>\n",
       "<tr>\n",
       "  <th>Date:</th>             <td>Tue, 06 Feb 2018</td> <th>  Prob (F-statistic):</th> <td>8.18e-231</td>\n",
       "</tr>\n",
       "<tr>\n",
       "  <th>Time:</th>                 <td>22:48:21</td>     <th>  Log-Likelihood:    </th> <td> -9743.1</td> \n",
       "</tr>\n",
       "<tr>\n",
       "  <th>No. Observations:</th>      <td>  3648</td>      <th>  AIC:               </th> <td>1.955e+04</td>\n",
       "</tr>\n",
       "<tr>\n",
       "  <th>Df Residuals:</th>          <td>  3616</td>      <th>  BIC:               </th> <td>1.975e+04</td>\n",
       "</tr>\n",
       "<tr>\n",
       "  <th>Df Model:</th>              <td>    31</td>      <th>                     </th>     <td> </td>    \n",
       "</tr>\n",
       "<tr>\n",
       "  <th>Covariance Type:</th>      <td>nonrobust</td>    <th>                     </th>     <td> </td>    \n",
       "</tr>\n",
       "</table>\n",
       "<table class=\"simpletable\">\n",
       "<tr>\n",
       "                       <td></td>                         <th>coef</th>     <th>std err</th>      <th>t</th>      <th>P>|t|</th>  <th>[0.025</th>    <th>0.975]</th>  \n",
       "</tr>\n",
       "<tr>\n",
       "  <th>Intercept</th>                                  <td>    4.4123</td> <td>    0.329</td> <td>   13.413</td> <td> 0.000</td> <td>    3.767</td> <td>    5.057</td>\n",
       "</tr>\n",
       "<tr>\n",
       "  <th>C(f1)[T.Trained]</th>                           <td>   -0.1579</td> <td>    0.465</td> <td>   -0.339</td> <td> 0.734</td> <td>   -1.070</td> <td>    0.754</td>\n",
       "</tr>\n",
       "<tr>\n",
       "  <th>C(f2)[T.True]</th>                              <td>   -1.3860</td> <td>    0.465</td> <td>   -2.979</td> <td> 0.003</td> <td>   -2.298</td> <td>   -0.474</td>\n",
       "</tr>\n",
       "<tr>\n",
       "  <th>C(f3)[T.12]</th>                                <td>    0.4211</td> <td>    0.465</td> <td>    0.905</td> <td> 0.365</td> <td>   -0.491</td> <td>    1.333</td>\n",
       "</tr>\n",
       "<tr>\n",
       "  <th>C(f3)[T.13]</th>                                <td>    1.6930</td> <td>    0.465</td> <td>    3.639</td> <td> 0.000</td> <td>    0.781</td> <td>    2.605</td>\n",
       "</tr>\n",
       "<tr>\n",
       "  <th>C(f3)[T.14]</th>                                <td>    3.5789</td> <td>    0.465</td> <td>    7.693</td> <td> 0.000</td> <td>    2.667</td> <td>    4.491</td>\n",
       "</tr>\n",
       "<tr>\n",
       "  <th>C(f3)[T.15]</th>                                <td>    3.1579</td> <td>    0.465</td> <td>    6.788</td> <td> 0.000</td> <td>    2.246</td> <td>    4.070</td>\n",
       "</tr>\n",
       "<tr>\n",
       "  <th>C(f3)[T.16]</th>                                <td>    4.5877</td> <td>    0.465</td> <td>    9.861</td> <td> 0.000</td> <td>    3.676</td> <td>    5.500</td>\n",
       "</tr>\n",
       "<tr>\n",
       "  <th>C(f3)[T.17]</th>                                <td>    4.8421</td> <td>    0.465</td> <td>   10.408</td> <td> 0.000</td> <td>    3.930</td> <td>    5.754</td>\n",
       "</tr>\n",
       "<tr>\n",
       "  <th>C(f3)[T.18]</th>                                <td>    6.0175</td> <td>    0.465</td> <td>   12.935</td> <td> 0.000</td> <td>    5.105</td> <td>    6.930</td>\n",
       "</tr>\n",
       "<tr>\n",
       "  <th>C(f1)[T.Trained]:C(f2)[T.True]</th>             <td>   -0.4386</td> <td>    0.658</td> <td>   -0.667</td> <td> 0.505</td> <td>   -1.729</td> <td>    0.851</td>\n",
       "</tr>\n",
       "<tr>\n",
       "  <th>C(f2)[T.True]:C(f3)[T.12]</th>                  <td>   -0.0965</td> <td>    0.658</td> <td>   -0.147</td> <td> 0.883</td> <td>   -1.386</td> <td>    1.193</td>\n",
       "</tr>\n",
       "<tr>\n",
       "  <th>C(f2)[T.True]:C(f3)[T.13]</th>                  <td>   -1.2719</td> <td>    0.658</td> <td>   -1.933</td> <td> 0.053</td> <td>   -2.562</td> <td>    0.018</td>\n",
       "</tr>\n",
       "<tr>\n",
       "  <th>C(f2)[T.True]:C(f3)[T.14]</th>                  <td>   -1.6842</td> <td>    0.658</td> <td>   -2.560</td> <td> 0.011</td> <td>   -2.974</td> <td>   -0.394</td>\n",
       "</tr>\n",
       "<tr>\n",
       "  <th>C(f2)[T.True]:C(f3)[T.15]</th>                  <td>    0.2018</td> <td>    0.658</td> <td>    0.307</td> <td> 0.759</td> <td>   -1.088</td> <td>    1.492</td>\n",
       "</tr>\n",
       "<tr>\n",
       "  <th>C(f2)[T.True]:C(f3)[T.16]</th>                  <td>   -1.0614</td> <td>    0.658</td> <td>   -1.613</td> <td> 0.107</td> <td>   -2.351</td> <td>    0.229</td>\n",
       "</tr>\n",
       "<tr>\n",
       "  <th>C(f2)[T.True]:C(f3)[T.17]</th>                  <td>    0.3158</td> <td>    0.658</td> <td>    0.480</td> <td> 0.631</td> <td>   -0.974</td> <td>    1.606</td>\n",
       "</tr>\n",
       "<tr>\n",
       "  <th>C(f2)[T.True]:C(f3)[T.18]</th>                  <td>   -2.2193</td> <td>    0.658</td> <td>   -3.373</td> <td> 0.001</td> <td>   -3.509</td> <td>   -0.929</td>\n",
       "</tr>\n",
       "<tr>\n",
       "  <th>C(f1)[T.Trained]:C(f3)[T.12]</th>               <td>   -0.5965</td> <td>    0.658</td> <td>   -0.907</td> <td> 0.365</td> <td>   -1.886</td> <td>    0.693</td>\n",
       "</tr>\n",
       "<tr>\n",
       "  <th>C(f1)[T.Trained]:C(f3)[T.13]</th>               <td>   -0.1579</td> <td>    0.658</td> <td>   -0.240</td> <td> 0.810</td> <td>   -1.448</td> <td>    1.132</td>\n",
       "</tr>\n",
       "<tr>\n",
       "  <th>C(f1)[T.Trained]:C(f3)[T.14]</th>               <td>   -0.5351</td> <td>    0.658</td> <td>   -0.813</td> <td> 0.416</td> <td>   -1.825</td> <td>    0.755</td>\n",
       "</tr>\n",
       "<tr>\n",
       "  <th>C(f1)[T.Trained]:C(f3)[T.15]</th>               <td>   -0.4825</td> <td>    0.658</td> <td>   -0.733</td> <td> 0.463</td> <td>   -1.772</td> <td>    0.807</td>\n",
       "</tr>\n",
       "<tr>\n",
       "  <th>C(f1)[T.Trained]:C(f3)[T.16]</th>               <td>   -0.7632</td> <td>    0.658</td> <td>   -1.160</td> <td> 0.246</td> <td>   -2.053</td> <td>    0.527</td>\n",
       "</tr>\n",
       "<tr>\n",
       "  <th>C(f1)[T.Trained]:C(f3)[T.17]</th>               <td>    0.1754</td> <td>    0.658</td> <td>    0.267</td> <td> 0.790</td> <td>   -1.114</td> <td>    1.465</td>\n",
       "</tr>\n",
       "<tr>\n",
       "  <th>C(f1)[T.Trained]:C(f3)[T.18]</th>               <td>   -0.6930</td> <td>    0.658</td> <td>   -1.053</td> <td> 0.292</td> <td>   -1.983</td> <td>    0.597</td>\n",
       "</tr>\n",
       "<tr>\n",
       "  <th>C(f1)[T.Trained]:C(f2)[T.True]:C(f3)[T.12]</th> <td>    0.7018</td> <td>    0.930</td> <td>    0.754</td> <td> 0.451</td> <td>   -1.122</td> <td>    2.526</td>\n",
       "</tr>\n",
       "<tr>\n",
       "  <th>C(f1)[T.Trained]:C(f2)[T.True]:C(f3)[T.13]</th> <td>    0.4737</td> <td>    0.930</td> <td>    0.509</td> <td> 0.611</td> <td>   -1.351</td> <td>    2.298</td>\n",
       "</tr>\n",
       "<tr>\n",
       "  <th>C(f1)[T.Trained]:C(f2)[T.True]:C(f3)[T.14]</th> <td>    0.2807</td> <td>    0.930</td> <td>    0.302</td> <td> 0.763</td> <td>   -1.544</td> <td>    2.105</td>\n",
       "</tr>\n",
       "<tr>\n",
       "  <th>C(f1)[T.Trained]:C(f2)[T.True]:C(f3)[T.15]</th> <td>    0.6754</td> <td>    0.930</td> <td>    0.726</td> <td> 0.468</td> <td>   -1.149</td> <td>    2.500</td>\n",
       "</tr>\n",
       "<tr>\n",
       "  <th>C(f1)[T.Trained]:C(f2)[T.True]:C(f3)[T.16]</th> <td>    1.0614</td> <td>    0.930</td> <td>    1.141</td> <td> 0.254</td> <td>   -0.763</td> <td>    2.886</td>\n",
       "</tr>\n",
       "<tr>\n",
       "  <th>C(f1)[T.Trained]:C(f2)[T.True]:C(f3)[T.17]</th> <td>   -0.3772</td> <td>    0.930</td> <td>   -0.405</td> <td> 0.685</td> <td>   -2.201</td> <td>    1.447</td>\n",
       "</tr>\n",
       "<tr>\n",
       "  <th>C(f1)[T.Trained]:C(f2)[T.True]:C(f3)[T.18]</th> <td>    0.7632</td> <td>    0.930</td> <td>    0.820</td> <td> 0.412</td> <td>   -1.061</td> <td>    2.587</td>\n",
       "</tr>\n",
       "</table>\n",
       "<table class=\"simpletable\">\n",
       "<tr>\n",
       "  <th>Omnibus:</th>       <td>174.126</td> <th>  Durbin-Watson:     </th> <td>   1.486</td>\n",
       "</tr>\n",
       "<tr>\n",
       "  <th>Prob(Omnibus):</th> <td> 0.000</td>  <th>  Jarque-Bera (JB):  </th> <td> 201.298</td>\n",
       "</tr>\n",
       "<tr>\n",
       "  <th>Skew:</th>          <td> 0.538</td>  <th>  Prob(JB):          </th> <td>1.94e-44</td>\n",
       "</tr>\n",
       "<tr>\n",
       "  <th>Kurtosis:</th>      <td> 3.410</td>  <th>  Cond. No.          </th> <td>    60.9</td>\n",
       "</tr>\n",
       "</table>"
      ],
      "text/plain": [
       "<class 'statsmodels.iolib.summary.Summary'>\n",
       "\"\"\"\n",
       "                            OLS Regression Results                            \n",
       "==============================================================================\n",
       "Dep. Variable:                 target   R-squared:                       0.280\n",
       "Model:                            OLS   Adj. R-squared:                  0.274\n",
       "Method:                 Least Squares   F-statistic:                     45.33\n",
       "Date:                Tue, 06 Feb 2018   Prob (F-statistic):          8.18e-231\n",
       "Time:                        22:48:21   Log-Likelihood:                -9743.1\n",
       "No. Observations:                3648   AIC:                         1.955e+04\n",
       "Df Residuals:                    3616   BIC:                         1.975e+04\n",
       "Df Model:                          31                                         \n",
       "Covariance Type:            nonrobust                                         \n",
       "==============================================================================================================\n",
       "                                                 coef    std err          t      P>|t|      [0.025      0.975]\n",
       "--------------------------------------------------------------------------------------------------------------\n",
       "Intercept                                      4.4123      0.329     13.413      0.000       3.767       5.057\n",
       "C(f1)[T.Trained]                              -0.1579      0.465     -0.339      0.734      -1.070       0.754\n",
       "C(f2)[T.True]                                 -1.3860      0.465     -2.979      0.003      -2.298      -0.474\n",
       "C(f3)[T.12]                                    0.4211      0.465      0.905      0.365      -0.491       1.333\n",
       "C(f3)[T.13]                                    1.6930      0.465      3.639      0.000       0.781       2.605\n",
       "C(f3)[T.14]                                    3.5789      0.465      7.693      0.000       2.667       4.491\n",
       "C(f3)[T.15]                                    3.1579      0.465      6.788      0.000       2.246       4.070\n",
       "C(f3)[T.16]                                    4.5877      0.465      9.861      0.000       3.676       5.500\n",
       "C(f3)[T.17]                                    4.8421      0.465     10.408      0.000       3.930       5.754\n",
       "C(f3)[T.18]                                    6.0175      0.465     12.935      0.000       5.105       6.930\n",
       "C(f1)[T.Trained]:C(f2)[T.True]                -0.4386      0.658     -0.667      0.505      -1.729       0.851\n",
       "C(f2)[T.True]:C(f3)[T.12]                     -0.0965      0.658     -0.147      0.883      -1.386       1.193\n",
       "C(f2)[T.True]:C(f3)[T.13]                     -1.2719      0.658     -1.933      0.053      -2.562       0.018\n",
       "C(f2)[T.True]:C(f3)[T.14]                     -1.6842      0.658     -2.560      0.011      -2.974      -0.394\n",
       "C(f2)[T.True]:C(f3)[T.15]                      0.2018      0.658      0.307      0.759      -1.088       1.492\n",
       "C(f2)[T.True]:C(f3)[T.16]                     -1.0614      0.658     -1.613      0.107      -2.351       0.229\n",
       "C(f2)[T.True]:C(f3)[T.17]                      0.3158      0.658      0.480      0.631      -0.974       1.606\n",
       "C(f2)[T.True]:C(f3)[T.18]                     -2.2193      0.658     -3.373      0.001      -3.509      -0.929\n",
       "C(f1)[T.Trained]:C(f3)[T.12]                  -0.5965      0.658     -0.907      0.365      -1.886       0.693\n",
       "C(f1)[T.Trained]:C(f3)[T.13]                  -0.1579      0.658     -0.240      0.810      -1.448       1.132\n",
       "C(f1)[T.Trained]:C(f3)[T.14]                  -0.5351      0.658     -0.813      0.416      -1.825       0.755\n",
       "C(f1)[T.Trained]:C(f3)[T.15]                  -0.4825      0.658     -0.733      0.463      -1.772       0.807\n",
       "C(f1)[T.Trained]:C(f3)[T.16]                  -0.7632      0.658     -1.160      0.246      -2.053       0.527\n",
       "C(f1)[T.Trained]:C(f3)[T.17]                   0.1754      0.658      0.267      0.790      -1.114       1.465\n",
       "C(f1)[T.Trained]:C(f3)[T.18]                  -0.6930      0.658     -1.053      0.292      -1.983       0.597\n",
       "C(f1)[T.Trained]:C(f2)[T.True]:C(f3)[T.12]     0.7018      0.930      0.754      0.451      -1.122       2.526\n",
       "C(f1)[T.Trained]:C(f2)[T.True]:C(f3)[T.13]     0.4737      0.930      0.509      0.611      -1.351       2.298\n",
       "C(f1)[T.Trained]:C(f2)[T.True]:C(f3)[T.14]     0.2807      0.930      0.302      0.763      -1.544       2.105\n",
       "C(f1)[T.Trained]:C(f2)[T.True]:C(f3)[T.15]     0.6754      0.930      0.726      0.468      -1.149       2.500\n",
       "C(f1)[T.Trained]:C(f2)[T.True]:C(f3)[T.16]     1.0614      0.930      1.141      0.254      -0.763       2.886\n",
       "C(f1)[T.Trained]:C(f2)[T.True]:C(f3)[T.17]    -0.3772      0.930     -0.405      0.685      -2.201       1.447\n",
       "C(f1)[T.Trained]:C(f2)[T.True]:C(f3)[T.18]     0.7632      0.930      0.820      0.412      -1.061       2.587\n",
       "==============================================================================\n",
       "Omnibus:                      174.126   Durbin-Watson:                   1.486\n",
       "Prob(Omnibus):                  0.000   Jarque-Bera (JB):              201.298\n",
       "Skew:                           0.538   Prob(JB):                     1.94e-44\n",
       "Kurtosis:                       3.410   Cond. No.                         60.9\n",
       "==============================================================================\n",
       "\n",
       "Warnings:\n",
       "[1] Standard Errors assume that the covariance matrix of the errors is correctly specified.\n",
       "\"\"\""
      ]
     },
     "execution_count": 22,
     "metadata": {},
     "output_type": "execute_result"
    }
   ],
   "source": [
    "model.summary()"
   ]
  },
  {
   "cell_type": "code",
   "execution_count": 23,
   "metadata": {},
   "outputs": [
    {
     "name": "stderr",
     "output_type": "stream",
     "text": [
      "/Users/gianni/anaconda/lib/python3.5/site-packages/scipy/stats/_distn_infrastructure.py:879: RuntimeWarning: invalid value encountered in greater\n",
      "  return (self.a < x) & (x < self.b)\n",
      "/Users/gianni/anaconda/lib/python3.5/site-packages/scipy/stats/_distn_infrastructure.py:879: RuntimeWarning: invalid value encountered in less\n",
      "  return (self.a < x) & (x < self.b)\n",
      "/Users/gianni/anaconda/lib/python3.5/site-packages/scipy/stats/_distn_infrastructure.py:1818: RuntimeWarning: invalid value encountered in less_equal\n",
      "  cond2 = cond0 & (x <= self.a)\n"
     ]
    },
    {
     "data": {
      "text/html": [
       "<div>\n",
       "<style>\n",
       "    .dataframe thead tr:only-child th {\n",
       "        text-align: right;\n",
       "    }\n",
       "\n",
       "    .dataframe thead th {\n",
       "        text-align: left;\n",
       "    }\n",
       "\n",
       "    .dataframe tbody tr th {\n",
       "        vertical-align: top;\n",
       "    }\n",
       "</style>\n",
       "<table border=\"1\" class=\"dataframe\">\n",
       "  <thead>\n",
       "    <tr style=\"text-align: right;\">\n",
       "      <th></th>\n",
       "      <th>df</th>\n",
       "      <th>sum_sq</th>\n",
       "      <th>mean_sq</th>\n",
       "      <th>F</th>\n",
       "      <th>PR(&gt;F)</th>\n",
       "    </tr>\n",
       "  </thead>\n",
       "  <tbody>\n",
       "    <tr>\n",
       "      <th>C(f1)</th>\n",
       "      <td>1.0</td>\n",
       "      <td>156.256853</td>\n",
       "      <td>156.256853</td>\n",
       "      <td>40.270374</td>\n",
       "      <td>2.485285e-10</td>\n",
       "    </tr>\n",
       "    <tr>\n",
       "      <th>C(f2)</th>\n",
       "      <td>1.0</td>\n",
       "      <td>301.645011</td>\n",
       "      <td>301.645011</td>\n",
       "      <td>77.739677</td>\n",
       "      <td>1.793649e-18</td>\n",
       "    </tr>\n",
       "    <tr>\n",
       "      <th>C(f3)</th>\n",
       "      <td>7.0</td>\n",
       "      <td>4231.271656</td>\n",
       "      <td>604.467379</td>\n",
       "      <td>155.782781</td>\n",
       "      <td>1.199716e-201</td>\n",
       "    </tr>\n",
       "    <tr>\n",
       "      <th>C(f1):C(f2)</th>\n",
       "      <td>1.0</td>\n",
       "      <td>12.908169</td>\n",
       "      <td>12.908169</td>\n",
       "      <td>3.326682</td>\n",
       "      <td>6.824678e-02</td>\n",
       "    </tr>\n",
       "    <tr>\n",
       "      <th>C(f2):C(f3)</th>\n",
       "      <td>7.0</td>\n",
       "      <td>124.493147</td>\n",
       "      <td>17.784735</td>\n",
       "      <td>4.583466</td>\n",
       "      <td>4.123037e-05</td>\n",
       "    </tr>\n",
       "    <tr>\n",
       "      <th>C(f1):C(f3)</th>\n",
       "      <td>7.0</td>\n",
       "      <td>45.898849</td>\n",
       "      <td>6.556978</td>\n",
       "      <td>1.689858</td>\n",
       "      <td>1.067098e-01</td>\n",
       "    </tr>\n",
       "    <tr>\n",
       "      <th>C(f1):C(f2):C(f3)</th>\n",
       "      <td>7.0</td>\n",
       "      <td>9.808936</td>\n",
       "      <td>1.401277</td>\n",
       "      <td>0.361136</td>\n",
       "      <td>9.249118e-01</td>\n",
       "    </tr>\n",
       "    <tr>\n",
       "      <th>Residual</th>\n",
       "      <td>3616.0</td>\n",
       "      <td>14030.780702</td>\n",
       "      <td>3.880194</td>\n",
       "      <td>NaN</td>\n",
       "      <td>NaN</td>\n",
       "    </tr>\n",
       "  </tbody>\n",
       "</table>\n",
       "</div>"
      ],
      "text/plain": [
       "                       df        sum_sq     mean_sq           F         PR(>F)\n",
       "C(f1)                 1.0    156.256853  156.256853   40.270374   2.485285e-10\n",
       "C(f2)                 1.0    301.645011  301.645011   77.739677   1.793649e-18\n",
       "C(f3)                 7.0   4231.271656  604.467379  155.782781  1.199716e-201\n",
       "C(f1):C(f2)           1.0     12.908169   12.908169    3.326682   6.824678e-02\n",
       "C(f2):C(f3)           7.0    124.493147   17.784735    4.583466   4.123037e-05\n",
       "C(f1):C(f3)           7.0     45.898849    6.556978    1.689858   1.067098e-01\n",
       "C(f1):C(f2):C(f3)     7.0      9.808936    1.401277    0.361136   9.249118e-01\n",
       "Residual           3616.0  14030.780702    3.880194         NaN            NaN"
      ]
     },
     "execution_count": 23,
     "metadata": {},
     "output_type": "execute_result"
    }
   ],
   "source": [
    "smDF = pd.DataFrame(index=DF.index, columns=['target', 'f1', 'f2'])\n",
    "\n",
    "smDF['target'] = DF['Numerosity Error']\n",
    "smDF['f2'] = DF['Is Real']\n",
    "smDF['f1'] = DF['Condition']\n",
    "smDF['f3'] = DF['Num Pieces']\n",
    "\n",
    "\n",
    "formula = 'target ~ C(f1) + C(f2) + C(f3) + C(f1):C(f2) + C(f2):C(f3) + C(f1):C(f3) + C(f1):C(f2):C(f3)'\n",
    "model = ols(formula, smDF).fit()\n",
    "\n",
    "anova_table = statsmodels.stats.anova.anova_lm(model, typ=1)\n",
    "anova_table"
   ]
  },
  {
   "cell_type": "code",
   "execution_count": 21,
   "metadata": {
    "scrolled": true
   },
   "outputs": [
    {
     "data": {
      "image/png": "[encoded data removed]",
      "text/plain": [
       "<matplotlib.figure.Figure at 0x1c0dbf63c8>"
      ]
     },
     "metadata": {},
     "output_type": "display_data"
    }
   ],
   "source": [
    "sns.barplot(x='Is Real', y='Total Errors', hue='Condition', data=DF)\n",
    "sns.despine()"
   ]
  },
  {
   "cell_type": "code",
   "execution_count": 22,
   "metadata": {
    "scrolled": true
   },
   "outputs": [
    {
     "data": {
      "image/png": "[encoded data removed]",
      "text/plain": [
       "<matplotlib.figure.Figure at 0x1c0d6eb668>"
      ]
     },
     "metadata": {},
     "output_type": "display_data"
    }
   ],
   "source": [
    "sns.barplot(x='Condition', y='Numerosity Error', hue='Is Real', data=DF)\n",
    "ax = plt.gca()\n",
    "ax.legend(loc=0)\n",
    "sns.despine()"
   ]
  },
  {
   "cell_type": "code",
   "execution_count": null,
   "metadata": {
    "collapsed": true
   },
   "outputs": [],
   "source": [
    "sns.plot(x='Position ID', y='Total Errors', hue='')"
   ]
  },
  {
   "cell_type": "code",
   "execution_count": 31,
   "metadata": {},
   "outputs": [
    {
     "data": {
      "text/plain": [
       "array(['Trained', 'Naive'], dtype=object)"
      ]
     },
     "execution_count": 31,
     "metadata": {},
     "output_type": "execute_result"
    }
   ],
   "source": [
    "DF.Condition.unique()"
   ]
  },
  {
   "cell_type": "code",
   "execution_count": 39,
   "metadata": {
    "scrolled": true
   },
   "outputs": [
    {
     "ename": "ValueError",
     "evalue": "Cannot sort by duplicate column Num Pieces",
     "output_type": "error",
     "traceback": [
      "\u001b[0;31m---------------------------------------------------------------------------\u001b[0m",
      "\u001b[0;31mValueError\u001b[0m                                Traceback (most recent call last)",
      "\u001b[0;32m<ipython-input-39-1f0f543e7566>\u001b[0m in \u001b[0;36m<module>\u001b[0;34m()\u001b[0m\n\u001b[1;32m      1\u001b[0m \u001b[0mpidpiv\u001b[0m \u001b[0;34m=\u001b[0m \u001b[0mDF\u001b[0m\u001b[0;34m.\u001b[0m\u001b[0mpivot_table\u001b[0m\u001b[0;34m(\u001b[0m\u001b[0mindex\u001b[0m\u001b[0;34m=\u001b[0m\u001b[0;34m'Position ID'\u001b[0m\u001b[0;34m,\u001b[0m \u001b[0mvalues\u001b[0m\u001b[0;34m=\u001b[0m\u001b[0;34m[\u001b[0m\u001b[0;34m'Total Errors'\u001b[0m\u001b[0;34m,\u001b[0m \u001b[0;34m'Num Pieces'\u001b[0m\u001b[0;34m]\u001b[0m\u001b[0;34m,\u001b[0m \u001b[0mcolumns\u001b[0m\u001b[0;34m=\u001b[0m\u001b[0;34m'Condition'\u001b[0m\u001b[0;34m)\u001b[0m\u001b[0;34m\u001b[0m\u001b[0m\n\u001b[0;32m----> 2\u001b[0;31m \u001b[0mpidpiv\u001b[0m\u001b[0;34m.\u001b[0m\u001b[0msort_values\u001b[0m\u001b[0;34m(\u001b[0m\u001b[0;34m[\u001b[0m\u001b[0;34m'Num Pieces'\u001b[0m\u001b[0;34m,\u001b[0m \u001b[0;34m'Trained'\u001b[0m\u001b[0;34m]\u001b[0m\u001b[0;34m)\u001b[0m\u001b[0;34m\u001b[0m\u001b[0m\n\u001b[0m",
      "\u001b[0;32m~/anaconda/lib/python3.5/site-packages/pandas/core/frame.py\u001b[0m in \u001b[0;36msort_values\u001b[0;34m(self, by, axis, ascending, inplace, kind, na_position)\u001b[0m\n\u001b[1;32m   3175\u001b[0m                 \u001b[0;32mif\u001b[0m \u001b[0mk\u001b[0m\u001b[0;34m.\u001b[0m\u001b[0mndim\u001b[0m \u001b[0;34m==\u001b[0m \u001b[0;36m2\u001b[0m\u001b[0;34m:\u001b[0m\u001b[0;34m\u001b[0m\u001b[0m\n\u001b[1;32m   3176\u001b[0m                     raise ValueError('Cannot sort by duplicate column %s' %\n\u001b[0;32m-> 3177\u001b[0;31m                                      str(x))\n\u001b[0m\u001b[1;32m   3178\u001b[0m                 \u001b[0mkeys\u001b[0m\u001b[0;34m.\u001b[0m\u001b[0mappend\u001b[0m\u001b[0;34m(\u001b[0m\u001b[0mtrans\u001b[0m\u001b[0;34m(\u001b[0m\u001b[0mk\u001b[0m\u001b[0;34m)\u001b[0m\u001b[0;34m)\u001b[0m\u001b[0;34m\u001b[0m\u001b[0m\n\u001b[1;32m   3179\u001b[0m             indexer = lexsort_indexer(keys, orders=ascending,\n",
      "\u001b[0;31mValueError\u001b[0m: Cannot sort by duplicate column Num Pieces"
     ]
    }
   ],
   "source": [
    "pidpiv = DF.pivot_table(index='Position ID', values=['Total Errors', 'Num Pieces'], columns='Condition')\n",
    "pidpiv.sort_values(['Num Pieces', 'Trained'])"
   ]
  },
  {
   "cell_type": "code",
   "execution_count": 35,
   "metadata": {},
   "outputs": [
    {
     "data": {
      "image/png": "[encoded data removed]",
      "text/plain": [
       "<matplotlib.figure.Figure at 0x1c1ba8b470>"
      ]
     },
     "metadata": {},
     "output_type": "display_data"
    }
   ],
   "source": [
    "pidpiv = pidpiv.sort_values('Trained')\n",
    "plt.plot(pidpiv['Trained'].values, label='Trained')\n",
    "plt.plot(pidpiv['Trained']['False'].values, label='Naive')\n",
    "\n",
    "ax = plt.gca()\n",
    "ax.legend(loc=0)\n",
    "sns.despine()"
   ]
  },
  {
   "cell_type": "markdown",
   "metadata": {},
   "source": [
    "## Scrap\n",
    "\n",
    "Make this into a standalone script at some point"
   ]
  },
  {
   "cell_type": "code",
   "execution_count": 19,
   "metadata": {
    "collapsed": true
   },
   "outputs": [],
   "source": [
    "with open('../etc/4 Reconstruction/stimuli.txt', mode='r') as f:\n",
    "    positions = f.readlines()\n",
    "    \n",
    "def strip_position(position_string):\n",
    "    s = [p.strip(\"'\") for p in position_string.split('(')[1].split(')')[0].split(', ')[:2]]\n",
    "    return s[0] + s[1]\n",
    "\n",
    "stimuli = list(map(strip_position, positions))\n",
    "fake_mask = np.ones(len(stimuli), dtype=int)\n",
    "fake_mask[:len(stimuli)//2] = 0\n",
    "\n",
    "stim_map = pd.DataFrame(index=stimuli, data=fake_mask.astype(bool), columns=['Is Real'])\n",
    "stim_map['Position ID'] = np.arange(len(stim_map), dtype=int)\n",
    "stim_map['Position dummy'] = stim_map.index\n",
    "stim_map = stim_map.drop_duplicates(subset='Position dummy')\n",
    "stim_map[['Is Real', 'Position ID']].to_csv('../etc/4 Reconstruction/position_map.csv', )"
   ]
  },
  {
   "cell_type": "code",
   "execution_count": 20,
   "metadata": {
    "collapsed": true
   },
   "outputs": [],
   "source": [
    "stim_map = pd.read_csv('../etc/4 Reconstruction/position_map.csv', index_col=0, skiprows=1, names=['Position', 'Is Real', 'Position ID'])"
   ]
  }
 ],
 "metadata": {
  "kernelspec": {
   "display_name": "Python [default]",
   "language": "python",
   "name": "python3"
  },
  "language_info": {
   "codemirror_mode": {
    "name": "ipython",
    "version": 3
   },
   "file_extension": ".py",
   "mimetype": "text/x-python",
   "name": "python",
   "nbconvert_exporter": "python",
   "pygments_lexer": "ipython3",
   "version": "3.5.4"
  }
 },
 "nbformat": 4,
 "nbformat_minor": 2
}
