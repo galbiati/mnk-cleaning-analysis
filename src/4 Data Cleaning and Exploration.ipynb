{
 "cells": [
  {
   "cell_type": "markdown",
   "metadata": {},
   "source": [
    "# Exploring reconstruction data\n",
    "\n",
    "Some notes.\n",
    "\n",
    "1. Response times are not correct on stimulus/submission records and will need to be reconstructed\n",
    "2. I find *no indication* that there are errors in the final submission. This leaves the weird indicator observations at position 0 to be explained, but it's clear they are not causing the board representation to be incorrect.\n",
    "\n",
    "Some todos.\n",
    "\n",
    "1. Count neighboring pieces at each position for each and both colors for error prediction\n",
    "2. Look at distribution of errors by unique position.\n",
    "3. Should probably do a more proper factor analysis rather than independent tests and regressions, but these are adequate (and clear!) enough for a first pass\n",
    "4. **SUPER IMPORTANT** import real/fake records for all positions!\n"
   ]
  },
  {
   "cell_type": "markdown",
   "metadata": {},
   "source": [
    "## Boilerplate\n",
    "\n",
    "Imports and data loading."
   ]
  },
  {
   "cell_type": "code",
   "execution_count": 1,
   "metadata": {},
   "outputs": [
    {
     "name": "stderr",
     "output_type": "stream",
     "text": [
      "/Users/gianni/anaconda/lib/python3.5/site-packages/statsmodels/compat/pandas.py:56: FutureWarning: The pandas.core.datetools module is deprecated and will be removed in a future version. Please use the pandas.tseries module instead.\n",
      "  from pandas.core import datetools\n"
     ]
    }
   ],
   "source": [
    "import os\n",
    "\n",
    "import matplotlib.pyplot as plt\n",
    "import numpy as np\n",
    "import pandas as pd\n",
    "import scipy.stats as sts\n",
    "import seaborn as sns\n",
    "import statsmodels\n",
    "import statsmodels.api as sm\n",
    "from statsmodels.formula.api import ols\n",
    "\n",
    "from lib.utility_functions import *\n",
    "from lib.exp4 import *\n",
    "\n",
    "sns.set_style('white')\n",
    "sns.set_context('talk')\n",
    "\n",
    "% matplotlib inline"
   ]
  },
  {
   "cell_type": "code",
   "execution_count": 2,
   "metadata": {},
   "outputs": [],
   "source": [
    "data_dir = os.path.expanduser('/Volumes/GoogleDrive/My Drive/Bas Zahy Gianni - Games/Data/4_rcn/Raw Data')\n",
    "trained_files_dir = os.path.join(data_dir, 'Trained')\n",
    "naive_files_dir = os.path.join(data_dir, 'Untrained')\n",
    "\n",
    "all_files = get_all_csvs(trained_files_dir) + get_all_csvs(naive_files_dir)\n",
    "\n",
    "DF = load_data(all_files)\n",
    "DF = process_data(DF)\n",
    "\n",
    "bpi, wpi, bpf, wpf = unpack_positions(DF)\n",
    "\n",
    "black_errors = (bpf != bpi).astype(int)\n",
    "white_errors = (wpf != wpi).astype(int)"
   ]
  },
  {
   "cell_type": "code",
   "execution_count": 3,
   "metadata": {
    "scrolled": true
   },
   "outputs": [],
   "source": [
    "# ex = pd.read_csv(all_files[0], names=[\n",
    "#         'Index', 'Subject ID', 'Player Color',\n",
    "#         'Game Index', 'Move Index', 'Status',\n",
    "#         'Black Position', 'White Position', 'Action',\n",
    "#         'Response Time', 'Time Stamp',\n",
    "#         'Mouse Timestamps', 'Mouse Position'\n",
    "#     ])\n",
    "\n",
    "# no_eyecal = ex['Status'] != 'eyecal'\n",
    "# reconi = ex['Status'] == 'reconi'\n",
    "# reconf = ex['Status'] == 'reconf'\n",
    "# only_ends = reconi | reconf\n",
    "# print(len(ex.loc[reconi]), len(ex.loc[reconf]))\n",
    "# ex.loc[reconi, 'Response Time'] = ex.loc[reconf, 'Time Stamp'].values - ex.loc[reconi, 'Time Stamp'].values\n",
    "# ex.loc[only_ends]"
   ]
  },
  {
   "cell_type": "code",
   "execution_count": null,
   "metadata": {},
   "outputs": [],
   "source": []
  },
  {
   "cell_type": "code",
   "execution_count": 4,
   "metadata": {},
   "outputs": [
    {
     "data": {
      "text/plain": [
       "Index(['Subject ID', 'Condition', 'Game Index', 'Position ID', 'Is Real',\n",
       "       'Black Position', 'White Position', 'Black Position (final)',\n",
       "       'White Position (final)', 'Response Time', 'Num Black Pieces',\n",
       "       'Num White Pieces', 'Num Pieces', 'Total Black Errors',\n",
       "       'Total White Errors', 'Total Errors', 'Type I Errors (black)',\n",
       "       'Type I Errors (white)', 'Type I Errors', 'Type II Errors (black)',\n",
       "       'Type II Errors (white)', 'Type II Errors', 'Type III Errors (black)',\n",
       "       'Type III Errors (white)', 'Type III Errors'],\n",
       "      dtype='object')"
      ]
     },
     "execution_count": 4,
     "metadata": {},
     "output_type": "execute_result"
    }
   ],
   "source": [
    "DF.columns"
   ]
  },
  {
   "cell_type": "code",
   "execution_count": 12,
   "metadata": {},
   "outputs": [
    {
     "data": {
      "text/html": [
       "<div>\n",
       "<style scoped>\n",
       "    .dataframe tbody tr th:only-of-type {\n",
       "        vertical-align: middle;\n",
       "    }\n",
       "\n",
       "    .dataframe tbody tr th {\n",
       "        vertical-align: top;\n",
       "    }\n",
       "\n",
       "    .dataframe thead th {\n",
       "        text-align: right;\n",
       "    }\n",
       "</style>\n",
       "<table border=\"1\" class=\"dataframe\">\n",
       "  <thead>\n",
       "    <tr style=\"text-align: right;\">\n",
       "      <th></th>\n",
       "      <th>Subject ID</th>\n",
       "      <th>Condition</th>\n",
       "      <th>Game Index</th>\n",
       "      <th>Position ID</th>\n",
       "      <th>Is Real</th>\n",
       "      <th>Black Position</th>\n",
       "      <th>White Position</th>\n",
       "      <th>Black Position (final)</th>\n",
       "      <th>White Position (final)</th>\n",
       "      <th>Response Time</th>\n",
       "      <th>...</th>\n",
       "      <th>Type I Errors (white)</th>\n",
       "      <th>Type I Errors</th>\n",
       "      <th>Type II Errors (black)</th>\n",
       "      <th>Type II Errors (white)</th>\n",
       "      <th>Type II Errors</th>\n",
       "      <th>Type III Errors (black)</th>\n",
       "      <th>Type III Errors (white)</th>\n",
       "      <th>Type III Errors</th>\n",
       "      <th>Num Pieces (final)</th>\n",
       "      <th>Numerosity Error</th>\n",
       "    </tr>\n",
       "  </thead>\n",
       "  <tbody>\n",
       "    <tr>\n",
       "      <th>0</th>\n",
       "      <td>1464109333721</td>\n",
       "      <td>Trained</td>\n",
       "      <td>0</td>\n",
       "      <td>25.0</td>\n",
       "      <td>False</td>\n",
       "      <td>000000000011010000010100000001010001</td>\n",
       "      <td>001100000000001000001000000010100010</td>\n",
       "      <td>000000000011010000010100100001000000</td>\n",
       "      <td>000100000000100010001011000000000100</td>\n",
       "      <td>43.957</td>\n",
       "      <td>...</td>\n",
       "      <td>5</td>\n",
       "      <td>6</td>\n",
       "      <td>2</td>\n",
       "      <td>5</td>\n",
       "      <td>7</td>\n",
       "      <td>0</td>\n",
       "      <td>0</td>\n",
       "      <td>0</td>\n",
       "      <td>14</td>\n",
       "      <td>1</td>\n",
       "    </tr>\n",
       "    <tr>\n",
       "      <th>2</th>\n",
       "      <td>1464109333721</td>\n",
       "      <td>Trained</td>\n",
       "      <td>1</td>\n",
       "      <td>92.0</td>\n",
       "      <td>True</td>\n",
       "      <td>001011000000011000000101000000010100</td>\n",
       "      <td>000100000001100100000010100001101000</td>\n",
       "      <td>000001000001011000000101000000010100</td>\n",
       "      <td>000100000000100100001010100000101000</td>\n",
       "      <td>36.897</td>\n",
       "      <td>...</td>\n",
       "      <td>1</td>\n",
       "      <td>1</td>\n",
       "      <td>2</td>\n",
       "      <td>1</td>\n",
       "      <td>3</td>\n",
       "      <td>0</td>\n",
       "      <td>1</td>\n",
       "      <td>1</td>\n",
       "      <td>16</td>\n",
       "      <td>2</td>\n",
       "    </tr>\n",
       "    <tr>\n",
       "      <th>4</th>\n",
       "      <td>1464109333721</td>\n",
       "      <td>Trained</td>\n",
       "      <td>2</td>\n",
       "      <td>16.0</td>\n",
       "      <td>False</td>\n",
       "      <td>100100000001010000000100000000101000</td>\n",
       "      <td>000010000010000100001001000001000000</td>\n",
       "      <td>100100000001010000000101000000100000</td>\n",
       "      <td>000001000010000100001000000000000000</td>\n",
       "      <td>17.922</td>\n",
       "      <td>...</td>\n",
       "      <td>1</td>\n",
       "      <td>1</td>\n",
       "      <td>1</td>\n",
       "      <td>2</td>\n",
       "      <td>3</td>\n",
       "      <td>0</td>\n",
       "      <td>1</td>\n",
       "      <td>1</td>\n",
       "      <td>11</td>\n",
       "      <td>2</td>\n",
       "    </tr>\n",
       "    <tr>\n",
       "      <th>6</th>\n",
       "      <td>1464109333721</td>\n",
       "      <td>Trained</td>\n",
       "      <td>3</td>\n",
       "      <td>75.0</td>\n",
       "      <td>True</td>\n",
       "      <td>000001001000101100001001000000010000</td>\n",
       "      <td>000100000001010000010110000000001000</td>\n",
       "      <td>000001001001001100000101000000010000</td>\n",
       "      <td>000100000000110000000010000000001000</td>\n",
       "      <td>22.380</td>\n",
       "      <td>...</td>\n",
       "      <td>0</td>\n",
       "      <td>0</td>\n",
       "      <td>1</td>\n",
       "      <td>1</td>\n",
       "      <td>2</td>\n",
       "      <td>1</td>\n",
       "      <td>2</td>\n",
       "      <td>3</td>\n",
       "      <td>13</td>\n",
       "      <td>2</td>\n",
       "    </tr>\n",
       "    <tr>\n",
       "      <th>8</th>\n",
       "      <td>1464109333721</td>\n",
       "      <td>Trained</td>\n",
       "      <td>4</td>\n",
       "      <td>69.0</td>\n",
       "      <td>True</td>\n",
       "      <td>000101000101100000001100000000000000</td>\n",
       "      <td>000000000010011000000001000000111000</td>\n",
       "      <td>000101000101100000001100000000000000</td>\n",
       "      <td>000000000010011000000001000000111000</td>\n",
       "      <td>20.494</td>\n",
       "      <td>...</td>\n",
       "      <td>0</td>\n",
       "      <td>0</td>\n",
       "      <td>0</td>\n",
       "      <td>0</td>\n",
       "      <td>0</td>\n",
       "      <td>0</td>\n",
       "      <td>0</td>\n",
       "      <td>0</td>\n",
       "      <td>14</td>\n",
       "      <td>0</td>\n",
       "    </tr>\n",
       "  </tbody>\n",
       "</table>\n",
       "<p>5 rows × 27 columns</p>\n",
       "</div>"
      ],
      "text/plain": [
       "      Subject ID Condition  Game Index  Position ID Is Real  \\\n",
       "0  1464109333721   Trained           0         25.0   False   \n",
       "2  1464109333721   Trained           1         92.0    True   \n",
       "4  1464109333721   Trained           2         16.0   False   \n",
       "6  1464109333721   Trained           3         75.0    True   \n",
       "8  1464109333721   Trained           4         69.0    True   \n",
       "\n",
       "                         Black Position                        White Position  \\\n",
       "0  000000000011010000010100000001010001  001100000000001000001000000010100010   \n",
       "2  001011000000011000000101000000010100  000100000001100100000010100001101000   \n",
       "4  100100000001010000000100000000101000  000010000010000100001001000001000000   \n",
       "6  000001001000101100001001000000010000  000100000001010000010110000000001000   \n",
       "8  000101000101100000001100000000000000  000000000010011000000001000000111000   \n",
       "\n",
       "                 Black Position (final)                White Position (final)  \\\n",
       "0  000000000011010000010100100001000000  000100000000100010001011000000000100   \n",
       "2  000001000001011000000101000000010100  000100000000100100001010100000101000   \n",
       "4  100100000001010000000101000000100000  000001000010000100001000000000000000   \n",
       "6  000001001001001100000101000000010000  000100000000110000000010000000001000   \n",
       "8  000101000101100000001100000000000000  000000000010011000000001000000111000   \n",
       "\n",
       "   Response Time        ...         Type I Errors (white)  Type I Errors  \\\n",
       "0         43.957        ...                             5              6   \n",
       "2         36.897        ...                             1              1   \n",
       "4         17.922        ...                             1              1   \n",
       "6         22.380        ...                             0              0   \n",
       "8         20.494        ...                             0              0   \n",
       "\n",
       "   Type II Errors (black)  Type II Errors (white)  Type II Errors  \\\n",
       "0                       2                       5               7   \n",
       "2                       2                       1               3   \n",
       "4                       1                       2               3   \n",
       "6                       1                       1               2   \n",
       "8                       0                       0               0   \n",
       "\n",
       "   Type III Errors (black)  Type III Errors (white)  Type III Errors  \\\n",
       "0                        0                        0                0   \n",
       "2                        0                        1                1   \n",
       "4                        0                        1                1   \n",
       "6                        1                        2                3   \n",
       "8                        0                        0                0   \n",
       "\n",
       "   Num Pieces (final)  Numerosity Error  \n",
       "0                  14                 1  \n",
       "2                  16                 2  \n",
       "4                  11                 2  \n",
       "6                  13                 2  \n",
       "8                  14                 0  \n",
       "\n",
       "[5 rows x 27 columns]"
      ]
     },
     "execution_count": 12,
     "metadata": {},
     "output_type": "execute_result"
    }
   ],
   "source": [
    "def count_final_pieces(row):\n",
    "    num_bp = np.sum([int(i) for i in row['Black Position (final)']])\n",
    "    num_wp = np.sum([int(i) for i in row['White Position (final)']])\n",
    "    return num_bp + num_wp\n",
    "\n",
    "DF['Num Pieces (final)'] = DF.apply(count_final_pieces, axis=1)\n",
    "DF['Numerosity Error'] = np.abs(DF['Num Pieces'] - DF['Num Pieces (final)'])\n",
    "DF['Response Time'] = DF['Response Time'] / 1000\n",
    "DF.head()"
   ]
  },
  {
   "cell_type": "code",
   "execution_count": 13,
   "metadata": {},
   "outputs": [],
   "source": [
    "DF.to_csv('./tidy_data.csv')"
   ]
  },
  {
   "cell_type": "markdown",
   "metadata": {},
   "source": [
    "## Compute errors\n",
    "\n",
    "First extract positions as numpy arrays for easier manipulation\n",
    "\n",
    "### Error types\n",
    "\n",
    "\n",
    "- **Black**: differences in black boards\n",
    "- **White**: differences in white boards\n",
    "- **Type I**: \"false positive\"; putting a piece where there was not one\n",
    "- **Type II**: \"false negative\"; neglecting a piece where there should have been one\n",
    "- **Type III**: \"swap\"; switching the color on a piece"
   ]
  },
  {
   "cell_type": "markdown",
   "metadata": {},
   "source": [
    "## Questions"
   ]
  },
  {
   "cell_type": "markdown",
   "metadata": {},
   "source": [
    "### Are there errors in the board representation data?\n",
    "\n",
    "Yunqi previously had trouble with some oddities in the board construction sequences where a piece would be placed in position 0 (top left corner), but the board representation didn't change.\n",
    "\n",
    "**Answer**: \n",
    "- No sign that there are excessive errors at position 0; not sure what Yunqi did before...\n",
    "- Does *not* explain the quesitionable records. They must be utility indicators for the server/client, but I haven't found where in the code they're being produced or why they're necessary. Something to follow up on, but not a practical problem; those records can simply be dropped."
   ]
  },
  {
   "cell_type": "code",
   "execution_count": 5,
   "metadata": {},
   "outputs": [],
   "source": [
    "black_errors_by_location = black_errors.sum(axis=1)\n",
    "white_errors_by_location = white_errors.sum(axis=1)"
   ]
  },
  {
   "cell_type": "code",
   "execution_count": 6,
   "metadata": {},
   "outputs": [
    {
     "data": {
      "image/png": "[encoded data removed]",
      "text/plain": [
       "<Figure size 1080x360 with 2 Axes>"
      ]
     },
     "metadata": {},
     "output_type": "display_data"
    }
   ],
   "source": [
    "fig, axes = plt.subplots(1, 2, figsize=(15, 5), squeeze=False, sharex=True, sharey=True)\n",
    "\n",
    "ax = axes[0, 0]\n",
    "ax.bar(np.arange(36), black_errors_by_location)\n",
    "plt.setp(ax, ylabel='Error Count', xlabel='Board Location (Black)')\n",
    "\n",
    "ax = axes[0, 1]\n",
    "ax.bar(np.arange(36), white_errors_by_location)\n",
    "plt.setp(ax, xlabel='Board Location (White)')\n",
    "\n",
    "sns.despine()"
   ]
  },
  {
   "cell_type": "markdown",
   "metadata": {},
   "source": [
    "Just another very quick confirmation - there are *never* conflicts between pieces of different color in the final representation."
   ]
  },
  {
   "cell_type": "code",
   "execution_count": 7,
   "metadata": {},
   "outputs": [
    {
     "data": {
      "text/plain": [
       "0"
      ]
     },
     "execution_count": 7,
     "metadata": {},
     "output_type": "execute_result"
    }
   ],
   "source": [
    "((bpf == 1) & (wpf == 1)).astype(int).sum()"
   ]
  },
  {
   "cell_type": "markdown",
   "metadata": {},
   "source": [
    "### Are there differences in error rates between experts and non experts?\n",
    "\n",
    "Answer: looks like yes to me, but has a complicated and significant relationship with the number of pieces. What's the correct analysis? Is this an ANOVA sort of thing for frequentists?\n",
    "\n",
    "TODO: ELO rating effect for trained subjects?"
   ]
  },
  {
   "cell_type": "code",
   "execution_count": 8,
   "metadata": {},
   "outputs": [
    {
     "data": {
      "text/html": [
       "<div>\n",
       "<style scoped>\n",
       "    .dataframe tbody tr th:only-of-type {\n",
       "        vertical-align: middle;\n",
       "    }\n",
       "\n",
       "    .dataframe tbody tr th {\n",
       "        vertical-align: top;\n",
       "    }\n",
       "\n",
       "    .dataframe thead th {\n",
       "        text-align: right;\n",
       "    }\n",
       "</style>\n",
       "<table border=\"1\" class=\"dataframe\">\n",
       "  <thead>\n",
       "    <tr style=\"text-align: right;\">\n",
       "      <th>Condition</th>\n",
       "      <th>Naive</th>\n",
       "      <th>Trained</th>\n",
       "      <th>All</th>\n",
       "    </tr>\n",
       "    <tr>\n",
       "      <th>Num Pieces</th>\n",
       "      <th></th>\n",
       "      <th></th>\n",
       "      <th></th>\n",
       "    </tr>\n",
       "  </thead>\n",
       "  <tbody>\n",
       "    <tr>\n",
       "      <th>11</th>\n",
       "      <td>3.719298</td>\n",
       "      <td>3.342105</td>\n",
       "      <td>3.530702</td>\n",
       "    </tr>\n",
       "    <tr>\n",
       "      <th>12</th>\n",
       "      <td>4.092105</td>\n",
       "      <td>3.469298</td>\n",
       "      <td>3.780702</td>\n",
       "    </tr>\n",
       "    <tr>\n",
       "      <th>13</th>\n",
       "      <td>4.776316</td>\n",
       "      <td>4.478070</td>\n",
       "      <td>4.627193</td>\n",
       "    </tr>\n",
       "    <tr>\n",
       "      <th>14</th>\n",
       "      <td>6.456140</td>\n",
       "      <td>5.684211</td>\n",
       "      <td>6.070175</td>\n",
       "    </tr>\n",
       "    <tr>\n",
       "      <th>15</th>\n",
       "      <td>6.978070</td>\n",
       "      <td>6.456140</td>\n",
       "      <td>6.717105</td>\n",
       "    </tr>\n",
       "    <tr>\n",
       "      <th>16</th>\n",
       "      <td>7.776316</td>\n",
       "      <td>7.166667</td>\n",
       "      <td>7.471491</td>\n",
       "    </tr>\n",
       "    <tr>\n",
       "      <th>17</th>\n",
       "      <td>8.719298</td>\n",
       "      <td>8.328947</td>\n",
       "      <td>8.524123</td>\n",
       "    </tr>\n",
       "    <tr>\n",
       "      <th>18</th>\n",
       "      <td>8.627193</td>\n",
       "      <td>7.938596</td>\n",
       "      <td>8.282895</td>\n",
       "    </tr>\n",
       "    <tr>\n",
       "      <th>All</th>\n",
       "      <td>6.393092</td>\n",
       "      <td>5.858004</td>\n",
       "      <td>6.125548</td>\n",
       "    </tr>\n",
       "  </tbody>\n",
       "</table>\n",
       "</div>"
      ],
      "text/plain": [
       "Condition      Naive   Trained       All\n",
       "Num Pieces                              \n",
       "11          3.719298  3.342105  3.530702\n",
       "12          4.092105  3.469298  3.780702\n",
       "13          4.776316  4.478070  4.627193\n",
       "14          6.456140  5.684211  6.070175\n",
       "15          6.978070  6.456140  6.717105\n",
       "16          7.776316  7.166667  7.471491\n",
       "17          8.719298  8.328947  8.524123\n",
       "18          8.627193  7.938596  8.282895\n",
       "All         6.393092  5.858004  6.125548"
      ]
     },
     "execution_count": 8,
     "metadata": {},
     "output_type": "execute_result"
    }
   ],
   "source": [
    "piv = DF.pivot_table(index='Num Pieces', values='Total Errors', columns='Condition', margins=True, aggfunc=np.mean)\n",
    "piv # just showing off pandas here"
   ]
  },
  {
   "cell_type": "code",
   "execution_count": 9,
   "metadata": {
    "scrolled": false
   },
   "outputs": [
    {
     "name": "stdout",
     "output_type": "stream",
     "text": [
      "Condition independent t-test:\n",
      " Ttest_indResult(statistic=-3.9286164111678126, pvalue=8.701866372531557e-05) \n",
      "\n",
      "\n",
      "# Pieces vs Total Errors correlation\n",
      "\n",
      "All: LinregressResult(slope=0.7876461988304093, intercept=-5.295321637426899, rvalue=0.4379553792741595, pvalue=7.605264237729162e-171, stderr=0.026776332169987347) \n",
      "\n",
      "Trained LinregressResult(slope=0.7775167084377611, intercept=-5.415987886382624, rvalue=0.4173457221318917, pvalue=8.586293891749505e-78, stderr=0.03966276130388692) \n",
      "\n",
      "Naive LinregressResult(slope=0.7977756892230575, intercept=-5.174655388471177, rvalue=0.4628477920929202, pvalue=1.6611767029249536e-97, stderr=0.0357945303073432)\n"
     ]
    },
    {
     "data": {
      "image/png": "[encoded data removed]",
      "text/plain": [
       "<Figure size 1080x720 with 4 Axes>"
      ]
     },
     "metadata": {},
     "output_type": "display_data"
    }
   ],
   "source": [
    "fig, axes = plt.subplots(2, 2, figsize=(15, 10), squeeze=False)\n",
    "\n",
    "tr = DF.loc[DF['Condition'] == 'Trained']\n",
    "na = DF.loc[DF['Condition'] == 'Naive']\n",
    "\n",
    "ax = axes[0, 0]\n",
    "sns.barplot(x='Condition', y='Total Errors', data=DF, ax=ax)\n",
    "plt.setp(ax, ylabel='Mean # Errors')\n",
    "ttest = sts.ttest_ind(tr['Total Errors'], na['Total Errors'])\n",
    "print('Condition independent t-test:\\n', ttest, '\\n\\n')\n",
    "\n",
    "ax = axes[0, 1]\n",
    "sns.barplot(x='Num Pieces', y='Total Errors', hue='Condition', data=DF, ax=ax, ci=None)\n",
    "plt.setp(ax, xlabel='Target # Pieces', ylabel='Mean # Errors')\n",
    "\n",
    "ax = axes[1, 1]\n",
    "\n",
    "ax.scatter(tr['Num Pieces'], tr['Total Errors'], alpha=.5)\n",
    "ax.scatter(na['Num Pieces'], na['Total Errors'], alpha=.5)\n",
    "lr = sts.linregress(DF['Num Pieces'], DF['Total Errors'])\n",
    "lr_tr = sts.linregress(tr['Num Pieces'], tr['Total Errors'])\n",
    "lr_na = sts.linregress(na['Num Pieces'], na['Total Errors'])\n",
    "print('# Pieces vs Total Errors correlation\\n\\nAll:', lr, '\\n\\nTrained', lr_tr, '\\n\\nNaive', lr_na)\n",
    "\n",
    "x = np.arange(10, 20)\n",
    "ax.plot(x, x * lr_tr.slope + lr_tr.intercept, linewidth=3)\n",
    "ax.plot(x, x * lr_na.slope + lr_na.intercept, linewidth=3)\n",
    "ax.plot(x, x * lr.slope + lr.intercept, color='black', linewidth=4)\n",
    "plt.setp(ax, ylabel='Total # Errors', xlabel='Target # Pieces')\n",
    "\n",
    "axes[1, 0].set_visible(False)\n",
    "\n",
    "sns.despine()"
   ]
  },
  {
   "cell_type": "markdown",
   "metadata": {},
   "source": [
    "### Are there different patterns for forgetting pieces, adding extras, and switching colors?\n",
    "\n",
    "**Answer**: Yes, looks like it.\n",
    "\n",
    "- More experienced players *may* be *slightly* more likely to add a piece where none previously existed\n",
    "- More experienced players are substantially less likely to forget a piece\n",
    "- More experienced players are somewhat less likely to get the color of a piece wrong"
   ]
  },
  {
   "cell_type": "code",
   "execution_count": 10,
   "metadata": {},
   "outputs": [
    {
     "name": "stdout",
     "output_type": "stream",
     "text": [
      "Type I Ttest:\n",
      " Ttest_indResult(statistic=2.0829104407523378, pvalue=0.037328912594820775) \n",
      "\n",
      "Type II Ttest:\n",
      " Ttest_indResult(statistic=-5.122522822988037, pvalue=3.170965772659798e-07) \n",
      "\n",
      "Type III Ttest:\n",
      " Ttest_indResult(statistic=-3.850896194149261, pvalue=0.00011970699502190505) \n",
      "\n"
     ]
    },
    {
     "data": {
      "image/png": "[encoded data removed]",
      "text/plain": [
       "<Figure size 1512x360 with 3 Axes>"
      ]
     },
     "metadata": {},
     "output_type": "display_data"
    }
   ],
   "source": [
    "fig, axes = plt.subplots(1, 3, figsize=(21, 5), squeeze=False, sharey=True)\n",
    "\n",
    "ax = axes[0, 0]\n",
    "sns.barplot(x='Condition', y='Type I Errors', data=DF, ax=ax)\n",
    "ttest = sts.ttest_ind(tr['Type I Errors'], na['Type I Errors'])\n",
    "print('Type I Ttest:\\n', ttest, '\\n')\n",
    "\n",
    "ax = axes[0, 1]\n",
    "sns.barplot(x='Condition', y='Type II Errors', data=DF, ax=ax)\n",
    "ttest = sts.ttest_ind(tr['Type II Errors'], na['Type II Errors'])\n",
    "print('Type II Ttest:\\n', ttest, '\\n')\n",
    "\n",
    "ax = axes[0, 2]\n",
    "sns.barplot(x='Condition', y='Type III Errors', data=DF, ax=ax)\n",
    "ttest = sts.ttest_ind(tr['Type III Errors'], na['Type III Errors'])\n",
    "print('Type III Ttest:\\n', ttest, '\\n')\n",
    "\n",
    "\n",
    "sns.despine()"
   ]
  },
  {
   "cell_type": "markdown",
   "metadata": {},
   "source": [
    "### How does error likelihood depend on location?\n",
    "\n",
    "Bonferonni correction!!\n",
    "\n",
    "The below could use some further clarity - looks like it has to do with distribution of stimuli as much as anything else. For example, could divide by number of times a piece is located at that position."
   ]
  },
  {
   "cell_type": "code",
   "execution_count": 11,
   "metadata": {
    "scrolled": false
   },
   "outputs": [
    {
     "data": {
      "image/png": "[encoded data removed]",
      "text/plain": [
       "<Figure size 1512x864 with 9 Axes>"
      ]
     },
     "metadata": {},
     "output_type": "display_data"
    }
   ],
   "source": [
    "fig, axes = plt.subplots(3, 3, figsize=(21, 12), squeeze=False)\n",
    "heatmap_kws = {'cbar': False, 'square': True}\n",
    "heatmap = lambda data, ax: sns.heatmap(data.reshape([4, 9]), ax=ax, **heatmap_kws)\n",
    "\n",
    "heatmap(black_errors_by_location, axes[0, 0])\n",
    "heatmap(bpi.sum(axis=1), axes[1, 0])\n",
    "heatmap(black_errors_by_location / bpi.sum(axis=1), axes[2, 0])\n",
    "heatmap(white_errors_by_location, axes[0, 1])\n",
    "heatmap(wpi.sum(axis=1), axes[1, 1])\n",
    "heatmap(white_errors_by_location / wpi.sum(axis=1), axes[2, 1])\n",
    "heatmap(black_errors_by_location + white_errors_by_location, axes[0, 2])\n",
    "heatmap((bpi + wpi).sum(axis=1), axes[1, 2])\n",
    "heatmap((black_errors_by_location + white_errors_by_location) / (bpi + wpi).sum(axis=1), axes[2, 2])\n",
    "\n",
    "plt.setp(axes, yticklabels=[], xticklabels=[])\n",
    "plt.setp(axes[0, 0], ylabel='# Errors', xlabel='Black')\n",
    "plt.setp(axes[0, 1], xlabel='White')\n",
    "plt.setp(axes[0, 2], xlabel='All')\n",
    "plt.setp(axes[1, 0], ylabel='# Occurrences')\n",
    "plt.setp(axes[2, 0], ylabel='# Errors / # Occurrences')\n",
    "\n",
    "sns.despine(left=True, bottom=True)"
   ]
  },
  {
   "cell_type": "markdown",
   "metadata": {},
   "source": [
    "### Is there an effect from real vs fake positions? Is there an interaction between position type and condition?\n",
    "\n",
    "**Answer**: Yes effect; no interaction. It looks like the fake positions were substantially harder for *both* groups. This signals a substantial difference in basic statistics with the real and fake positions. (I think this is probably a manipulation failure)."
   ]
  },
  {
   "cell_type": "code",
   "execution_count": 12,
   "metadata": {},
   "outputs": [
    {
     "data": {
      "text/html": [
       "<div>\n",
       "<style scoped>\n",
       "    .dataframe tbody tr th:only-of-type {\n",
       "        vertical-align: middle;\n",
       "    }\n",
       "\n",
       "    .dataframe tbody tr th {\n",
       "        vertical-align: top;\n",
       "    }\n",
       "\n",
       "    .dataframe thead th {\n",
       "        text-align: right;\n",
       "    }\n",
       "</style>\n",
       "<table border=\"1\" class=\"dataframe\">\n",
       "  <thead>\n",
       "    <tr style=\"text-align: right;\">\n",
       "      <th>Condition</th>\n",
       "      <th>Naive</th>\n",
       "      <th>Trained</th>\n",
       "    </tr>\n",
       "    <tr>\n",
       "      <th>Is Real</th>\n",
       "      <th></th>\n",
       "      <th></th>\n",
       "    </tr>\n",
       "  </thead>\n",
       "  <tbody>\n",
       "    <tr>\n",
       "      <th>False</th>\n",
       "      <td>7.449561</td>\n",
       "      <td>6.910088</td>\n",
       "    </tr>\n",
       "    <tr>\n",
       "      <th>True</th>\n",
       "      <td>5.336623</td>\n",
       "      <td>4.805921</td>\n",
       "    </tr>\n",
       "  </tbody>\n",
       "</table>\n",
       "</div>"
      ],
      "text/plain": [
       "Condition     Naive   Trained\n",
       "Is Real                      \n",
       "False      7.449561  6.910088\n",
       "True       5.336623  4.805921"
      ]
     },
     "execution_count": 12,
     "metadata": {},
     "output_type": "execute_result"
    }
   ],
   "source": [
    "DF.pivot_table(index='Is Real', columns='Condition', values='Total Errors')"
   ]
  },
  {
   "cell_type": "code",
   "execution_count": 13,
   "metadata": {
    "scrolled": true
   },
   "outputs": [
    {
     "data": {
      "text/plain": [
       "Index(['Subject ID', 'Condition', 'Game Index', 'Position ID', 'Is Real',\n",
       "       'Black Position', 'White Position', 'Black Position (final)',\n",
       "       'White Position (final)', 'Num Black Pieces', 'Num White Pieces',\n",
       "       'Num Pieces', 'Total Black Errors', 'Total White Errors',\n",
       "       'Total Errors', 'Type I Errors (black)', 'Type I Errors (white)',\n",
       "       'Type I Errors', 'Type II Errors (black)', 'Type II Errors (white)',\n",
       "       'Type II Errors', 'Type III Errors (black)', 'Type III Errors (white)',\n",
       "       'Type III Errors', 'Num Pieces (final)', 'Numerosity Error'],\n",
       "      dtype='object')"
      ]
     },
     "execution_count": 13,
     "metadata": {},
     "output_type": "execute_result"
    }
   ],
   "source": [
    "DF.columns"
   ]
  },
  {
   "cell_type": "code",
   "execution_count": 7,
   "metadata": {},
   "outputs": [],
   "source": [
    "class ANOVA(object):\n",
    "    \"\"\"2-way ANOVA wrapper for a balanced between-withins design\"\"\"\n",
    "    def __init__(self, dataframe, between_factor, within_factor, subject_factor, target, alpha=.05):\n",
    "        self.dataframe = dataframe\n",
    "        self.between_factor = between_factor\n",
    "        self.within_factor = within_factor\n",
    "        self.subject_factor = subject_factor\n",
    "        self.target = target\n",
    "        \n",
    "        self.num_subjects = dataframe[subject_factor].unique().size // 2\n",
    "        self.num_between_levels = dataframe[between_factor].unique().size\n",
    "        self.num_within_levels = dataframe[within_factor].unique().size\n",
    "        \n",
    "        self.alpha = alpha\n",
    "        \n",
    "        self.get_means_table()\n",
    "        \n",
    "        self.subject_pivot = self.means_table.pivot_table(\n",
    "            index=between_factor, values=['False', 'True'], # fix to get values from df\n",
    "            aggfunc=np.mean\n",
    "        )\n",
    "        \n",
    "        self.mu = self.subject_pivot.mean(axis=0).mean()\n",
    "        \n",
    "    def get_means_table(self):\n",
    "        self.means_table = self.dataframe.pivot_table(\n",
    "            index=self.subject_factor,\n",
    "            columns=[self.within_factor],\n",
    "            values=self.target,\n",
    "            aggfunc=np.mean\n",
    "        )\n",
    "        \n",
    "        self.means_table[self.between_factor] = self.means_table.index.map(\n",
    "            self._add_condition_map_func\n",
    "        )\n",
    "        \n",
    "        self.means_table[self.between_factor] = self.means_table[self.between_factor].map(\n",
    "            {'Trained': 0, 'Naive': 1}\n",
    "        )\n",
    "        \n",
    "        self.means_table[self.subject_factor] = self.means_table.index\n",
    "        self.means_table.columns = self.means_table.columns.map(str)\n",
    "        self.means_table_vals = self.means_table.loc[:, ['False', 'True']]\n",
    "        \n",
    "        return None\n",
    "    \n",
    "    def _add_condition_map_func(self, x):\n",
    "        condition_filter = self.dataframe[self.subject_factor] == x\n",
    "        return self.dataframe.loc[condition_filter, self.between_factor].values[0]\n",
    "        \n",
    "    def df_between(self):\n",
    "        return self.num_between_levels - 1\n",
    "    \n",
    "    def df_within(self):\n",
    "        return self.num_within_levels - 1\n",
    "    \n",
    "    def df_interaction(self):\n",
    "        return self.df_between() * self.df_within()\n",
    "    \n",
    "    def df_subjects(self):\n",
    "        return self.num_between_levels * (self.num_subjects - 1)\n",
    "    \n",
    "    def df_error(self):\n",
    "        return self.df_subjects() * self.df_within()\n",
    "    \n",
    "    def df_total(self):\n",
    "        return self.num_between_levels * self.num_within_levels * self.num_subjects - 1\n",
    "        \n",
    "    def sum_of_squares_between(self):\n",
    "        print(self.subject_pivot.mean(axis=1))\n",
    "        y0 = self.subject_pivot.mean(axis=1).values\n",
    "        y1 = self.mu\n",
    "        \n",
    "        squares = (y0 - y1)**2\n",
    "        ss = squares.sum()\n",
    "        \n",
    "        return self.num_within_levels * self.num_subjects * ss\n",
    "        \n",
    "    def sum_of_squares_within(self):\n",
    "        print(self.subject_pivot.mean(axis=0))\n",
    "        y0 = self.subject_pivot.mean(axis=0).values\n",
    "        y1 = self.mu\n",
    "        \n",
    "        squares = (y0 - y1)**2\n",
    "        ss = squares.sum()\n",
    "        \n",
    "        return self.num_between_levels * self.num_subjects * ss\n",
    "    \n",
    "    def sum_of_squares_interaction(self):\n",
    "        y0 = self.subject_pivot.values\n",
    "        y1 = y0.mean(axis=1)[:, np.newaxis]\n",
    "        y2 = y0.mean(axis=0)[np.newaxis, :]\n",
    "        y3 = self.mu\n",
    "\n",
    "        squares = (y0 - y1 - y2 + y3)**2\n",
    "        ss = squares.sum()\n",
    "        \n",
    "        return self.num_subjects * ss\n",
    "        \n",
    "    def sum_of_squares_subjects(self):\n",
    "        y0 = self.means_table_vals.mean(axis=1).values\n",
    "        y1 = self.subject_pivot.mean(axis=1).values\n",
    "        \n",
    "        y1_p = np.concatenate([\n",
    "            np.tile(y1[0], self.num_subjects),\n",
    "            np.tile(y1[1], self.num_subjects)\n",
    "        ])\n",
    "        \n",
    "        squares = (y0 - y1_p)**2\n",
    "        ss = squares.sum()\n",
    "        \n",
    "        return self.num_within_levels * ss\n",
    "        \n",
    "    def sum_of_squares_error(self):\n",
    "        y0 = self.means_table_vals.values\n",
    "        y1 = self.subject_pivot.values\n",
    "        y2 = self.means_table_vals.mean(axis=1).values\n",
    "        y3 = self.subject_pivot.mean(axis=1).values\n",
    "\n",
    "        y1_p = np.stack([\n",
    "            np.tile(y1[:, 0], self.num_subjects), \n",
    "            np.tile(y1[:, 1], self.num_subjects)\n",
    "        ], axis=1)\n",
    "        \n",
    "        y3_p = np.concatenate([\n",
    "            np.tile(y3[0], self.num_subjects),\n",
    "            np.tile(y3[1], self.num_subjects)\n",
    "        ])\n",
    "        \n",
    "        squares = (y0 - y1_p - y2[:, np.newaxis] + y3_p[:, np.newaxis])**2\n",
    "        ss = squares.sum()\n",
    "        \n",
    "        return ss\n",
    "        \n",
    "    def sum_of_squares_total(self):\n",
    "        y0 = self.means_table_vals.values\n",
    "        y1 = self.mu\n",
    "        \n",
    "        squares = (y0 - y1)**2\n",
    "        ss = squares.sum()\n",
    "        \n",
    "        return ss\n",
    "        \n",
    "    def F_between(self):\n",
    "        ms_between = self.sum_of_squares_between() / self.df_between()\n",
    "        ms_subjects = self.sum_of_squares_subjects() / self.df_subjects()\n",
    "        \n",
    "        F = ms_between / ms_subjects\n",
    "        f_dist = sts.f(self.df_between(), self.df_subjects())\n",
    "        \n",
    "        p_val = f_dist.cdf(F)\n",
    "        \n",
    "        return F, p_val\n",
    "        \n",
    "    def F_within(self):\n",
    "        print(self.sum_of_squares_within())\n",
    "        ms_within = self.sum_of_squares_within() / self.df_within()\n",
    "        ms_error = self.sum_of_squares_error() / self.df_error()\n",
    "        \n",
    "        F = ms_within / ms_error\n",
    "        f_dist = sts.f(self.df_within(), self.df_error())\n",
    "        \n",
    "        p_val = f_dist.cdf(F)\n",
    "        \n",
    "        return F, p_val\n",
    "    \n",
    "    def F_interaction(self):\n",
    "        ms_interaction = self.sum_of_squares_interaction() / self.df_interaction()\n",
    "        ms_error = self.sum_of_squares_error() / self.df_error()\n",
    "        \n",
    "        F = ms_interaction / ms_error\n",
    "        f_dist = sts.f(self.df_interaction(), self.df_error())\n",
    "        \n",
    "        p_val = f_dist.cdf(F)\n",
    "        \n",
    "        return F, p_val"
   ]
  },
  {
   "cell_type": "code",
   "execution_count": 14,
   "metadata": {},
   "outputs": [
    {
     "name": "stdout",
     "output_type": "stream",
     "text": [
      "19 2 2\n"
     ]
    }
   ],
   "source": [
    "anova = ANOVA(DF, 'Condition', 'Is Real', 'Subject ID', 'Response Time')\n",
    "print(anova.num_subjects, anova.num_between_levels, anova.num_within_levels)"
   ]
  },
  {
   "cell_type": "code",
   "execution_count": 15,
   "metadata": {},
   "outputs": [
    {
     "name": "stdout",
     "output_type": "stream",
     "text": [
      "Condition\n",
      "0    15.106140\n",
      "1    12.561475\n",
      "dtype: float64\n",
      "Between (1.8546348769252656, 0.8182928734230004)\n",
      "Is Real\n",
      "False    14.088174\n",
      "True     13.579441\n",
      "dtype: float64\n",
      "4.917386723889942\n",
      "Is Real\n",
      "False    14.088174\n",
      "True     13.579441\n",
      "dtype: float64\n",
      "Within (0.44204093538898076, 0.4896240027228187)\n",
      "Interaction (0.05094255690240754, 0.17729231512716861)\n"
     ]
    }
   ],
   "source": [
    "print(\"Between\", anova.F_between())\n",
    "print(\"Within\", anova.F_within())\n",
    "print(\"Interaction\", anova.F_interaction())"
   ]
  },
  {
   "cell_type": "code",
   "execution_count": 21,
   "metadata": {},
   "outputs": [
    {
     "data": {
      "text/plain": [
       "225.29733187134505"
      ]
     },
     "execution_count": 21,
     "metadata": {},
     "output_type": "execute_result"
    }
   ],
   "source": [
    "anova.sum_of_squares_subjects()"
   ]
  },
  {
   "cell_type": "code",
   "execution_count": 130,
   "metadata": {},
   "outputs": [
    {
     "data": {
      "text/plain": [
       "5.4400584795321478"
      ]
     },
     "execution_count": 130,
     "metadata": {},
     "output_type": "execute_result"
    }
   ],
   "source": [
    "anova.sum_of_squares_between()"
   ]
  },
  {
   "cell_type": "code",
   "execution_count": 138,
   "metadata": {},
   "outputs": [
    {
     "data": {
      "text/plain": [
       "18.115684633733427"
      ]
     },
     "execution_count": 138,
     "metadata": {},
     "output_type": "execute_result"
    }
   ],
   "source": [
    "anova.sum_of_squares_error()"
   ]
  },
  {
   "cell_type": "code",
   "execution_count": 131,
   "metadata": {},
   "outputs": [
    {
     "data": {
      "text/plain": [
       "84.473889802631689"
      ]
     },
     "execution_count": 131,
     "metadata": {},
     "output_type": "execute_result"
    }
   ],
   "source": [
    "anova.sum_of_squares_within()"
   ]
  },
  {
   "cell_type": "code",
   "execution_count": null,
   "metadata": {
    "collapsed": true
   },
   "outputs": [],
   "source": []
  },
  {
   "cell_type": "code",
   "execution_count": 78,
   "metadata": {},
   "outputs": [],
   "source": [
    "c = anova.means_table.pivot_table(index='Condition', values=['False', 'True'], aggfunc=np.mean)"
   ]
  },
  {
   "cell_type": "code",
   "execution_count": 82,
   "metadata": {},
   "outputs": [
    {
     "data": {
      "text/plain": [
       "array([[ 7.17982456,  5.07127193]])"
      ]
     },
     "execution_count": 82,
     "metadata": {},
     "output_type": "execute_result"
    }
   ],
   "source": [
    "c.mean(axis=0).values[np.newaxis, :]"
   ]
  },
  {
   "cell_type": "code",
   "execution_count": 83,
   "metadata": {},
   "outputs": [
    {
     "data": {
      "text/plain": [
       "array([[ 6.91008772,  4.80592105],\n",
       "       [ 7.4495614 ,  5.33662281]])"
      ]
     },
     "execution_count": 83,
     "metadata": {},
     "output_type": "execute_result"
    }
   ],
   "source": [
    "c.values"
   ]
  },
  {
   "cell_type": "code",
   "execution_count": 85,
   "metadata": {},
   "outputs": [
    {
     "data": {
      "text/plain": [
       "array([[-0.26973684, -0.26535088],\n",
       "       [ 0.26973684,  0.26535088]])"
      ]
     },
     "execution_count": 85,
     "metadata": {},
     "output_type": "execute_result"
    }
   ],
   "source": [
    "c.values - c.mean(axis=0).values[np.newaxis, :]"
   ]
  },
  {
   "cell_type": "code",
   "execution_count": 69,
   "metadata": {},
   "outputs": [
    {
     "data": {
      "text/plain": [
       "6.125548245614036"
      ]
     },
     "execution_count": 69,
     "metadata": {},
     "output_type": "execute_result"
    }
   ],
   "source": [
    "anova.means_table_vals.mean().mean()"
   ]
  },
  {
   "cell_type": "code",
   "execution_count": 87,
   "metadata": {},
   "outputs": [
    {
     "data": {
      "text/plain": [
       "array([[-1,  1],\n",
       "       [ 1,  3]])"
      ]
     },
     "execution_count": 87,
     "metadata": {},
     "output_type": "execute_result"
    }
   ],
   "source": [
    "a = np.arange(4).reshape([2, 2])\n",
    "b = np.array([1, 0])[:, np.newaxis]\n",
    "c = np.array([1, 0])[np.newaxis, :]\n",
    "\n",
    "a - c"
   ]
  },
  {
   "cell_type": "code",
   "execution_count": 42,
   "metadata": {
    "collapsed": true
   },
   "outputs": [],
   "source": [
    "anova.means_table"
   ]
  },
  {
   "cell_type": "code",
   "execution_count": 26,
   "metadata": {
    "collapsed": true
   },
   "outputs": [],
   "source": [
    "means_for_weiji = DF.pivot_table(index='Subject ID', columns=['Is Real'], values='Total Errors', aggfunc=np.mean)\n",
    "means_for_weiji['Condition'] = means_for_weiji.index.map(lambda x: DF.loc[DF['Subject ID'] == x, 'Condition'].values[0])\n",
    "means_for_weiji['Condition'] = means_for_weiji['Condition'].map({'Trained': 0, 'Naive': 1})\n",
    "means_for_weiji.to_csv('~/Downloads/reconstruction_means.csv')"
   ]
  },
  {
   "cell_type": "code",
   "execution_count": 27,
   "metadata": {},
   "outputs": [
    {
     "data": {
      "text/html": [
       "<div>\n",
       "<style>\n",
       "    .dataframe thead tr:only-child th {\n",
       "        text-align: right;\n",
       "    }\n",
       "\n",
       "    .dataframe thead th {\n",
       "        text-align: left;\n",
       "    }\n",
       "\n",
       "    .dataframe tbody tr th {\n",
       "        vertical-align: top;\n",
       "    }\n",
       "</style>\n",
       "<table border=\"1\" class=\"dataframe\">\n",
       "  <thead>\n",
       "    <tr style=\"text-align: right;\">\n",
       "      <th>Is Real</th>\n",
       "      <th>False</th>\n",
       "      <th>True</th>\n",
       "      <th>Condition</th>\n",
       "    </tr>\n",
       "    <tr>\n",
       "      <th>Subject ID</th>\n",
       "      <th></th>\n",
       "      <th></th>\n",
       "      <th></th>\n",
       "    </tr>\n",
       "  </thead>\n",
       "  <tbody>\n",
       "    <tr>\n",
       "      <th>1455888279254</th>\n",
       "      <td>12.270833</td>\n",
       "      <td>8.687500</td>\n",
       "      <td>0</td>\n",
       "    </tr>\n",
       "    <tr>\n",
       "      <th>1455896400640</th>\n",
       "      <td>7.104167</td>\n",
       "      <td>4.520833</td>\n",
       "      <td>0</td>\n",
       "    </tr>\n",
       "    <tr>\n",
       "      <th>1455905621344</th>\n",
       "      <td>2.750000</td>\n",
       "      <td>1.437500</td>\n",
       "      <td>0</td>\n",
       "    </tr>\n",
       "    <tr>\n",
       "      <th>1455913823185</th>\n",
       "      <td>6.125000</td>\n",
       "      <td>3.875000</td>\n",
       "      <td>0</td>\n",
       "    </tr>\n",
       "    <tr>\n",
       "      <th>1455999209774</th>\n",
       "      <td>7.145833</td>\n",
       "      <td>5.125000</td>\n",
       "      <td>0</td>\n",
       "    </tr>\n",
       "    <tr>\n",
       "      <th>1456159044009</th>\n",
       "      <td>6.666667</td>\n",
       "      <td>5.708333</td>\n",
       "      <td>0</td>\n",
       "    </tr>\n",
       "    <tr>\n",
       "      <th>1456327572567</th>\n",
       "      <td>5.020833</td>\n",
       "      <td>2.645833</td>\n",
       "      <td>0</td>\n",
       "    </tr>\n",
       "    <tr>\n",
       "      <th>1456358134808</th>\n",
       "      <td>7.583333</td>\n",
       "      <td>4.791667</td>\n",
       "      <td>0</td>\n",
       "    </tr>\n",
       "    <tr>\n",
       "      <th>1456775026965</th>\n",
       "      <td>6.291667</td>\n",
       "      <td>3.708333</td>\n",
       "      <td>0</td>\n",
       "    </tr>\n",
       "    <tr>\n",
       "      <th>1459545231031</th>\n",
       "      <td>7.833333</td>\n",
       "      <td>6.375000</td>\n",
       "      <td>0</td>\n",
       "    </tr>\n",
       "    <tr>\n",
       "      <th>1460648046964</th>\n",
       "      <td>8.541667</td>\n",
       "      <td>5.916667</td>\n",
       "      <td>0</td>\n",
       "    </tr>\n",
       "    <tr>\n",
       "      <th>1460743614862</th>\n",
       "      <td>10.854167</td>\n",
       "      <td>8.312500</td>\n",
       "      <td>0</td>\n",
       "    </tr>\n",
       "    <tr>\n",
       "      <th>1460752825077</th>\n",
       "      <td>4.958333</td>\n",
       "      <td>3.125000</td>\n",
       "      <td>0</td>\n",
       "    </tr>\n",
       "    <tr>\n",
       "      <th>1461167493357</th>\n",
       "      <td>5.041667</td>\n",
       "      <td>3.770833</td>\n",
       "      <td>0</td>\n",
       "    </tr>\n",
       "    <tr>\n",
       "      <th>1461251706926</th>\n",
       "      <td>4.916667</td>\n",
       "      <td>2.833333</td>\n",
       "      <td>0</td>\n",
       "    </tr>\n",
       "    <tr>\n",
       "      <th>1461278859277</th>\n",
       "      <td>7.395833</td>\n",
       "      <td>5.125000</td>\n",
       "      <td>0</td>\n",
       "    </tr>\n",
       "    <tr>\n",
       "      <th>1461340278627</th>\n",
       "      <td>8.916667</td>\n",
       "      <td>7.229167</td>\n",
       "      <td>0</td>\n",
       "    </tr>\n",
       "    <tr>\n",
       "      <th>1462213443725</th>\n",
       "      <td>6.687500</td>\n",
       "      <td>5.125000</td>\n",
       "      <td>0</td>\n",
       "    </tr>\n",
       "    <tr>\n",
       "      <th>1464109333721</th>\n",
       "      <td>5.187500</td>\n",
       "      <td>3.000000</td>\n",
       "      <td>0</td>\n",
       "    </tr>\n",
       "    <tr>\n",
       "      <th>1465923439032</th>\n",
       "      <td>7.583333</td>\n",
       "      <td>5.708333</td>\n",
       "      <td>1</td>\n",
       "    </tr>\n",
       "    <tr>\n",
       "      <th>1465931738646</th>\n",
       "      <td>4.062500</td>\n",
       "      <td>3.000000</td>\n",
       "      <td>1</td>\n",
       "    </tr>\n",
       "    <tr>\n",
       "      <th>1466273488079</th>\n",
       "      <td>7.895833</td>\n",
       "      <td>5.979167</td>\n",
       "      <td>1</td>\n",
       "    </tr>\n",
       "    <tr>\n",
       "      <th>1466454823975</th>\n",
       "      <td>7.500000</td>\n",
       "      <td>4.708333</td>\n",
       "      <td>1</td>\n",
       "    </tr>\n",
       "    <tr>\n",
       "      <th>1469569529356</th>\n",
       "      <td>8.083333</td>\n",
       "      <td>5.437500</td>\n",
       "      <td>1</td>\n",
       "    </tr>\n",
       "    <tr>\n",
       "      <th>1469631589716</th>\n",
       "      <td>6.375000</td>\n",
       "      <td>3.458333</td>\n",
       "      <td>1</td>\n",
       "    </tr>\n",
       "    <tr>\n",
       "      <th>1476119288783</th>\n",
       "      <td>7.291667</td>\n",
       "      <td>5.041667</td>\n",
       "      <td>1</td>\n",
       "    </tr>\n",
       "    <tr>\n",
       "      <th>1476205486332</th>\n",
       "      <td>6.187500</td>\n",
       "      <td>5.125000</td>\n",
       "      <td>1</td>\n",
       "    </tr>\n",
       "    <tr>\n",
       "      <th>1476295571102</th>\n",
       "      <td>7.812500</td>\n",
       "      <td>5.583333</td>\n",
       "      <td>1</td>\n",
       "    </tr>\n",
       "    <tr>\n",
       "      <th>1476711484391</th>\n",
       "      <td>6.583333</td>\n",
       "      <td>5.104167</td>\n",
       "      <td>1</td>\n",
       "    </tr>\n",
       "    <tr>\n",
       "      <th>1476731308397</th>\n",
       "      <td>9.395833</td>\n",
       "      <td>5.958333</td>\n",
       "      <td>1</td>\n",
       "    </tr>\n",
       "    <tr>\n",
       "      <th>1476971599622</th>\n",
       "      <td>6.291667</td>\n",
       "      <td>4.062500</td>\n",
       "      <td>1</td>\n",
       "    </tr>\n",
       "    <tr>\n",
       "      <th>1479499698563</th>\n",
       "      <td>4.958333</td>\n",
       "      <td>2.666667</td>\n",
       "      <td>1</td>\n",
       "    </tr>\n",
       "    <tr>\n",
       "      <th>1479503333755</th>\n",
       "      <td>9.458333</td>\n",
       "      <td>7.083333</td>\n",
       "      <td>1</td>\n",
       "    </tr>\n",
       "    <tr>\n",
       "      <th>1479746606467</th>\n",
       "      <td>8.979167</td>\n",
       "      <td>7.145833</td>\n",
       "      <td>1</td>\n",
       "    </tr>\n",
       "    <tr>\n",
       "      <th>1481139731605</th>\n",
       "      <td>8.687500</td>\n",
       "      <td>7.312500</td>\n",
       "      <td>1</td>\n",
       "    </tr>\n",
       "    <tr>\n",
       "      <th>1490277129436</th>\n",
       "      <td>9.458333</td>\n",
       "      <td>8.041667</td>\n",
       "      <td>1</td>\n",
       "    </tr>\n",
       "    <tr>\n",
       "      <th>1490299745214</th>\n",
       "      <td>6.812500</td>\n",
       "      <td>5.020833</td>\n",
       "      <td>1</td>\n",
       "    </tr>\n",
       "    <tr>\n",
       "      <th>1490991112585</th>\n",
       "      <td>8.125000</td>\n",
       "      <td>4.958333</td>\n",
       "      <td>1</td>\n",
       "    </tr>\n",
       "  </tbody>\n",
       "</table>\n",
       "</div>"
      ],
      "text/plain": [
       "Is Real            False      True  Condition\n",
       "Subject ID                                   \n",
       "1455888279254  12.270833  8.687500          0\n",
       "1455896400640   7.104167  4.520833          0\n",
       "1455905621344   2.750000  1.437500          0\n",
       "1455913823185   6.125000  3.875000          0\n",
       "1455999209774   7.145833  5.125000          0\n",
       "1456159044009   6.666667  5.708333          0\n",
       "1456327572567   5.020833  2.645833          0\n",
       "1456358134808   7.583333  4.791667          0\n",
       "1456775026965   6.291667  3.708333          0\n",
       "1459545231031   7.833333  6.375000          0\n",
       "1460648046964   8.541667  5.916667          0\n",
       "1460743614862  10.854167  8.312500          0\n",
       "1460752825077   4.958333  3.125000          0\n",
       "1461167493357   5.041667  3.770833          0\n",
       "1461251706926   4.916667  2.833333          0\n",
       "1461278859277   7.395833  5.125000          0\n",
       "1461340278627   8.916667  7.229167          0\n",
       "1462213443725   6.687500  5.125000          0\n",
       "1464109333721   5.187500  3.000000          0\n",
       "1465923439032   7.583333  5.708333          1\n",
       "1465931738646   4.062500  3.000000          1\n",
       "1466273488079   7.895833  5.979167          1\n",
       "1466454823975   7.500000  4.708333          1\n",
       "1469569529356   8.083333  5.437500          1\n",
       "1469631589716   6.375000  3.458333          1\n",
       "1476119288783   7.291667  5.041667          1\n",
       "1476205486332   6.187500  5.125000          1\n",
       "1476295571102   7.812500  5.583333          1\n",
       "1476711484391   6.583333  5.104167          1\n",
       "1476731308397   9.395833  5.958333          1\n",
       "1476971599622   6.291667  4.062500          1\n",
       "1479499698563   4.958333  2.666667          1\n",
       "1479503333755   9.458333  7.083333          1\n",
       "1479746606467   8.979167  7.145833          1\n",
       "1481139731605   8.687500  7.312500          1\n",
       "1490277129436   9.458333  8.041667          1\n",
       "1490299745214   6.812500  5.020833          1\n",
       "1490991112585   8.125000  4.958333          1"
      ]
     },
     "execution_count": 27,
     "metadata": {},
     "output_type": "execute_result"
    }
   ],
   "source": [
    "means_for_weiji"
   ]
  },
  {
   "cell_type": "code",
   "execution_count": 21,
   "metadata": {
    "collapsed": true
   },
   "outputs": [],
   "source": [
    "mu = DF['Total Errors'].mean()\n",
    "Apiv = DF.pivot_table(index='Condition', values='Total Errors')\n",
    "Bpiv = DF.pivot_table(index='Is Real', values='Total Errors')\n",
    "ABpiv = DF.pivot_table(index='Condition', columns='Is Real', values='Total Errors')\n",
    "Sapiv = DF.pivot_table(index='Subject ID', values='Total Errors')"
   ]
  },
  {
   "cell_type": "code",
   "execution_count": 22,
   "metadata": {},
   "outputs": [
    {
     "data": {
      "text/html": [
       "<div>\n",
       "<style>\n",
       "    .dataframe thead tr:only-child th {\n",
       "        text-align: right;\n",
       "    }\n",
       "\n",
       "    .dataframe thead th {\n",
       "        text-align: left;\n",
       "    }\n",
       "\n",
       "    .dataframe tbody tr th {\n",
       "        vertical-align: top;\n",
       "    }\n",
       "</style>\n",
       "<table border=\"1\" class=\"dataframe\">\n",
       "  <thead>\n",
       "    <tr style=\"text-align: right;\">\n",
       "      <th></th>\n",
       "      <th>Total Errors</th>\n",
       "    </tr>\n",
       "    <tr>\n",
       "      <th>Subject ID</th>\n",
       "      <th></th>\n",
       "    </tr>\n",
       "  </thead>\n",
       "  <tbody>\n",
       "    <tr>\n",
       "      <th>1455888279254</th>\n",
       "      <td>10.479167</td>\n",
       "    </tr>\n",
       "    <tr>\n",
       "      <th>1455896400640</th>\n",
       "      <td>5.812500</td>\n",
       "    </tr>\n",
       "    <tr>\n",
       "      <th>1455905621344</th>\n",
       "      <td>2.093750</td>\n",
       "    </tr>\n",
       "    <tr>\n",
       "      <th>1455913823185</th>\n",
       "      <td>5.000000</td>\n",
       "    </tr>\n",
       "    <tr>\n",
       "      <th>1455999209774</th>\n",
       "      <td>6.135417</td>\n",
       "    </tr>\n",
       "    <tr>\n",
       "      <th>1456159044009</th>\n",
       "      <td>6.187500</td>\n",
       "    </tr>\n",
       "    <tr>\n",
       "      <th>1456327572567</th>\n",
       "      <td>3.833333</td>\n",
       "    </tr>\n",
       "    <tr>\n",
       "      <th>1456358134808</th>\n",
       "      <td>6.187500</td>\n",
       "    </tr>\n",
       "    <tr>\n",
       "      <th>1456775026965</th>\n",
       "      <td>5.000000</td>\n",
       "    </tr>\n",
       "    <tr>\n",
       "      <th>1459545231031</th>\n",
       "      <td>7.104167</td>\n",
       "    </tr>\n",
       "    <tr>\n",
       "      <th>1460648046964</th>\n",
       "      <td>7.229167</td>\n",
       "    </tr>\n",
       "    <tr>\n",
       "      <th>1460743614862</th>\n",
       "      <td>9.583333</td>\n",
       "    </tr>\n",
       "    <tr>\n",
       "      <th>1460752825077</th>\n",
       "      <td>4.041667</td>\n",
       "    </tr>\n",
       "    <tr>\n",
       "      <th>1461167493357</th>\n",
       "      <td>4.406250</td>\n",
       "    </tr>\n",
       "    <tr>\n",
       "      <th>1461251706926</th>\n",
       "      <td>3.875000</td>\n",
       "    </tr>\n",
       "    <tr>\n",
       "      <th>1461278859277</th>\n",
       "      <td>6.260417</td>\n",
       "    </tr>\n",
       "    <tr>\n",
       "      <th>1461340278627</th>\n",
       "      <td>8.072917</td>\n",
       "    </tr>\n",
       "    <tr>\n",
       "      <th>1462213443725</th>\n",
       "      <td>5.906250</td>\n",
       "    </tr>\n",
       "    <tr>\n",
       "      <th>1464109333721</th>\n",
       "      <td>4.093750</td>\n",
       "    </tr>\n",
       "    <tr>\n",
       "      <th>1465923439032</th>\n",
       "      <td>6.645833</td>\n",
       "    </tr>\n",
       "    <tr>\n",
       "      <th>1465931738646</th>\n",
       "      <td>3.531250</td>\n",
       "    </tr>\n",
       "    <tr>\n",
       "      <th>1466273488079</th>\n",
       "      <td>6.937500</td>\n",
       "    </tr>\n",
       "    <tr>\n",
       "      <th>1466454823975</th>\n",
       "      <td>6.104167</td>\n",
       "    </tr>\n",
       "    <tr>\n",
       "      <th>1469569529356</th>\n",
       "      <td>6.760417</td>\n",
       "    </tr>\n",
       "    <tr>\n",
       "      <th>1469631589716</th>\n",
       "      <td>4.916667</td>\n",
       "    </tr>\n",
       "    <tr>\n",
       "      <th>1476119288783</th>\n",
       "      <td>6.166667</td>\n",
       "    </tr>\n",
       "    <tr>\n",
       "      <th>1476205486332</th>\n",
       "      <td>5.656250</td>\n",
       "    </tr>\n",
       "    <tr>\n",
       "      <th>1476295571102</th>\n",
       "      <td>6.697917</td>\n",
       "    </tr>\n",
       "    <tr>\n",
       "      <th>1476711484391</th>\n",
       "      <td>5.843750</td>\n",
       "    </tr>\n",
       "    <tr>\n",
       "      <th>1476731308397</th>\n",
       "      <td>7.677083</td>\n",
       "    </tr>\n",
       "    <tr>\n",
       "      <th>1476971599622</th>\n",
       "      <td>5.177083</td>\n",
       "    </tr>\n",
       "    <tr>\n",
       "      <th>1479499698563</th>\n",
       "      <td>3.812500</td>\n",
       "    </tr>\n",
       "    <tr>\n",
       "      <th>1479503333755</th>\n",
       "      <td>8.270833</td>\n",
       "    </tr>\n",
       "    <tr>\n",
       "      <th>1479746606467</th>\n",
       "      <td>8.062500</td>\n",
       "    </tr>\n",
       "    <tr>\n",
       "      <th>1481139731605</th>\n",
       "      <td>8.000000</td>\n",
       "    </tr>\n",
       "    <tr>\n",
       "      <th>1490277129436</th>\n",
       "      <td>8.750000</td>\n",
       "    </tr>\n",
       "    <tr>\n",
       "      <th>1490299745214</th>\n",
       "      <td>5.916667</td>\n",
       "    </tr>\n",
       "    <tr>\n",
       "      <th>1490991112585</th>\n",
       "      <td>6.541667</td>\n",
       "    </tr>\n",
       "  </tbody>\n",
       "</table>\n",
       "</div>"
      ],
      "text/plain": [
       "               Total Errors\n",
       "Subject ID                 \n",
       "1455888279254     10.479167\n",
       "1455896400640      5.812500\n",
       "1455905621344      2.093750\n",
       "1455913823185      5.000000\n",
       "1455999209774      6.135417\n",
       "1456159044009      6.187500\n",
       "1456327572567      3.833333\n",
       "1456358134808      6.187500\n",
       "1456775026965      5.000000\n",
       "1459545231031      7.104167\n",
       "1460648046964      7.229167\n",
       "1460743614862      9.583333\n",
       "1460752825077      4.041667\n",
       "1461167493357      4.406250\n",
       "1461251706926      3.875000\n",
       "1461278859277      6.260417\n",
       "1461340278627      8.072917\n",
       "1462213443725      5.906250\n",
       "1464109333721      4.093750\n",
       "1465923439032      6.645833\n",
       "1465931738646      3.531250\n",
       "1466273488079      6.937500\n",
       "1466454823975      6.104167\n",
       "1469569529356      6.760417\n",
       "1469631589716      4.916667\n",
       "1476119288783      6.166667\n",
       "1476205486332      5.656250\n",
       "1476295571102      6.697917\n",
       "1476711484391      5.843750\n",
       "1476731308397      7.677083\n",
       "1476971599622      5.177083\n",
       "1479499698563      3.812500\n",
       "1479503333755      8.270833\n",
       "1479746606467      8.062500\n",
       "1481139731605      8.000000\n",
       "1490277129436      8.750000\n",
       "1490299745214      5.916667\n",
       "1490991112585      6.541667"
      ]
     },
     "execution_count": 22,
     "metadata": {},
     "output_type": "execute_result"
    }
   ],
   "source": [
    "Sapiv"
   ]
  },
  {
   "cell_type": "code",
   "execution_count": 23,
   "metadata": {},
   "outputs": [
    {
     "data": {
      "text/plain": [
       "Total Errors    6.393092\n",
       "Name: Naive, dtype: float64"
      ]
     },
     "execution_count": 23,
     "metadata": {},
     "output_type": "execute_result"
    }
   ],
   "source": [
    "Apiv.loc['Naive']"
   ]
  },
  {
   "cell_type": "code",
   "execution_count": 24,
   "metadata": {},
   "outputs": [
    {
     "data": {
      "text/plain": [
       "array([[ 7.4495614 ,  5.33662281],\n",
       "       [ 6.91008772,  4.80592105]])"
      ]
     },
     "execution_count": 24,
     "metadata": {},
     "output_type": "execute_result"
    }
   ],
   "source": [
    "ABpiv.values"
   ]
  },
  {
   "cell_type": "code",
   "execution_count": 25,
   "metadata": {},
   "outputs": [
    {
     "data": {
      "text/plain": [
       "array([[ 6.39309211],\n",
       "       [ 5.85800439]])"
      ]
     },
     "execution_count": 25,
     "metadata": {},
     "output_type": "execute_result"
    }
   ],
   "source": [
    "Apiv.values"
   ]
  },
  {
   "cell_type": "code",
   "execution_count": 37,
   "metadata": {
    "collapsed": true
   },
   "outputs": [],
   "source": [
    "a = 2     # Condition\n",
    "b = 2     # Is Real\n",
    "s = 38    # Subject ID\n",
    "\n",
    "SSA = b * s * ((Apiv - mu)**2).sum()\n",
    "SSB = a * s * ((Bpiv - mu)**2).sum()\n",
    "SSAB = s * ((ABpiv.values - Apiv.values.T - Bpiv.values + mu)**2).sum()"
   ]
  },
  {
   "cell_type": "code",
   "execution_count": 42,
   "metadata": {
    "collapsed": true
   },
   "outputs": [],
   "source": [
    "term = Sapiv.copy()\n",
    "term.loc[means_for_weiji['Condition'] == 0] = term.loc[means_for_weiji['Condition'] == 0].values - Apiv.loc['Trained'].values\n",
    "term.loc[means_for_weiji['Condition'] == 1] = term.loc[means_for_weiji['Condition'] == 1].values - Apiv.loc['Naive'].values\n",
    "SSSa = b * (term.values**2).sum()"
   ]
  },
  {
   "cell_type": "code",
   "execution_count": 47,
   "metadata": {},
   "outputs": [
    {
     "ename": "ValueError",
     "evalue": "Must have equal len keys and value when setting with an ndarray",
     "output_type": "error",
     "traceback": [
      "\u001b[0;31m---------------------------------------------------------------------------\u001b[0m",
      "\u001b[0;31mValueError\u001b[0m                                Traceback (most recent call last)",
      "\u001b[0;32m<ipython-input-47-d98e0c6cdec7>\u001b[0m in \u001b[0;36m<module>\u001b[0;34m()\u001b[0m\n\u001b[1;32m      1\u001b[0m \u001b[0mterm\u001b[0m \u001b[0;34m=\u001b[0m \u001b[0mmeans_for_weiji\u001b[0m\u001b[0;34m.\u001b[0m\u001b[0mcopy\u001b[0m\u001b[0;34m(\u001b[0m\u001b[0;34m)\u001b[0m\u001b[0;34m\u001b[0m\u001b[0m\n\u001b[0;32m----> 2\u001b[0;31m \u001b[0mterm\u001b[0m\u001b[0;34m.\u001b[0m\u001b[0mloc\u001b[0m\u001b[0;34m[\u001b[0m\u001b[0mterm\u001b[0m\u001b[0;34m[\u001b[0m\u001b[0;34m'Condition'\u001b[0m\u001b[0;34m]\u001b[0m \u001b[0;34m==\u001b[0m \u001b[0;36m0\u001b[0m\u001b[0;34m,\u001b[0m \u001b[0;34m[\u001b[0m\u001b[0;32mFalse\u001b[0m\u001b[0;34m,\u001b[0m \u001b[0;32mTrue\u001b[0m\u001b[0;34m]\u001b[0m\u001b[0;34m]\u001b[0m \u001b[0;34m=\u001b[0m \u001b[0mterm\u001b[0m\u001b[0;34m.\u001b[0m\u001b[0mloc\u001b[0m\u001b[0;34m[\u001b[0m\u001b[0mterm\u001b[0m\u001b[0;34m[\u001b[0m\u001b[0;34m'Condition'\u001b[0m\u001b[0;34m]\u001b[0m \u001b[0;34m==\u001b[0m \u001b[0;36m0\u001b[0m\u001b[0;34m,\u001b[0m \u001b[0;34m[\u001b[0m\u001b[0;32mFalse\u001b[0m\u001b[0;34m,\u001b[0m \u001b[0;32mTrue\u001b[0m\u001b[0;34m]\u001b[0m\u001b[0;34m]\u001b[0m\u001b[0;34m.\u001b[0m\u001b[0mvalues\u001b[0m \u001b[0;34m-\u001b[0m \u001b[0mABpiv\u001b[0m\u001b[0;34m.\u001b[0m\u001b[0mloc\u001b[0m\u001b[0;34m[\u001b[0m\u001b[0;34m'Trained'\u001b[0m\u001b[0;34m]\u001b[0m\u001b[0;34m.\u001b[0m\u001b[0mvalues\u001b[0m \u001b[0;34m+\u001b[0m \u001b[0mApiv\u001b[0m\u001b[0;34m.\u001b[0m\u001b[0mloc\u001b[0m\u001b[0;34m[\u001b[0m\u001b[0;34m'Trained'\u001b[0m\u001b[0;34m]\u001b[0m\u001b[0;34m.\u001b[0m\u001b[0mvalues\u001b[0m\u001b[0;34m\u001b[0m\u001b[0m\n\u001b[0m\u001b[1;32m      3\u001b[0m \u001b[0mterm\u001b[0m\u001b[0;34m.\u001b[0m\u001b[0mloc\u001b[0m\u001b[0;34m[\u001b[0m\u001b[0mterm\u001b[0m\u001b[0;34m[\u001b[0m\u001b[0;34m'Condition'\u001b[0m\u001b[0;34m]\u001b[0m \u001b[0;34m==\u001b[0m \u001b[0;36m1\u001b[0m\u001b[0;34m,\u001b[0m \u001b[0;34m[\u001b[0m\u001b[0;34m'False'\u001b[0m\u001b[0;34m,\u001b[0m \u001b[0;34m'True'\u001b[0m\u001b[0;34m]\u001b[0m\u001b[0;34m]\u001b[0m \u001b[0;34m=\u001b[0m \u001b[0mterm\u001b[0m\u001b[0;34m.\u001b[0m\u001b[0mloc\u001b[0m\u001b[0;34m[\u001b[0m\u001b[0mterm\u001b[0m\u001b[0;34m[\u001b[0m\u001b[0;34m'Condition'\u001b[0m\u001b[0;34m]\u001b[0m \u001b[0;34m==\u001b[0m \u001b[0;36m1\u001b[0m\u001b[0;34m,\u001b[0m \u001b[0;34m[\u001b[0m\u001b[0;34m'False'\u001b[0m\u001b[0;34m,\u001b[0m \u001b[0;34m'True'\u001b[0m\u001b[0;34m]\u001b[0m\u001b[0;34m]\u001b[0m\u001b[0;34m.\u001b[0m\u001b[0mvalues\u001b[0m \u001b[0;34m-\u001b[0m \u001b[0mABpiv\u001b[0m\u001b[0;34m.\u001b[0m\u001b[0mloc\u001b[0m\u001b[0;34m[\u001b[0m\u001b[0;34m'Naive'\u001b[0m\u001b[0;34m]\u001b[0m\u001b[0;34m.\u001b[0m\u001b[0mvalues\u001b[0m \u001b[0;34m+\u001b[0m \u001b[0mApiv\u001b[0m\u001b[0;34m.\u001b[0m\u001b[0mloc\u001b[0m\u001b[0;34m[\u001b[0m\u001b[0;34m'Naive'\u001b[0m\u001b[0;34m]\u001b[0m\u001b[0;34m.\u001b[0m\u001b[0mvalues\u001b[0m\u001b[0;34m\u001b[0m\u001b[0m\n\u001b[1;32m      4\u001b[0m \u001b[0mterm\u001b[0m\u001b[0;34m.\u001b[0m\u001b[0mloc\u001b[0m\u001b[0;34m[\u001b[0m\u001b[0;34m:\u001b[0m\u001b[0;34m]\u001b[0m \u001b[0;34m=\u001b[0m \u001b[0mterm\u001b[0m\u001b[0;34m.\u001b[0m\u001b[0mvalues\u001b[0m \u001b[0;34m-\u001b[0m \u001b[0mSapiv\u001b[0m\u001b[0;34m.\u001b[0m\u001b[0mvalues\u001b[0m\u001b[0;34m\u001b[0m\u001b[0m\n\u001b[1;32m      5\u001b[0m \u001b[0mSSB_Sa\u001b[0m \u001b[0;34m=\u001b[0m \u001b[0;34m(\u001b[0m\u001b[0mterm\u001b[0m\u001b[0;34m.\u001b[0m\u001b[0mvalues\u001b[0m\u001b[0;34m**\u001b[0m\u001b[0;36m2\u001b[0m\u001b[0;34m)\u001b[0m\u001b[0;34m.\u001b[0m\u001b[0msum\u001b[0m\u001b[0;34m*\u001b[0m\u001b[0;34m(\u001b[0m\u001b[0;34m)\u001b[0m\u001b[0;34m\u001b[0m\u001b[0m\n",
      "\u001b[0;32m~/anaconda/lib/python3.5/site-packages/pandas/core/indexing.py\u001b[0m in \u001b[0;36m__setitem__\u001b[0;34m(self, key, value)\u001b[0m\n\u001b[1;32m    177\u001b[0m             \u001b[0mkey\u001b[0m \u001b[0;34m=\u001b[0m \u001b[0mcom\u001b[0m\u001b[0;34m.\u001b[0m\u001b[0m_apply_if_callable\u001b[0m\u001b[0;34m(\u001b[0m\u001b[0mkey\u001b[0m\u001b[0;34m,\u001b[0m \u001b[0mself\u001b[0m\u001b[0;34m.\u001b[0m\u001b[0mobj\u001b[0m\u001b[0;34m)\u001b[0m\u001b[0;34m\u001b[0m\u001b[0m\n\u001b[1;32m    178\u001b[0m         \u001b[0mindexer\u001b[0m \u001b[0;34m=\u001b[0m \u001b[0mself\u001b[0m\u001b[0;34m.\u001b[0m\u001b[0m_get_setitem_indexer\u001b[0m\u001b[0;34m(\u001b[0m\u001b[0mkey\u001b[0m\u001b[0;34m)\u001b[0m\u001b[0;34m\u001b[0m\u001b[0m\n\u001b[0;32m--> 179\u001b[0;31m         \u001b[0mself\u001b[0m\u001b[0;34m.\u001b[0m\u001b[0m_setitem_with_indexer\u001b[0m\u001b[0;34m(\u001b[0m\u001b[0mindexer\u001b[0m\u001b[0;34m,\u001b[0m \u001b[0mvalue\u001b[0m\u001b[0;34m)\u001b[0m\u001b[0;34m\u001b[0m\u001b[0m\n\u001b[0m\u001b[1;32m    180\u001b[0m \u001b[0;34m\u001b[0m\u001b[0m\n\u001b[1;32m    181\u001b[0m     \u001b[0;32mdef\u001b[0m \u001b[0m_has_valid_type\u001b[0m\u001b[0;34m(\u001b[0m\u001b[0mself\u001b[0m\u001b[0;34m,\u001b[0m \u001b[0mk\u001b[0m\u001b[0;34m,\u001b[0m \u001b[0maxis\u001b[0m\u001b[0;34m)\u001b[0m\u001b[0;34m:\u001b[0m\u001b[0;34m\u001b[0m\u001b[0m\n",
      "\u001b[0;32m~/anaconda/lib/python3.5/site-packages/pandas/core/indexing.py\u001b[0m in \u001b[0;36m_setitem_with_indexer\u001b[0;34m(self, indexer, value)\u001b[0m\n\u001b[1;32m    561\u001b[0m                     \u001b[0mvalue\u001b[0m \u001b[0;34m=\u001b[0m \u001b[0mnp\u001b[0m\u001b[0;34m.\u001b[0m\u001b[0marray\u001b[0m\u001b[0;34m(\u001b[0m\u001b[0mvalue\u001b[0m\u001b[0;34m,\u001b[0m \u001b[0mdtype\u001b[0m\u001b[0;34m=\u001b[0m\u001b[0mobject\u001b[0m\u001b[0;34m)\u001b[0m\u001b[0;34m\u001b[0m\u001b[0m\n\u001b[1;32m    562\u001b[0m                     \u001b[0;32mif\u001b[0m \u001b[0mlen\u001b[0m\u001b[0;34m(\u001b[0m\u001b[0mlabels\u001b[0m\u001b[0;34m)\u001b[0m \u001b[0;34m!=\u001b[0m \u001b[0mvalue\u001b[0m\u001b[0;34m.\u001b[0m\u001b[0mshape\u001b[0m\u001b[0;34m[\u001b[0m\u001b[0;36m1\u001b[0m\u001b[0;34m]\u001b[0m\u001b[0;34m:\u001b[0m\u001b[0;34m\u001b[0m\u001b[0m\n\u001b[0;32m--> 563\u001b[0;31m                         raise ValueError('Must have equal len keys and value '\n\u001b[0m\u001b[1;32m    564\u001b[0m                                          'when setting with an ndarray')\n\u001b[1;32m    565\u001b[0m \u001b[0;34m\u001b[0m\u001b[0m\n",
      "\u001b[0;31mValueError\u001b[0m: Must have equal len keys and value when setting with an ndarray"
     ]
    }
   ],
   "source": [
    "term = means_for_weiji.copy()\n",
    "def calculate_term(row):\n",
    "    \n",
    "\n",
    "\n",
    "term.loc[term['Condition'] == 0, [False, True]] = term.loc[term['Condition'] == 0, [False, True]].values - ABpiv.loc['Trained'].values + Apiv.loc['Trained'].values\n",
    "term.loc[term['Condition'] == 1, ['False', 'True']] = term.loc[term['Condition'] == 1, ['False', 'True']].values - ABpiv.loc['Naive'].values + Apiv.loc['Naive'].values\n",
    "term.loc[:] = term.values - Sapiv.values\n",
    "SSB_Sa = (term.values**2).sum*()"
   ]
  },
  {
   "cell_type": "code",
   "execution_count": 15,
   "metadata": {},
   "outputs": [
    {
     "data": {
      "text/plain": [
       "38"
      ]
     },
     "execution_count": 15,
     "metadata": {},
     "output_type": "execute_result"
    }
   ],
   "source": [
    "len(means_for_weiji)"
   ]
  },
  {
   "cell_type": "code",
   "execution_count": 19,
   "metadata": {},
   "outputs": [
    {
     "name": "stderr",
     "output_type": "stream",
     "text": [
      "/Users/gianni/anaconda/lib/python3.5/site-packages/scipy/stats/_distn_infrastructure.py:879: RuntimeWarning: invalid value encountered in greater\n",
      "  return (self.a < x) & (x < self.b)\n",
      "/Users/gianni/anaconda/lib/python3.5/site-packages/scipy/stats/_distn_infrastructure.py:879: RuntimeWarning: invalid value encountered in less\n",
      "  return (self.a < x) & (x < self.b)\n",
      "/Users/gianni/anaconda/lib/python3.5/site-packages/scipy/stats/_distn_infrastructure.py:1818: RuntimeWarning: invalid value encountered in less_equal\n",
      "  cond2 = cond0 & (x <= self.a)\n"
     ]
    },
    {
     "data": {
      "text/html": [
       "<div>\n",
       "<style>\n",
       "    .dataframe thead tr:only-child th {\n",
       "        text-align: right;\n",
       "    }\n",
       "\n",
       "    .dataframe thead th {\n",
       "        text-align: left;\n",
       "    }\n",
       "\n",
       "    .dataframe tbody tr th {\n",
       "        vertical-align: top;\n",
       "    }\n",
       "</style>\n",
       "<table border=\"1\" class=\"dataframe\">\n",
       "  <thead>\n",
       "    <tr style=\"text-align: right;\">\n",
       "      <th></th>\n",
       "      <th>df</th>\n",
       "      <th>sum_sq</th>\n",
       "      <th>mean_sq</th>\n",
       "      <th>F</th>\n",
       "      <th>PR(&gt;F)</th>\n",
       "    </tr>\n",
       "  </thead>\n",
       "  <tbody>\n",
       "    <tr>\n",
       "      <th>C(f1)</th>\n",
       "      <td>1.0</td>\n",
       "      <td>261.122807</td>\n",
       "      <td>261.122807</td>\n",
       "      <td>20.084081</td>\n",
       "      <td>7.643521e-06</td>\n",
       "    </tr>\n",
       "    <tr>\n",
       "      <th>C(f2):C(f3)</th>\n",
       "      <td>75.0</td>\n",
       "      <td>15244.211750</td>\n",
       "      <td>203.256157</td>\n",
       "      <td>15.633307</td>\n",
       "      <td>1.582346e-166</td>\n",
       "    </tr>\n",
       "    <tr>\n",
       "      <th>C(f1):C(f2):C(f3)</th>\n",
       "      <td>75.0</td>\n",
       "      <td>1285.307208</td>\n",
       "      <td>17.137429</td>\n",
       "      <td>1.318114</td>\n",
       "      <td>3.575493e-02</td>\n",
       "    </tr>\n",
       "    <tr>\n",
       "      <th>Residual</th>\n",
       "      <td>3572.0</td>\n",
       "      <td>46441.291667</td>\n",
       "      <td>13.001481</td>\n",
       "      <td>NaN</td>\n",
       "      <td>NaN</td>\n",
       "    </tr>\n",
       "  </tbody>\n",
       "</table>\n",
       "</div>"
      ],
      "text/plain": [
       "                       df        sum_sq     mean_sq          F         PR(>F)\n",
       "C(f1)                 1.0    261.122807  261.122807  20.084081   7.643521e-06\n",
       "C(f2):C(f3)          75.0  15244.211750  203.256157  15.633307  1.582346e-166\n",
       "C(f1):C(f2):C(f3)    75.0   1285.307208   17.137429   1.318114   3.575493e-02\n",
       "Residual           3572.0  46441.291667   13.001481        NaN            NaN"
      ]
     },
     "execution_count": 19,
     "metadata": {},
     "output_type": "execute_result"
    }
   ],
   "source": [
    "smDF = pd.DataFrame(index=DF.index, columns=['target', 'f1', 'f2'])\n",
    "\n",
    "smDF['target'] = DF['Total Errors']\n",
    "smDF['f3'] = DF['Subject ID']\n",
    "smDF['f2'] = DF['Is Real']\n",
    "smDF['f1'] = DF['Condition']\n",
    "\n",
    "formula = 'target ~ C(f1) + C(f2):C(f3) + C(f1):C(f2):C(f3)'\n",
    "model = ols(formula, smDF).fit()\n",
    "\n",
    "anova_table = statsmodels.stats.anova.anova_lm(model, typ=1)\n",
    "anova_table"
   ]
  },
  {
   "cell_type": "code",
   "execution_count": 15,
   "metadata": {},
   "outputs": [
    {
     "data": {
      "text/html": [
       "<table class=\"simpletable\">\n",
       "<caption>OLS Regression Results</caption>\n",
       "<tr>\n",
       "  <th>Dep. Variable:</th>         <td>target</td>      <th>  R-squared:         </th> <td>   0.070</td> \n",
       "</tr>\n",
       "<tr>\n",
       "  <th>Model:</th>                   <td>OLS</td>       <th>  Adj. R-squared:    </th> <td>   0.069</td> \n",
       "</tr>\n",
       "<tr>\n",
       "  <th>Method:</th>             <td>Least Squares</td>  <th>  F-statistic:       </th> <td>   90.96</td> \n",
       "</tr>\n",
       "<tr>\n",
       "  <th>Date:</th>             <td>Sat, 10 Feb 2018</td> <th>  Prob (F-statistic):</th> <td>9.15e-57</td> \n",
       "</tr>\n",
       "<tr>\n",
       "  <th>Time:</th>                 <td>12:39:06</td>     <th>  Log-Likelihood:    </th> <td> -10210.</td> \n",
       "</tr>\n",
       "<tr>\n",
       "  <th>No. Observations:</th>      <td>  3648</td>      <th>  AIC:               </th> <td>2.043e+04</td>\n",
       "</tr>\n",
       "<tr>\n",
       "  <th>Df Residuals:</th>          <td>  3644</td>      <th>  BIC:               </th> <td>2.045e+04</td>\n",
       "</tr>\n",
       "<tr>\n",
       "  <th>Df Model:</th>              <td>     3</td>      <th>                     </th>     <td> </td>    \n",
       "</tr>\n",
       "<tr>\n",
       "  <th>Covariance Type:</th>      <td>nonrobust</td>    <th>                     </th>     <td> </td>    \n",
       "</tr>\n",
       "</table>\n",
       "<table class=\"simpletable\">\n",
       "<tr>\n",
       "                 <td></td>                   <th>coef</th>     <th>std err</th>      <th>t</th>      <th>P>|t|</th>  <th>[0.025</th>    <th>0.975]</th>  \n",
       "</tr>\n",
       "<tr>\n",
       "  <th>Intercept</th>                      <td>    7.4496</td> <td>    0.132</td> <td>   56.571</td> <td> 0.000</td> <td>    7.191</td> <td>    7.708</td>\n",
       "</tr>\n",
       "<tr>\n",
       "  <th>C(f1)[T.Trained]</th>               <td>   -0.5395</td> <td>    0.186</td> <td>   -2.897</td> <td> 0.004</td> <td>   -0.905</td> <td>   -0.174</td>\n",
       "</tr>\n",
       "<tr>\n",
       "  <th>C(f2)[T.True]</th>                  <td>   -2.1129</td> <td>    0.186</td> <td>  -11.346</td> <td> 0.000</td> <td>   -2.478</td> <td>   -1.748</td>\n",
       "</tr>\n",
       "<tr>\n",
       "  <th>C(f1)[T.Trained]:C(f2)[T.True]</th> <td>    0.0088</td> <td>    0.263</td> <td>    0.033</td> <td> 0.973</td> <td>   -0.508</td> <td>    0.525</td>\n",
       "</tr>\n",
       "</table>\n",
       "<table class=\"simpletable\">\n",
       "<tr>\n",
       "  <th>Omnibus:</th>       <td>131.596</td> <th>  Durbin-Watson:     </th> <td>   1.592</td>\n",
       "</tr>\n",
       "<tr>\n",
       "  <th>Prob(Omnibus):</th> <td> 0.000</td>  <th>  Jarque-Bera (JB):  </th> <td> 145.648</td>\n",
       "</tr>\n",
       "<tr>\n",
       "  <th>Skew:</th>          <td> 0.489</td>  <th>  Prob(JB):          </th> <td>2.36e-32</td>\n",
       "</tr>\n",
       "<tr>\n",
       "  <th>Kurtosis:</th>      <td> 3.024</td>  <th>  Cond. No.          </th> <td>    6.85</td>\n",
       "</tr>\n",
       "</table>"
      ],
      "text/plain": [
       "<class 'statsmodels.iolib.summary.Summary'>\n",
       "\"\"\"\n",
       "                            OLS Regression Results                            \n",
       "==============================================================================\n",
       "Dep. Variable:                 target   R-squared:                       0.070\n",
       "Model:                            OLS   Adj. R-squared:                  0.069\n",
       "Method:                 Least Squares   F-statistic:                     90.96\n",
       "Date:                Sat, 10 Feb 2018   Prob (F-statistic):           9.15e-57\n",
       "Time:                        12:39:06   Log-Likelihood:                -10210.\n",
       "No. Observations:                3648   AIC:                         2.043e+04\n",
       "Df Residuals:                    3644   BIC:                         2.045e+04\n",
       "Df Model:                           3                                         \n",
       "Covariance Type:            nonrobust                                         \n",
       "==================================================================================================\n",
       "                                     coef    std err          t      P>|t|      [0.025      0.975]\n",
       "--------------------------------------------------------------------------------------------------\n",
       "Intercept                          7.4496      0.132     56.571      0.000       7.191       7.708\n",
       "C(f1)[T.Trained]                  -0.5395      0.186     -2.897      0.004      -0.905      -0.174\n",
       "C(f2)[T.True]                     -2.1129      0.186    -11.346      0.000      -2.478      -1.748\n",
       "C(f1)[T.Trained]:C(f2)[T.True]     0.0088      0.263      0.033      0.973      -0.508       0.525\n",
       "==============================================================================\n",
       "Omnibus:                      131.596   Durbin-Watson:                   1.592\n",
       "Prob(Omnibus):                  0.000   Jarque-Bera (JB):              145.648\n",
       "Skew:                           0.489   Prob(JB):                     2.36e-32\n",
       "Kurtosis:                       3.024   Cond. No.                         6.85\n",
       "==============================================================================\n",
       "\n",
       "Warnings:\n",
       "[1] Standard Errors assume that the covariance matrix of the errors is correctly specified.\n",
       "\"\"\""
      ]
     },
     "execution_count": 15,
     "metadata": {},
     "output_type": "execute_result"
    }
   ],
   "source": [
    "model.summary()"
   ]
  },
  {
   "cell_type": "code",
   "execution_count": 20,
   "metadata": {},
   "outputs": [
    {
     "name": "stderr",
     "output_type": "stream",
     "text": [
      "/Users/gianni/anaconda/lib/python3.5/site-packages/scipy/stats/_distn_infrastructure.py:879: RuntimeWarning: invalid value encountered in greater\n",
      "  return (self.a < x) & (x < self.b)\n",
      "/Users/gianni/anaconda/lib/python3.5/site-packages/scipy/stats/_distn_infrastructure.py:879: RuntimeWarning: invalid value encountered in less\n",
      "  return (self.a < x) & (x < self.b)\n",
      "/Users/gianni/anaconda/lib/python3.5/site-packages/scipy/stats/_distn_infrastructure.py:1818: RuntimeWarning: invalid value encountered in less_equal\n",
      "  cond2 = cond0 & (x <= self.a)\n"
     ]
    },
    {
     "data": {
      "text/html": [
       "<div>\n",
       "<style>\n",
       "    .dataframe thead tr:only-child th {\n",
       "        text-align: right;\n",
       "    }\n",
       "\n",
       "    .dataframe thead th {\n",
       "        text-align: left;\n",
       "    }\n",
       "\n",
       "    .dataframe tbody tr th {\n",
       "        vertical-align: top;\n",
       "    }\n",
       "</style>\n",
       "<table border=\"1\" class=\"dataframe\">\n",
       "  <thead>\n",
       "    <tr style=\"text-align: right;\">\n",
       "      <th></th>\n",
       "      <th>df</th>\n",
       "      <th>sum_sq</th>\n",
       "      <th>mean_sq</th>\n",
       "      <th>F</th>\n",
       "      <th>PR(&gt;F)</th>\n",
       "    </tr>\n",
       "  </thead>\n",
       "  <tbody>\n",
       "    <tr>\n",
       "      <th>C(f1)</th>\n",
       "      <td>1.0</td>\n",
       "      <td>156.256853</td>\n",
       "      <td>156.256853</td>\n",
       "      <td>30.874751</td>\n",
       "      <td>2.949485e-08</td>\n",
       "    </tr>\n",
       "    <tr>\n",
       "      <th>C(f2)</th>\n",
       "      <td>1.0</td>\n",
       "      <td>301.645011</td>\n",
       "      <td>301.645011</td>\n",
       "      <td>59.601959</td>\n",
       "      <td>1.489725e-14</td>\n",
       "    </tr>\n",
       "    <tr>\n",
       "      <th>C(f1):C(f2)</th>\n",
       "      <td>1.0</td>\n",
       "      <td>12.908169</td>\n",
       "      <td>12.908169</td>\n",
       "      <td>2.550522</td>\n",
       "      <td>1.103445e-01</td>\n",
       "    </tr>\n",
       "    <tr>\n",
       "      <th>Residual</th>\n",
       "      <td>3644.0</td>\n",
       "      <td>18442.253289</td>\n",
       "      <td>5.060992</td>\n",
       "      <td>NaN</td>\n",
       "      <td>NaN</td>\n",
       "    </tr>\n",
       "  </tbody>\n",
       "</table>\n",
       "</div>"
      ],
      "text/plain": [
       "                 df        sum_sq     mean_sq          F        PR(>F)\n",
       "C(f1)           1.0    156.256853  156.256853  30.874751  2.949485e-08\n",
       "C(f2)           1.0    301.645011  301.645011  59.601959  1.489725e-14\n",
       "C(f1):C(f2)     1.0     12.908169   12.908169   2.550522  1.103445e-01\n",
       "Residual     3644.0  18442.253289    5.060992        NaN           NaN"
      ]
     },
     "execution_count": 20,
     "metadata": {},
     "output_type": "execute_result"
    }
   ],
   "source": [
    "smDF = pd.DataFrame(index=DF.index, columns=['target', 'f1', 'f2'])\n",
    "\n",
    "smDF['target'] = DF['Numerosity Error']\n",
    "smDF['f2'] = DF['Is Real']\n",
    "smDF['f1'] = DF['Condition']\n",
    "\n",
    "formula = 'target ~ C(f1) + C(f2) + C(f1):C(f2)'\n",
    "model = ols(formula, smDF).fit()\n",
    "\n",
    "anova_table = statsmodels.stats.anova.anova_lm(model, typ=1)\n",
    "anova_table"
   ]
  },
  {
   "cell_type": "code",
   "execution_count": 21,
   "metadata": {},
   "outputs": [
    {
     "name": "stderr",
     "output_type": "stream",
     "text": [
      "/Users/gianni/anaconda/lib/python3.5/site-packages/scipy/stats/_distn_infrastructure.py:879: RuntimeWarning: invalid value encountered in greater\n",
      "  return (self.a < x) & (x < self.b)\n",
      "/Users/gianni/anaconda/lib/python3.5/site-packages/scipy/stats/_distn_infrastructure.py:879: RuntimeWarning: invalid value encountered in less\n",
      "  return (self.a < x) & (x < self.b)\n",
      "/Users/gianni/anaconda/lib/python3.5/site-packages/scipy/stats/_distn_infrastructure.py:1818: RuntimeWarning: invalid value encountered in less_equal\n",
      "  cond2 = cond0 & (x <= self.a)\n"
     ]
    },
    {
     "data": {
      "text/html": [
       "<div>\n",
       "<style>\n",
       "    .dataframe thead tr:only-child th {\n",
       "        text-align: right;\n",
       "    }\n",
       "\n",
       "    .dataframe thead th {\n",
       "        text-align: left;\n",
       "    }\n",
       "\n",
       "    .dataframe tbody tr th {\n",
       "        vertical-align: top;\n",
       "    }\n",
       "</style>\n",
       "<table border=\"1\" class=\"dataframe\">\n",
       "  <thead>\n",
       "    <tr style=\"text-align: right;\">\n",
       "      <th></th>\n",
       "      <th>df</th>\n",
       "      <th>sum_sq</th>\n",
       "      <th>mean_sq</th>\n",
       "      <th>F</th>\n",
       "      <th>PR(&gt;F)</th>\n",
       "    </tr>\n",
       "  </thead>\n",
       "  <tbody>\n",
       "    <tr>\n",
       "      <th>C(f1)</th>\n",
       "      <td>1.0</td>\n",
       "      <td>261.122807</td>\n",
       "      <td>261.122807</td>\n",
       "      <td>21.166532</td>\n",
       "      <td>4.354946e-06</td>\n",
       "    </tr>\n",
       "    <tr>\n",
       "      <th>C(f2)</th>\n",
       "      <td>1.0</td>\n",
       "      <td>4054.746711</td>\n",
       "      <td>4054.746711</td>\n",
       "      <td>328.676489</td>\n",
       "      <td>2.236130e-70</td>\n",
       "    </tr>\n",
       "    <tr>\n",
       "      <th>C(f3)</th>\n",
       "      <td>7.0</td>\n",
       "      <td>12334.104167</td>\n",
       "      <td>1762.014881</td>\n",
       "      <td>142.828370</td>\n",
       "      <td>1.916405e-186</td>\n",
       "    </tr>\n",
       "    <tr>\n",
       "      <th>C(f1):C(f2)</th>\n",
       "      <td>1.0</td>\n",
       "      <td>0.017544</td>\n",
       "      <td>0.017544</td>\n",
       "      <td>0.001422</td>\n",
       "      <td>9.699204e-01</td>\n",
       "    </tr>\n",
       "    <tr>\n",
       "      <th>C(f2):C(f3)</th>\n",
       "      <td>7.0</td>\n",
       "      <td>622.358553</td>\n",
       "      <td>88.908365</td>\n",
       "      <td>7.206884</td>\n",
       "      <td>1.359510e-08</td>\n",
       "    </tr>\n",
       "    <tr>\n",
       "      <th>C(f1):C(f3)</th>\n",
       "      <td>7.0</td>\n",
       "      <td>22.236842</td>\n",
       "      <td>3.176692</td>\n",
       "      <td>0.257502</td>\n",
       "      <td>9.699207e-01</td>\n",
       "    </tr>\n",
       "    <tr>\n",
       "      <th>C(f1):C(f2):C(f3)</th>\n",
       "      <td>7.0</td>\n",
       "      <td>42.807018</td>\n",
       "      <td>6.115288</td>\n",
       "      <td>0.495703</td>\n",
       "      <td>8.383237e-01</td>\n",
       "    </tr>\n",
       "    <tr>\n",
       "      <th>Residual</th>\n",
       "      <td>3616.0</td>\n",
       "      <td>44609.105263</td>\n",
       "      <td>12.336589</td>\n",
       "      <td>NaN</td>\n",
       "      <td>NaN</td>\n",
       "    </tr>\n",
       "  </tbody>\n",
       "</table>\n",
       "</div>"
      ],
      "text/plain": [
       "                       df        sum_sq      mean_sq           F  \\\n",
       "C(f1)                 1.0    261.122807   261.122807   21.166532   \n",
       "C(f2)                 1.0   4054.746711  4054.746711  328.676489   \n",
       "C(f3)                 7.0  12334.104167  1762.014881  142.828370   \n",
       "C(f1):C(f2)           1.0      0.017544     0.017544    0.001422   \n",
       "C(f2):C(f3)           7.0    622.358553    88.908365    7.206884   \n",
       "C(f1):C(f3)           7.0     22.236842     3.176692    0.257502   \n",
       "C(f1):C(f2):C(f3)     7.0     42.807018     6.115288    0.495703   \n",
       "Residual           3616.0  44609.105263    12.336589         NaN   \n",
       "\n",
       "                          PR(>F)  \n",
       "C(f1)               4.354946e-06  \n",
       "C(f2)               2.236130e-70  \n",
       "C(f3)              1.916405e-186  \n",
       "C(f1):C(f2)         9.699204e-01  \n",
       "C(f2):C(f3)         1.359510e-08  \n",
       "C(f1):C(f3)         9.699207e-01  \n",
       "C(f1):C(f2):C(f3)   8.383237e-01  \n",
       "Residual                     NaN  "
      ]
     },
     "execution_count": 21,
     "metadata": {},
     "output_type": "execute_result"
    }
   ],
   "source": [
    "smDF = pd.DataFrame(index=DF.index, columns=['target', 'f1', 'f2'])\n",
    "\n",
    "smDF['target'] = DF['Total Errors']\n",
    "smDF['f2'] = DF['Is Real']\n",
    "smDF['f1'] = DF['Condition']\n",
    "smDF['f3'] = DF['Num Pieces']\n",
    "\n",
    "\n",
    "formula = 'target ~ C(f1) + C(f2) + C(f3) + C(f1):C(f2) + C(f2):C(f3) + C(f1):C(f3) + C(f1):C(f2):C(f3)'\n",
    "model = ols(formula, smDF).fit()\n",
    "\n",
    "anova_table = statsmodels.stats.anova.anova_lm(model, typ=1)\n",
    "anova_table"
   ]
  },
  {
   "cell_type": "code",
   "execution_count": 22,
   "metadata": {},
   "outputs": [
    {
     "data": {
      "text/html": [
       "<table class=\"simpletable\">\n",
       "<caption>OLS Regression Results</caption>\n",
       "<tr>\n",
       "  <th>Dep. Variable:</th>         <td>target</td>      <th>  R-squared:         </th> <td>   0.280</td> \n",
       "</tr>\n",
       "<tr>\n",
       "  <th>Model:</th>                   <td>OLS</td>       <th>  Adj. R-squared:    </th> <td>   0.274</td> \n",
       "</tr>\n",
       "<tr>\n",
       "  <th>Method:</th>             <td>Least Squares</td>  <th>  F-statistic:       </th> <td>   45.33</td> \n",
       "</tr>\n",
       "<tr>\n",
       "  <th>Date:</th>             <td>Tue, 06 Feb 2018</td> <th>  Prob (F-statistic):</th> <td>8.18e-231</td>\n",
       "</tr>\n",
       "<tr>\n",
       "  <th>Time:</th>                 <td>22:48:21</td>     <th>  Log-Likelihood:    </th> <td> -9743.1</td> \n",
       "</tr>\n",
       "<tr>\n",
       "  <th>No. Observations:</th>      <td>  3648</td>      <th>  AIC:               </th> <td>1.955e+04</td>\n",
       "</tr>\n",
       "<tr>\n",
       "  <th>Df Residuals:</th>          <td>  3616</td>      <th>  BIC:               </th> <td>1.975e+04</td>\n",
       "</tr>\n",
       "<tr>\n",
       "  <th>Df Model:</th>              <td>    31</td>      <th>                     </th>     <td> </td>    \n",
       "</tr>\n",
       "<tr>\n",
       "  <th>Covariance Type:</th>      <td>nonrobust</td>    <th>                     </th>     <td> </td>    \n",
       "</tr>\n",
       "</table>\n",
       "<table class=\"simpletable\">\n",
       "<tr>\n",
       "                       <td></td>                         <th>coef</th>     <th>std err</th>      <th>t</th>      <th>P>|t|</th>  <th>[0.025</th>    <th>0.975]</th>  \n",
       "</tr>\n",
       "<tr>\n",
       "  <th>Intercept</th>                                  <td>    4.4123</td> <td>    0.329</td> <td>   13.413</td> <td> 0.000</td> <td>    3.767</td> <td>    5.057</td>\n",
       "</tr>\n",
       "<tr>\n",
       "  <th>C(f1)[T.Trained]</th>                           <td>   -0.1579</td> <td>    0.465</td> <td>   -0.339</td> <td> 0.734</td> <td>   -1.070</td> <td>    0.754</td>\n",
       "</tr>\n",
       "<tr>\n",
       "  <th>C(f2)[T.True]</th>                              <td>   -1.3860</td> <td>    0.465</td> <td>   -2.979</td> <td> 0.003</td> <td>   -2.298</td> <td>   -0.474</td>\n",
       "</tr>\n",
       "<tr>\n",
       "  <th>C(f3)[T.12]</th>                                <td>    0.4211</td> <td>    0.465</td> <td>    0.905</td> <td> 0.365</td> <td>   -0.491</td> <td>    1.333</td>\n",
       "</tr>\n",
       "<tr>\n",
       "  <th>C(f3)[T.13]</th>                                <td>    1.6930</td> <td>    0.465</td> <td>    3.639</td> <td> 0.000</td> <td>    0.781</td> <td>    2.605</td>\n",
       "</tr>\n",
       "<tr>\n",
       "  <th>C(f3)[T.14]</th>                                <td>    3.5789</td> <td>    0.465</td> <td>    7.693</td> <td> 0.000</td> <td>    2.667</td> <td>    4.491</td>\n",
       "</tr>\n",
       "<tr>\n",
       "  <th>C(f3)[T.15]</th>                                <td>    3.1579</td> <td>    0.465</td> <td>    6.788</td> <td> 0.000</td> <td>    2.246</td> <td>    4.070</td>\n",
       "</tr>\n",
       "<tr>\n",
       "  <th>C(f3)[T.16]</th>                                <td>    4.5877</td> <td>    0.465</td> <td>    9.861</td> <td> 0.000</td> <td>    3.676</td> <td>    5.500</td>\n",
       "</tr>\n",
       "<tr>\n",
       "  <th>C(f3)[T.17]</th>                                <td>    4.8421</td> <td>    0.465</td> <td>   10.408</td> <td> 0.000</td> <td>    3.930</td> <td>    5.754</td>\n",
       "</tr>\n",
       "<tr>\n",
       "  <th>C(f3)[T.18]</th>                                <td>    6.0175</td> <td>    0.465</td> <td>   12.935</td> <td> 0.000</td> <td>    5.105</td> <td>    6.930</td>\n",
       "</tr>\n",
       "<tr>\n",
       "  <th>C(f1)[T.Trained]:C(f2)[T.True]</th>             <td>   -0.4386</td> <td>    0.658</td> <td>   -0.667</td> <td> 0.505</td> <td>   -1.729</td> <td>    0.851</td>\n",
       "</tr>\n",
       "<tr>\n",
       "  <th>C(f2)[T.True]:C(f3)[T.12]</th>                  <td>   -0.0965</td> <td>    0.658</td> <td>   -0.147</td> <td> 0.883</td> <td>   -1.386</td> <td>    1.193</td>\n",
       "</tr>\n",
       "<tr>\n",
       "  <th>C(f2)[T.True]:C(f3)[T.13]</th>                  <td>   -1.2719</td> <td>    0.658</td> <td>   -1.933</td> <td> 0.053</td> <td>   -2.562</td> <td>    0.018</td>\n",
       "</tr>\n",
       "<tr>\n",
       "  <th>C(f2)[T.True]:C(f3)[T.14]</th>                  <td>   -1.6842</td> <td>    0.658</td> <td>   -2.560</td> <td> 0.011</td> <td>   -2.974</td> <td>   -0.394</td>\n",
       "</tr>\n",
       "<tr>\n",
       "  <th>C(f2)[T.True]:C(f3)[T.15]</th>                  <td>    0.2018</td> <td>    0.658</td> <td>    0.307</td> <td> 0.759</td> <td>   -1.088</td> <td>    1.492</td>\n",
       "</tr>\n",
       "<tr>\n",
       "  <th>C(f2)[T.True]:C(f3)[T.16]</th>                  <td>   -1.0614</td> <td>    0.658</td> <td>   -1.613</td> <td> 0.107</td> <td>   -2.351</td> <td>    0.229</td>\n",
       "</tr>\n",
       "<tr>\n",
       "  <th>C(f2)[T.True]:C(f3)[T.17]</th>                  <td>    0.3158</td> <td>    0.658</td> <td>    0.480</td> <td> 0.631</td> <td>   -0.974</td> <td>    1.606</td>\n",
       "</tr>\n",
       "<tr>\n",
       "  <th>C(f2)[T.True]:C(f3)[T.18]</th>                  <td>   -2.2193</td> <td>    0.658</td> <td>   -3.373</td> <td> 0.001</td> <td>   -3.509</td> <td>   -0.929</td>\n",
       "</tr>\n",
       "<tr>\n",
       "  <th>C(f1)[T.Trained]:C(f3)[T.12]</th>               <td>   -0.5965</td> <td>    0.658</td> <td>   -0.907</td> <td> 0.365</td> <td>   -1.886</td> <td>    0.693</td>\n",
       "</tr>\n",
       "<tr>\n",
       "  <th>C(f1)[T.Trained]:C(f3)[T.13]</th>               <td>   -0.1579</td> <td>    0.658</td> <td>   -0.240</td> <td> 0.810</td> <td>   -1.448</td> <td>    1.132</td>\n",
       "</tr>\n",
       "<tr>\n",
       "  <th>C(f1)[T.Trained]:C(f3)[T.14]</th>               <td>   -0.5351</td> <td>    0.658</td> <td>   -0.813</td> <td> 0.416</td> <td>   -1.825</td> <td>    0.755</td>\n",
       "</tr>\n",
       "<tr>\n",
       "  <th>C(f1)[T.Trained]:C(f3)[T.15]</th>               <td>   -0.4825</td> <td>    0.658</td> <td>   -0.733</td> <td> 0.463</td> <td>   -1.772</td> <td>    0.807</td>\n",
       "</tr>\n",
       "<tr>\n",
       "  <th>C(f1)[T.Trained]:C(f3)[T.16]</th>               <td>   -0.7632</td> <td>    0.658</td> <td>   -1.160</td> <td> 0.246</td> <td>   -2.053</td> <td>    0.527</td>\n",
       "</tr>\n",
       "<tr>\n",
       "  <th>C(f1)[T.Trained]:C(f3)[T.17]</th>               <td>    0.1754</td> <td>    0.658</td> <td>    0.267</td> <td> 0.790</td> <td>   -1.114</td> <td>    1.465</td>\n",
       "</tr>\n",
       "<tr>\n",
       "  <th>C(f1)[T.Trained]:C(f3)[T.18]</th>               <td>   -0.6930</td> <td>    0.658</td> <td>   -1.053</td> <td> 0.292</td> <td>   -1.983</td> <td>    0.597</td>\n",
       "</tr>\n",
       "<tr>\n",
       "  <th>C(f1)[T.Trained]:C(f2)[T.True]:C(f3)[T.12]</th> <td>    0.7018</td> <td>    0.930</td> <td>    0.754</td> <td> 0.451</td> <td>   -1.122</td> <td>    2.526</td>\n",
       "</tr>\n",
       "<tr>\n",
       "  <th>C(f1)[T.Trained]:C(f2)[T.True]:C(f3)[T.13]</th> <td>    0.4737</td> <td>    0.930</td> <td>    0.509</td> <td> 0.611</td> <td>   -1.351</td> <td>    2.298</td>\n",
       "</tr>\n",
       "<tr>\n",
       "  <th>C(f1)[T.Trained]:C(f2)[T.True]:C(f3)[T.14]</th> <td>    0.2807</td> <td>    0.930</td> <td>    0.302</td> <td> 0.763</td> <td>   -1.544</td> <td>    2.105</td>\n",
       "</tr>\n",
       "<tr>\n",
       "  <th>C(f1)[T.Trained]:C(f2)[T.True]:C(f3)[T.15]</th> <td>    0.6754</td> <td>    0.930</td> <td>    0.726</td> <td> 0.468</td> <td>   -1.149</td> <td>    2.500</td>\n",
       "</tr>\n",
       "<tr>\n",
       "  <th>C(f1)[T.Trained]:C(f2)[T.True]:C(f3)[T.16]</th> <td>    1.0614</td> <td>    0.930</td> <td>    1.141</td> <td> 0.254</td> <td>   -0.763</td> <td>    2.886</td>\n",
       "</tr>\n",
       "<tr>\n",
       "  <th>C(f1)[T.Trained]:C(f2)[T.True]:C(f3)[T.17]</th> <td>   -0.3772</td> <td>    0.930</td> <td>   -0.405</td> <td> 0.685</td> <td>   -2.201</td> <td>    1.447</td>\n",
       "</tr>\n",
       "<tr>\n",
       "  <th>C(f1)[T.Trained]:C(f2)[T.True]:C(f3)[T.18]</th> <td>    0.7632</td> <td>    0.930</td> <td>    0.820</td> <td> 0.412</td> <td>   -1.061</td> <td>    2.587</td>\n",
       "</tr>\n",
       "</table>\n",
       "<table class=\"simpletable\">\n",
       "<tr>\n",
       "  <th>Omnibus:</th>       <td>174.126</td> <th>  Durbin-Watson:     </th> <td>   1.486</td>\n",
       "</tr>\n",
       "<tr>\n",
       "  <th>Prob(Omnibus):</th> <td> 0.000</td>  <th>  Jarque-Bera (JB):  </th> <td> 201.298</td>\n",
       "</tr>\n",
       "<tr>\n",
       "  <th>Skew:</th>          <td> 0.538</td>  <th>  Prob(JB):          </th> <td>1.94e-44</td>\n",
       "</tr>\n",
       "<tr>\n",
       "  <th>Kurtosis:</th>      <td> 3.410</td>  <th>  Cond. No.          </th> <td>    60.9</td>\n",
       "</tr>\n",
       "</table>"
      ],
      "text/plain": [
       "<class 'statsmodels.iolib.summary.Summary'>\n",
       "\"\"\"\n",
       "                            OLS Regression Results                            \n",
       "==============================================================================\n",
       "Dep. Variable:                 target   R-squared:                       0.280\n",
       "Model:                            OLS   Adj. R-squared:                  0.274\n",
       "Method:                 Least Squares   F-statistic:                     45.33\n",
       "Date:                Tue, 06 Feb 2018   Prob (F-statistic):          8.18e-231\n",
       "Time:                        22:48:21   Log-Likelihood:                -9743.1\n",
       "No. Observations:                3648   AIC:                         1.955e+04\n",
       "Df Residuals:                    3616   BIC:                         1.975e+04\n",
       "Df Model:                          31                                         \n",
       "Covariance Type:            nonrobust                                         \n",
       "==============================================================================================================\n",
       "                                                 coef    std err          t      P>|t|      [0.025      0.975]\n",
       "--------------------------------------------------------------------------------------------------------------\n",
       "Intercept                                      4.4123      0.329     13.413      0.000       3.767       5.057\n",
       "C(f1)[T.Trained]                              -0.1579      0.465     -0.339      0.734      -1.070       0.754\n",
       "C(f2)[T.True]                                 -1.3860      0.465     -2.979      0.003      -2.298      -0.474\n",
       "C(f3)[T.12]                                    0.4211      0.465      0.905      0.365      -0.491       1.333\n",
       "C(f3)[T.13]                                    1.6930      0.465      3.639      0.000       0.781       2.605\n",
       "C(f3)[T.14]                                    3.5789      0.465      7.693      0.000       2.667       4.491\n",
       "C(f3)[T.15]                                    3.1579      0.465      6.788      0.000       2.246       4.070\n",
       "C(f3)[T.16]                                    4.5877      0.465      9.861      0.000       3.676       5.500\n",
       "C(f3)[T.17]                                    4.8421      0.465     10.408      0.000       3.930       5.754\n",
       "C(f3)[T.18]                                    6.0175      0.465     12.935      0.000       5.105       6.930\n",
       "C(f1)[T.Trained]:C(f2)[T.True]                -0.4386      0.658     -0.667      0.505      -1.729       0.851\n",
       "C(f2)[T.True]:C(f3)[T.12]                     -0.0965      0.658     -0.147      0.883      -1.386       1.193\n",
       "C(f2)[T.True]:C(f3)[T.13]                     -1.2719      0.658     -1.933      0.053      -2.562       0.018\n",
       "C(f2)[T.True]:C(f3)[T.14]                     -1.6842      0.658     -2.560      0.011      -2.974      -0.394\n",
       "C(f2)[T.True]:C(f3)[T.15]                      0.2018      0.658      0.307      0.759      -1.088       1.492\n",
       "C(f2)[T.True]:C(f3)[T.16]                     -1.0614      0.658     -1.613      0.107      -2.351       0.229\n",
       "C(f2)[T.True]:C(f3)[T.17]                      0.3158      0.658      0.480      0.631      -0.974       1.606\n",
       "C(f2)[T.True]:C(f3)[T.18]                     -2.2193      0.658     -3.373      0.001      -3.509      -0.929\n",
       "C(f1)[T.Trained]:C(f3)[T.12]                  -0.5965      0.658     -0.907      0.365      -1.886       0.693\n",
       "C(f1)[T.Trained]:C(f3)[T.13]                  -0.1579      0.658     -0.240      0.810      -1.448       1.132\n",
       "C(f1)[T.Trained]:C(f3)[T.14]                  -0.5351      0.658     -0.813      0.416      -1.825       0.755\n",
       "C(f1)[T.Trained]:C(f3)[T.15]                  -0.4825      0.658     -0.733      0.463      -1.772       0.807\n",
       "C(f1)[T.Trained]:C(f3)[T.16]                  -0.7632      0.658     -1.160      0.246      -2.053       0.527\n",
       "C(f1)[T.Trained]:C(f3)[T.17]                   0.1754      0.658      0.267      0.790      -1.114       1.465\n",
       "C(f1)[T.Trained]:C(f3)[T.18]                  -0.6930      0.658     -1.053      0.292      -1.983       0.597\n",
       "C(f1)[T.Trained]:C(f2)[T.True]:C(f3)[T.12]     0.7018      0.930      0.754      0.451      -1.122       2.526\n",
       "C(f1)[T.Trained]:C(f2)[T.True]:C(f3)[T.13]     0.4737      0.930      0.509      0.611      -1.351       2.298\n",
       "C(f1)[T.Trained]:C(f2)[T.True]:C(f3)[T.14]     0.2807      0.930      0.302      0.763      -1.544       2.105\n",
       "C(f1)[T.Trained]:C(f2)[T.True]:C(f3)[T.15]     0.6754      0.930      0.726      0.468      -1.149       2.500\n",
       "C(f1)[T.Trained]:C(f2)[T.True]:C(f3)[T.16]     1.0614      0.930      1.141      0.254      -0.763       2.886\n",
       "C(f1)[T.Trained]:C(f2)[T.True]:C(f3)[T.17]    -0.3772      0.930     -0.405      0.685      -2.201       1.447\n",
       "C(f1)[T.Trained]:C(f2)[T.True]:C(f3)[T.18]     0.7632      0.930      0.820      0.412      -1.061       2.587\n",
       "==============================================================================\n",
       "Omnibus:                      174.126   Durbin-Watson:                   1.486\n",
       "Prob(Omnibus):                  0.000   Jarque-Bera (JB):              201.298\n",
       "Skew:                           0.538   Prob(JB):                     1.94e-44\n",
       "Kurtosis:                       3.410   Cond. No.                         60.9\n",
       "==============================================================================\n",
       "\n",
       "Warnings:\n",
       "[1] Standard Errors assume that the covariance matrix of the errors is correctly specified.\n",
       "\"\"\""
      ]
     },
     "execution_count": 22,
     "metadata": {},
     "output_type": "execute_result"
    }
   ],
   "source": [
    "model.summary()"
   ]
  },
  {
   "cell_type": "code",
   "execution_count": 23,
   "metadata": {},
   "outputs": [
    {
     "name": "stderr",
     "output_type": "stream",
     "text": [
      "/Users/gianni/anaconda/lib/python3.5/site-packages/scipy/stats/_distn_infrastructure.py:879: RuntimeWarning: invalid value encountered in greater\n",
      "  return (self.a < x) & (x < self.b)\n",
      "/Users/gianni/anaconda/lib/python3.5/site-packages/scipy/stats/_distn_infrastructure.py:879: RuntimeWarning: invalid value encountered in less\n",
      "  return (self.a < x) & (x < self.b)\n",
      "/Users/gianni/anaconda/lib/python3.5/site-packages/scipy/stats/_distn_infrastructure.py:1818: RuntimeWarning: invalid value encountered in less_equal\n",
      "  cond2 = cond0 & (x <= self.a)\n"
     ]
    },
    {
     "data": {
      "text/html": [
       "<div>\n",
       "<style>\n",
       "    .dataframe thead tr:only-child th {\n",
       "        text-align: right;\n",
       "    }\n",
       "\n",
       "    .dataframe thead th {\n",
       "        text-align: left;\n",
       "    }\n",
       "\n",
       "    .dataframe tbody tr th {\n",
       "        vertical-align: top;\n",
       "    }\n",
       "</style>\n",
       "<table border=\"1\" class=\"dataframe\">\n",
       "  <thead>\n",
       "    <tr style=\"text-align: right;\">\n",
       "      <th></th>\n",
       "      <th>df</th>\n",
       "      <th>sum_sq</th>\n",
       "      <th>mean_sq</th>\n",
       "      <th>F</th>\n",
       "      <th>PR(&gt;F)</th>\n",
       "    </tr>\n",
       "  </thead>\n",
       "  <tbody>\n",
       "    <tr>\n",
       "      <th>C(f1)</th>\n",
       "      <td>1.0</td>\n",
       "      <td>156.256853</td>\n",
       "      <td>156.256853</td>\n",
       "      <td>40.270374</td>\n",
       "      <td>2.485285e-10</td>\n",
       "    </tr>\n",
       "    <tr>\n",
       "      <th>C(f2)</th>\n",
       "      <td>1.0</td>\n",
       "      <td>301.645011</td>\n",
       "      <td>301.645011</td>\n",
       "      <td>77.739677</td>\n",
       "      <td>1.793649e-18</td>\n",
       "    </tr>\n",
       "    <tr>\n",
       "      <th>C(f3)</th>\n",
       "      <td>7.0</td>\n",
       "      <td>4231.271656</td>\n",
       "      <td>604.467379</td>\n",
       "      <td>155.782781</td>\n",
       "      <td>1.199716e-201</td>\n",
       "    </tr>\n",
       "    <tr>\n",
       "      <th>C(f1):C(f2)</th>\n",
       "      <td>1.0</td>\n",
       "      <td>12.908169</td>\n",
       "      <td>12.908169</td>\n",
       "      <td>3.326682</td>\n",
       "      <td>6.824678e-02</td>\n",
       "    </tr>\n",
       "    <tr>\n",
       "      <th>C(f2):C(f3)</th>\n",
       "      <td>7.0</td>\n",
       "      <td>124.493147</td>\n",
       "      <td>17.784735</td>\n",
       "      <td>4.583466</td>\n",
       "      <td>4.123037e-05</td>\n",
       "    </tr>\n",
       "    <tr>\n",
       "      <th>C(f1):C(f3)</th>\n",
       "      <td>7.0</td>\n",
       "      <td>45.898849</td>\n",
       "      <td>6.556978</td>\n",
       "      <td>1.689858</td>\n",
       "      <td>1.067098e-01</td>\n",
       "    </tr>\n",
       "    <tr>\n",
       "      <th>C(f1):C(f2):C(f3)</th>\n",
       "      <td>7.0</td>\n",
       "      <td>9.808936</td>\n",
       "      <td>1.401277</td>\n",
       "      <td>0.361136</td>\n",
       "      <td>9.249118e-01</td>\n",
       "    </tr>\n",
       "    <tr>\n",
       "      <th>Residual</th>\n",
       "      <td>3616.0</td>\n",
       "      <td>14030.780702</td>\n",
       "      <td>3.880194</td>\n",
       "      <td>NaN</td>\n",
       "      <td>NaN</td>\n",
       "    </tr>\n",
       "  </tbody>\n",
       "</table>\n",
       "</div>"
      ],
      "text/plain": [
       "                       df        sum_sq     mean_sq           F         PR(>F)\n",
       "C(f1)                 1.0    156.256853  156.256853   40.270374   2.485285e-10\n",
       "C(f2)                 1.0    301.645011  301.645011   77.739677   1.793649e-18\n",
       "C(f3)                 7.0   4231.271656  604.467379  155.782781  1.199716e-201\n",
       "C(f1):C(f2)           1.0     12.908169   12.908169    3.326682   6.824678e-02\n",
       "C(f2):C(f3)           7.0    124.493147   17.784735    4.583466   4.123037e-05\n",
       "C(f1):C(f3)           7.0     45.898849    6.556978    1.689858   1.067098e-01\n",
       "C(f1):C(f2):C(f3)     7.0      9.808936    1.401277    0.361136   9.249118e-01\n",
       "Residual           3616.0  14030.780702    3.880194         NaN            NaN"
      ]
     },
     "execution_count": 23,
     "metadata": {},
     "output_type": "execute_result"
    }
   ],
   "source": [
    "smDF = pd.DataFrame(index=DF.index, columns=['target', 'f1', 'f2'])\n",
    "\n",
    "smDF['target'] = DF['Numerosity Error']\n",
    "smDF['f2'] = DF['Is Real']\n",
    "smDF['f1'] = DF['Condition']\n",
    "smDF['f3'] = DF['Num Pieces']\n",
    "\n",
    "\n",
    "formula = 'target ~ C(f1) + C(f2) + C(f3) + C(f1):C(f2) + C(f2):C(f3) + C(f1):C(f3) + C(f1):C(f2):C(f3)'\n",
    "model = ols(formula, smDF).fit()\n",
    "\n",
    "anova_table = statsmodels.stats.anova.anova_lm(model, typ=1)\n",
    "anova_table"
   ]
  },
  {
   "cell_type": "code",
   "execution_count": 21,
   "metadata": {
    "scrolled": true
   },
   "outputs": [
    {
     "data": {
      "image/png": "[encoded data removed]",
      "text/plain": [
       "<matplotlib.figure.Figure at 0x1c0dbf63c8>"
      ]
     },
     "metadata": {},
     "output_type": "display_data"
    }
   ],
   "source": [
    "sns.barplot(x='Is Real', y='Total Errors', hue='Condition', data=DF)\n",
    "sns.despine()"
   ]
  },
  {
   "cell_type": "code",
   "execution_count": 22,
   "metadata": {
    "scrolled": true
   },
   "outputs": [
    {
     "data": {
      "image/png": "[encoded data removed]",
      "text/plain": [
       "<matplotlib.figure.Figure at 0x1c0d6eb668>"
      ]
     },
     "metadata": {},
     "output_type": "display_data"
    }
   ],
   "source": [
    "sns.barplot(x='Condition', y='Numerosity Error', hue='Is Real', data=DF)\n",
    "ax = plt.gca()\n",
    "ax.legend(loc=0)\n",
    "sns.despine()"
   ]
  },
  {
   "cell_type": "code",
   "execution_count": null,
   "metadata": {
    "collapsed": true
   },
   "outputs": [],
   "source": [
    "sns.plot(x='Position ID', y='Total Errors', hue='')"
   ]
  },
  {
   "cell_type": "code",
   "execution_count": 31,
   "metadata": {},
   "outputs": [
    {
     "data": {
      "text/plain": [
       "array(['Trained', 'Naive'], dtype=object)"
      ]
     },
     "execution_count": 31,
     "metadata": {},
     "output_type": "execute_result"
    }
   ],
   "source": [
    "DF.Condition.unique()"
   ]
  },
  {
   "cell_type": "code",
   "execution_count": 39,
   "metadata": {
    "scrolled": true
   },
   "outputs": [
    {
     "ename": "ValueError",
     "evalue": "Cannot sort by duplicate column Num Pieces",
     "output_type": "error",
     "traceback": [
      "\u001b[0;31m---------------------------------------------------------------------------\u001b[0m",
      "\u001b[0;31mValueError\u001b[0m                                Traceback (most recent call last)",
      "\u001b[0;32m<ipython-input-39-1f0f543e7566>\u001b[0m in \u001b[0;36m<module>\u001b[0;34m()\u001b[0m\n\u001b[1;32m      1\u001b[0m \u001b[0mpidpiv\u001b[0m \u001b[0;34m=\u001b[0m \u001b[0mDF\u001b[0m\u001b[0;34m.\u001b[0m\u001b[0mpivot_table\u001b[0m\u001b[0;34m(\u001b[0m\u001b[0mindex\u001b[0m\u001b[0;34m=\u001b[0m\u001b[0;34m'Position ID'\u001b[0m\u001b[0;34m,\u001b[0m \u001b[0mvalues\u001b[0m\u001b[0;34m=\u001b[0m\u001b[0;34m[\u001b[0m\u001b[0;34m'Total Errors'\u001b[0m\u001b[0;34m,\u001b[0m \u001b[0;34m'Num Pieces'\u001b[0m\u001b[0;34m]\u001b[0m\u001b[0;34m,\u001b[0m \u001b[0mcolumns\u001b[0m\u001b[0;34m=\u001b[0m\u001b[0;34m'Condition'\u001b[0m\u001b[0;34m)\u001b[0m\u001b[0;34m\u001b[0m\u001b[0m\n\u001b[0;32m----> 2\u001b[0;31m \u001b[0mpidpiv\u001b[0m\u001b[0;34m.\u001b[0m\u001b[0msort_values\u001b[0m\u001b[0;34m(\u001b[0m\u001b[0;34m[\u001b[0m\u001b[0;34m'Num Pieces'\u001b[0m\u001b[0;34m,\u001b[0m \u001b[0;34m'Trained'\u001b[0m\u001b[0;34m]\u001b[0m\u001b[0;34m)\u001b[0m\u001b[0;34m\u001b[0m\u001b[0m\n\u001b[0m",
      "\u001b[0;32m~/anaconda/lib/python3.5/site-packages/pandas/core/frame.py\u001b[0m in \u001b[0;36msort_values\u001b[0;34m(self, by, axis, ascending, inplace, kind, na_position)\u001b[0m\n\u001b[1;32m   3175\u001b[0m                 \u001b[0;32mif\u001b[0m \u001b[0mk\u001b[0m\u001b[0;34m.\u001b[0m\u001b[0mndim\u001b[0m \u001b[0;34m==\u001b[0m \u001b[0;36m2\u001b[0m\u001b[0;34m:\u001b[0m\u001b[0;34m\u001b[0m\u001b[0m\n\u001b[1;32m   3176\u001b[0m                     raise ValueError('Cannot sort by duplicate column %s' %\n\u001b[0;32m-> 3177\u001b[0;31m                                      str(x))\n\u001b[0m\u001b[1;32m   3178\u001b[0m                 \u001b[0mkeys\u001b[0m\u001b[0;34m.\u001b[0m\u001b[0mappend\u001b[0m\u001b[0;34m(\u001b[0m\u001b[0mtrans\u001b[0m\u001b[0;34m(\u001b[0m\u001b[0mk\u001b[0m\u001b[0;34m)\u001b[0m\u001b[0;34m)\u001b[0m\u001b[0;34m\u001b[0m\u001b[0m\n\u001b[1;32m   3179\u001b[0m             indexer = lexsort_indexer(keys, orders=ascending,\n",
      "\u001b[0;31mValueError\u001b[0m: Cannot sort by duplicate column Num Pieces"
     ]
    }
   ],
   "source": [
    "pidpiv = DF.pivot_table(index='Position ID', values=['Total Errors', 'Num Pieces'], columns='Condition')\n",
    "pidpiv.sort_values(['Num Pieces', 'Trained'])"
   ]
  },
  {
   "cell_type": "code",
   "execution_count": 35,
   "metadata": {},
   "outputs": [
    {
     "data": {
      "image/png": "[encoded data removed]",
      "text/plain": [
       "<matplotlib.figure.Figure at 0x1c1ba8b470>"
      ]
     },
     "metadata": {},
     "output_type": "display_data"
    }
   ],
   "source": [
    "pidpiv = pidpiv.sort_values('Trained')\n",
    "plt.plot(pidpiv['Trained'].values, label='Trained')\n",
    "plt.plot(pidpiv['Trained']['False'].values, label='Naive')\n",
    "\n",
    "ax = plt.gca()\n",
    "ax.legend(loc=0)\n",
    "sns.despine()"
   ]
  },
  {
   "cell_type": "markdown",
   "metadata": {},
   "source": [
    "## Scrap\n",
    "\n",
    "Make this into a standalone script at some point"
   ]
  },
  {
   "cell_type": "code",
   "execution_count": 19,
   "metadata": {
    "collapsed": true
   },
   "outputs": [],
   "source": [
    "with open('../etc/4 Reconstruction/stimuli.txt', mode='r') as f:\n",
    "    positions = f.readlines()\n",
    "    \n",
    "def strip_position(position_string):\n",
    "    s = [p.strip(\"'\") for p in position_string.split('(')[1].split(')')[0].split(', ')[:2]]\n",
    "    return s[0] + s[1]\n",
    "\n",
    "stimuli = list(map(strip_position, positions))\n",
    "fake_mask = np.ones(len(stimuli), dtype=int)\n",
    "fake_mask[:len(stimuli)//2] = 0\n",
    "\n",
    "stim_map = pd.DataFrame(index=stimuli, data=fake_mask.astype(bool), columns=['Is Real'])\n",
    "stim_map['Position ID'] = np.arange(len(stim_map), dtype=int)\n",
    "stim_map['Position dummy'] = stim_map.index\n",
    "stim_map = stim_map.drop_duplicates(subset='Position dummy')\n",
    "stim_map[['Is Real', 'Position ID']].to_csv('../etc/4 Reconstruction/position_map.csv', )"
   ]
  },
  {
   "cell_type": "code",
   "execution_count": 20,
   "metadata": {
    "collapsed": true
   },
   "outputs": [],
   "source": [
    "stim_map = pd.read_csv('../etc/4 Reconstruction/position_map.csv', index_col=0, skiprows=1, names=['Position', 'Is Real', 'Position ID'])"
   ]
  }
 ],
 "metadata": {
  "kernelspec": {
   "display_name": "Python [default]",
   "language": "python",
   "name": "python3"
  },
  "language_info": {
   "codemirror_mode": {
    "name": "ipython",
    "version": 3
   },
   "file_extension": ".py",
   "mimetype": "text/x-python",
   "name": "python",
   "nbconvert_exporter": "python",
   "pygments_lexer": "ipython3",
   "version": "3.5.5"
  }
 },
 "nbformat": 4,
 "nbformat_minor": 2
}
