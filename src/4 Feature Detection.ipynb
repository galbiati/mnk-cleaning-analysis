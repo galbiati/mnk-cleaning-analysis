{
 "cells": [
  {
   "cell_type": "code",
   "execution_count": 1,
   "metadata": {},
   "outputs": [],
   "source": [
    "# Are subjects more likely to reproduce some features than others? *\n",
    "# Are trained subjects more likely to reproduce game set features? ***\n",
    "# Probability of missing a piece that is / is not part of a feature (or by # of features piece is part of)"
   ]
  },
  {
   "cell_type": "code",
   "execution_count": 1,
   "metadata": {},
   "outputs": [
    {
     "name": "stderr",
     "output_type": "stream",
     "text": [
      "/Users/gianni/anaconda/lib/python3.5/importlib/_bootstrap.py:222: RuntimeWarning: numpy.dtype size changed, may indicate binary incompatibility. Expected 96, got 88\n",
      "  return f(*args, **kwds)\n",
      "/Users/gianni/anaconda/lib/python3.5/importlib/_bootstrap.py:222: RuntimeWarning: numpy.dtype size changed, may indicate binary incompatibility. Expected 96, got 88\n",
      "  return f(*args, **kwds)\n"
     ]
    }
   ],
   "source": [
    "import os\n",
    "\n",
    "import numpy as np\n",
    "import pandas as pd\n",
    "import scipy.stats as sts\n",
    "\n",
    "import matplotlib.pyplot as plt\n",
    "import seaborn as sns\n",
    "\n",
    "import statsmodels\n",
    "import statsmodels.api as sm\n",
    "import statsmodels.formula.api as smf\n",
    "\n",
    "import lib.exp4 as exp4\n",
    "import lib.reconstruction.errors as errs\n",
    "import lib.reconstruction.features as ftrs\n",
    "import lib.reconstruction.neighbors as nbrs\n",
    "\n",
    "import lib.utility_functions as uf\n",
    "import lib.util.datatype_utilities as dtutils\n",
    "\n",
    "# Config\n",
    "sns.set_style('white')\n",
    "sns.set_context('talk')\n",
    "\n",
    "pd.set_option('display.max_columns', 40)\n",
    "\n",
    "% matplotlib inline"
   ]
  },
  {
   "cell_type": "code",
   "execution_count": 24,
   "metadata": {},
   "outputs": [],
   "source": [
    "tidy = pd.read_csv('./tidy_data.csv', index_col=0)\n",
    "tidy['Condition'] = tidy['Condition'].map(lambda x: 'Untrained' if x == 'Naive' else x)\n",
    "tidy['Position ID'] = tidy['Position ID'].map(int)\n",
    "\n",
    "vals = ['Black Position', 'White Position', 'Is Real', 'Num Pieces']\n",
    "\n",
    "board_set = tidy.pivot_table(index='Position ID', values=vals, aggfunc=lambda x: x.unique()[0])[vals]"
   ]
  },
  {
   "cell_type": "code",
   "execution_count": 25,
   "metadata": {},
   "outputs": [],
   "source": [
    "def count_all_features(row):\n",
    "    features = ['1100', '1010', '1001', '1110', '1101', '1111']\n",
    "    bp = row['Black Position']\n",
    "    wp = row['White Position']\n",
    "    \n",
    "    output_dict = {}\n",
    "    for feature in features:\n",
    "        bcount, wcount = ftrs._count_feature(bp, wp, feature)\n",
    "        \n",
    "        output_dict[feature + 'b'] = bcount\n",
    "        output_dict[feature + 'w'] = wcount\n",
    "        \n",
    "    return output_dict"
   ]
  },
  {
   "cell_type": "code",
   "execution_count": 26,
   "metadata": {},
   "outputs": [],
   "source": [
    "# def _detect_type_2_error(bi, bf, wi, wf):\n",
    "#     final_empty = ((bf == '0') and (wf == '0')) \n",
    "#     original_not_empty = ((bi == '1') or (wi == '1'))\n",
    "    \n",
    "#     return int(original_empty and final_not_empty)\n",
    "\n",
    "# def _detect_type_3_error(bi, bf, wi, wf):\n",
    "#     b2w = ((bi == '1') and (wf == '1'))\n",
    "#     w2b = ((wi == '1') and (bf == '1'))\n",
    "    \n",
    "#     return int(b2w or w2b)\n",
    "\n",
    "# def count_all_errors(row):\n",
    "#     bpi = row['Black Position']\n",
    "#     bpf = row['Black Position (final)']\n",
    "    \n",
    "#     wpi = row['White Position']\n",
    "#     wpf = row['White Position (final)']\n",
    "    \n",
    "    \n",
    "#     type_2_errors = [\n",
    "#         _detect_type_2_error(bi, bf, wi, wf)\n",
    "#         for bi, bf, wi, wf in zip(bpi, bpf, wpi, wpf)\n",
    "#     ]\n",
    "    \n",
    "#     type_3_errors = [\n",
    "#         _detect_type_3_error(bi, bf, wi, wf)\n",
    "#         for bi, bf, wi, wf in zip(bpi, bpf, wpi, wpf)\n",
    "#     ]\n",
    "    \n",
    "#     return {'Type 2': type_2_errors, 'Type 3': type_3_errors}\n",
    "\n",
    "errors_by_location_2 = tidy.apply(\n",
    "    lambda x: errs.get_errors_per_location(x, errs.error_func_2), \n",
    "    axis=1\n",
    ")\n",
    "    \n",
    "tidy['ebl2'] = errors_by_location_2"
   ]
  },
  {
   "cell_type": "code",
   "execution_count": 114,
   "metadata": {},
   "outputs": [],
   "source": [
    "pos_grouped = tidy.groupby('Position ID', )\n",
    "board_set['ebl2'] = pos_grouped.apply(lambda df: np.stack(df['ebl2'], axis=1).mean(axis=1))"
   ]
  },
  {
   "cell_type": "code",
   "execution_count": 62,
   "metadata": {},
   "outputs": [],
   "source": [
    "num_grouped = board_set.groupby('Num Pieces')\n",
    "mean_error_by_num_pieces = num_grouped.apply(lambda df: np.stack(df['ebl2'], axis=1).mean(axis=1))"
   ]
  },
  {
   "cell_type": "code",
   "execution_count": 66,
   "metadata": {},
   "outputs": [],
   "source": [
    "board_set['ebl2'] = board_set.apply(\n",
    "    lambda row: row['ebl2'] - mean_error_by_num_pieces[row['Num Pieces']],\n",
    "    axis=1\n",
    ")"
   ]
  },
  {
   "cell_type": "code",
   "execution_count": 115,
   "metadata": {},
   "outputs": [
    {
     "data": {
      "text/html": [
       "<div>\n",
       "<style scoped>\n",
       "    .dataframe tbody tr th:only-of-type {\n",
       "        vertical-align: middle;\n",
       "    }\n",
       "\n",
       "    .dataframe tbody tr th {\n",
       "        vertical-align: top;\n",
       "    }\n",
       "\n",
       "    .dataframe thead th {\n",
       "        text-align: right;\n",
       "    }\n",
       "</style>\n",
       "<table border=\"1\" class=\"dataframe\">\n",
       "  <thead>\n",
       "    <tr style=\"text-align: right;\">\n",
       "      <th></th>\n",
       "      <th>Black Position</th>\n",
       "      <th>White Position</th>\n",
       "      <th>Is Real</th>\n",
       "      <th>Num Pieces</th>\n",
       "      <th>ebl2</th>\n",
       "      <th>location_idx</th>\n",
       "      <th>filtered_ebl</th>\n",
       "      <th>filtered_1110b</th>\n",
       "      <th>filtered_1110w</th>\n",
       "    </tr>\n",
       "    <tr>\n",
       "      <th>Position ID</th>\n",
       "      <th></th>\n",
       "      <th></th>\n",
       "      <th></th>\n",
       "      <th></th>\n",
       "      <th></th>\n",
       "      <th></th>\n",
       "      <th></th>\n",
       "      <th></th>\n",
       "      <th></th>\n",
       "    </tr>\n",
       "  </thead>\n",
       "  <tbody>\n",
       "    <tr>\n",
       "      <th>0</th>\n",
       "      <td>000000000010000000001000010100011000</td>\n",
       "      <td>000000000000101000010001000000100000</td>\n",
       "      <td>False</td>\n",
       "      <td>11</td>\n",
       "      <td>[0.0, 0.0, 0.0, 0.0, 0.0, 0.0, 0.0, 0.0, 0.0, ...</td>\n",
       "      <td>[0, 1, 2, 3, 4, 5, 6, 7, 8, 9, 10, 11, 12, 13,...</td>\n",
       "      <td>[0.3026315789473684, 0.5153508771929824, 0.302...</td>\n",
       "      <td>[0.3026315789473684, 0.5153508771929824, 0.302...</td>\n",
       "      <td>[0.3026315789473684, 0.5153508771929824, 0.302...</td>\n",
       "    </tr>\n",
       "    <tr>\n",
       "      <th>1</th>\n",
       "      <td>000101100000000000001010000000000100</td>\n",
       "      <td>000010010000010000010000000001000000</td>\n",
       "      <td>False</td>\n",
       "      <td>11</td>\n",
       "      <td>[0.0, 0.0, 0.0, 0.15789473684210525, 0.1052631...</td>\n",
       "      <td>[0, 1, 2, 3, 4, 5, 6, 7, 8, 9, 10, 11, 12, 13,...</td>\n",
       "      <td>[0.11184210526315788, -0.010964912280701747, 0...</td>\n",
       "      <td>[0.11184210526315788, -0.010964912280701747, 0...</td>\n",
       "      <td>[0.11184210526315788, -0.010964912280701747, 0...</td>\n",
       "    </tr>\n",
       "    <tr>\n",
       "      <th>2</th>\n",
       "      <td>000000000000110000000011100000100000</td>\n",
       "      <td>000110010001000000000000000000000100</td>\n",
       "      <td>False</td>\n",
       "      <td>11</td>\n",
       "      <td>[0.0, 0.0, 0.0, 0.10526315789473684, 0.2368421...</td>\n",
       "      <td>[0, 1, 2, 3, 4, 5, 6, 7, 8, 9, 10, 11, 12, 13,...</td>\n",
       "      <td>[0.05921052631578947, 0.1206140350877193, 0.14...</td>\n",
       "      <td>[0.05921052631578947, 0.1206140350877193, 0.14...</td>\n",
       "      <td>[0.05921052631578947, 0.1206140350877193, 0.14...</td>\n",
       "    </tr>\n",
       "    <tr>\n",
       "      <th>3</th>\n",
       "      <td>010010100000110000000000010000000000</td>\n",
       "      <td>000000000110000000000010000000101000</td>\n",
       "      <td>False</td>\n",
       "      <td>11</td>\n",
       "      <td>[0.0, 0.23684210526315788, 0.0, 0.0, 0.1315789...</td>\n",
       "      <td>[0, 1, 2, 3, 4, 5, 6, 7, 8, 9, 10, 11, 12, 13,...</td>\n",
       "      <td>[0.21710526315789472, 0.015350877192982462, 0....</td>\n",
       "      <td>[0.21710526315789472, 0.015350877192982462, 0....</td>\n",
       "      <td>[0.21710526315789472, 0.015350877192982462, 0....</td>\n",
       "    </tr>\n",
       "    <tr>\n",
       "      <th>4</th>\n",
       "      <td>001100000000100100000001000000010000</td>\n",
       "      <td>000010000000000000010110000010000000</td>\n",
       "      <td>False</td>\n",
       "      <td>11</td>\n",
       "      <td>[0.0, 0.0, 0.13157894736842105, 0.105263157894...</td>\n",
       "      <td>[0, 1, 2, 3, 4, 5, 6, 7, 8, 9, 10, 11, 12, 13,...</td>\n",
       "      <td>[0.10087719298245613, 0.05921052631578947, 0.1...</td>\n",
       "      <td>[0.10087719298245613, 0.05921052631578947, 0.1...</td>\n",
       "      <td>[0.10087719298245613, 0.05921052631578947, 0.1...</td>\n",
       "    </tr>\n",
       "  </tbody>\n",
       "</table>\n",
       "</div>"
      ],
      "text/plain": [
       "                                   Black Position  \\\n",
       "Position ID                                         \n",
       "0            000000000010000000001000010100011000   \n",
       "1            000101100000000000001010000000000100   \n",
       "2            000000000000110000000011100000100000   \n",
       "3            010010100000110000000000010000000000   \n",
       "4            001100000000100100000001000000010000   \n",
       "\n",
       "                                   White Position  Is Real  Num Pieces  \\\n",
       "Position ID                                                              \n",
       "0            000000000000101000010001000000100000    False          11   \n",
       "1            000010010000010000010000000001000000    False          11   \n",
       "2            000110010001000000000000000000000100    False          11   \n",
       "3            000000000110000000000010000000101000    False          11   \n",
       "4            000010000000000000010110000010000000    False          11   \n",
       "\n",
       "                                                          ebl2  \\\n",
       "Position ID                                                      \n",
       "0            [0.0, 0.0, 0.0, 0.0, 0.0, 0.0, 0.0, 0.0, 0.0, ...   \n",
       "1            [0.0, 0.0, 0.0, 0.15789473684210525, 0.1052631...   \n",
       "2            [0.0, 0.0, 0.0, 0.10526315789473684, 0.2368421...   \n",
       "3            [0.0, 0.23684210526315788, 0.0, 0.0, 0.1315789...   \n",
       "4            [0.0, 0.0, 0.13157894736842105, 0.105263157894...   \n",
       "\n",
       "                                                  location_idx  \\\n",
       "Position ID                                                      \n",
       "0            [0, 1, 2, 3, 4, 5, 6, 7, 8, 9, 10, 11, 12, 13,...   \n",
       "1            [0, 1, 2, 3, 4, 5, 6, 7, 8, 9, 10, 11, 12, 13,...   \n",
       "2            [0, 1, 2, 3, 4, 5, 6, 7, 8, 9, 10, 11, 12, 13,...   \n",
       "3            [0, 1, 2, 3, 4, 5, 6, 7, 8, 9, 10, 11, 12, 13,...   \n",
       "4            [0, 1, 2, 3, 4, 5, 6, 7, 8, 9, 10, 11, 12, 13,...   \n",
       "\n",
       "                                                  filtered_ebl  \\\n",
       "Position ID                                                      \n",
       "0            [0.3026315789473684, 0.5153508771929824, 0.302...   \n",
       "1            [0.11184210526315788, -0.010964912280701747, 0...   \n",
       "2            [0.05921052631578947, 0.1206140350877193, 0.14...   \n",
       "3            [0.21710526315789472, 0.015350877192982462, 0....   \n",
       "4            [0.10087719298245613, 0.05921052631578947, 0.1...   \n",
       "\n",
       "                                                filtered_1110b  \\\n",
       "Position ID                                                      \n",
       "0            [0.3026315789473684, 0.5153508771929824, 0.302...   \n",
       "1            [0.11184210526315788, -0.010964912280701747, 0...   \n",
       "2            [0.05921052631578947, 0.1206140350877193, 0.14...   \n",
       "3            [0.21710526315789472, 0.015350877192982462, 0....   \n",
       "4            [0.10087719298245613, 0.05921052631578947, 0.1...   \n",
       "\n",
       "                                                filtered_1110w  \n",
       "Position ID                                                     \n",
       "0            [0.3026315789473684, 0.5153508771929824, 0.302...  \n",
       "1            [0.11184210526315788, -0.010964912280701747, 0...  \n",
       "2            [0.05921052631578947, 0.1206140350877193, 0.14...  \n",
       "3            [0.21710526315789472, 0.015350877192982462, 0....  \n",
       "4            [0.10087719298245613, 0.05921052631578947, 0.1...  "
      ]
     },
     "execution_count": 115,
     "metadata": {},
     "output_type": "execute_result"
    }
   ],
   "source": [
    "# board_set = board_set.loc[pd.notnull(board_set['ebl2'])]\n",
    "board_set['location_idx'] = np.tile(np.arange(36, dtype=np.uint8), [len(board_set), 1]).tolist()\n",
    "board_set.head()"
   ]
  },
  {
   "cell_type": "code",
   "execution_count": 116,
   "metadata": {},
   "outputs": [],
   "source": [
    "feature_count_df = pd.DataFrame(board_set.apply(count_all_features, axis=1).tolist(), index=board_set.index)"
   ]
  },
  {
   "cell_type": "code",
   "execution_count": 117,
   "metadata": {},
   "outputs": [],
   "source": [
    "def filter_by_occupied(row, targ):\n",
    "    ebl = row[targ]\n",
    "    bp = row['Black Position']\n",
    "    wp = row['White Position']\n",
    "    \n",
    "    filtered_ebl = []\n",
    "    for i, (bi, wi) in enumerate(zip(bp, wp)):\n",
    "        if bi == '1' or wi == '1':\n",
    "            filtered_ebl.append(ebl[i])\n",
    "            \n",
    "    return filtered_ebl"
   ]
  },
  {
   "cell_type": "code",
   "execution_count": 142,
   "metadata": {},
   "outputs": [],
   "source": [
    "# error_df = pd.DataFrame(tidy.apply(count_all_errors, axis=1).tolist())\n",
    "sum_df = pd.concat([board_set, feature_count_df], axis=1)\n",
    "sum_df = sum_df.loc[pd.notnull(sum_df['ebl2'])]\n",
    "\n",
    "sum_df['filtered_ebl'] = sum_df.apply(lambda row: filter_by_occupied(row, 'ebl2'), axis=1)\n",
    "for f in ['1111', '1110', '1101', '1100', '1010', '1001']:\n",
    "    sum_df['filtered_{}b'.format(f)] = sum_df.apply(lambda row: filter_by_occupied(row, '{}b'.format(f)), axis=1)\n",
    "    sum_df['filtered_{}w'.format(f)] = sum_df.apply(lambda row: filter_by_occupied(row, '{}w'.format(f)), axis=1)"
   ]
  },
  {
   "cell_type": "code",
   "execution_count": 157,
   "metadata": {},
   "outputs": [
    {
     "name": "stdout",
     "output_type": "stream",
     "text": [
      "Optimization terminated successfully.\n",
      "         Current function value: 0.569598\n",
      "         Iterations 7\n"
     ]
    },
    {
     "data": {
      "text/html": [
       "<table class=\"simpletable\">\n",
       "<caption>Logit Regression Results</caption>\n",
       "<tr>\n",
       "  <th>Dep. Variable:</th>         <td>y</td>        <th>  No. Observations:  </th>  <td>  1380</td> \n",
       "</tr>\n",
       "<tr>\n",
       "  <th>Model:</th>               <td>Logit</td>      <th>  Df Residuals:      </th>  <td>  1374</td> \n",
       "</tr>\n",
       "<tr>\n",
       "  <th>Method:</th>               <td>MLE</td>       <th>  Df Model:          </th>  <td>     5</td> \n",
       "</tr>\n",
       "<tr>\n",
       "  <th>Date:</th>          <td>Mon, 20 Aug 2018</td> <th>  Pseudo R-squ.:     </th>  <td>-1.045</td> \n",
       "</tr>\n",
       "<tr>\n",
       "  <th>Time:</th>              <td>17:28:08</td>     <th>  Log-Likelihood:    </th> <td> -786.05</td>\n",
       "</tr>\n",
       "<tr>\n",
       "  <th>converged:</th>           <td>True</td>       <th>  LL-Null:           </th> <td> -384.37</td>\n",
       "</tr>\n",
       "<tr>\n",
       "  <th> </th>                      <td> </td>        <th>  LLR p-value:       </th>  <td> 1.000</td> \n",
       "</tr>\n",
       "</table>\n",
       "<table class=\"simpletable\">\n",
       "<tr>\n",
       "   <td></td>     <th>coef</th>     <th>std err</th>      <th>z</th>      <th>P>|z|</th>  <th>[0.025</th>    <th>0.975]</th>  \n",
       "</tr>\n",
       "<tr>\n",
       "  <th>x1</th> <td>   -1.3767</td> <td>    0.642</td> <td>   -2.143</td> <td> 0.032</td> <td>   -2.636</td> <td>   -0.117</td>\n",
       "</tr>\n",
       "<tr>\n",
       "  <th>x2</th> <td>   -1.1694</td> <td>    0.196</td> <td>   -5.959</td> <td> 0.000</td> <td>   -1.554</td> <td>   -0.785</td>\n",
       "</tr>\n",
       "<tr>\n",
       "  <th>x3</th> <td>   -0.3388</td> <td>    0.167</td> <td>   -2.026</td> <td> 0.043</td> <td>   -0.667</td> <td>   -0.011</td>\n",
       "</tr>\n",
       "<tr>\n",
       "  <th>x4</th> <td>   -0.8147</td> <td>    0.111</td> <td>   -7.369</td> <td> 0.000</td> <td>   -1.031</td> <td>   -0.598</td>\n",
       "</tr>\n",
       "<tr>\n",
       "  <th>x5</th> <td>   -0.2343</td> <td>    0.098</td> <td>   -2.387</td> <td> 0.017</td> <td>   -0.427</td> <td>   -0.042</td>\n",
       "</tr>\n",
       "<tr>\n",
       "  <th>x6</th> <td>   -0.3169</td> <td>    0.137</td> <td>   -2.313</td> <td> 0.021</td> <td>   -0.585</td> <td>   -0.048</td>\n",
       "</tr>\n",
       "</table>"
      ],
      "text/plain": [
       "<class 'statsmodels.iolib.summary.Summary'>\n",
       "\"\"\"\n",
       "                           Logit Regression Results                           \n",
       "==============================================================================\n",
       "Dep. Variable:                      y   No. Observations:                 1380\n",
       "Model:                          Logit   Df Residuals:                     1374\n",
       "Method:                           MLE   Df Model:                            5\n",
       "Date:                Mon, 20 Aug 2018   Pseudo R-squ.:                  -1.045\n",
       "Time:                        17:28:08   Log-Likelihood:                -786.05\n",
       "converged:                       True   LL-Null:                       -384.37\n",
       "                                        LLR p-value:                     1.000\n",
       "==============================================================================\n",
       "                 coef    std err          z      P>|z|      [0.025      0.975]\n",
       "------------------------------------------------------------------------------\n",
       "x1            -1.3767      0.642     -2.143      0.032      -2.636      -0.117\n",
       "x2            -1.1694      0.196     -5.959      0.000      -1.554      -0.785\n",
       "x3            -0.3388      0.167     -2.026      0.043      -0.667      -0.011\n",
       "x4            -0.8147      0.111     -7.369      0.000      -1.031      -0.598\n",
       "x5            -0.2343      0.098     -2.387      0.017      -0.427      -0.042\n",
       "x6            -0.3169      0.137     -2.313      0.021      -0.585      -0.048\n",
       "==============================================================================\n",
       "\"\"\""
      ]
     },
     "execution_count": 157,
     "metadata": {},
     "output_type": "execute_result"
    }
   ],
   "source": [
    "# x = []\n",
    "# for f in ['1110']: #, '1101', '1010', '1001', '1100', '1111']:\n",
    "#     x.append(np.stack((sum_df['{}b'.format(f)] + sum_df['{}w'.format(f)]).values).flatten())\n",
    "\n",
    "# for d in dummy_locs.T:\n",
    "#     x.append(d)\n",
    "  \n",
    "# x = np.stack(x).T\n",
    "# print(x.shape)\n",
    "feature_list = ['1111', '1110', '1101', '1100', '1010', '1001']\n",
    "x = []\n",
    "for f in feature_list:\n",
    "    xb = [loc_val for board in sum_df['filtered_{}b'.format(f)] for loc_val in board]\n",
    "    xw = [loc_val for board in sum_df['filtered_{}w'.format(f)] for loc_val in board]\n",
    "    x_ = np.stack(xb) + np.stack(xw)\n",
    "    \n",
    "    x.append(x_)\n",
    "    \n",
    "x = np.stack(x).T\n",
    "y = np.stack([loc_val for board in sum_df['filtered_ebl'] for loc_val in board])\n",
    "\n",
    "model = sm.Logit(y, x)\n",
    "result = model.fit()\n",
    "result.summary()"
   ]
  },
  {
   "cell_type": "code",
   "execution_count": 158,
   "metadata": {},
   "outputs": [
    {
     "data": {
      "image/png": "[encoded data removed]",
      "text/plain": [
       "<Figure size 1800x900 with 6 Axes>"
      ]
     },
     "metadata": {},
     "output_type": "display_data"
    }
   ],
   "source": [
    "fig, axes = plt.subplots(2, 3, figsize=(12, 6), dpi=150)\n",
    "\n",
    "for i in range(2):\n",
    "    for j in range(3):\n",
    "        ax = axes[i, j]\n",
    "        ax.plot(x[:, 3*i + j], y, marker='o', linestyle='none', alpha=.2)\n",
    "        \n",
    "        plt.setp(\n",
    "            ax,\n",
    "            xlabel=feature_list[3*i + j]\n",
    "        )\n",
    "\n",
    "# model_curve_x = np.arange(-3, 3, .1)[:, np.newaxis]\n",
    "# model_curve_y = result.model.predict(result.params, model_curve_x)\n",
    "\n",
    "# ax.plot(model_curve_x, model_curve_y)\n",
    "\n",
    "# ax = axes[1]\n",
    "# ax.plot(x[:, 1], y, marker='o', linestyle='none', alpha=.2)\n",
    "\n",
    "# ax = axes[2]\n",
    "# ax.plot(x[:, 2], y, marker='o', linestyle='none', alpha=.2)\n",
    "\n",
    "plt.setp(\n",
    "    axes, \n",
    "    xlim=[-.5, 7],\n",
    "    ylim=[-.1, 1]\n",
    "    \n",
    ")\n",
    "\n",
    "sns.despine()\n",
    "fig.tight_layout()"
   ]
  },
  {
   "cell_type": "code",
   "execution_count": null,
   "metadata": {},
   "outputs": [],
   "source": []
  },
  {
   "cell_type": "code",
   "execution_count": null,
   "metadata": {},
   "outputs": [],
   "source": []
  },
  {
   "cell_type": "code",
   "execution_count": null,
   "metadata": {},
   "outputs": [],
   "source": []
  },
  {
   "cell_type": "code",
   "execution_count": 7,
   "metadata": {},
   "outputs": [],
   "source": [
    "def sum_features(row):\n",
    "    \n",
    "    counts = np.zeros(36, dtype=np.uint8)\n",
    "    \n",
    "    for name in row.index:\n",
    "        if 'Type' not in name:\n",
    "\n",
    "            counts += np.stack(row[name])\n",
    "                \n",
    "    return counts.tolist()\n",
    "\n",
    "sum_df['all'] = sum_df.apply(sum_features, axis=1)"
   ]
  },
  {
   "cell_type": "code",
   "execution_count": 8,
   "metadata": {},
   "outputs": [],
   "source": [
    "def bin_errors_by_num_features(row, error_type):\n",
    "    type2 = row[error_type]\n",
    "    feats = row['all']\n",
    "    \n",
    "    counts = {}\n",
    "    for i, f in enumerate(feats):\n",
    "        if f not in counts.keys():\n",
    "            counts[f] = 0\n",
    "            \n",
    "        counts[f] += type2[i]\n",
    "        \n",
    "    return counts\n",
    "\n",
    "\n",
    "def bin_errors_type2(row):\n",
    "    return bin_errors_by_num_features(row, 'Type 2')\n",
    "\n",
    "\n",
    "def bin_errors_type3(row):\n",
    "    return bin_errors_by_num_features(row, 'Type 3')\n",
    "\n",
    "\n",
    "def bin_features(row):\n",
    "    idx = row.name\n",
    "    bp = tidy.iloc[idx]['Black Position']\n",
    "    wp = tidy.iloc[idx]['White Position']\n",
    "    p = _add_position_strings(bp, wp)\n",
    "    p = list(map(int, p))\n",
    "    \n",
    "    feats = row['all']\n",
    "    \n",
    "    counts = {}\n",
    "    for i, f in enumerate(feats):\n",
    "        if f not in counts.keys():\n",
    "            counts[f] = 0\n",
    "            \n",
    "        counts[f] += p[i]\n",
    "        \n",
    "    return counts\n",
    "    \n",
    "\n",
    "type2_counts = pd.DataFrame(sum_df.apply(bin_errors_type2, axis=1).tolist()).fillna(0)\n",
    "type3_counts = pd.DataFrame(sum_df.apply(bin_errors_type3, axis=1).tolist()).fillna(0)\n",
    "feature_counts = pd.DataFrame(sum_df.apply(bin_features, axis=1).tolist()).fillna(0)"
   ]
  },
  {
   "cell_type": "code",
   "execution_count": 9,
   "metadata": {},
   "outputs": [],
   "source": [
    "# Spearman: # features, # errors"
   ]
  },
  {
   "cell_type": "code",
   "execution_count": 10,
   "metadata": {},
   "outputs": [
    {
     "data": {
      "text/plain": [
       "0    0.258431\n",
       "1    0.256140\n",
       "2    0.261877\n",
       "3    0.246600\n",
       "4    0.146491\n",
       "5    0.032895\n",
       "6    0.131579\n",
       "dtype: float64"
      ]
     },
     "execution_count": 10,
     "metadata": {},
     "output_type": "execute_result"
    }
   ],
   "source": [
    "type2_counts.sum(axis=0) / feature_counts.sum(axis=0)"
   ]
  },
  {
   "cell_type": "code",
   "execution_count": 11,
   "metadata": {},
   "outputs": [
    {
     "data": {
      "text/html": [
       "<div>\n",
       "<style scoped>\n",
       "    .dataframe tbody tr th:only-of-type {\n",
       "        vertical-align: middle;\n",
       "    }\n",
       "\n",
       "    .dataframe tbody tr th {\n",
       "        vertical-align: top;\n",
       "    }\n",
       "\n",
       "    .dataframe thead th {\n",
       "        text-align: right;\n",
       "    }\n",
       "</style>\n",
       "<table border=\"1\" class=\"dataframe\">\n",
       "  <thead>\n",
       "    <tr style=\"text-align: right;\">\n",
       "      <th></th>\n",
       "      <th>Type 2</th>\n",
       "      <th>Type 3</th>\n",
       "      <th>1001</th>\n",
       "      <th>1010</th>\n",
       "      <th>1100</th>\n",
       "      <th>1101</th>\n",
       "      <th>1110</th>\n",
       "      <th>1111</th>\n",
       "      <th>all</th>\n",
       "    </tr>\n",
       "  </thead>\n",
       "  <tbody>\n",
       "    <tr>\n",
       "      <th>0</th>\n",
       "      <td>[0, 0, 1, 0, 0, 0, 0, 0, 0, 0, 0, 0, 0, 0, 1, ...</td>\n",
       "      <td>[0, 0, 0, 0, 0, 0, 0, 0, 0, 0, 0, 0, 0, 0, 0, ...</td>\n",
       "      <td>[0, 0, 0, 0, 0, 0, 0, 0, 0, 0, 0, 0, 0, 0, 0, ...</td>\n",
       "      <td>[0, 0, 0, 0, 2, 0, 1, 0, 0, 0, 0, 0, 0, 1, 2, ...</td>\n",
       "      <td>[1, 1, 2, 2, 2, 1, 0, 0, 0, 0, 0, 0, 1, 0, 0, ...</td>\n",
       "      <td>[0, 0, 0, 0, 0, 0, 0, 0, 0, 0, 1, 1, 1, 1, 0, ...</td>\n",
       "      <td>[0, 1, 0, 0, 0, 1, 0, 0, 0, 0, 0, 1, 0, 1, 0, ...</td>\n",
       "      <td>[0, 0, 0, 0, 0, 0, 0, 0, 0, 0, 0, 0, 0, 0, 0, ...</td>\n",
       "      <td>[1, 2, 2, 2, 4, 2, 1, 0, 0, 0, 1, 2, 2, 3, 2, ...</td>\n",
       "    </tr>\n",
       "    <tr>\n",
       "      <th>1</th>\n",
       "      <td>[0, 0, 1, 0, 1, 0, 0, 0, 0, 0, 0, 0, 0, 0, 0, ...</td>\n",
       "      <td>[0, 0, 0, 0, 0, 0, 0, 0, 0, 0, 0, 1, 0, 0, 0, ...</td>\n",
       "      <td>[0, 0, 0, 0, 0, 0, 0, 0, 0, 0, 0, 0, 0, 0, 0, ...</td>\n",
       "      <td>[0, 0, 0, 0, 0, 0, 0, 0, 0, 0, 0, 0, 0, 0, 0, ...</td>\n",
       "      <td>[0, 0, 0, 0, 1, 1, 1, 1, 1, 1, 1, 1, 1, 0, 0, ...</td>\n",
       "      <td>[0, 0, 0, 0, 0, 0, 0, 0, 0, 0, 0, 0, 0, 0, 0, ...</td>\n",
       "      <td>[0, 0, 0, 0, 0, 0, 0, 0, 0, 0, 0, 0, 0, 0, 0, ...</td>\n",
       "      <td>[0, 0, 0, 0, 0, 0, 0, 0, 0, 0, 0, 0, 0, 0, 0, ...</td>\n",
       "      <td>[0, 0, 0, 0, 1, 1, 1, 1, 1, 1, 1, 1, 1, 0, 0, ...</td>\n",
       "    </tr>\n",
       "    <tr>\n",
       "      <th>2</th>\n",
       "      <td>[0, 0, 0, 0, 1, 0, 0, 0, 0, 0, 0, 0, 0, 0, 0, ...</td>\n",
       "      <td>[0, 0, 0, 0, 0, 0, 0, 0, 0, 0, 0, 0, 0, 0, 0, ...</td>\n",
       "      <td>[1, 1, 1, 1, 0, 0, 0, 0, 0, 0, 0, 0, 0, 0, 0, ...</td>\n",
       "      <td>[0, 0, 0, 0, 1, 0, 0, 0, 0, 0, 0, 1, 2, 1, 1, ...</td>\n",
       "      <td>[0, 0, 0, 0, 0, 0, 0, 0, 0, 0, 0, 0, 0, 0, 0, ...</td>\n",
       "      <td>[0, 0, 0, 1, 0, 0, 0, 0, 0, 0, 0, 0, 1, 0, 0, ...</td>\n",
       "      <td>[0, 0, 0, 0, 0, 0, 0, 0, 0, 0, 0, 0, 0, 0, 0, ...</td>\n",
       "      <td>[0, 0, 0, 0, 0, 0, 0, 0, 0, 0, 0, 0, 0, 0, 0, ...</td>\n",
       "      <td>[1, 1, 1, 2, 1, 0, 0, 0, 0, 0, 0, 1, 3, 1, 1, ...</td>\n",
       "    </tr>\n",
       "    <tr>\n",
       "      <th>3</th>\n",
       "      <td>[0, 0, 0, 0, 0, 0, 0, 0, 0, 0, 0, 0, 0, 0, 0, ...</td>\n",
       "      <td>[0, 0, 0, 0, 0, 0, 0, 0, 0, 0, 0, 1, 1, 0, 0, ...</td>\n",
       "      <td>[0, 0, 0, 0, 0, 1, 1, 1, 1, 0, 0, 0, 0, 0, 0, ...</td>\n",
       "      <td>[0, 0, 0, 0, 0, 0, 0, 0, 0, 0, 0, 0, 0, 0, 0, ...</td>\n",
       "      <td>[0, 0, 0, 0, 0, 1, 0, 0, 0, 0, 0, 0, 0, 0, 1, ...</td>\n",
       "      <td>[0, 0, 0, 0, 0, 0, 0, 0, 0, 0, 0, 0, 0, 0, 0, ...</td>\n",
       "      <td>[0, 0, 0, 0, 0, 0, 0, 1, 0, 0, 0, 0, 0, 0, 0, ...</td>\n",
       "      <td>[0, 0, 0, 0, 0, 0, 0, 0, 0, 0, 0, 0, 0, 0, 0, ...</td>\n",
       "      <td>[0, 0, 0, 0, 0, 2, 1, 2, 1, 0, 0, 0, 0, 0, 1, ...</td>\n",
       "    </tr>\n",
       "    <tr>\n",
       "      <th>4</th>\n",
       "      <td>[0, 0, 0, 0, 0, 0, 0, 0, 0, 0, 0, 0, 0, 0, 0, ...</td>\n",
       "      <td>[0, 0, 0, 0, 0, 0, 0, 0, 0, 0, 0, 0, 0, 0, 0, ...</td>\n",
       "      <td>[0, 0, 0, 0, 0, 0, 0, 0, 0, 0, 0, 0, 0, 0, 0, ...</td>\n",
       "      <td>[0, 0, 1, 2, 3, 2, 2, 0, 0, 0, 0, 0, 0, 1, 1, ...</td>\n",
       "      <td>[0, 0, 0, 0, 0, 0, 0, 1, 0, 0, 0, 0, 0, 1, 1, ...</td>\n",
       "      <td>[0, 0, 0, 0, 0, 0, 0, 0, 0, 0, 0, 0, 0, 0, 0, ...</td>\n",
       "      <td>[0, 0, 0, 0, 0, 0, 0, 0, 0, 0, 0, 0, 0, 0, 0, ...</td>\n",
       "      <td>[0, 0, 0, 0, 0, 0, 0, 0, 0, 0, 0, 0, 0, 0, 0, ...</td>\n",
       "      <td>[0, 0, 1, 2, 3, 2, 2, 1, 0, 0, 0, 0, 0, 2, 2, ...</td>\n",
       "    </tr>\n",
       "  </tbody>\n",
       "</table>\n",
       "</div>"
      ],
      "text/plain": [
       "                                              Type 2  \\\n",
       "0  [0, 0, 1, 0, 0, 0, 0, 0, 0, 0, 0, 0, 0, 0, 1, ...   \n",
       "1  [0, 0, 1, 0, 1, 0, 0, 0, 0, 0, 0, 0, 0, 0, 0, ...   \n",
       "2  [0, 0, 0, 0, 1, 0, 0, 0, 0, 0, 0, 0, 0, 0, 0, ...   \n",
       "3  [0, 0, 0, 0, 0, 0, 0, 0, 0, 0, 0, 0, 0, 0, 0, ...   \n",
       "4  [0, 0, 0, 0, 0, 0, 0, 0, 0, 0, 0, 0, 0, 0, 0, ...   \n",
       "\n",
       "                                              Type 3  \\\n",
       "0  [0, 0, 0, 0, 0, 0, 0, 0, 0, 0, 0, 0, 0, 0, 0, ...   \n",
       "1  [0, 0, 0, 0, 0, 0, 0, 0, 0, 0, 0, 1, 0, 0, 0, ...   \n",
       "2  [0, 0, 0, 0, 0, 0, 0, 0, 0, 0, 0, 0, 0, 0, 0, ...   \n",
       "3  [0, 0, 0, 0, 0, 0, 0, 0, 0, 0, 0, 1, 1, 0, 0, ...   \n",
       "4  [0, 0, 0, 0, 0, 0, 0, 0, 0, 0, 0, 0, 0, 0, 0, ...   \n",
       "\n",
       "                                                1001  \\\n",
       "0  [0, 0, 0, 0, 0, 0, 0, 0, 0, 0, 0, 0, 0, 0, 0, ...   \n",
       "1  [0, 0, 0, 0, 0, 0, 0, 0, 0, 0, 0, 0, 0, 0, 0, ...   \n",
       "2  [1, 1, 1, 1, 0, 0, 0, 0, 0, 0, 0, 0, 0, 0, 0, ...   \n",
       "3  [0, 0, 0, 0, 0, 1, 1, 1, 1, 0, 0, 0, 0, 0, 0, ...   \n",
       "4  [0, 0, 0, 0, 0, 0, 0, 0, 0, 0, 0, 0, 0, 0, 0, ...   \n",
       "\n",
       "                                                1010  \\\n",
       "0  [0, 0, 0, 0, 2, 0, 1, 0, 0, 0, 0, 0, 0, 1, 2, ...   \n",
       "1  [0, 0, 0, 0, 0, 0, 0, 0, 0, 0, 0, 0, 0, 0, 0, ...   \n",
       "2  [0, 0, 0, 0, 1, 0, 0, 0, 0, 0, 0, 1, 2, 1, 1, ...   \n",
       "3  [0, 0, 0, 0, 0, 0, 0, 0, 0, 0, 0, 0, 0, 0, 0, ...   \n",
       "4  [0, 0, 1, 2, 3, 2, 2, 0, 0, 0, 0, 0, 0, 1, 1, ...   \n",
       "\n",
       "                                                1100  \\\n",
       "0  [1, 1, 2, 2, 2, 1, 0, 0, 0, 0, 0, 0, 1, 0, 0, ...   \n",
       "1  [0, 0, 0, 0, 1, 1, 1, 1, 1, 1, 1, 1, 1, 0, 0, ...   \n",
       "2  [0, 0, 0, 0, 0, 0, 0, 0, 0, 0, 0, 0, 0, 0, 0, ...   \n",
       "3  [0, 0, 0, 0, 0, 1, 0, 0, 0, 0, 0, 0, 0, 0, 1, ...   \n",
       "4  [0, 0, 0, 0, 0, 0, 0, 1, 0, 0, 0, 0, 0, 1, 1, ...   \n",
       "\n",
       "                                                1101  \\\n",
       "0  [0, 0, 0, 0, 0, 0, 0, 0, 0, 0, 1, 1, 1, 1, 0, ...   \n",
       "1  [0, 0, 0, 0, 0, 0, 0, 0, 0, 0, 0, 0, 0, 0, 0, ...   \n",
       "2  [0, 0, 0, 1, 0, 0, 0, 0, 0, 0, 0, 0, 1, 0, 0, ...   \n",
       "3  [0, 0, 0, 0, 0, 0, 0, 0, 0, 0, 0, 0, 0, 0, 0, ...   \n",
       "4  [0, 0, 0, 0, 0, 0, 0, 0, 0, 0, 0, 0, 0, 0, 0, ...   \n",
       "\n",
       "                                                1110  \\\n",
       "0  [0, 1, 0, 0, 0, 1, 0, 0, 0, 0, 0, 1, 0, 1, 0, ...   \n",
       "1  [0, 0, 0, 0, 0, 0, 0, 0, 0, 0, 0, 0, 0, 0, 0, ...   \n",
       "2  [0, 0, 0, 0, 0, 0, 0, 0, 0, 0, 0, 0, 0, 0, 0, ...   \n",
       "3  [0, 0, 0, 0, 0, 0, 0, 1, 0, 0, 0, 0, 0, 0, 0, ...   \n",
       "4  [0, 0, 0, 0, 0, 0, 0, 0, 0, 0, 0, 0, 0, 0, 0, ...   \n",
       "\n",
       "                                                1111  \\\n",
       "0  [0, 0, 0, 0, 0, 0, 0, 0, 0, 0, 0, 0, 0, 0, 0, ...   \n",
       "1  [0, 0, 0, 0, 0, 0, 0, 0, 0, 0, 0, 0, 0, 0, 0, ...   \n",
       "2  [0, 0, 0, 0, 0, 0, 0, 0, 0, 0, 0, 0, 0, 0, 0, ...   \n",
       "3  [0, 0, 0, 0, 0, 0, 0, 0, 0, 0, 0, 0, 0, 0, 0, ...   \n",
       "4  [0, 0, 0, 0, 0, 0, 0, 0, 0, 0, 0, 0, 0, 0, 0, ...   \n",
       "\n",
       "                                                 all  \n",
       "0  [1, 2, 2, 2, 4, 2, 1, 0, 0, 0, 1, 2, 2, 3, 2, ...  \n",
       "1  [0, 0, 0, 0, 1, 1, 1, 1, 1, 1, 1, 1, 1, 0, 0, ...  \n",
       "2  [1, 1, 1, 2, 1, 0, 0, 0, 0, 0, 0, 1, 3, 1, 1, ...  \n",
       "3  [0, 0, 0, 0, 0, 2, 1, 2, 1, 0, 0, 0, 0, 0, 1, ...  \n",
       "4  [0, 0, 1, 2, 3, 2, 2, 1, 0, 0, 0, 0, 0, 2, 2, ...  "
      ]
     },
     "execution_count": 11,
     "metadata": {},
     "output_type": "execute_result"
    }
   ],
   "source": [
    "sum_df.head()"
   ]
  },
  {
   "cell_type": "code",
   "execution_count": null,
   "metadata": {},
   "outputs": [],
   "source": []
  },
  {
   "cell_type": "code",
   "execution_count": 30,
   "metadata": {},
   "outputs": [
    {
     "data": {
      "text/plain": [
       "array([[0, 1, 0, 0, 0, 1, 0, 0, 0],\n",
       "       [0, 0, 1, 0, 1, 0, 0, 0, 0],\n",
       "       [0, 0, 0, 2, 0, 0, 0, 0, 0],\n",
       "       [0, 0, 1, 0, 1, 0, 0, 0, 0]], dtype=uint8)"
      ]
     },
     "execution_count": 30,
     "metadata": {},
     "output_type": "execute_result"
    }
   ],
   "source": [
    "sum_df['1110b'].iloc[0].reshape([4, 9])"
   ]
  },
  {
   "cell_type": "code",
   "execution_count": null,
   "metadata": {},
   "outputs": [],
   "source": []
  },
  {
   "cell_type": "code",
   "execution_count": 12,
   "metadata": {
    "scrolled": true
   },
   "outputs": [],
   "source": [
    "dist2 = type2_counts.sum(axis=0) / feature_counts.sum(axis=0)\n",
    "# for Type II/III errors, number of possible errors is limited by number of pieces\n",
    "# so feature_counts is for each position the number of pieces\n",
    "# with X features present"
   ]
  },
  {
   "cell_type": "code",
   "execution_count": 13,
   "metadata": {
    "scrolled": true
   },
   "outputs": [],
   "source": [
    "dist3 = type3_counts.sum(axis=0) / feature_counts.sum(axis=0)"
   ]
  },
  {
   "cell_type": "code",
   "execution_count": 14,
   "metadata": {},
   "outputs": [
    {
     "data": {
      "text/plain": [
       "Ks_2sampResult(statistic=0.8571428571428572, pvalue=0.004170568509644835)"
      ]
     },
     "execution_count": 14,
     "metadata": {},
     "output_type": "execute_result"
    }
   ],
   "source": [
    "sts.ks_2samp(dist2.values, dist3.values)"
   ]
  },
  {
   "cell_type": "code",
   "execution_count": null,
   "metadata": {},
   "outputs": [],
   "source": []
  },
  {
   "cell_type": "code",
   "execution_count": null,
   "metadata": {},
   "outputs": [],
   "source": []
  },
  {
   "cell_type": "code",
   "execution_count": null,
   "metadata": {},
   "outputs": [],
   "source": [
    "# For each number of features, count the number of Type 2 errors\n",
    "\n",
    "type2 = sum_df.iloc[0]['Type 2']\n",
    "feats = sum_df.iloc[0]['all']\n",
    "\n",
    "print(type2)\n",
    "print(feats)"
   ]
  },
  {
   "cell_type": "code",
   "execution_count": null,
   "metadata": {},
   "outputs": [],
   "source": [
    "type_2_error_counts = np.stack(sum_df['Type 2'].values)\n",
    "total_feature_counts = np.stack(sum_df['all'].values)"
   ]
  },
  {
   "cell_type": "code",
   "execution_count": null,
   "metadata": {},
   "outputs": [],
   "source": [
    "def error_count_against_num_features(row, error_type):\n",
    "    fc = np.stack(row['all']).astype(np.uint8)\n",
    "    ec = np.stack(row[error_type]).astype(np.uint8)\n",
    "    \n",
    "    pcount = {\n",
    "        k: np.sum(ec[fc == k])\n",
    "        for k in range(fc.max()+1)\n",
    "    }\n",
    "    \n",
    "    return pcount\n",
    "\n",
    "\n",
    "def error2_count_against_num_features(row):\n",
    "    return error_count_against_num_features(row, 'Type 2')\n",
    "    \n",
    "\n",
    "def error3_count_against_num_features(row):\n",
    "    return error_count_against_num_features(row, 'Type 3')\n",
    "\n",
    "\n",
    "def instance_count_against_num_features(row):\n",
    "    fc = np.stack(row['all']).astype(np.uint8)\n",
    "    \n",
    "    pcount = {\n",
    "        k: np.sum(fc == k)\n",
    "        for k in range(fc.max()+1)\n",
    "    }\n",
    "    \n",
    "    return pcount"
   ]
  },
  {
   "cell_type": "code",
   "execution_count": null,
   "metadata": {},
   "outputs": [],
   "source": [
    "type2_errors_by_feature_count = pd.DataFrame(\n",
    "    sum_df.apply(error2_count_against_num_features, axis=1).tolist()\n",
    ").fillna(0)\n",
    "\n",
    "type3_errors_by_feature_count = pd.DataFrame(\n",
    "    sum_df.apply(error3_count_against_num_features, axis=1).tolist()\n",
    ").fillna(0)\n",
    "\n",
    "instances_by_feature_count = pd.DataFrame(\n",
    "    sum_df.apply(instance_count_against_num_features, axis=1).tolist()\n",
    ").fillna(0)"
   ]
  },
  {
   "cell_type": "code",
   "execution_count": null,
   "metadata": {},
   "outputs": [],
   "source": [
    "p_type2_j_num_features = type2_errors_by_feature_count.sum(axis=0) / tidy['Num Pieces'].sum()\n",
    "p_num_features = instances_by_feature_count.sum(axis=0) / instances_by_feature_count.sum()\n",
    "\n",
    "err2_dist = p_type2_j_num_features / p_num_features"
   ]
  },
  {
   "cell_type": "code",
   "execution_count": null,
   "metadata": {},
   "outputs": [],
   "source": [
    "err2_dist"
   ]
  },
  {
   "cell_type": "code",
   "execution_count": null,
   "metadata": {},
   "outputs": [],
   "source": [
    "p_type3_j_num_features = type3_errors_by_feature_count.sum(axis=0) / tidy['Num Pieces'].sum()\n",
    "\n",
    "err3_dist = p_type3_j_num_features / p_num_features"
   ]
  },
  {
   "cell_type": "code",
   "execution_count": null,
   "metadata": {},
   "outputs": [],
   "source": [
    "err3_dist.mean()"
   ]
  },
  {
   "cell_type": "code",
   "execution_count": null,
   "metadata": {},
   "outputs": [],
   "source": [
    "err2_dist.mean()"
   ]
  },
  {
   "cell_type": "code",
   "execution_count": null,
   "metadata": {},
   "outputs": [],
   "source": [
    "fig, axes = plt.subplots(1, 2, figsize=(12, 6))\n",
    "\n",
    "axes[0].bar(np.arange(7), err2_dist)\n",
    "axes[1].bar(np.arange(7), err3_dist)\n",
    "\n",
    "sns.despine()"
   ]
  },
  {
   "cell_type": "code",
   "execution_count": null,
   "metadata": {},
   "outputs": [],
   "source": [
    "err2_tidy = pd.melt(\n",
    "    type2_errors_by_feature_count,\n",
    "    var_name='Num Features', value_name='Error Count'\n",
    ")\n",
    "\n",
    "err2_tidy['dummy'] = err2_tidy['Error Count']\n",
    "\n",
    "err2_sum_piv = err2_tidy.pivot_table(\n",
    "    index='Num Features', values='Error Count', \n",
    "    aggfunc=np.sum\n",
    ")\n",
    "\n",
    "err2_len_piv = err2_tidy.pivot_table(\n",
    "    index='Num Features', values='Error Count',\n",
    "    aggfunc=len\n",
    ")\n",
    "\n",
    "err2_sum_piv / err2_len_piv"
   ]
  },
  {
   "cell_type": "code",
   "execution_count": null,
   "metadata": {},
   "outputs": [],
   "source": [
    "err2_tidy.head()"
   ]
  },
  {
   "cell_type": "code",
   "execution_count": null,
   "metadata": {},
   "outputs": [],
   "source": [
    "err2_len_piv = err2_tidy.pivot_table(\n",
    "    index='Num Features', columns='Error Count', values='dummy',\n",
    "    aggfunc=len\n",
    ")\n",
    "\n",
    "err2_len_piv.fillna(0)"
   ]
  },
  {
   "cell_type": "code",
   "execution_count": null,
   "metadata": {},
   "outputs": [],
   "source": [
    "err2_sum_piv = err2_tidy.pivot_table(\n",
    "    index='Num Features', columns='Error Count', values='dummy',\n",
    "    aggfunc=np.sum\n",
    ")\n",
    "\n",
    "p_num_err2_j_num_feat = err2_sum_piv.fillna(0) / err2_tidy['Error Count'].sum()"
   ]
  },
  {
   "cell_type": "code",
   "execution_count": null,
   "metadata": {},
   "outputs": [],
   "source": [
    "p_num_feat = instances_by_feature_count.sum() / instances_by_feature_count.sum().sum()\n",
    "p_num_feat"
   ]
  },
  {
   "cell_type": "code",
   "execution_count": null,
   "metadata": {},
   "outputs": [],
   "source": [
    "p_num_feat.sum()"
   ]
  },
  {
   "cell_type": "code",
   "execution_count": null,
   "metadata": {},
   "outputs": [],
   "source": [
    "p_num_err2_j_num_feat.sum().sum()"
   ]
  },
  {
   "cell_type": "code",
   "execution_count": null,
   "metadata": {},
   "outputs": [],
   "source": [
    "p_num_err2_c_num_feat = p_num_err2_j_num_feat.copy()\n",
    "p_num_err2_c_num_feat.loc[:, :] = p_num_err2_j_num_feat.values / p_num_feat.values[:, np.newaxis]\n",
    "p_num_err2_c_num_feat"
   ]
  },
  {
   "cell_type": "code",
   "execution_count": null,
   "metadata": {},
   "outputs": [],
   "source": [
    "p_num_err2_c_num_feat.sum(axis=1)"
   ]
  },
  {
   "cell_type": "code",
   "execution_count": null,
   "metadata": {},
   "outputs": [],
   "source": [
    "err2_tidy['Error Count'].sum()"
   ]
  },
  {
   "cell_type": "code",
   "execution_count": null,
   "metadata": {
    "scrolled": false
   },
   "outputs": [],
   "source": [
    "fig, axes = plt.subplots(1, 2, figsize=(14, 6))\n",
    "\n",
    "\n",
    "\n",
    "err3_tidy = pd.melt(\n",
    "    type3_errors_by_feature_count / instances_by_feature_count, \n",
    "    var_name='Num Features', value_name='Error Prob'\n",
    ")\n",
    "\n",
    "sns.factorplot(\n",
    "    x='Num Features', y='Error Prob', data=err2_tidy, ax=axes[0],\n",
    "    kind='bar', ci=95, n_boot=1000, color='grey'\n",
    ")\n",
    "\n",
    "sns.factorplot(\n",
    "    x='Num Features', y='Error Prob', data=err3_tidy, ax=axes[1],\n",
    "    kind='bar', ci=95, n_boot=1000, color='grey'\n",
    ")\n",
    "\n",
    "\n",
    "plt.setp(axes[0], ylabel='Type 2 Error Probability')\n",
    "plt.setp(axes[1], ylabel='Type 3 Error Probability')\n",
    "\n",
    "sns.despine(ax=axes[0])\n",
    "sns.despine(ax=axes[1])"
   ]
  },
  {
   "cell_type": "code",
   "execution_count": null,
   "metadata": {},
   "outputs": [],
   "source": [
    "tidy['Type III Errors'].sum() / tidy['Num Pieces'].sum()"
   ]
  },
  {
   "cell_type": "code",
   "execution_count": null,
   "metadata": {},
   "outputs": [],
   "source": []
  },
  {
   "cell_type": "code",
   "execution_count": null,
   "metadata": {},
   "outputs": [],
   "source": []
  },
  {
   "cell_type": "code",
   "execution_count": null,
   "metadata": {},
   "outputs": [],
   "source": []
  },
  {
   "cell_type": "code",
   "execution_count": null,
   "metadata": {},
   "outputs": [],
   "source": []
  },
  {
   "cell_type": "code",
   "execution_count": null,
   "metadata": {},
   "outputs": [],
   "source": []
  },
  {
   "cell_type": "code",
   "execution_count": null,
   "metadata": {},
   "outputs": [],
   "source": [
    "dustarts\n",
    "\n",
    "_idx = list(range(36))[8:40:8]\n",
    "\n",
    "_l = np.zeros(36)\n",
    "_l[_idx] = 1\n",
    "_l.reshape((4, 9))\n",
    "\n",
    "print(list(range(36))[5:45:10])\n",
    "\n",
    "row = sum_df.iloc[0]\n",
    "\n",
    "row.index"
   ]
  },
  {
   "cell_type": "code",
   "execution_count": null,
   "metadata": {},
   "outputs": [],
   "source": [
    "position_string = tidy.iloc[0]['Black Position']\n",
    "feature = '1010'\n",
    "start, end = 0, 4\n",
    "\n",
    "print(position_string)\n",
    "position_string[start:end] == feature\n",
    "position_string[start:end:9] == feature\n",
    "\n"
   ]
  },
  {
   "cell_type": "code",
   "execution_count": null,
   "metadata": {},
   "outputs": [],
   "source": [
    "row = tidy.iloc[0]\n",
    "bpi = row['Black Position']\n",
    "bpf = row['Black Position (final)']\n",
    "wpi = row['White Position']\n",
    "wpf = row['White Position (final)']\n",
    "\n",
    "error_counts = errors(row)\n",
    "print(''.join([str(i) for i in error_counts['Type 2']]))"
   ]
  },
  {
   "cell_type": "code",
   "execution_count": null,
   "metadata": {},
   "outputs": [],
   "source": [
    "initial = ''.join([str(int(b) + int(w)) for b, w in zip(bpi, wpi)])\n",
    "final = ''.join([str(int(b) + int(w)) for b, w in zip(bpf, wpf)])"
   ]
  },
  {
   "cell_type": "code",
   "execution_count": null,
   "metadata": {},
   "outputs": [],
   "source": [
    "print(initial)\n",
    "print(''.join([str(i) for i in error_counts['Type 2']]))\n",
    "print(final)"
   ]
  },
  {
   "cell_type": "code",
   "execution_count": null,
   "metadata": {},
   "outputs": [],
   "source": [
    "print(bpi)\n",
    "print(wpf)\n",
    "print(''.join([str(i) for i in error_counts['Type 3']]))\n"
   ]
  },
  {
   "cell_type": "code",
   "execution_count": null,
   "metadata": {},
   "outputs": [],
   "source": [
    "\n",
    "\n",
    "\n"
   ]
  },
  {
   "cell_type": "code",
   "execution_count": null,
   "metadata": {},
   "outputs": [],
   "source": [
    "start = 1\n",
    "position_string[start:start+28:9]"
   ]
  },
  {
   "cell_type": "code",
   "execution_count": null,
   "metadata": {},
   "outputs": [],
   "source": [
    "def position_string_to_array(position_string):\n",
    "    position_list = np.stack([int(c) for c in position_string]).reshape((4, 9))\n",
    "    \n",
    "    return position_list\n",
    "\n",
    "black_positions = np.stack(tidy['Black Position'].map(position_string_to_array).values)"
   ]
  },
  {
   "cell_type": "code",
   "execution_count": null,
   "metadata": {},
   "outputs": [],
   "source": [
    "black_positions[0]"
   ]
  },
  {
   "cell_type": "code",
   "execution_count": null,
   "metadata": {},
   "outputs": [],
   "source": [
    "black_positions.shape"
   ]
  },
  {
   "cell_type": "code",
   "execution_count": null,
   "metadata": {},
   "outputs": [],
   "source": [
    "feature1 = np.array([1, 1, 0, 0])\n",
    "feature2 = np.array([1, 0, 1, 0])\n",
    "feature3 = np.array([1, 0, 0, 1])\n",
    "feature4 = np.array([1, 1, 1, 0])\n",
    "feature5 = np.array([1, 1, 0, 1])\n",
    "feature6 = np.array([1, 1, 1, 1])\n",
    "\n",
    "def count_feature_occurrences(positions, feature):\n",
    "    counts = np.zeros_like(positions)\n",
    "    pass\n",
    "    \n",
    "    "
   ]
  },
  {
   "cell_type": "code",
   "execution_count": null,
   "metadata": {},
   "outputs": [],
   "source": [
    "position_string = tidy.iloc[0]['Black Position']"
   ]
  },
  {
   "cell_type": "code",
   "execution_count": null,
   "metadata": {},
   "outputs": [],
   "source": [
    "position = np.stack([c for c in position_string]).astype(np.uint8)"
   ]
  },
  {
   "cell_type": "code",
   "execution_count": null,
   "metadata": {},
   "outputs": [],
   "source": [
    "position"
   ]
  },
  {
   "cell_type": "code",
   "execution_count": null,
   "metadata": {},
   "outputs": [],
   "source": [
    "feature = np.zeros_like(position)\n",
    "start, end = 0, 4\n",
    "all(position[np.arange(start, end, 1)] == feature1)"
   ]
  },
  {
   "cell_type": "code",
   "execution_count": null,
   "metadata": {},
   "outputs": [],
   "source": [
    "from scipy.signal import convolve2d"
   ]
  },
  {
   "cell_type": "code",
   "execution_count": null,
   "metadata": {},
   "outputs": [],
   "source": [
    "feature = feature1\n",
    "convolve2d(black_positions[0], feature[np.newaxis, :], mode='same') == feature.sum()"
   ]
  },
  {
   "cell_type": "code",
   "execution_count": null,
   "metadata": {},
   "outputs": [],
   "source": [
    "black_positions[0]"
   ]
  },
  {
   "cell_type": "code",
   "execution_count": null,
   "metadata": {},
   "outputs": [],
   "source": []
  }
 ],
 "metadata": {
  "kernelspec": {
   "display_name": "Python [default]",
   "language": "python",
   "name": "python3"
  },
  "language_info": {
   "codemirror_mode": {
    "name": "ipython",
    "version": 3
   },
   "file_extension": ".py",
   "mimetype": "text/x-python",
   "name": "python",
   "nbconvert_exporter": "python",
   "pygments_lexer": "ipython3",
   "version": "3.5.5"
  }
 },
 "nbformat": 4,
 "nbformat_minor": 2
}
