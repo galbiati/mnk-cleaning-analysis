{
 "cells": [
  {
   "cell_type": "markdown",
   "metadata": {},
   "source": [
    "# Exploring reconstruction data\n",
    "\n",
    "Some notes.\n",
    "\n",
    "1. Response times are not correct on stimulus/submission records and will need to be reconstructed\n",
    "2. I find *no indication* that there are errors in the final submission. This leaves the weird indicator observations at position 0 to be explained, but it's clear they are not causing the board representation to be incorrect.\n",
    "\n",
    "Some todos.\n",
    "\n",
    "1. Count neighboring pieces at each position for each and both colors for error prediction\n",
    "2. Look at distribution of errors by unique position.\n",
    "3. Should probably do a more proper factor analysis rather than independent tests and regressions, but these are adequate (and clear!) enough for a first pass\n"
   ]
  },
  {
   "cell_type": "markdown",
   "metadata": {},
   "source": [
    "## Boilerplate\n",
    "\n",
    "Imports and data loading."
   ]
  },
  {
   "cell_type": "code",
   "execution_count": 1,
   "metadata": {
    "collapsed": true
   },
   "outputs": [],
   "source": [
    "import pandas as pd\n",
    "import numpy as np\n",
    "import scipy.stats as sts\n",
    "import matplotlib.pyplot as plt\n",
    "import seaborn as sns\n",
    "import os\n",
    "\n",
    "from lib.util import *\n",
    "from lib.exp4 import *\n",
    "\n",
    "sns.set_style('white')\n",
    "sns.set_context('talk')\n",
    "\n",
    "% matplotlib inline"
   ]
  },
  {
   "cell_type": "code",
   "execution_count": 3,
   "metadata": {},
   "outputs": [
    {
     "name": "stderr",
     "output_type": "stream",
     "text": [
      "/Users/gianni/anaconda/lib/python3.5/site-packages/ipykernel/__main__.py:68: SettingWithCopyWarning: \n",
      "A value is trying to be set on a copy of a slice from a DataFrame.\n",
      "Try using .loc[row_indexer,col_indexer] = value instead\n",
      "\n",
      "See the caveats in the documentation: http://pandas.pydata.org/pandas-docs/stable/indexing.html#indexing-view-versus-copy\n",
      "/Users/gianni/anaconda/lib/python3.5/site-packages/ipykernel/__main__.py:69: SettingWithCopyWarning: \n",
      "A value is trying to be set on a copy of a slice from a DataFrame.\n",
      "Try using .loc[row_indexer,col_indexer] = value instead\n",
      "\n",
      "See the caveats in the documentation: http://pandas.pydata.org/pandas-docs/stable/indexing.html#indexing-view-versus-copy\n"
     ]
    }
   ],
   "source": [
    "data_dir = os.path.expanduser('~/Google Drive/Bas Zahy Gianni - Games/Data/4_rcn/Raw Data')\n",
    "\n",
    "trained_files = get_all_filepaths('Trained')\n",
    "untrained_files = get_all_filepaths('Untrained')\n",
    "all_files = trained_files + untrained_files\n",
    "\n",
    "DF = load_data(all_files)"
   ]
  },
  {
   "cell_type": "markdown",
   "metadata": {},
   "source": [
    "## Compute errors\n",
    "\n",
    "First extract positions as numpy arrays for easier manipulation\n",
    "\n",
    "### Error types\n",
    "\n",
    "\n",
    "- **Black**: differences in black boards\n",
    "- **White**: differences in white boards\n",
    "- **Type I**: \"false positive\"; putting a piece where there was not one\n",
    "- **Type II**: \"false negative\"; neglecting a piece where there should have been one\n",
    "- **Type III**: \"swap\"; switching the color on a piece"
   ]
  },
  {
   "cell_type": "code",
   "execution_count": 4,
   "metadata": {
    "collapsed": true
   },
   "outputs": [],
   "source": [
    "def position_string_to_array(position_string):\n",
    "    return np.array(list(position_string), dtype=int)\n",
    "\n",
    "def series_to_array(series):\n",
    "    return np.stack(series.map(position_string_to_array).values, axis=1)\n",
    "\n",
    "bpi = series_to_array(DF['Black Position'])\n",
    "bpf = series_to_array(DF['Black Position (final)'])\n",
    "wpi = series_to_array(DF['White Position'])\n",
    "wpf = series_to_array(DF['White Position (final)'])\n",
    "\n",
    "black_errors = (bpf != bpi).astype(int)\n",
    "white_errors = (wpf != wpi).astype(int)\n",
    "\n",
    "type_1b = ((bpf == 1) & (bpi == 0)).astype(int).sum(axis=0)\n",
    "type_1w = ((wpf == 1) & (wpi == 0)).astype(int).sum(axis=0)\n",
    "\n",
    "type_2b = ((bpf == 0) & (bpi == 1)).astype(int).sum(axis=0)\n",
    "type_2w = ((wpf == 0) & (wpi == 1)).astype(int).sum(axis=0)\n",
    "\n",
    "type_3b = ((wpf == 1) & (bpi == 1)).astype(int).sum(axis=0)\n",
    "type_3w = ((bpf == 1) & (wpi == 1)).astype(int).sum(axis=0)\n",
    "\n",
    "DF['Num Black Pieces'] = bpi.sum(axis=0)\n",
    "DF['Num White Pieces'] = wpi.sum(axis=0)\n",
    "DF['Num Pieces'] = DF['Num Black Pieces'] + DF['Num White Pieces']\n",
    "DF['Total Black Errors'] = black_errors.sum(axis=0)\n",
    "DF['Total White Errors'] = white_errors.sum(axis=0)\n",
    "DF['Total Errors'] = np.ceil((black_errors + white_errors) / 2).sum(axis=0)\n",
    "\n",
    "DF['Type I Errors (black)'] = type_1b - type_3w\n",
    "DF['Type I Errors (white)'] = type_1w - type_3b\n",
    "DF['Type I Errors'] = type_1b + type_1w - type_3b - type_3w\n",
    "\n",
    "DF['Type II Errors (black)'] = type_2b - type_3b\n",
    "DF['Type II Errors (white)'] = type_2w - type_3w\n",
    "DF['Type II Errors'] = type_2b + type_2w - type_3b - type_3w\n",
    "\n",
    "DF['Type III Errors (black)'] = type_3b\n",
    "DF['Type III Errors (white)'] = type_3w\n",
    "DF['Type III Errors'] = type_3b + type_3w"
   ]
  },
  {
   "cell_type": "markdown",
   "metadata": {},
   "source": [
    "## Questions"
   ]
  },
  {
   "cell_type": "markdown",
   "metadata": {},
   "source": [
    "### Are there errors in the board representation data?\n",
    "\n",
    "Yunqi previously had trouble with some oddities in the board construction sequences where a piece would be placed in position 0 (top left corner), but the board representation didn't change.\n",
    "\n",
    "**Answer**: \n",
    "- No sign that there are excessive errors at position 0; not sure what Yunqi did before...\n",
    "- Does *not* explain the quesitionable records. They must be utility indicators for the server/client, but I haven't found where in the code they're being produced or why they're necessary. Something to follow up on, but evidently not a real problem; those records can simply be dropped."
   ]
  },
  {
   "cell_type": "code",
   "execution_count": 5,
   "metadata": {
    "collapsed": true
   },
   "outputs": [],
   "source": [
    "black_errors_by_location = black_errors.sum(axis=1)\n",
    "white_errors_by_location = white_errors.sum(axis=1)"
   ]
  },
  {
   "cell_type": "code",
   "execution_count": 6,
   "metadata": {},
   "outputs": [
    {
     "data": {
      "image/png": "[encoded data removed]",
      "text/plain": [
       "<matplotlib.figure.Figure at 0x107167240>"
      ]
     },
     "metadata": {},
     "output_type": "display_data"
    }
   ],
   "source": [
    "fig, axes = plt.subplots(1, 2, figsize=(15, 5), squeeze=False, sharex=True, sharey=True)\n",
    "\n",
    "ax = axes[0, 0]\n",
    "ax.bar(np.arange(36), black_errors_by_location)\n",
    "plt.setp(ax, ylabel='Error Count', xlabel='Board Location (Black)')\n",
    "\n",
    "ax = axes[0, 1]\n",
    "ax.bar(np.arange(36), white_errors_by_location)\n",
    "plt.setp(ax, xlabel='Board Location (White)')\n",
    "\n",
    "sns.despine()"
   ]
  },
  {
   "cell_type": "markdown",
   "metadata": {},
   "source": [
    "Just another very quick confirmation - there are *never* conflicts between pieces of different color in the final representation."
   ]
  },
  {
   "cell_type": "code",
   "execution_count": 7,
   "metadata": {},
   "outputs": [
    {
     "data": {
      "text/plain": [
       "0"
      ]
     },
     "execution_count": 7,
     "metadata": {},
     "output_type": "execute_result"
    }
   ],
   "source": [
    "((bpf == 1) & (wpf == 1)).astype(int).sum()"
   ]
  },
  {
   "cell_type": "markdown",
   "metadata": {},
   "source": [
    "### Are there differences in error rates between experts and non experts?\n",
    "\n",
    "Answer: looks like yes to me, but has a complicated and significant relationship with the number of pieces. What's the correct analysis? Is this an ANOVA sort of thing for frequentists?\n",
    "\n",
    "TODO: ELO rating effect for trained subjects?"
   ]
  },
  {
   "cell_type": "code",
   "execution_count": 13,
   "metadata": {},
   "outputs": [
    {
     "data": {
      "text/html": [
       "<div>\n",
       "<style>\n",
       "    .dataframe thead tr:only-child th {\n",
       "        text-align: right;\n",
       "    }\n",
       "\n",
       "    .dataframe thead th {\n",
       "        text-align: left;\n",
       "    }\n",
       "\n",
       "    .dataframe tbody tr th {\n",
       "        vertical-align: top;\n",
       "    }\n",
       "</style>\n",
       "<table border=\"1\" class=\"dataframe\">\n",
       "  <thead>\n",
       "    <tr style=\"text-align: right;\">\n",
       "      <th>Condition</th>\n",
       "      <th>Naive</th>\n",
       "      <th>Trained</th>\n",
       "      <th>All</th>\n",
       "    </tr>\n",
       "    <tr>\n",
       "      <th>Num Pieces</th>\n",
       "      <th></th>\n",
       "      <th></th>\n",
       "      <th></th>\n",
       "    </tr>\n",
       "  </thead>\n",
       "  <tbody>\n",
       "    <tr>\n",
       "      <th>11</th>\n",
       "      <td>3.719298</td>\n",
       "      <td>3.342105</td>\n",
       "      <td>3.530702</td>\n",
       "    </tr>\n",
       "    <tr>\n",
       "      <th>12</th>\n",
       "      <td>4.092105</td>\n",
       "      <td>3.469298</td>\n",
       "      <td>3.780702</td>\n",
       "    </tr>\n",
       "    <tr>\n",
       "      <th>13</th>\n",
       "      <td>4.776316</td>\n",
       "      <td>4.478070</td>\n",
       "      <td>4.627193</td>\n",
       "    </tr>\n",
       "    <tr>\n",
       "      <th>14</th>\n",
       "      <td>6.456140</td>\n",
       "      <td>5.684211</td>\n",
       "      <td>6.070175</td>\n",
       "    </tr>\n",
       "    <tr>\n",
       "      <th>15</th>\n",
       "      <td>6.978070</td>\n",
       "      <td>6.456140</td>\n",
       "      <td>6.717105</td>\n",
       "    </tr>\n",
       "    <tr>\n",
       "      <th>16</th>\n",
       "      <td>7.776316</td>\n",
       "      <td>7.166667</td>\n",
       "      <td>7.471491</td>\n",
       "    </tr>\n",
       "    <tr>\n",
       "      <th>17</th>\n",
       "      <td>8.719298</td>\n",
       "      <td>8.328947</td>\n",
       "      <td>8.524123</td>\n",
       "    </tr>\n",
       "    <tr>\n",
       "      <th>18</th>\n",
       "      <td>8.627193</td>\n",
       "      <td>7.938596</td>\n",
       "      <td>8.282895</td>\n",
       "    </tr>\n",
       "    <tr>\n",
       "      <th>All</th>\n",
       "      <td>6.393092</td>\n",
       "      <td>5.858004</td>\n",
       "      <td>6.125548</td>\n",
       "    </tr>\n",
       "  </tbody>\n",
       "</table>\n",
       "</div>"
      ],
      "text/plain": [
       "Condition      Naive   Trained       All\n",
       "Num Pieces                              \n",
       "11          3.719298  3.342105  3.530702\n",
       "12          4.092105  3.469298  3.780702\n",
       "13          4.776316  4.478070  4.627193\n",
       "14          6.456140  5.684211  6.070175\n",
       "15          6.978070  6.456140  6.717105\n",
       "16          7.776316  7.166667  7.471491\n",
       "17          8.719298  8.328947  8.524123\n",
       "18          8.627193  7.938596  8.282895\n",
       "All         6.393092  5.858004  6.125548"
      ]
     },
     "execution_count": 13,
     "metadata": {},
     "output_type": "execute_result"
    }
   ],
   "source": [
    "piv = DF.pivot_table(index='Num Pieces', values='Total Errors', columns='Condition', margins=True, aggfunc=np.mean)\n",
    "piv # just showing off pandas here"
   ]
  },
  {
   "cell_type": "code",
   "execution_count": 14,
   "metadata": {},
   "outputs": [
    {
     "name": "stdout",
     "output_type": "stream",
     "text": [
      "Condition independent t-test:\n",
      " Ttest_indResult(statistic=-3.9286164111678126, pvalue=8.7018663725315566e-05) \n",
      "\n",
      "\n",
      "# Pieces vs Total Errors correlation\n",
      "\n",
      "All: LinregressResult(slope=0.78764619883040932, intercept=-5.2953216374268992, rvalue=0.43795537927415945, pvalue=7.6052642377300263e-171, stderr=0.026776332169987354) \n",
      "\n",
      "Trained LinregressResult(slope=0.77751670843776111, intercept=-5.4159878863826236, rvalue=0.41734572213189186, pvalue=8.5862938917470562e-78, stderr=0.039662761303886906) \n",
      "\n",
      "Naive LinregressResult(slope=0.79777568922305775, intercept=-5.1746553884711801, rvalue=0.46284779209292032, pvalue=1.6611767029244807e-97, stderr=0.035794530307343191)\n"
     ]
    },
    {
     "data": {
      "image/png": "[encoded data removed]",
      "text/plain": [
       "<matplotlib.figure.Figure at 0x1a1a792048>"
      ]
     },
     "metadata": {},
     "output_type": "display_data"
    }
   ],
   "source": [
    "fig, axes = plt.subplots(2, 2, figsize=(15, 10), squeeze=False)\n",
    "\n",
    "tr = DF.loc[DF['Condition'] == 'Trained']\n",
    "na = DF.loc[DF['Condition'] == 'Naive']\n",
    "\n",
    "ax = axes[0, 0]\n",
    "sns.barplot(x='Condition', y='Total Errors', data=DF, ax=ax)\n",
    "plt.setp(ax, ylabel='Mean # Errors')\n",
    "ttest = sts.ttest_ind(tr['Total Errors'], na['Total Errors'])\n",
    "print('Condition independent t-test:\\n', ttest, '\\n\\n')\n",
    "\n",
    "ax = axes[0, 1]\n",
    "sns.barplot(x='Num Pieces', y='Total Errors', hue='Condition', data=DF, ax=ax, ci=None)\n",
    "plt.setp(ax, xlabel='Target # Pieces', ylabel='Mean # Errors')\n",
    "\n",
    "ax = axes[1, 1]\n",
    "\n",
    "ax.scatter(tr['Num Pieces'], tr['Total Errors'], alpha=.5)\n",
    "ax.scatter(na['Num Pieces'], na['Total Errors'], alpha=.5)\n",
    "lr = sts.linregress(DF['Num Pieces'], DF['Total Errors'])\n",
    "lr_tr = sts.linregress(tr['Num Pieces'], tr['Total Errors'])\n",
    "lr_na = sts.linregress(na['Num Pieces'], na['Total Errors'])\n",
    "print('# Pieces vs Total Errors correlation\\n\\nAll:', lr, '\\n\\nTrained', lr_tr, '\\n\\nNaive', lr_na)\n",
    "\n",
    "x = np.arange(10, 20)\n",
    "ax.plot(x, x * lr_tr.slope + lr_tr.intercept, linewidth=3)\n",
    "ax.plot(x, x * lr_na.slope + lr_na.intercept, linewidth=3)\n",
    "ax.plot(x, x * lr.slope + lr.intercept, color='black', linewidth=4)\n",
    "plt.setp(ax, ylabel='Total # Errors', xlabel='Target # Pieces')\n",
    "\n",
    "axes[1, 0].set_visible(False)\n",
    "\n",
    "sns.despine()"
   ]
  },
  {
   "cell_type": "markdown",
   "metadata": {},
   "source": [
    "### Are there different patterns for forgetting pieces, adding extras, and switching colors?\n",
    "\n",
    "**Answer**: Yes, looks like it.\n",
    "\n",
    "- More experienced players *may* be *slightly* more likely to add a piece where none previously existed\n",
    "- More experienced players are substantially less likely to forget a piece\n",
    "- More experienced players are somewhat less likely to get the color of a piece wrong"
   ]
  },
  {
   "cell_type": "code",
   "execution_count": 11,
   "metadata": {},
   "outputs": [
    {
     "name": "stdout",
     "output_type": "stream",
     "text": [
      "Type I Ttest:\n",
      " Ttest_indResult(statistic=2.0829104407523378, pvalue=0.037328912594820775) \n",
      "\n",
      "Type II Ttest:\n",
      " Ttest_indResult(statistic=-5.1225228229880369, pvalue=3.170965772659798e-07) \n",
      "\n",
      "Type III Ttest:\n",
      " Ttest_indResult(statistic=-3.8508961941492612, pvalue=0.00011970699502190505) \n",
      "\n"
     ]
    },
    {
     "data": {
      "image/png": "[encoded data removed]",
      "text/plain": [
       "<matplotlib.figure.Figure at 0x10f3f5d30>"
      ]
     },
     "metadata": {},
     "output_type": "display_data"
    }
   ],
   "source": [
    "fig, axes = plt.subplots(1, 3, figsize=(21, 5), squeeze=False, sharey=True)\n",
    "\n",
    "ax = axes[0, 0]\n",
    "sns.barplot(x='Condition', y='Type I Errors', data=DF, ax=ax)\n",
    "ttest = sts.ttest_ind(tr['Type I Errors'], na['Type I Errors'])\n",
    "print('Type I Ttest:\\n', ttest, '\\n')\n",
    "\n",
    "ax = axes[0, 1]\n",
    "sns.barplot(x='Condition', y='Type II Errors', data=DF, ax=ax)\n",
    "ttest = sts.ttest_ind(tr['Type II Errors'], na['Type II Errors'])\n",
    "print('Type II Ttest:\\n', ttest, '\\n')\n",
    "\n",
    "ax = axes[0, 2]\n",
    "sns.barplot(x='Condition', y='Type III Errors', data=DF, ax=ax)\n",
    "ttest = sts.ttest_ind(tr['Type III Errors'], na['Type III Errors'])\n",
    "print('Type III Ttest:\\n', ttest, '\\n')\n",
    "\n",
    "\n",
    "sns.despine()"
   ]
  },
  {
   "cell_type": "markdown",
   "metadata": {},
   "source": [
    "### How does error likelihood depend on location?\n",
    "\n",
    "Bonferonni correction!!\n",
    "\n",
    "The below could use some further clarity - looks like it has to do with distribution of stimuli as much as anything else. For example, could divide by number of times a piece is located at that position."
   ]
  },
  {
   "cell_type": "code",
   "execution_count": 12,
   "metadata": {},
   "outputs": [
    {
     "data": {
      "image/png": "[encoded data removed]",
      "text/plain": [
       "<matplotlib.figure.Figure at 0x1a1a792898>"
      ]
     },
     "metadata": {},
     "output_type": "display_data"
    }
   ],
   "source": [
    "fig, axes = plt.subplots(3, 3, figsize=(21, 12), squeeze=False)\n",
    "heatmap_kws = {'cbar': False, 'square': True}\n",
    "\n",
    "ax = axes[0, 0]\n",
    "sns.heatmap(black_errors_by_location.reshape([4, 9]), ax=ax, cbar=False, square=True)\n",
    "\n",
    "ax = axes[1, 0]\n",
    "sns.heatmap(bpi.sum(axis=1).reshape([4, 9]), ax=ax, **heatmap_kws)\n",
    "\n",
    "ax = axes[2, 0]\n",
    "sns.heatmap((black_errors_by_location / bpi.sum(axis=1)).reshape([4, 9]), ax=ax, **heatmap_kws)\n",
    "\n",
    "ax = axes[0, 1]\n",
    "sns.heatmap(white_errors_by_location.reshape([4, 9]), ax=ax, cbar=False, square=True)\n",
    "\n",
    "ax = axes[1, 1]\n",
    "sns.heatmap(wpi.sum(axis=1).reshape([4, 9]), ax=ax, cbar=False, square=True)\n",
    "\n",
    "ax = axes[2, 1]\n",
    "sns.heatmap((white_errors_by_location / wpi.sum(axis=1)).reshape([4, 9]), ax=ax, **heatmap_kws)\n",
    "\n",
    "ax = axes[0, 2]\n",
    "sns.heatmap((black_errors_by_location + white_errors_by_location).reshape([4, 9]), ax=ax, cbar=False, square=True)\n",
    "\n",
    "ax = axes[1, 2]\n",
    "sns.heatmap((bpi + wpi).sum(axis=1).reshape([4, 9]), ax=ax, cbar=False, square=True)\n",
    "\n",
    "ax = axes[2, 2]\n",
    "sns.heatmap(\n",
    "    ((black_errors_by_location + white_errors_by_location) / (bpi + wpi).sum(axis=1)).reshape([4, 9]),\n",
    "    ax=ax, **heatmap_kws\n",
    ")\n",
    "\n",
    "plt.setp(axes, yticklabels=[], xticklabels=[])\n",
    "    \n",
    "plt.setp(axes[0, 0], ylabel='# Errors', xlabel='Black')\n",
    "plt.setp(axes[0, 1], xlabel='White')\n",
    "plt.setp(axes[0, 2], xlabel='All')\n",
    "plt.setp(axes[1, 0], ylabel='# Occurrences')\n",
    "plt.setp(axes[2, 0], ylabel='# Errors / # Occurrences')\n",
    "\n",
    "sns.despine(left=True, bottom=True)"
   ]
  },
  {
   "cell_type": "code",
   "execution_count": null,
   "metadata": {
    "collapsed": true
   },
   "outputs": [],
   "source": []
  },
  {
   "cell_type": "markdown",
   "metadata": {},
   "source": [
    "## Old (bad) code\n",
    "\n",
    "Going away soon; will live on in Github's memory"
   ]
  },
  {
   "cell_type": "code",
   "execution_count": 2,
   "metadata": {
    "collapsed": true
   },
   "outputs": [],
   "source": [
    "# def reconstruct_boards(grouped):\n",
    "#     \"\"\"Reconstructs a trial using the move/color records\"\"\"\n",
    "#     bp, wp = ('0'*36, ) * 2\n",
    "    \n",
    "#     new_pos = []\n",
    "#     for i in grouped.index.values:\n",
    "#         row = grouped.loc[i]\n",
    "#         color, zet = row[['color', 'zet']]\n",
    "        \n",
    "#         if color == 0:\n",
    "#             p = bp\n",
    "#             op = wp\n",
    "#         else:\n",
    "#             p = wp\n",
    "#             op = bp\n",
    "            \n",
    "#         newp = list(p)\n",
    "#         newop = list(op)\n",
    "        \n",
    "#         if newp[zet] == '1':\n",
    "#             newp[zet] = '0'\n",
    "#         elif newop[zet] == '1':\n",
    "#             newop[zet] = '0'\n",
    "#             newp[zet] = '1'\n",
    "#         else:\n",
    "#             newp[zet] = '1'\n",
    "            \n",
    "#         if color == 0:\n",
    "#             bp = ''.join(newp)\n",
    "#             wp = ''.join(newop)\n",
    "#         else:\n",
    "#             wp = ''.join(newp)\n",
    "#             bp = ''.join(newop)\n",
    "            \n",
    "#         new_pos.append((bp, wp))\n",
    "        \n",
    "#     return pd.DataFrame(new_pos, columns=['bp', 'wp'])\n",
    "\n",
    "# def clean_reconstruction_data(filename, trained=True):\n",
    "    \n",
    "#     # 0: Load data, correct game index field\n",
    "#     names = ['idx', 'subid', 'color', 'gi', 'mi', 'status', 'bp', 'wp', 'zet', 'rt', 'ts', 'mt', 'mx']\n",
    "#     directory = 'Trained_Game' if trained else 'Untrained_Game'\n",
    "#     df = pd.read_csv(os.path.join(data_dir, directory, filename), names=names)\n",
    "#     df['subject'] = filename.split('_')[1][:-4]\n",
    "#     df['trained'] = trained\n",
    "#     reconi = df['status']=='reconi'\n",
    "#     df['gi'] = np.nan\n",
    "#     df.loc[reconi, 'gi'] = np.arange(len(df.loc[reconi]))\n",
    "#     df['gi'] = df['gi'].fillna(method='ffill', downcast='infer')\n",
    "    \n",
    "    \n",
    "#     # 1: Boards recorded \"0\" inputs wrong; reconstruct them from moves\n",
    "#     reconm = df['status'] == 'recon'\n",
    "#     reconf = df['status'] == 'reconf'\n",
    "#     recond = df.loc[reconm].groupby('gi').apply(reconstruct_boards)\n",
    "#     assembled = recond.reset_index()\n",
    "\n",
    "#     df['bp correct'] = df['bp']\n",
    "#     df['wp correct'] = df['wp']\n",
    "#     df.loc[reconm, 'bp correct'] = assembled['bp'].values\n",
    "#     df.loc[reconm, 'wp correct'] = assembled['wp'].values\n",
    "#     df.loc[reconf, 'bp correct'] = np.nan\n",
    "#     df.loc[reconf, 'wp correct'] = np.nan\n",
    "#     df['bp correct'] = df['bp correct'].fillna(method='ffill')\n",
    "#     df['wp correct'] = df['wp correct'].fillna(method='ffill')\n",
    "\n",
    "#     # 2: Response times are goofed; reconstruct from timestamps\n",
    "#     df['rt correct'] = df['ts'] - df['ts'].shift(1)\n",
    "#     df.loc[df['status'] == 'eyecal', 'rt correct'] = df.loc[df['status'] == 'eyecal', 'rt']\n",
    "    \n",
    "#     # 3: Rename and drop columns (this can be combined above when done debugging)\n",
    "#     df['rt'] = df['rt correct']\n",
    "#     board_filter = df['status'].isin(['recon', 'reconf'])\n",
    "#     df.loc[board_filter, 'bp'] = df.loc[board_filter, 'bp correct']\n",
    "#     df.loc[board_filter, 'wp'] = df.loc[board_filter, 'wp correct']\n",
    "#     df = df[['subject', 'trained', 'color', 'gi', 'mi', 'status', 'bp', 'wp', 'zet', 'rt', 'ts']]\n",
    "\n",
    "#     return df\n",
    "\n",
    "# for trained in trained_files:\n",
    "#     df = clean_reconstruction_data(trained, trained=True)\n",
    "#     filename = 'trained {subject}.csv'.format(subject=trained.split('_')[1][:-4])\n",
    "#     df.to_csv(os.path.join(data_dir, 'Clean/Game', filename), index=False)\n",
    "\n",
    "# for untrained in untrained_files:\n",
    "#     df = clean_reconstruction_data(untrained, trained=False)\n",
    "#     filename = 'untrained {subject}.csv'.format(subject=untrained.split('_')[1][:-4])\n",
    "#     df.to_csv(os.path.join(data_dir, 'Clean/Game', filename), index=False)\n",
    "\n",
    "# df = clean_reconstruction_data(untrained_files[-3], trained=False)\n",
    "\n",
    "# idxs = df.loc[df['rt'] < 0].index.values\n",
    "# idxs = pd.np.concatenate([idxs, idxs - 1])\n",
    "# df.loc[idxs].sort_index()"
   ]
  }
 ],
 "metadata": {
  "kernelspec": {
   "display_name": "Python [default]",
   "language": "python",
   "name": "python3"
  },
  "language_info": {
   "codemirror_mode": {
    "name": "ipython",
    "version": 3
   },
   "file_extension": ".py",
   "mimetype": "text/x-python",
   "name": "python",
   "nbconvert_exporter": "python",
   "pygments_lexer": "ipython3",
   "version": "3.5.4"
  }
 },
 "nbformat": 4,
 "nbformat_minor": 2
}
