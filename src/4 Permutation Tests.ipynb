{
 "cells": [
  {
   "cell_type": "code",
   "execution_count": null,
   "metadata": {},
   "outputs": [],
   "source": [
    "import os\n",
    "\n",
    "import numpy as np\n",
    "import pandas as pd\n",
    "import scipy.stats as sts\n",
    "\n",
    "import matplotlib.pyplot as plt\n",
    "import seaborn as sns\n",
    "\n",
    "import statsmodels\n",
    "import statsmodels.api as sm\n",
    "import statsmodels.formula.api as smf\n",
    "\n",
    "import lib.exp4 as exp4\n",
    "from lib.reconstruction.config import colors, set_library_options\n",
    "import lib.reconstruction.errors as errs\n",
    "import lib.reconstruction.features as ftrs\n",
    "import lib.reconstruction.neighbors as nbrs\n",
    "from lib.reconstruction.permutation_tests import PermutationTestBetween, PermutationTestWithin\n",
    "\n",
    "import lib.utility_functions as uf\n",
    "import lib.util.datatype_utilities as dtutils\n",
    "\n",
    "# Config\n",
    "set_library_options()\n",
    "\n",
    "% matplotlib inline"
   ]
  },
  {
   "cell_type": "code",
   "execution_count": null,
   "metadata": {},
   "outputs": [],
   "source": [
    "sns.palplot(colors.values())"
   ]
  },
  {
   "cell_type": "code",
   "execution_count": null,
   "metadata": {},
   "outputs": [],
   "source": [
    "tidy = pd.read_csv('./tidy_data.csv', index_col=0)\n",
    "tidy['Condition'] = tidy['Condition'].map(lambda x: 'Untrained' if x == 'Naive' else x)\n",
    "tidy['Position ID'] = tidy['Position ID'].map(int)\n",
    "\n",
    "vals = ['Black Position', 'White Position', 'Is Real', 'Num Pieces']\n",
    "\n",
    "board_set = tidy.pivot_table(index='Position ID', values=vals, aggfunc=lambda x: x.unique()[0])[vals]"
   ]
  },
  {
   "cell_type": "code",
   "execution_count": null,
   "metadata": {},
   "outputs": [],
   "source": [
    "tidy['Total Error Rate'] = tidy['Total Errors'] / 36\n",
    "tidy['Type I Rate'] = tidy['Type I Errors'] / (36 - tidy['Num Pieces'])\n",
    "tidy['Type II Rate'] = tidy['Type II Errors'] / tidy['Num Pieces']\n",
    "tidy['Type III Rate'] = tidy['Type III Errors'] / tidy['Num Pieces']"
   ]
  },
  {
   "cell_type": "code",
   "execution_count": null,
   "metadata": {
    "scrolled": false
   },
   "outputs": [],
   "source": [
    "between_permutation_test = PermutationTestBetween(tidy, num_resamples=1000)\n",
    "    \n",
    "samples, axes = between_permutation_test('Type III Rate')"
   ]
  },
  {
   "cell_type": "code",
   "execution_count": null,
   "metadata": {
    "scrolled": false
   },
   "outputs": [],
   "source": [
    "within_permutation_test = PermutationTestWithin(tidy, num_resamples=1000)\n",
    "\n",
    "samples, axes = within_permutation_test('Type III Rate')"
   ]
  },
  {
   "cell_type": "code",
   "execution_count": null,
   "metadata": {},
   "outputs": [],
   "source": [
    "tidy.head()"
   ]
  }
 ],
 "metadata": {
  "kernelspec": {
   "display_name": "Python [default]",
   "language": "python",
   "name": "python3"
  },
  "language_info": {
   "codemirror_mode": {
    "name": "ipython",
    "version": 3
   },
   "file_extension": ".py",
   "mimetype": "text/x-python",
   "name": "python",
   "nbconvert_exporter": "python",
   "pygments_lexer": "ipython3",
   "version": "3.5.6"
  }
 },
 "nbformat": 4,
 "nbformat_minor": 2
}
