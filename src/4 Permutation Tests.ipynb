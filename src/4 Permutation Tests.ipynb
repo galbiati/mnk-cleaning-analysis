{
 "cells": [
  {
   "cell_type": "code",
   "execution_count": 1,
   "metadata": {},
   "outputs": [
    {
     "name": "stderr",
     "output_type": "stream",
     "text": [
      "/Users/gianni/anaconda/lib/python3.5/site-packages/statsmodels/compat/pandas.py:56: FutureWarning: The pandas.core.datetools module is deprecated and will be removed in a future version. Please use the pandas.tseries module instead.\n",
      "  from pandas.core import datetools\n"
     ]
    }
   ],
   "source": [
    "# Imports\n",
    "import os\n",
    "\n",
    "import matplotlib.pyplot as plt\n",
    "import numpy as np\n",
    "import pandas as pd\n",
    "import scipy.stats as sts\n",
    "import seaborn as sns\n",
    "import statsmodels\n",
    "import statsmodels.api as sm\n",
    "from statsmodels.formula.api import ols\n",
    "\n",
    "from lib.utility_functions import *\n",
    "from lib.exp4 import *\n",
    "\n",
    "# Config\n",
    "sns.set_style('white')\n",
    "sns.set_context('talk')\n",
    "\n",
    "pd.set_option('display.max_columns', 40)\n",
    "\n",
    "% matplotlib inline"
   ]
  },
  {
   "cell_type": "code",
   "execution_count": 2,
   "metadata": {},
   "outputs": [],
   "source": [
    "tidy = pd.read_csv('./tidy_data.csv', index_col=0)"
   ]
  },
  {
   "cell_type": "code",
   "execution_count": 77,
   "metadata": {},
   "outputs": [
    {
     "name": "stdout",
     "output_type": "stream",
     "text": [
      "-0.5307017543859649 -0.5394736842105265\n",
      "-2.104166666666667 -2.1129385964912286\n"
     ]
    }
   ],
   "source": [
    "\n",
    "original_condition = tidy['Condition'].values\n",
    "oritinal_real = tidy['Is Real'].values\n",
    "\n",
    "is_trained = tidy['Condition'] == 'Trained'\n",
    "is_real = tidy['Is Real']\n",
    "\n",
    "# Difference between *condition* split by *is real*\n",
    "original_true_dif = tidy.loc[is_trained & is_real, 'Total Errors'].mean() - tidy.loc[~is_trained & is_real, 'Total Errors'].mean()\n",
    "original_false_dif = tidy.loc[is_trained & ~is_real, 'Total Errors'].mean() - tidy.loc[~is_trained & ~is_real, 'Total Errors'].mean()\n",
    "\n",
    "# Difference between *is real* split by *condition*\n",
    "original_trained_dif = tidy.loc[is_trained & is_real, 'Total Errors'].mean() - tidy.loc[is_trained & ~is_real, 'Total Errors'].mean()\n",
    "original_naive_dif = tidy.loc[~is_trained & is_real, 'Total Errors'].mean() - tidy.loc[~is_trained & ~is_real, 'Total Errors'].mean()\n",
    "\n",
    "print(original_true_dif, original_false_dif)\n",
    "print(original_trained_dif, original_naive_dif)"
   ]
  },
  {
   "cell_type": "code",
   "execution_count": 43,
   "metadata": {},
   "outputs": [],
   "source": [
    "n_resamples = 100000\n",
    "\n",
    "resampled_true = []\n",
    "resampled_false = []\n",
    "\n",
    "for i in range(n_resamples):\n",
    "    tidy['Condition_R'] = tidy['Condition'].sample(frac=1, replace=False).values\n",
    "    is_trained = tidy['Condition_R'] == 'Trained'\n",
    "    is_real = tidy['Is Real']\n",
    "    \n",
    "    true_dif = tidy.loc[is_trained & is_real, 'Total Errors'].mean() - tidy.loc[~is_trained & is_real, 'Total Errors'].mean()\n",
    "    false_dif = tidy.loc[is_trained & ~is_real, 'Total Errors'].mean() - tidy.loc[~is_trained & ~is_real, 'Total Errors'].mean()\n",
    "    \n",
    "    resampled_true.append(true_dif)\n",
    "    resampled_false.append(false_dif)"
   ]
  },
  {
   "cell_type": "code",
   "execution_count": 44,
   "metadata": {},
   "outputs": [
    {
     "name": "stderr",
     "output_type": "stream",
     "text": [
      "/Users/gianni/anaconda/lib/python3.5/site-packages/matplotlib/axes/_axes.py:6462: UserWarning: The 'normed' kwarg is deprecated, and has been replaced by the 'density' kwarg.\n",
      "  warnings.warn(\"The 'normed' kwarg is deprecated, and has been \"\n"
     ]
    },
    {
     "data": {
      "image/png": "[encoded data removed]",
      "text/plain": [
       "<Figure size 432x288 with 1 Axes>"
      ]
     },
     "metadata": {},
     "output_type": "display_data"
    }
   ],
   "source": [
    "# sorted_resampled_true = np.sort(resampled_true)\n",
    "# plt.plot(sorted_resampled_true, linestyle='none', marker='o')\n",
    "sns.distplot(resampled_true, bins=200, norm_hist=True)\n",
    "sns.distplot(resampled_false, bins=200, norm_hist=True)\n",
    "\n",
    "plt.plot([original_true_dif, original_true_dif], [0, 2.5])\n",
    "plt.plot([original_false_dif, original_false_dif], [0, 2.5])\n",
    "\n",
    "sns.despine()"
   ]
  },
  {
   "cell_type": "code",
   "execution_count": 45,
   "metadata": {},
   "outputs": [
    {
     "data": {
      "text/plain": [
       "0.00252"
      ]
     },
     "execution_count": 45,
     "metadata": {},
     "output_type": "execute_result"
    }
   ],
   "source": [
    "resampled_true = np.stack(resampled_true)\n",
    "true_loc = (resampled_true >= np.abs(original_true_dif))\n",
    "true_loc |= (resampled_true <= -np.abs(original_true_dif))\n",
    "\n",
    "len(resampled_true[true_loc]) / len(resampled_true)"
   ]
  },
  {
   "cell_type": "code",
   "execution_count": null,
   "metadata": {},
   "outputs": [],
   "source": []
  },
  {
   "cell_type": "code",
   "execution_count": 79,
   "metadata": {},
   "outputs": [],
   "source": [
    "resampled_trained = []\n",
    "resampled_naive = []\n",
    "\n",
    "g = tidy.groupby('Subject ID', sort=False)\n",
    "\n",
    "for i in range(n_resamples):\n",
    "    tidy['Is Real_R'] = pd.melt(\n",
    "        pd.DataFrame(g.apply(lambda x: x[['Is Real', 'Subject ID']].sample(frac=1, replace=False))),\n",
    "        id_vars=['Subject ID'], value_vars=['Is Real'], value_name='Is Real'\n",
    "    )['Is Real'].values\n",
    "\n",
    "    is_trained = tidy['Condition'] == 'Trained'\n",
    "    is_real = tidy['Is Real_R']\n",
    "    \n",
    "    trained_dif = tidy.loc[is_trained & is_real, 'Total Errors'].mean() - tidy.loc[is_trained & ~is_real, 'Total Errors'].mean()\n",
    "    naive_dif = tidy.loc[~is_trained & is_real, 'Total Errors'].mean() - tidy.loc[~is_trained & ~is_real, 'Total Errors'].mean()\n",
    "\n",
    "    resampled_trained.append(trained_dif)\n",
    "    resampled_naive.append(naive_dif)"
   ]
  },
  {
   "cell_type": "code",
   "execution_count": 80,
   "metadata": {},
   "outputs": [
    {
     "name": "stderr",
     "output_type": "stream",
     "text": [
      "/Users/gianni/anaconda/lib/python3.5/site-packages/matplotlib/axes/_axes.py:6462: UserWarning: The 'normed' kwarg is deprecated, and has been replaced by the 'density' kwarg.\n",
      "  warnings.warn(\"The 'normed' kwarg is deprecated, and has been \"\n"
     ]
    },
    {
     "data": {
      "image/png": "[encoded data removed]",
      "text/plain": [
       "<Figure size 432x288 with 1 Axes>"
      ]
     },
     "metadata": {},
     "output_type": "display_data"
    }
   ],
   "source": [
    "sns.distplot(resampled_trained, bins=200, norm_hist=True)\n",
    "sns.distplot(resampled_naive, bins=200, norm_hist=True)\n",
    "\n",
    "plt.plot([original_trained_dif, original_trained_dif], [0, 2.5])\n",
    "plt.plot([original_naive_dif, original_naive_dif], [0, 2.5])\n",
    "\n",
    "sns.despine()"
   ]
  },
  {
   "cell_type": "code",
   "execution_count": 81,
   "metadata": {},
   "outputs": [
    {
     "data": {
      "text/plain": [
       "0.0"
      ]
     },
     "execution_count": 81,
     "metadata": {},
     "output_type": "execute_result"
    }
   ],
   "source": [
    "resampled_trained = np.stack(resampled_trained)\n",
    "true_loc = (resampled_trained >= np.abs(original_trained_dif))\n",
    "true_loc |= (resampled_trained <= -np.abs(original_trained_dif))\n",
    "\n",
    "len(resampled_trained[true_loc]) / len(resampled_trained)"
   ]
  },
  {
   "cell_type": "code",
   "execution_count": null,
   "metadata": {},
   "outputs": [],
   "source": []
  }
 ],
 "metadata": {
  "kernelspec": {
   "display_name": "Python [default]",
   "language": "python",
   "name": "python3"
  },
  "language_info": {
   "codemirror_mode": {
    "name": "ipython",
    "version": 3
   },
   "file_extension": ".py",
   "mimetype": "text/x-python",
   "name": "python",
   "nbconvert_exporter": "python",
   "pygments_lexer": "ipython3",
   "version": "3.5.5"
  }
 },
 "nbformat": 4,
 "nbformat_minor": 2
}
