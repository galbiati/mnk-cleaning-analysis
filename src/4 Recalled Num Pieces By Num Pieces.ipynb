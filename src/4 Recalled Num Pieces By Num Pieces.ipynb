{
 "cells": [
  {
   "cell_type": "code",
   "execution_count": null,
   "metadata": {},
   "outputs": [],
   "source": [
    "import os\n",
    "\n",
    "import matplotlib.pyplot as plt\n",
    "import numpy as np\n",
    "import pandas as pd\n",
    "import scipy.stats as sts\n",
    "import seaborn as sns\n",
    "import statsmodels.formula.api as smf\n",
    "import statsmodels.api as sm\n",
    "\n",
    "from lib.utility_functions import *\n",
    "from lib.exp4 import *\n",
    "\n",
    "sns.set_style('white')\n",
    "sns.set_context('paper')\n",
    "\n",
    "colors = sns.color_palette().as_hex()\n",
    "\n",
    "pd.set_option('display.max_columns', 40)\n",
    "\n",
    "% matplotlib inline"
   ]
  },
  {
   "cell_type": "code",
   "execution_count": null,
   "metadata": {},
   "outputs": [],
   "source": [
    "tidy = pd.read_csv('./tidy_data.csv', index_col=0)\n",
    "tidy['Condition'] = tidy['Condition'].map(lambda x: 'Untrained' if x == 'Naive' else x)\n",
    "\n",
    "tidy['Num Dif'] = tidy['Num Pieces (final)'] - tidy['Num Pieces']\n",
    "tidy.head()"
   ]
  },
  {
   "cell_type": "code",
   "execution_count": null,
   "metadata": {},
   "outputs": [],
   "source": [
    "mean_piv = tidy.pivot_table(\n",
    "    index='Subject ID', values='Num Dif', columns=['Is Real', 'Num Pieces']\n",
    ")\n",
    "\n",
    "mean_piv['Condition'] = mean_piv.index.map(lambda x: tidy.loc[tidy['Subject ID'] == x, 'Condition'].values[0])\n",
    "\n",
    "std_piv = tidy.pivot_table(\n",
    "    index='Subject ID', values='Num Dif', columns=['Is Real', 'Num Pieces'],\n",
    "    aggfunc=np.std\n",
    ")\n",
    "\n",
    "std_piv['Condition'] = mean_piv.index.map(lambda x: tidy.loc[tidy['Subject ID'] == x, 'Condition'].values[0])"
   ]
  },
  {
   "cell_type": "code",
   "execution_count": null,
   "metadata": {},
   "outputs": [],
   "source": [
    "c_filter = mean_piv['Condition'] == 'Trained'"
   ]
  },
  {
   "cell_type": "code",
   "execution_count": null,
   "metadata": {},
   "outputs": [],
   "source": [
    "fig, axes = plt.subplots(1, 2, figsize=(8, 3), dpi=300)\n",
    "\n",
    "tc_filter = tidy['Condition'] == 'Trained'\n",
    "tp_filter = tidy['Is Real'] == True\n",
    "\n",
    "\n",
    "def errbar_plot(df, ax, **kwargs):\n",
    "    piv = df.pivot_table(\n",
    "        index='Subject ID', values='Num Pieces (final)', columns='Num Pieces'\n",
    "    )\n",
    "    \n",
    "    x = piv.columns.values\n",
    "    y = piv.mean(axis=0)\n",
    "    err = piv.std() / np.sqrt(len(piv))\n",
    "\n",
    "    ax.errorbar(x, y, yerr=err, **kwargs)\n",
    "    \n",
    "    return None\n",
    "\n",
    "\n",
    "## Real\n",
    "\n",
    "ax = axes[0]\n",
    "\n",
    "#### Trained\n",
    "\n",
    "errbar_plot(\n",
    "    tidy.loc[tc_filter & tp_filter], \n",
    "    ax=ax, color=colors[0], alpha=.9, label='Trained'\n",
    ")\n",
    "\n",
    "#### Untrained\n",
    "\n",
    "errbar_plot(\n",
    "    tidy.loc[~tc_filter & tp_filter],\n",
    "    ax=ax, color=colors[1], alpha=.9, label='Untrained'\n",
    ")\n",
    "\n",
    "\n",
    "## Fake\n",
    "\n",
    "ax = axes[1]\n",
    "\n",
    "#### Trained\n",
    "\n",
    "errbar_plot(\n",
    "    tidy.loc[tc_filter & ~tp_filter], \n",
    "    ax=ax, color=colors[0], alpha=.9, label='Trained'\n",
    ")\n",
    "\n",
    "#### Untrained\n",
    "\n",
    "errbar_plot(\n",
    "    tidy.loc[~tc_filter & ~tp_filter],\n",
    "    ax=ax, color=colors[1], alpha=.9, label='Untrained'\n",
    ")\n",
    "\n",
    "## Make it fancy\n",
    "\n",
    "axes[0].plot(np.arange(20), color='grey')\n",
    "axes[1].plot(np.arange(20), color='grey')\n",
    "\n",
    "axes[0].legend(loc=0)\n",
    "\n",
    "plt.setp(\n",
    "    axes, \n",
    "    ylabel='Recalled # Pieces', xlabel='Original # Pieces', \n",
    "#     xlim=[9, 20], ylim=[9, 20],\n",
    "    xticks=np.arange(11, 19, 1), xticklabels=np.arange(11, 19, 1),\n",
    "    yticks=np.arange(9, 20, 1), yticklabels=np.arange(9, 20, 1)\n",
    ")\n",
    "\n",
    "plt.setp(axes[0], title='Real Positions')\n",
    "plt.setp(axes[1], title='Fake Positions')\n",
    "\n",
    "sns.despine()"
   ]
  },
  {
   "cell_type": "code",
   "execution_count": null,
   "metadata": {},
   "outputs": [],
   "source": []
  },
  {
   "cell_type": "code",
   "execution_count": null,
   "metadata": {},
   "outputs": [],
   "source": [
    "tidy['x'] = tidy['Num Pieces']\n",
    "tidy['y'] = tidy['Num Pieces (final)']\n",
    "probe = tidy.loc[tidy['Subject ID'] == tidy['Subject ID'].values[0]]"
   ]
  },
  {
   "cell_type": "code",
   "execution_count": null,
   "metadata": {
    "scrolled": true
   },
   "outputs": [],
   "source": [
    "probe.head()"
   ]
  },
  {
   "cell_type": "code",
   "execution_count": null,
   "metadata": {},
   "outputs": [],
   "source": [
    "NBFam = sm.families.NegativeBinomial()\n",
    "# NBFam = sm.families.Gaussian()\n",
    "\n",
    "\n",
    "p = tidy['Subject ID'] == 1464109333721\n",
    "c = tidy['Condition'] == 'Trained'\n",
    "r = tidy['Is Real'] == True\n",
    "S = tidy.loc[p & r & c]\n",
    "\n",
    "model = smf.glm(formula='y ~ x', data=S, family=NBFam).fit(method='nm', start_params=[0, 0], maxiter=10000)"
   ]
  },
  {
   "cell_type": "code",
   "execution_count": null,
   "metadata": {},
   "outputs": [],
   "source": [
    "from statsmodels.discrete.discrete_model import NegativeBinomial"
   ]
  },
  {
   "cell_type": "code",
   "execution_count": null,
   "metadata": {},
   "outputs": [],
   "source": [
    "nbm = NegativeBinomial.from_formula('y ~ x', data=S)\n",
    "\n",
    "m = nbm.fit(method='bfgs', maxiter=10000)"
   ]
  },
  {
   "cell_type": "code",
   "execution_count": null,
   "metadata": {},
   "outputs": [],
   "source": [
    "m.params"
   ]
  },
  {
   "cell_type": "code",
   "execution_count": null,
   "metadata": {},
   "outputs": [],
   "source": [
    "m.predict(pd.DataFrame({'x': np.arange(20)}))"
   ]
  },
  {
   "cell_type": "code",
   "execution_count": null,
   "metadata": {},
   "outputs": [],
   "source": [
    "x_test = np.stack([np.ones(20), np.arange(20)])"
   ]
  },
  {
   "cell_type": "code",
   "execution_count": null,
   "metadata": {},
   "outputs": [],
   "source": [
    "np.exp(np.dot(m.params.values[np.newaxis, :-1], x_test))"
   ]
  },
  {
   "cell_type": "code",
   "execution_count": null,
   "metadata": {},
   "outputs": [],
   "source": [
    "len(tidy['Subject ID'].unique())"
   ]
  },
  {
   "cell_type": "code",
   "execution_count": null,
   "metadata": {},
   "outputs": [],
   "source": [
    "NBFam = sm.families.NegativeBinomial()\n",
    "\n",
    "def get_nbr_params(condition='Trained', is_real=True):\n",
    "    models = []\n",
    "    c = tidy['Condition'] == condition\n",
    "    r = tidy['Is Real'] == is_real\n",
    "    \n",
    "    T = tidy.loc[c & r]\n",
    "    \n",
    "    for subject_id in T['Subject ID'].unique():\n",
    "        p = T['Subject ID'] == subject_id\n",
    "        S = T.loc[p]\n",
    "        \n",
    "        model = smf.glm(formula='y ~ x', data=S, family=NBFam).fit(method='bfgs', maxiter=10000)\n",
    "        models.append(model)\n",
    "        \n",
    "    params = pd.DataFrame([m.params for m in models], index=T['Subject ID'].unique())\n",
    "    params['Condition'] = condition\n",
    "    params['Is Real'] = is_real\n",
    "    \n",
    "    return params\n",
    "#     return pvals"
   ]
  },
  {
   "cell_type": "code",
   "execution_count": null,
   "metadata": {},
   "outputs": [],
   "source": [
    "param_dfs = []\n",
    "\n",
    "for condition in ['Trained', 'Untrained']:\n",
    "    for is_real in [True, False]:\n",
    "        param_dfs.append(get_nbr_params(condition=condition, is_real=is_real))\n",
    "        \n",
    "params = pd.concat(param_dfs)"
   ]
  },
  {
   "cell_type": "code",
   "execution_count": null,
   "metadata": {},
   "outputs": [],
   "source": [
    "params"
   ]
  },
  {
   "cell_type": "code",
   "execution_count": null,
   "metadata": {},
   "outputs": [],
   "source": [
    "means = params.pivot_table(index='Condition', values='x', columns='Is Real', aggfunc=np.mean)\n",
    "sems = params.pivot_table(index='Condition', values='x', columns='Is Real', aggfunc=lambda x: x.std() / np.sqrt(len(x)))"
   ]
  },
  {
   "cell_type": "code",
   "execution_count": null,
   "metadata": {},
   "outputs": [],
   "source": [
    "means"
   ]
  },
  {
   "cell_type": "code",
   "execution_count": null,
   "metadata": {},
   "outputs": [],
   "source": [
    "sems"
   ]
  },
  {
   "cell_type": "code",
   "execution_count": null,
   "metadata": {
    "scrolled": false
   },
   "outputs": [],
   "source": [
    "fig, axes = plt.subplots(1, 2, figsize=(8, 3), dpi=300)\n",
    "\n",
    "axes[0].bar([0], means.loc['Trained', True], color=colors[0], label='Trained')\n",
    "axes[0].bar([1], means.loc['Untrained', True], color=colors[1], label='Untrained')\n",
    "axes[0].errorbar([0], means.loc['Trained', True], yerr=sems.loc['Trained', True], color='black')\n",
    "axes[0].errorbar([1], means.loc['Untrained', True], yerr=sems.loc['Untrained', True], color='black')\n",
    "\n",
    "axes[1].bar([0], means.loc['Trained', False], color=colors[0])\n",
    "axes[1].bar([1], means.loc['Untrained', False], color=colors[1])\n",
    "axes[1].errorbar([0], means.loc['Trained', False], yerr=sems.loc['Trained', False], color='black')\n",
    "axes[1].errorbar([1], means.loc['Untrained', False], yerr=sems.loc['Untrained', False], color='black')\n",
    "\n",
    "plt.figlegend(loc=0)\n",
    "\n",
    "plt.setp(\n",
    "    axes,\n",
    "    ylim=[0, .05], ylabel='Regression Coefficient',\n",
    "    xticks=[0, 1], xticklabels=['Trained', 'Untrained']\n",
    ")\n",
    "\n",
    "plt.setp(axes[0], title='Real Positions')\n",
    "plt.setp(axes[1], title='Fake Positions')\n",
    "\n",
    "sns.despine()"
   ]
  },
  {
   "cell_type": "code",
   "execution_count": null,
   "metadata": {},
   "outputs": [],
   "source": [
    "c = params['Condition'] == 'Trained'\n",
    "r = params['Is Real'] == True\n",
    "\n",
    "sts.ttest_1samp(params.loc[c, 'x'].values, 1)"
   ]
  },
  {
   "cell_type": "code",
   "execution_count": null,
   "metadata": {},
   "outputs": [],
   "source": [
    "sts.ttest_1samp(params.loc[~c, 'x'].values, 1)"
   ]
  },
  {
   "cell_type": "code",
   "execution_count": null,
   "metadata": {},
   "outputs": [],
   "source": [
    "sts.ttest_1samp(params.loc[r, 'x'].values, 1)"
   ]
  },
  {
   "cell_type": "code",
   "execution_count": null,
   "metadata": {},
   "outputs": [],
   "source": [
    "sts.ttest_1samp(params.loc[~r, 'x'].values, 1)"
   ]
  },
  {
   "cell_type": "code",
   "execution_count": null,
   "metadata": {},
   "outputs": [],
   "source": [
    "sts.ttest_ind(params.loc[c & r, 'x'].values, params.loc[~c & r, 'x'].values)"
   ]
  },
  {
   "cell_type": "code",
   "execution_count": null,
   "metadata": {},
   "outputs": [],
   "source": [
    "sts.ttest_ind(params.loc[c & ~r, 'x'].values, params.loc[~c & ~r, 'x'].values)"
   ]
  },
  {
   "cell_type": "code",
   "execution_count": null,
   "metadata": {},
   "outputs": [],
   "source": [
    "sts.ttest_ind(params.loc[c & r, 'x'].values, params.loc[c & ~r, 'x'].values)"
   ]
  },
  {
   "cell_type": "code",
   "execution_count": null,
   "metadata": {},
   "outputs": [],
   "source": [
    "sts.ttest_ind(params.loc[~c & r, 'x'].values, params.loc[~c & ~r, 'x'].values)"
   ]
  },
  {
   "cell_type": "code",
   "execution_count": null,
   "metadata": {},
   "outputs": [],
   "source": []
  },
  {
   "cell_type": "code",
   "execution_count": null,
   "metadata": {},
   "outputs": [],
   "source": []
  },
  {
   "cell_type": "code",
   "execution_count": null,
   "metadata": {},
   "outputs": [],
   "source": [
    "real_models = []\n",
    "fake_models = []\n",
    "\n",
    "for subject_id in tidy['Subject ID'].unique():\n",
    "    probe = tidy.loc[tidy['Subject ID'] == subject_id]\n",
    "    \n",
    "    # Is it possible that x should be categorical?\n",
    "    model = smf.glm(formula='y ~ x', data=probe.loc[probe['Is Real']], family=sm.families.NegativeBinomial()).fit()\n",
    "    real_models.append(model)\n",
    "    \n",
    "    model = smf.glm(formula='y ~ x', data=probe.loc[~probe['Is Real']], family=sm.families.NegativeBinomial()).fit()\n",
    "    fake_models.append(model)\n"
   ]
  },
  {
   "cell_type": "code",
   "execution_count": null,
   "metadata": {},
   "outputs": [],
   "source": [
    "m = real_models[0]"
   ]
  },
  {
   "cell_type": "code",
   "execution_count": null,
   "metadata": {},
   "outputs": [],
   "source": [
    "real_params.rename(index=None, columns={'Intercept': 'I_p', 'x': 'x_p'})"
   ]
  },
  {
   "cell_type": "code",
   "execution_count": null,
   "metadata": {},
   "outputs": [],
   "source": [
    "real_params = pd.DataFrame(\n",
    "    [m.params for m in real_models], \n",
    "    index=tidy['Subject ID'].unique()\n",
    ")\n",
    "\n",
    "real_params['Condition'] = real_params.index.map(lambda x: tidy.loc[tidy['Subject ID'] == x, 'Condition'].values[0])\n"
   ]
  },
  {
   "cell_type": "code",
   "execution_count": null,
   "metadata": {},
   "outputs": [],
   "source": [
    "real_trained_params = real_params.loc[real_params['Condition'] == 'Trained']\n",
    "\n",
    "real_trained_coef_mean = real_trained_params['x'].mean()\n",
    "real_trained_coef_sem = real_trained_params['x'].std() / np.sqrt(len(real_trained_params))\n",
    "print(real_trained_coef_mean, real_trained_coef_sem)"
   ]
  },
  {
   "cell_type": "code",
   "execution_count": null,
   "metadata": {},
   "outputs": [],
   "source": [
    "real_trained_params = real_params.loc[~(real_params['Condition'] == 'Trained')]\n",
    "\n",
    "real_trained_coef_mean = real_trained_params['x'].mean()\n",
    "real_trained_coef_sem = real_trained_params['x'].std() / np.sqrt(len(real_trained_params))\n",
    "print(real_trained_coef_mean, real_trained_coef_sem)"
   ]
  },
  {
   "cell_type": "code",
   "execution_count": null,
   "metadata": {},
   "outputs": [],
   "source": [
    "table = summary.tables[1]"
   ]
  },
  {
   "cell_type": "code",
   "execution_count": null,
   "metadata": {},
   "outputs": [],
   "source": [
    "table."
   ]
  },
  {
   "cell_type": "code",
   "execution_count": null,
   "metadata": {},
   "outputs": [],
   "source": []
  }
 ],
 "metadata": {
  "kernelspec": {
   "display_name": "Python [default]",
   "language": "python",
   "name": "python3"
  },
  "language_info": {
   "codemirror_mode": {
    "name": "ipython",
    "version": 3
   },
   "file_extension": ".py",
   "mimetype": "text/x-python",
   "name": "python",
   "nbconvert_exporter": "python",
   "pygments_lexer": "ipython3",
   "version": "3.5.5"
  }
 },
 "nbformat": 4,
 "nbformat_minor": 2
}
