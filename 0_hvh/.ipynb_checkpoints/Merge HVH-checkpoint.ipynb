{
 "cells": [
  {
   "cell_type": "code",
   "execution_count": 1,
   "metadata": {
    "collapsed": true
   },
   "outputs": [],
   "source": [
    "import pandas as pd\n",
    "import numpy as np\n",
    "import os"
   ]
  },
  {
   "cell_type": "code",
   "execution_count": 2,
   "metadata": {
    "collapsed": false
   },
   "outputs": [],
   "source": [
    "files = os.listdir('../../../Data/0_hvh/Clean/')[3:]"
   ]
  },
  {
   "cell_type": "code",
   "execution_count": 3,
   "metadata": {
    "collapsed": false
   },
   "outputs": [
    {
     "data": {
      "text/plain": [
       "19"
      ]
     },
     "execution_count": 3,
     "metadata": {},
     "output_type": "execute_result"
    }
   ],
   "source": [
    "len(files)"
   ]
  },
  {
   "cell_type": "code",
   "execution_count": 4,
   "metadata": {
    "collapsed": false
   },
   "outputs": [
    {
     "data": {
      "text/html": [
       "<div>\n",
       "<table border=\"1\" class=\"dataframe\">\n",
       "  <thead>\n",
       "    <tr style=\"text-align: right;\">\n",
       "      <th></th>\n",
       "      <th>subject</th>\n",
       "      <th>color</th>\n",
       "      <th>bp</th>\n",
       "      <th>wp</th>\n",
       "      <th>move</th>\n",
       "      <th>rt</th>\n",
       "    </tr>\n",
       "  </thead>\n",
       "  <tbody>\n",
       "    <tr>\n",
       "      <th>0</th>\n",
       "      <td>AG</td>\n",
       "      <td>0</td>\n",
       "      <td>000000000001000000000000000000000000</td>\n",
       "      <td>000000000000000000000000000000000000</td>\n",
       "      <td>11</td>\n",
       "      <td>7.223</td>\n",
       "    </tr>\n",
       "    <tr>\n",
       "      <th>1</th>\n",
       "      <td>SQ</td>\n",
       "      <td>1</td>\n",
       "      <td>000000000001000000000000000000000000</td>\n",
       "      <td>000000000000000000000000100000000000</td>\n",
       "      <td>24</td>\n",
       "      <td>5.141</td>\n",
       "    </tr>\n",
       "    <tr>\n",
       "      <th>2</th>\n",
       "      <td>AG</td>\n",
       "      <td>0</td>\n",
       "      <td>000000000001000000000100000000000000</td>\n",
       "      <td>000000000000000000000000100000000000</td>\n",
       "      <td>21</td>\n",
       "      <td>3.154</td>\n",
       "    </tr>\n",
       "    <tr>\n",
       "      <th>3</th>\n",
       "      <td>SQ</td>\n",
       "      <td>1</td>\n",
       "      <td>000000000001000000000100000000000000</td>\n",
       "      <td>000000000000000000000000100000010000</td>\n",
       "      <td>31</td>\n",
       "      <td>5.715</td>\n",
       "    </tr>\n",
       "    <tr>\n",
       "      <th>4</th>\n",
       "      <td>AG</td>\n",
       "      <td>0</td>\n",
       "      <td>000000000001001000000100000000000000</td>\n",
       "      <td>000000000000000000000000100000010000</td>\n",
       "      <td>14</td>\n",
       "      <td>6.837</td>\n",
       "    </tr>\n",
       "  </tbody>\n",
       "</table>\n",
       "</div>"
      ],
      "text/plain": [
       "  subject  color                                    bp  \\\n",
       "0      AG      0  000000000001000000000000000000000000   \n",
       "1      SQ      1  000000000001000000000000000000000000   \n",
       "2      AG      0  000000000001000000000100000000000000   \n",
       "3      SQ      1  000000000001000000000100000000000000   \n",
       "4      AG      0  000000000001001000000100000000000000   \n",
       "\n",
       "                                     wp  move     rt  \n",
       "0  000000000000000000000000000000000000    11  7.223  \n",
       "1  000000000000000000000000100000000000    24  5.141  \n",
       "2  000000000000000000000000100000000000    21  3.154  \n",
       "3  000000000000000000000000100000010000    31  5.715  \n",
       "4  000000000000000000000000100000010000    14  6.837  "
      ]
     },
     "execution_count": 4,
     "metadata": {},
     "output_type": "execute_result"
    }
   ],
   "source": [
    "df = []\n",
    "for f in files:\n",
    "    df.append(pd.read_csv('../../../Data/0_hvh/Clean/' + f))\n",
    "    \n",
    "df = pd.concat(df)\n",
    "df = df.loc[:, df.columns[1:]]\n",
    "df.loc[:, 'color'] = df.loc[:, 'color'].map({'B':0, 'W':1, 0:0, 1:1})\n",
    "df.loc[pd.isnull(df.move), 'move'] = df.loc[pd.isnull(df.move), 'response']\n",
    "df = df.loc[:, ['subject', 'color', 'bp', 'wp', 'move', 'rt']]\n",
    "df.loc[:, 'move'] = df.move.astype(int)\n",
    "df = df.loc[df.move < 36, :].reset_index(drop=True)\n",
    "df.head()"
   ]
  },
  {
   "cell_type": "code",
   "execution_count": 8,
   "metadata": {
    "collapsed": false
   },
   "outputs": [],
   "source": [
    "def fixit(D, i, p):\n",
    "    r = list(D.loc[i, p])\n",
    "    m = D.loc[i, 'move']\n",
    "    r[m] = '0'\n",
    "    return ''.join(r)\n",
    "\n",
    "def remove_play(D, i):\n",
    "    if D.loc[i, 'color'] == 0:\n",
    "        p = 'bp'\n",
    "    else:\n",
    "        p = 'wp'\n",
    "    D.loc[i, p] = fixit(D, i, p)\n",
    "    return None\n",
    "\n",
    "for i in df.index.values:\n",
    "    remove_play(df, i)"
   ]
  },
  {
   "cell_type": "code",
   "execution_count": 10,
   "metadata": {
    "collapsed": false
   },
   "outputs": [],
   "source": [
    "df.loc[:, 'subject'] = df.loc[:, 'subject'].map(\n",
    "    dict(zip(df.subject.unique(), \n",
    "             np.arange(df.subject.unique().size))))"
   ]
  },
  {
   "cell_type": "code",
   "execution_count": 11,
   "metadata": {
    "collapsed": false
   },
   "outputs": [
    {
     "data": {
      "text/html": [
       "<div>\n",
       "<table border=\"1\" class=\"dataframe\">\n",
       "  <thead>\n",
       "    <tr style=\"text-align: right;\">\n",
       "      <th></th>\n",
       "      <th>subject</th>\n",
       "      <th>color</th>\n",
       "      <th>bp</th>\n",
       "      <th>wp</th>\n",
       "      <th>move</th>\n",
       "      <th>rt</th>\n",
       "    </tr>\n",
       "  </thead>\n",
       "  <tbody>\n",
       "    <tr>\n",
       "      <th>0</th>\n",
       "      <td>0</td>\n",
       "      <td>0</td>\n",
       "      <td>000000000000000000000000000000000000</td>\n",
       "      <td>000000000000000000000000000000000000</td>\n",
       "      <td>11</td>\n",
       "      <td>7.223</td>\n",
       "    </tr>\n",
       "    <tr>\n",
       "      <th>1</th>\n",
       "      <td>1</td>\n",
       "      <td>1</td>\n",
       "      <td>000000000001000000000000000000000000</td>\n",
       "      <td>000000000000000000000000000000000000</td>\n",
       "      <td>24</td>\n",
       "      <td>5.141</td>\n",
       "    </tr>\n",
       "    <tr>\n",
       "      <th>2</th>\n",
       "      <td>0</td>\n",
       "      <td>0</td>\n",
       "      <td>000000000001000000000000000000000000</td>\n",
       "      <td>000000000000000000000000100000000000</td>\n",
       "      <td>21</td>\n",
       "      <td>3.154</td>\n",
       "    </tr>\n",
       "    <tr>\n",
       "      <th>3</th>\n",
       "      <td>1</td>\n",
       "      <td>1</td>\n",
       "      <td>000000000001000000000100000000000000</td>\n",
       "      <td>000000000000000000000000100000000000</td>\n",
       "      <td>31</td>\n",
       "      <td>5.715</td>\n",
       "    </tr>\n",
       "    <tr>\n",
       "      <th>4</th>\n",
       "      <td>0</td>\n",
       "      <td>0</td>\n",
       "      <td>000000000001000000000100000000000000</td>\n",
       "      <td>000000000000000000000000100000010000</td>\n",
       "      <td>14</td>\n",
       "      <td>6.837</td>\n",
       "    </tr>\n",
       "  </tbody>\n",
       "</table>\n",
       "</div>"
      ],
      "text/plain": [
       "   subject  color                                    bp  \\\n",
       "0        0      0  000000000000000000000000000000000000   \n",
       "1        1      1  000000000001000000000000000000000000   \n",
       "2        0      0  000000000001000000000000000000000000   \n",
       "3        1      1  000000000001000000000100000000000000   \n",
       "4        0      0  000000000001000000000100000000000000   \n",
       "\n",
       "                                     wp  move     rt  \n",
       "0  000000000000000000000000000000000000    11  7.223  \n",
       "1  000000000000000000000000000000000000    24  5.141  \n",
       "2  000000000000000000000000100000000000    21  3.154  \n",
       "3  000000000000000000000000100000000000    31  5.715  \n",
       "4  000000000000000000000000100000010000    14  6.837  "
      ]
     },
     "execution_count": 11,
     "metadata": {},
     "output_type": "execute_result"
    }
   ],
   "source": [
    "df.head()"
   ]
  },
  {
   "cell_type": "code",
   "execution_count": 12,
   "metadata": {
    "collapsed": true
   },
   "outputs": [],
   "source": [
    "df.to_csv('../../../Data/0_hvh/Clean/_summaries/all_games_model_input.csv', \n",
    "          header=False, index=False)"
   ]
  },
  {
   "cell_type": "code",
   "execution_count": 19,
   "metadata": {
    "collapsed": false
   },
   "outputs": [
    {
     "data": {
      "text/plain": [
       "664"
      ]
     },
     "execution_count": 19,
     "metadata": {},
     "output_type": "execute_result"
    }
   ],
   "source": [
    "len(df) // 8"
   ]
  },
  {
   "cell_type": "code",
   "execution_count": 17,
   "metadata": {
    "collapsed": false
   },
   "outputs": [
    {
     "data": {
      "text/plain": [
       "[161,\n",
       " 160,\n",
       " 307,\n",
       " 298,\n",
       " 92,\n",
       " 93,\n",
       " 36,\n",
       " 37,\n",
       " 83,\n",
       " 82,\n",
       " 153,\n",
       " 156,\n",
       " 185,\n",
       " 181,\n",
       " 139,\n",
       " 140,\n",
       " 105,\n",
       " 101,\n",
       " 138,\n",
       " 132,\n",
       " 139,\n",
       " 132,\n",
       " 109,\n",
       " 111,\n",
       " 40,\n",
       " 40,\n",
       " 201,\n",
       " 202,\n",
       " 141,\n",
       " 139,\n",
       " 202,\n",
       " 206,\n",
       " 147,\n",
       " 146,\n",
       " 201,\n",
       " 202,\n",
       " 89,\n",
       " 91]"
      ]
     },
     "execution_count": 17,
     "metadata": {},
     "output_type": "execute_result"
    }
   ],
   "source": [
    "[len(df.loc[df.subject==i, :]) for i in df.subject.unique()]"
   ]
  },
  {
   "cell_type": "code",
   "execution_count": 20,
   "metadata": {
    "collapsed": false
   },
   "outputs": [
    {
     "data": {
      "text/plain": [
       "5317"
      ]
     },
     "execution_count": 20,
     "metadata": {},
     "output_type": "execute_result"
    }
   ],
   "source": [
    "len(df)"
   ]
  },
  {
   "cell_type": "code",
   "execution_count": 21,
   "metadata": {
    "collapsed": false
   },
   "outputs": [
    {
     "data": {
      "text/html": [
       "<div>\n",
       "<table border=\"1\" class=\"dataframe\">\n",
       "  <thead>\n",
       "    <tr style=\"text-align: right;\">\n",
       "      <th></th>\n",
       "      <th>subject</th>\n",
       "      <th>color</th>\n",
       "      <th>bp</th>\n",
       "      <th>wp</th>\n",
       "      <th>move</th>\n",
       "      <th>rt</th>\n",
       "    </tr>\n",
       "  </thead>\n",
       "  <tbody>\n",
       "  </tbody>\n",
       "</table>\n",
       "</div>"
      ],
      "text/plain": [
       "Empty DataFrame\n",
       "Columns: [subject, color, bp, wp, move, rt]\n",
       "Index: []"
      ]
     },
     "execution_count": 21,
     "metadata": {},
     "output_type": "execute_result"
    }
   ],
   "source": [
    "df.loc[df.rt <= 0, :]"
   ]
  },
  {
   "cell_type": "code",
   "execution_count": 22,
   "metadata": {
    "collapsed": false
   },
   "outputs": [
    {
     "data": {
      "text/plain": [
       "7.7825151401166073"
      ]
     },
     "execution_count": 22,
     "metadata": {},
     "output_type": "execute_result"
    }
   ],
   "source": [
    "df.rt.mean()"
   ]
  },
  {
   "cell_type": "code",
   "execution_count": null,
   "metadata": {
    "collapsed": true
   },
   "outputs": [],
   "source": []
  }
 ],
 "metadata": {
  "kernelspec": {
   "display_name": "Python 3",
   "language": "python",
   "name": "python3"
  },
  "language_info": {
   "codemirror_mode": {
    "name": "ipython",
    "version": 3
   },
   "file_extension": ".py",
   "mimetype": "text/x-python",
   "name": "python",
   "nbconvert_exporter": "python",
   "pygments_lexer": "ipython3",
   "version": "3.4.4"
  }
 },
 "nbformat": 4,
 "nbformat_minor": 0
}
