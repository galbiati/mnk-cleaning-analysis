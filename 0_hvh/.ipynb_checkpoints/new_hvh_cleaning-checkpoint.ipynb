{
 "cells": [
  {
   "cell_type": "code",
   "execution_count": 45,
   "metadata": {
    "collapsed": true
   },
   "outputs": [],
   "source": [
    "import numpy as np\n",
    "import pandas as pd\n",
    "import os"
   ]
  },
  {
   "cell_type": "code",
   "execution_count": 57,
   "metadata": {
    "collapsed": false
   },
   "outputs": [
    {
     "name": "stdout",
     "output_type": "stream",
     "text": [
      "AG_SQ_040814_RAW.csv\n"
     ]
    }
   ],
   "source": [
    "# test\n",
    "files = os.listdir('../../../Data/0_hvh/Raw/')\n",
    "print(files[2])\n",
    "column_names = ['idx', 'gi', 'mi', 'status', 's1', 'color', 'response', 'bp', 'wp', 'rt', 'time', 'ip']\n",
    "keepers = ['subject', 'color', 'bp', 'wp', 'response', 'rt']\n",
    "data = pd.read_csv('../../../Data/0_hvh/Raw/' + files[2], names=column_names)\n",
    "data = data.loc[data.status.isin(['in progress', 'win', 'draw']), :]\n",
    "smap = dict(zip(data.ip.unique(), (0, 1)))\n",
    "data.loc[:, 'subject'] = data.ip.map(smap)\n",
    "data.loc[:, 'bl'] = [len(data.loc[i, 'bp'] + data.loc[i, 'wp']) for i in data.index.values]\n",
    "valids = (data.response < 36) & (data.bl < 72)\n",
    "data = data.loc[valids, keepers]"
   ]
  },
  {
   "cell_type": "code",
   "execution_count": 133,
   "metadata": {
    "collapsed": false
   },
   "outputs": [],
   "source": [
    "class Aggregator():\n",
    "    def __init__(self, directory):\n",
    "        self.get_npiece = lambda p: np.array(list(p)).astype(int).sum()\n",
    "        self.directory = directory\n",
    "        self.column_names = ['idx', 'gi', 'mi', 'status', 's1', 'color', 'response', 'bp', 'wp', 'rt', 'time', 'ip']\n",
    "        self.keepers = ['gi', 'color', 'bp', 'wp', 'response', 'rt', 'time', 'subject']\n",
    "        self.model_keepers = ['subject', 'color', 'bp', 'wp', 'response', 'rt']\n",
    "        \n",
    "        self.files = self.get_files(self.directory)\n",
    "        self.data = self.load_data()\n",
    "        \n",
    "    def get_files(self, directory):\n",
    "        fs = os.listdir(directory)\n",
    "        fs = [f for f in fs if f[-3:] == 'csv']\n",
    "        return fs\n",
    "    \n",
    "    def load_file(self, fname):\n",
    "        data = pd.read_csv(self.directory + fname, names=self.column_names)\n",
    "        data = data.loc[data.status.isin(['in progress', 'win', 'draw']), :]\n",
    "        smap = dict(zip(data.ip.unique(), (0, 1)))\n",
    "        data.loc[:, 'subject'] = data.ip.map(smap)\n",
    "        data.loc[:, 'bl'] = [len(data.loc[i, 'bp'] + data.loc[i, 'wp']) for i in data.index.values]\n",
    "        return data.loc[(data.response < 36) & (data.bl <= 72), self.keepers]\n",
    "        \n",
    "    def load_data(self):\n",
    "        D = []\n",
    "        for i, f in enumerate(self.files):\n",
    "            d = self.load_file(f)\n",
    "            d.loc[:, 'subject'] += 2*i\n",
    "            D.append(d)\n",
    "        return pd.concat(D).reset_index(drop=True)\n",
    "    \n",
    "    def format_data(self):\n",
    "\n",
    "        self.data.loc[:, 'color'] = self.data.color.map({'B':0, 'W':1})\n",
    "        \n",
    "        def correct_position(i, c):\n",
    "            p, r = self.data.loc[i, [c, 'response']]\n",
    "            p = list(p)\n",
    "            p[r] = '0'\n",
    "            return ''.join(p)\n",
    "        \n",
    "        for i in self.data.loc[self.data.color==0, :].index.values:\n",
    "            self.data.loc[i, 'bp'] = correct_position(i, 'bp')\n",
    "        for i in self.data.loc[self.data.color==1, :].index.values:\n",
    "            self.data.loc[i, 'wp'] = correct_position(i, 'wp')\n",
    "            \n",
    "        self.data.loc[:, 'pdif'] = self.data.bp.map(self.get_npiece) - self.data.wp.map(self.get_npiece)\n",
    "        self.data = self.data.loc[self.data.color == self.data.pdif, self.keepers].reset_index(drop=True)\n",
    "        "
   ]
  },
  {
   "cell_type": "code",
   "execution_count": 134,
   "metadata": {
    "collapsed": false
   },
   "outputs": [],
   "source": [
    "data = Aggregator('../../../Data/0_hvh/Raw/')\n",
    "data.format_data()"
   ]
  },
  {
   "cell_type": "code",
   "execution_count": 135,
   "metadata": {
    "collapsed": false
   },
   "outputs": [
    {
     "data": {
      "text/html": [
       "<div>\n",
       "<table border=\"1\" class=\"dataframe\">\n",
       "  <thead>\n",
       "    <tr style=\"text-align: right;\">\n",
       "      <th></th>\n",
       "      <th>gi</th>\n",
       "      <th>color</th>\n",
       "      <th>bp</th>\n",
       "      <th>wp</th>\n",
       "      <th>response</th>\n",
       "      <th>rt</th>\n",
       "      <th>time</th>\n",
       "      <th>subject</th>\n",
       "    </tr>\n",
       "  </thead>\n",
       "  <tbody>\n",
       "    <tr>\n",
       "      <th>0</th>\n",
       "      <td>0</td>\n",
       "      <td>0</td>\n",
       "      <td>000000000000000000000000000000000000</td>\n",
       "      <td>000000000000000000000000000000000000</td>\n",
       "      <td>11</td>\n",
       "      <td>7223</td>\n",
       "      <td>1407172748247</td>\n",
       "      <td>0</td>\n",
       "    </tr>\n",
       "    <tr>\n",
       "      <th>1</th>\n",
       "      <td>0</td>\n",
       "      <td>1</td>\n",
       "      <td>000000000001000000000000000000000000</td>\n",
       "      <td>000000000000000000000000000000000000</td>\n",
       "      <td>24</td>\n",
       "      <td>5141</td>\n",
       "      <td>1407172756880</td>\n",
       "      <td>1</td>\n",
       "    </tr>\n",
       "    <tr>\n",
       "      <th>2</th>\n",
       "      <td>0</td>\n",
       "      <td>0</td>\n",
       "      <td>000000000001000000000000000000000000</td>\n",
       "      <td>000000000000000000000000100000000000</td>\n",
       "      <td>21</td>\n",
       "      <td>3154</td>\n",
       "      <td>1407172757513</td>\n",
       "      <td>0</td>\n",
       "    </tr>\n",
       "    <tr>\n",
       "      <th>3</th>\n",
       "      <td>0</td>\n",
       "      <td>1</td>\n",
       "      <td>000000000001000000000100000000000000</td>\n",
       "      <td>000000000000000000000000100000000000</td>\n",
       "      <td>31</td>\n",
       "      <td>5715</td>\n",
       "      <td>1407172766696</td>\n",
       "      <td>1</td>\n",
       "    </tr>\n",
       "    <tr>\n",
       "      <th>4</th>\n",
       "      <td>0</td>\n",
       "      <td>0</td>\n",
       "      <td>000000000001000000000100000000000000</td>\n",
       "      <td>000000000000000000000000100000010000</td>\n",
       "      <td>14</td>\n",
       "      <td>6837</td>\n",
       "      <td>1407172771480</td>\n",
       "      <td>0</td>\n",
       "    </tr>\n",
       "  </tbody>\n",
       "</table>\n",
       "</div>"
      ],
      "text/plain": [
       "   gi  color                                    bp  \\\n",
       "0   0      0  000000000000000000000000000000000000   \n",
       "1   0      1  000000000001000000000000000000000000   \n",
       "2   0      0  000000000001000000000000000000000000   \n",
       "3   0      1  000000000001000000000100000000000000   \n",
       "4   0      0  000000000001000000000100000000000000   \n",
       "\n",
       "                                     wp  response    rt           time  \\\n",
       "0  000000000000000000000000000000000000        11  7223  1407172748247   \n",
       "1  000000000000000000000000000000000000        24  5141  1407172756880   \n",
       "2  000000000000000000000000100000000000        21  3154  1407172757513   \n",
       "3  000000000000000000000000100000000000        31  5715  1407172766696   \n",
       "4  000000000000000000000000100000010000        14  6837  1407172771480   \n",
       "\n",
       "   subject  \n",
       "0        0  \n",
       "1        1  \n",
       "2        0  \n",
       "3        1  \n",
       "4        0  "
      ]
     },
     "execution_count": 135,
     "metadata": {},
     "output_type": "execute_result"
    }
   ],
   "source": [
    "data.data.head()"
   ]
  },
  {
   "cell_type": "code",
   "execution_count": 136,
   "metadata": {
    "collapsed": false
   },
   "outputs": [],
   "source": [
    "data.data[data.model_keepers].to_csv('../../../Data/0_hvh/Clean/_summaries/model_input.csv', \n",
    "                                     index=False, header=False, sep=',')"
   ]
  },
  {
   "cell_type": "code",
   "execution_count": 137,
   "metadata": {
    "collapsed": false
   },
   "outputs": [
    {
     "data": {
      "text/html": [
       "<div>\n",
       "<table border=\"1\" class=\"dataframe\">\n",
       "  <thead>\n",
       "    <tr style=\"text-align: right;\">\n",
       "      <th></th>\n",
       "      <th>gi</th>\n",
       "      <th>color</th>\n",
       "      <th>bp</th>\n",
       "      <th>wp</th>\n",
       "      <th>response</th>\n",
       "      <th>rt</th>\n",
       "      <th>time</th>\n",
       "      <th>subject</th>\n",
       "      <th>c2</th>\n",
       "    </tr>\n",
       "  </thead>\n",
       "  <tbody>\n",
       "  </tbody>\n",
       "</table>\n",
       "</div>"
      ],
      "text/plain": [
       "Empty DataFrame\n",
       "Columns: [gi, color, bp, wp, response, rt, time, subject, c2]\n",
       "Index: []"
      ]
     },
     "execution_count": 137,
     "metadata": {},
     "output_type": "execute_result"
    }
   ],
   "source": [
    "d = data.data\n",
    "get_npiece = lambda p: np.array(list(p)).astype(int).sum()\n",
    "d.loc[:, 'c2'] = d.bp.map(get_npiece) - d.wp.map(get_npiece)\n",
    "d.loc[d.color != d.c2, :]"
   ]
  },
  {
   "cell_type": "code",
   "execution_count": 139,
   "metadata": {
    "collapsed": false
   },
   "outputs": [
    {
     "data": {
      "text/plain": [
       "array([ 0,  1,  2,  3,  4,  5,  6,  7,  8,  9, 10, 11, 12, 13, 14, 15, 16,\n",
       "       17, 18, 19, 20, 21, 22, 23, 24, 25, 26, 27, 28, 29, 30, 31, 32, 33,\n",
       "       34, 35, 36, 37, 38, 39])"
      ]
     },
     "execution_count": 139,
     "metadata": {},
     "output_type": "execute_result"
    }
   ],
   "source": [
    "data.data.subject.unique()"
   ]
  },
  {
   "cell_type": "code",
   "execution_count": null,
   "metadata": {
    "collapsed": true
   },
   "outputs": [],
   "source": []
  }
 ],
 "metadata": {
  "kernelspec": {
   "display_name": "Python 3",
   "language": "python",
   "name": "python3"
  },
  "language_info": {
   "codemirror_mode": {
    "name": "ipython",
    "version": 3
   },
   "file_extension": ".py",
   "mimetype": "text/x-python",
   "name": "python",
   "nbconvert_exporter": "python",
   "pygments_lexer": "ipython3",
   "version": "3.4.4"
  }
 },
 "nbformat": 4,
 "nbformat_minor": 0
}
