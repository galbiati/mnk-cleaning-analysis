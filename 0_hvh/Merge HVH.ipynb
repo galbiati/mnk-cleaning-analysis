{
 "cells": [
  {
   "cell_type": "code",
   "execution_count": 1,
   "metadata": {
    "collapsed": true,
    "deletable": true,
    "editable": true
   },
   "outputs": [],
   "source": [
    "import pandas as pd\n",
    "import numpy as np\n",
    "import os"
   ]
  },
  {
   "cell_type": "code",
   "execution_count": null,
   "metadata": {
    "collapsed": true
   },
   "outputs": [],
   "source": [
    "def fixit(D, i, p):\n",
    "    r = list(D.loc[i, p])\n",
    "    m = D.loc[i, 'move']\n",
    "    r[m] = '0'\n",
    "    return ''.join(r)\n",
    "\n",
    "def remove_play(D, i):\n",
    "    if D.loc[i, 'color'] == 0:\n",
    "        p = 'bp'\n",
    "    else:\n",
    "        p = 'wp'\n",
    "    D.loc[i, p] = fixit(D, i, p)\n",
    "    return None"
   ]
  },
  {
   "cell_type": "code",
   "execution_count": 3,
   "metadata": {
    "collapsed": false,
    "deletable": true,
    "editable": true
   },
   "outputs": [
    {
     "data": {
      "text/plain": [
       "19"
      ]
     },
     "execution_count": 3,
     "metadata": {},
     "output_type": "execute_result"
    }
   ],
   "source": [
    "head_dir = os.path.expanduser('~/Google Drive/Bas Zahy Gianni - Games/Data/')\n",
    "files = os.listdir('../../../Data/0_hvh/Clean/')[3:]\n",
    "output_file = os.path.join(head_dir, 'Clean/_summaries/all_games_model_input.csv')\n",
    "\n",
    "print('# files:', len(files))\n",
    "\n",
    "df = []\n",
    "for f in files:\n",
    "    df.append(pd.read_csv('../../../Data/0_hvh/Clean/' + f))\n",
    "    \n",
    "df = pd.concat(df)\n",
    "df = df.loc[:, df.columns[1:]]\n",
    "df.loc[:, 'color'] = df.loc[:, 'color'].map({'B':0, 'W':1, 0:0, 1:1})\n",
    "df.loc[pd.isnull(df.move), 'move'] = df.loc[pd.isnull(df.move), 'response']\n",
    "df = df.loc[:, ['subject', 'color', 'bp', 'wp', 'move', 'rt']]\n",
    "df.loc[:, 'move'] = df.move.astype(int)\n",
    "df = df.loc[df.move < 36, :].reset_index(drop=True)\n",
    "\n",
    "for i in df.index.values:\n",
    "    remove_play(df, i)\n",
    "\n",
    "subject_dict = dict(zip(df.subject.unique(), np.arange(df.subject.unique().size)))\n",
    "df.loc[:, 'subject'] = df.loc[:, 'subject'].map(subject_dict)\n",
    "\n",
    "df.to_csv(output_file, header=False, index=False)"
   ]
  }
 ],
 "metadata": {
  "kernelspec": {
   "display_name": "Python [default]",
   "language": "python",
   "name": "python3"
  },
  "language_info": {
   "codemirror_mode": {
    "name": "ipython",
    "version": 3
   },
   "file_extension": ".py",
   "mimetype": "text/x-python",
   "name": "python",
   "nbconvert_exporter": "python",
   "pygments_lexer": "ipython3",
   "version": "3.5.2"
  }
 },
 "nbformat": 4,
 "nbformat_minor": 0
}
