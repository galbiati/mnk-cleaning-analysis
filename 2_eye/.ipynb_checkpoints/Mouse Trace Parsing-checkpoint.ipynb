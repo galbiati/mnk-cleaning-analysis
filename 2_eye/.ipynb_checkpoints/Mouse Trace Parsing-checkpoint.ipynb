{
 "cells": [
  {
   "cell_type": "code",
   "execution_count": 1,
   "metadata": {
    "collapsed": true
   },
   "outputs": [],
   "source": [
    "import os\n",
    "\n",
    "import numpy as np\n",
    "import pandas as pd\n",
    "import scipy.stats as sts\n",
    "import matplotlib.pyplot as plt\n",
    "import seaborn as sns\n",
    "\n",
    "sns.set_style('white')\n",
    "\n",
    "pd.set_option('display.max_rows', 300)\n",
    "pd.set_option('display.max_columns', 40)\n",
    "\n",
    "%matplotlib inline"
   ]
  },
  {
   "cell_type": "code",
   "execution_count": 2,
   "metadata": {
    "collapsed": true
   },
   "outputs": [],
   "source": [
    "data_directory = '../../../Data/2_eye/Game/Raw/'"
   ]
  },
  {
   "cell_type": "code",
   "execution_count": 27,
   "metadata": {
    "collapsed": true
   },
   "outputs": [],
   "source": [
    "class Tidy(object):\n",
    "    def __init__(self, initials, sub_no=0):\n",
    "        self.directory = data_directory\n",
    "        self.subject = initials\n",
    "        self.sub_no = sub_no\n",
    "        \n",
    "        self.gcols = [\n",
    "            'idx', 'subid', 'color', 'gi', 'mi', 'status', \n",
    "            'bp', 'wp', 'zet', 'rt', 'tstamp', \n",
    "            'mouset', 'mousex', 'rt_comp', 'tstamp_comp'\n",
    "        ]\n",
    "        \n",
    "        self.tcols = [\n",
    "            'tstamp', 'mousex', 'mousey', 'dt', 'tile'\n",
    "        ]\n",
    "        \n",
    "        self.D = self.load()\n",
    "        self.T = self.make_tidy()\n",
    "        \n",
    "    def mouse_to_tile(self, x, y):\n",
    "        top = 192\n",
    "        bottom = 506\n",
    "        left = 177\n",
    "        right = 889\n",
    "        height = bottom - top\n",
    "        width = right - left\n",
    "        newx = 9*(x - left) // width\n",
    "        newy = 4*(y - top) // height\n",
    "\n",
    "        return newx + 9*newy\n",
    "        \n",
    "    def load(self):\n",
    "        # read csv\n",
    "        d = pd.read_csv(\n",
    "            '{}{}.csv'.format(self.directory, self.subject),\n",
    "            names=self.gcols\n",
    "        )\n",
    "        \n",
    "        # strip computer moves\n",
    "        d = d.loc[d.rt.astype(int)>0, self.gcols[1:]]\n",
    "        \n",
    "        # add timestamp and rt for computer\n",
    "        d.loc[:, 'tstamp_comp'] = d.tstamp.astype(int) - d.rt.astype(int)\n",
    "        d.loc[:, 'rt_comp'] = d.tstamp_comp - d.tstamp.astype(int).shift(1)\n",
    "        d.loc[:, 'subject'] = self.sub_no\n",
    "        d = d.reset_index(drop=True)\n",
    "        return d\n",
    "    \n",
    "    def make_tidy(self):\n",
    "        ts = self.D.tstamp.astype(int)\n",
    "        tidy = pd.DataFrame(\n",
    "            index=np.arange(ts.max() + 1 - ts.min()), \n",
    "            columns=self.tcols\n",
    "        )\n",
    "        tidy.loc[:, 'tstamp'] = np.arange(ts.min(), ts.max()+1, 1)\n",
    "        mt = self.D.loc[~pd.isnull(self.D.mouset), :]\n",
    "        \n",
    "        def expand_line(idx):\n",
    "            mouset = np.array(mt.loc[idx, 'mouset'].split(',')).astype(int)\n",
    "            mouset = mouset[mouset > int(mt.tstamp.values[0])]\n",
    "            iterator = mt.loc[idx, 'mousex'].split(';')\n",
    "            mousexy = np.array([xy.split(',') for xy in iterator]).astype(int)\n",
    "            return mouset, mousexy\n",
    "        \n",
    "        for idx in mt.index.values:\n",
    "            mouset, mousexy = expand_line(idx)\n",
    "            tidy.loc[tidy.tstamp.isin(mouset), ['mousex', 'mousey']] = mousexy\n",
    "        \n",
    "        tidy = tidy.loc[pd.notnull(tidy.mousex), :]\n",
    "        tidy.dt = (tidy.tstamp - tidy.tstamp.shift(1)).shift(-1)\n",
    "        tidy.tile = self.mouse_to_tile(tidy.mousex, tidy.mousey)\n",
    "        return tidy"
   ]
  },
  {
   "cell_type": "code",
   "execution_count": 28,
   "metadata": {
    "collapsed": false
   },
   "outputs": [],
   "source": [
    "inits = [f[:2] for f in os.listdir('../../../Data/2_eye/Game/Raw/') if f[-3:]=='csv']\n",
    "t = Tidy(inits[0])"
   ]
  },
  {
   "cell_type": "code",
   "execution_count": 33,
   "metadata": {
    "collapsed": false
   },
   "outputs": [
    {
     "data": {
      "image/png": "[encoded data removed]",
      "text/plain": [
       "<matplotlib.figure.Figure at 0x1232a8470>"
      ]
     },
     "metadata": {},
     "output_type": "display_data"
    }
   ],
   "source": [
    "t.T.tile.hist(bins=np.arange(36))\n",
    "sns.despine()"
   ]
  },
  {
   "cell_type": "code",
   "execution_count": 34,
   "metadata": {
    "collapsed": true
   },
   "outputs": [],
   "source": [
    "# looks good!"
   ]
  },
  {
   "cell_type": "code",
   "execution_count": null,
   "metadata": {
    "collapsed": true
   },
   "outputs": [],
   "source": []
  }
 ],
 "metadata": {
  "kernelspec": {
   "display_name": "Python 3",
   "language": "python",
   "name": "python3"
  },
  "language_info": {
   "codemirror_mode": {
    "name": "ipython",
    "version": 3
   },
   "file_extension": ".py",
   "mimetype": "text/x-python",
   "name": "python",
   "nbconvert_exporter": "python",
   "pygments_lexer": "ipython3",
   "version": "3.5.2"
  }
 },
 "nbformat": 4,
 "nbformat_minor": 0
}
