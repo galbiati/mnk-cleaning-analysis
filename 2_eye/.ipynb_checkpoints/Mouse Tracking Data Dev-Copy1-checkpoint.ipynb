{
 "cells": [
  {
   "cell_type": "markdown",
   "metadata": {},
   "source": [
    "Import"
   ]
  },
  {
   "cell_type": "code",
   "execution_count": 1,
   "metadata": {
    "collapsed": false
   },
   "outputs": [],
   "source": [
    "import numpy as np\n",
    "import pandas as pd\n",
    "import os\n",
    "import scipy.stats as sts\n",
    "import matplotlib.pyplot as plt\n",
    "import seaborn as sns\n",
    "\n",
    "sns.set_style('white')\n",
    "\n",
    "pd.set_option('display.max_rows', 300)\n",
    "\n",
    "%matplotlib inline\n"
   ]
  },
  {
   "cell_type": "markdown",
   "metadata": {},
   "source": [
    "Data cleaning"
   ]
  },
  {
   "cell_type": "markdown",
   "metadata": {},
   "source": [
    "Data manipulation class"
   ]
  },
  {
   "cell_type": "code",
   "execution_count": 2,
   "metadata": {
    "collapsed": false
   },
   "outputs": [],
   "source": [
    "class Tidy(object):\n",
    "    def __init__(self, initials):\n",
    "        print(initials)\n",
    "        self.columns = ['idx', 'subid', 'color', 'gi', 'mi', 'status', \n",
    "                        'bp', 'wp', 'zet', 'rt', 'tstamp', 'mouset', 'mousex' ]\n",
    "        self.tidy_cols = ['color', 'gi', 'mi', 'status', 'bp', 'wp', 'zet', 'rt', \n",
    "                     'eyex_raw', 'eyey_raw', 'eyex_tr', 'eyey_tr', \n",
    "                     'mousex', 'mousey', 'etile']\n",
    "        self.subject = initials\n",
    "        self.data = self.load_games()\n",
    "        self.eye = self.load_eye()\n",
    "        self.make_tidy()\n",
    "        \n",
    "    def load_games(self):\n",
    "        d = pd.read_csv('../../../Data/2_eye/Game/Raw/'+self.subject+'.csv', \n",
    "                              names=self.columns, dtype=str)\n",
    "        d = d.loc[d.rt.astype(int)>0, self.columns[1:]]\n",
    "        return d\n",
    "    \n",
    "    def load_eye(self):\n",
    "        eye = pd.read_csv('../../../Data/2_eye/Clean/new_'+self.subject+'_events.csv')\n",
    "        eye = eye.loc[~pd.isnull(eye.exp_time), :]\n",
    "        return eye\n",
    "    \n",
    "    def make_tidy(self):\n",
    "        b = self.data.loc[self.data.rt.astype(int)>0, 'tstamp'].astype(int)\n",
    "        print(b.min(), b.max())\n",
    "        e = self.eye.loc[(1000*self.eye.exp_time >= b.min()) & (1000*self.eye.exp_time <= b.max()), :]\n",
    "        self.tidy = pd.DataFrame(index=np.arange(b.min(), b.max()+1, 1), \n",
    "                                 columns=self.tidy_cols)\n",
    "        self.tidy.loc[self.data.tstamp.astype(int), self.tidy_cols[:-2]] = \\\n",
    "            self.data.loc[:, self.tidy_cols[:-2]].values\n",
    "        dm = self.data.loc[~pd.isnull(self.data.mouset), :]\n",
    "\n",
    "        for idx in dm.index.values:\n",
    "            mouset = dm.loc[idx, 'mouset']\n",
    "            mouset = mouset.split(',')\n",
    "            mouset = np.array(list(map(int, mouset)))\n",
    "            mouset = mouset[mouset > b.min()]\n",
    "            mousexy = np.array([xy.split(',') for xy in dm.loc[idx, 'mousex'].split(';')]).astype(int)\n",
    "            mousexy = mousexy[mouset > b.min(), :]\n",
    "            self.tidy.loc[mouset, ['mousex', 'mousey']] = mousexy\n",
    "        \n",
    "        self.tidy.loc[\n",
    "            (1000*e.exp_time).astype(int), \n",
    "            ['eyex_raw', 'eyey_raw', 'eyex_tr', 'eyey_tr', 'etile']\n",
    "        ] = e.loc[:, ['raw_xloc', 'raw_yloc', 'transx', 'transy', 'tile']].values\n",
    "        \n",
    "        self.tidy = self.tidy.dropna(axis=0, how='all')\n",
    "        for c in ['eyex_raw', 'eyey_raw', 'eyex_tr', 'eyey_tr']:\n",
    "            self.tidy.loc[:, c] = self.tidy.loc[:, c].fillna(method='ffill')\n",
    "        for c in ['mousex', 'mousey']:\n",
    "            self.tidy.loc[:, c] = self.tidy.loc[:, c].fillna(method='bfill')\n",
    "        return None\n",
    "            \n",
    "    def export_tidy(self):\n",
    "        self.tidy.to_csv('../../../Data/2_eye/Longform/'+self.subject+'.csv', index=False)\n",
    "        return None"
   ]
  },
  {
   "cell_type": "markdown",
   "metadata": {},
   "source": [
    "Loop over subjects"
   ]
  },
  {
   "cell_type": "code",
   "execution_count": 3,
   "metadata": {
    "collapsed": false
   },
   "outputs": [
    {
     "name": "stdout",
     "output_type": "stream",
     "text": [
      "AN\n",
      "1429294228855 1429296350783\n",
      "BA\n",
      "1429288473270 1429290310566\n",
      "DL\n",
      "1429808974074 1429811458306\n",
      "IA\n",
      "1429715307533 1429717923983\n",
      "JA\n",
      "1429120994172 1429122788866\n",
      "JL\n",
      "1429115581313 1429118162214\n",
      "JP\n",
      "1429803358807 1429805264262\n",
      "PO\n",
      "1429283840973 1429285917150\n",
      "RG\n",
      "1429110202534 1429112193450\n",
      "VL\n",
      "1429887374940 1429890216211\n"
     ]
    }
   ],
   "source": [
    "inits = [f[:2] for f in os.listdir('../../../Data/2_eye/Game/Raw/') if f[-3:]=='csv']\n",
    "data = []\n",
    "for i in inits:\n",
    "    t = Tidy(i)\n",
    "    t.export_tidy()\n",
    "    data.append(t)"
   ]
  },
  {
   "cell_type": "code",
   "execution_count": null,
   "metadata": {
    "collapsed": true
   },
   "outputs": [],
   "source": []
  },
  {
   "cell_type": "markdown",
   "metadata": {},
   "source": [
    "Summary figs"
   ]
  },
  {
   "cell_type": "code",
   "execution_count": 4,
   "metadata": {
    "collapsed": false
   },
   "outputs": [
    {
     "ename": "TypeError",
     "evalue": "unsupported operand type(s) for /: 'str' and 'int'",
     "output_type": "error",
     "traceback": [
      "\u001b[0;31m---------------------------------------------------------------------------\u001b[0m",
      "\u001b[0;31mTypeError\u001b[0m                                 Traceback (most recent call last)",
      "\u001b[0;32m<ipython-input-4-c3f1d9f3269b>\u001b[0m in \u001b[0;36m<module>\u001b[0;34m()\u001b[0m\n\u001b[1;32m      4\u001b[0m     \u001b[0mD\u001b[0m \u001b[0;34m=\u001b[0m \u001b[0mt\u001b[0m\u001b[0;34m.\u001b[0m\u001b[0mtidy\u001b[0m\u001b[0;34m.\u001b[0m\u001b[0mloc\u001b[0m\u001b[0;34m[\u001b[0m\u001b[0mt\u001b[0m\u001b[0;34m.\u001b[0m\u001b[0mtidy\u001b[0m\u001b[0;34m.\u001b[0m\u001b[0mstatus\u001b[0m\u001b[0;34m==\u001b[0m\u001b[0;34m'playing'\u001b[0m\u001b[0;34m,\u001b[0m \u001b[0;34m:\u001b[0m\u001b[0;34m]\u001b[0m\u001b[0;34m\u001b[0m\u001b[0m\n\u001b[1;32m      5\u001b[0m     \u001b[0mx\u001b[0m\u001b[0;34m,\u001b[0m \u001b[0my\u001b[0m \u001b[0;34m=\u001b[0m \u001b[0;34m(\u001b[0m\u001b[0mD\u001b[0m\u001b[0;34m.\u001b[0m\u001b[0meyex_raw\u001b[0m\u001b[0;34m,\u001b[0m \u001b[0mD\u001b[0m\u001b[0;34m.\u001b[0m\u001b[0meyey_raw\u001b[0m\u001b[0;34m)\u001b[0m\u001b[0;34m,\u001b[0m \u001b[0;34m(\u001b[0m\u001b[0mD\u001b[0m\u001b[0;34m.\u001b[0m\u001b[0mmousex\u001b[0m\u001b[0;34m,\u001b[0m \u001b[0mD\u001b[0m\u001b[0;34m.\u001b[0m\u001b[0mmousey\u001b[0m\u001b[0;34m)\u001b[0m\u001b[0;34m\u001b[0m\u001b[0m\n\u001b[0;32m----> 6\u001b[0;31m     \u001b[0mlr\u001b[0m \u001b[0;34m=\u001b[0m \u001b[0;34m(\u001b[0m\u001b[0msts\u001b[0m\u001b[0;34m.\u001b[0m\u001b[0mlinregress\u001b[0m\u001b[0;34m(\u001b[0m\u001b[0mx\u001b[0m\u001b[0;34m[\u001b[0m\u001b[0;36m0\u001b[0m\u001b[0;34m]\u001b[0m\u001b[0;34m,\u001b[0m \u001b[0my\u001b[0m\u001b[0;34m[\u001b[0m\u001b[0;36m0\u001b[0m\u001b[0;34m]\u001b[0m\u001b[0;34m)\u001b[0m\u001b[0;34m,\u001b[0m \u001b[0msts\u001b[0m\u001b[0;34m.\u001b[0m\u001b[0mlinregress\u001b[0m\u001b[0;34m(\u001b[0m\u001b[0mx\u001b[0m\u001b[0;34m[\u001b[0m\u001b[0;36m1\u001b[0m\u001b[0;34m]\u001b[0m\u001b[0;34m,\u001b[0m \u001b[0my\u001b[0m\u001b[0;34m[\u001b[0m\u001b[0;36m1\u001b[0m\u001b[0;34m]\u001b[0m\u001b[0;34m)\u001b[0m\u001b[0;34m)\u001b[0m\u001b[0;34m\u001b[0m\u001b[0m\n\u001b[0m\u001b[1;32m      7\u001b[0m     \u001b[0;32mfor\u001b[0m \u001b[0mj\u001b[0m \u001b[0;32min\u001b[0m \u001b[0;34m[\u001b[0m\u001b[0;36m0\u001b[0m\u001b[0;34m,\u001b[0m \u001b[0;36m1\u001b[0m\u001b[0;34m]\u001b[0m\u001b[0;34m:\u001b[0m\u001b[0;34m\u001b[0m\u001b[0m\n\u001b[1;32m      8\u001b[0m         \u001b[0maxes\u001b[0m\u001b[0;34m[\u001b[0m\u001b[0mi\u001b[0m\u001b[0;34m,\u001b[0m \u001b[0mj\u001b[0m\u001b[0;34m]\u001b[0m\u001b[0;34m.\u001b[0m\u001b[0mplot\u001b[0m\u001b[0;34m(\u001b[0m\u001b[0mx\u001b[0m\u001b[0;34m[\u001b[0m\u001b[0mj\u001b[0m\u001b[0;34m]\u001b[0m\u001b[0;34m,\u001b[0m \u001b[0my\u001b[0m\u001b[0;34m[\u001b[0m\u001b[0mj\u001b[0m\u001b[0;34m]\u001b[0m\u001b[0;34m,\u001b[0m \u001b[0mmarker\u001b[0m\u001b[0;34m=\u001b[0m\u001b[0;34m'o'\u001b[0m\u001b[0;34m,\u001b[0m \u001b[0mmarkerfacecolor\u001b[0m\u001b[0;34m=\u001b[0m\u001b[0;34m'grey'\u001b[0m\u001b[0;34m,\u001b[0m \u001b[0mcolor\u001b[0m\u001b[0;34m=\u001b[0m\u001b[0;34m'None'\u001b[0m\u001b[0;34m)\u001b[0m\u001b[0;34m\u001b[0m\u001b[0m\n",
      "\u001b[0;32m/Users/gianni/anaconda3/lib/python3.5/site-packages/scipy/stats/_stats_mstats_common.py\u001b[0m in \u001b[0;36mlinregress\u001b[0;34m(x, y)\u001b[0m\n\u001b[1;32m     74\u001b[0m     \u001b[0mn\u001b[0m \u001b[0;34m=\u001b[0m \u001b[0mlen\u001b[0m\u001b[0;34m(\u001b[0m\u001b[0mx\u001b[0m\u001b[0;34m)\u001b[0m\u001b[0;34m\u001b[0m\u001b[0m\n\u001b[1;32m     75\u001b[0m     \u001b[0mxmean\u001b[0m \u001b[0;34m=\u001b[0m \u001b[0mnp\u001b[0m\u001b[0;34m.\u001b[0m\u001b[0mmean\u001b[0m\u001b[0;34m(\u001b[0m\u001b[0mx\u001b[0m\u001b[0;34m,\u001b[0m \u001b[0;32mNone\u001b[0m\u001b[0;34m)\u001b[0m\u001b[0;34m\u001b[0m\u001b[0m\n\u001b[0;32m---> 76\u001b[0;31m     \u001b[0mymean\u001b[0m \u001b[0;34m=\u001b[0m \u001b[0mnp\u001b[0m\u001b[0;34m.\u001b[0m\u001b[0mmean\u001b[0m\u001b[0;34m(\u001b[0m\u001b[0my\u001b[0m\u001b[0;34m,\u001b[0m \u001b[0;32mNone\u001b[0m\u001b[0;34m)\u001b[0m\u001b[0;34m\u001b[0m\u001b[0m\n\u001b[0m\u001b[1;32m     77\u001b[0m \u001b[0;34m\u001b[0m\u001b[0m\n\u001b[1;32m     78\u001b[0m     \u001b[0;31m# average sum of squares:\u001b[0m\u001b[0;34m\u001b[0m\u001b[0;34m\u001b[0m\u001b[0m\n",
      "\u001b[0;32m/Users/gianni/anaconda3/lib/python3.5/site-packages/numpy/core/fromnumeric.py\u001b[0m in \u001b[0;36mmean\u001b[0;34m(a, axis, dtype, out, keepdims)\u001b[0m\n\u001b[1;32m   2883\u001b[0m \u001b[0;34m\u001b[0m\u001b[0m\n\u001b[1;32m   2884\u001b[0m     return _methods._mean(a, axis=axis, dtype=dtype,\n\u001b[0;32m-> 2885\u001b[0;31m                           out=out, keepdims=keepdims)\n\u001b[0m\u001b[1;32m   2886\u001b[0m \u001b[0;34m\u001b[0m\u001b[0m\n\u001b[1;32m   2887\u001b[0m \u001b[0;34m\u001b[0m\u001b[0m\n",
      "\u001b[0;32m/Users/gianni/anaconda3/lib/python3.5/site-packages/numpy/core/_methods.py\u001b[0m in \u001b[0;36m_mean\u001b[0;34m(a, axis, dtype, out, keepdims)\u001b[0m\n\u001b[1;32m     70\u001b[0m         \u001b[0mret\u001b[0m \u001b[0;34m=\u001b[0m \u001b[0mret\u001b[0m\u001b[0;34m.\u001b[0m\u001b[0mdtype\u001b[0m\u001b[0;34m.\u001b[0m\u001b[0mtype\u001b[0m\u001b[0;34m(\u001b[0m\u001b[0mret\u001b[0m \u001b[0;34m/\u001b[0m \u001b[0mrcount\u001b[0m\u001b[0;34m)\u001b[0m\u001b[0;34m\u001b[0m\u001b[0m\n\u001b[1;32m     71\u001b[0m     \u001b[0;32melse\u001b[0m\u001b[0;34m:\u001b[0m\u001b[0;34m\u001b[0m\u001b[0m\n\u001b[0;32m---> 72\u001b[0;31m         \u001b[0mret\u001b[0m \u001b[0;34m=\u001b[0m \u001b[0mret\u001b[0m \u001b[0;34m/\u001b[0m \u001b[0mrcount\u001b[0m\u001b[0;34m\u001b[0m\u001b[0m\n\u001b[0m\u001b[1;32m     73\u001b[0m \u001b[0;34m\u001b[0m\u001b[0m\n\u001b[1;32m     74\u001b[0m     \u001b[0;32mreturn\u001b[0m \u001b[0mret\u001b[0m\u001b[0;34m\u001b[0m\u001b[0m\n",
      "\u001b[0;31mTypeError\u001b[0m: unsupported operand type(s) for /: 'str' and 'int'"
     ]
    },
    {
     "data": {
      "image/png": "[encoded data removed]",
      "text/plain": [
       "<matplotlib.figure.Figure at 0x118100860>"
      ]
     },
     "metadata": {},
     "output_type": "display_data"
    }
   ],
   "source": [
    "fig, axes = plt.subplots(len(inits), 2, figsize=(10, 30), sharex=True, sharey=True)\n",
    "\n",
    "for i, t in enumerate(data):\n",
    "    D = t.tidy.loc[t.tidy.status=='playing', :]\n",
    "    x, y = (D.eyex_raw, D.eyey_raw), (D.mousex, D.mousey)\n",
    "    lr = (sts.linregress(x[0], y[0]), sts.linregress(x[1], y[1]))\n",
    "    for j in [0, 1]:\n",
    "        axes[i, j].plot(x[j], y[j], marker='o', markerfacecolor='grey', color='None')\n",
    "        axes[i, j].plot(np.arange(1200), lr[j].slope*np.arange(1200) + lr[j].intercept, 'k')\n",
    "        axes[i, j].set_title('R = {0.rvalue:.2f}, p = {0.pvalue:.4f}'.format(lr[j]))\n",
    "    axes[i, 0].set_ylabel(inits[i])\n",
    "    \n",
    "axes[-1, 0].set_xlabel('Eye X coord')\n",
    "axes[-1, 1].set_xlabel('Eye Y coord')\n",
    "                             \n",
    "sns.despine()\n",
    "\n",
    "fig.savefig('../../../Figures/2_eye/mouse_eye_correlation.png')"
   ]
  },
  {
   "cell_type": "markdown",
   "metadata": {},
   "source": [
    "Histograms"
   ]
  },
  {
   "cell_type": "code",
   "execution_count": 5,
   "metadata": {
    "collapsed": false
   },
   "outputs": [
    {
     "name": "stdout",
     "output_type": "stream",
     "text": [
      "(31918,) [281 281 281 ..., 790 791\n",
      " '683,237;680,238;675,240;669,240;661,241;652,241;639,241;630,243;616,243;608,243;596,243;588,243;582,243;576,243;570,243;565,243;561,243;557,243;552,243;548,245;545,245;541,245;538,246;535,247;531,247;528,249;525,250;524,251;521,251;520,253;519,253;518,254;517,254;516,254;514,255;513,256;512,256;511,257;510,257;509,258;506,260;505,261;504,261;503,262;501,262;500,263;499,263;499,264;498,264;497,264;496,266;494,266;493,266;493,267;492,267;491,267;490,268;489,268;487,268;486,269;485,269;484,269;483,269;482,270;480,270;478,270;475,272;473,272;470,273;467,273;463,275;458,278;454,279;449,282;444,284;438,287;432,288;427,290;421,292;414,295;408,297;403,300;397,303;392,304;388,307;385,310;380,313;375,316;371,321;368,324;363,329;360,333;355,338;352,343;348,347;344,352;343,355;342,358;340,359;340,361;339,362;339,364;338,365;338,366;337,367;337,368;336,369;336,371;335,372;334,373;332,375;331,377;330,378;329,380;327,381;326,383;325,384;324,385;323,386;322,386;322,387;320,387;319,388;318,388;317,388;317,390;316,390;315,390;313,390;313,391;312,391;313,391;313,391;312,390;313,388;315,388;316,387;318,386;321,385;326,383;330,382;335,380;343,378;352,377;360,377;372,375;383,373;395,371;406,371;417,371;431,369;442,369;456,369;470,367;484,367;498,367;512,365;526,365;542,365;556,363;568,361;582,359;593,359;607,357;616,355;627,353;641,353;655,349;670,347;687,343;698,339;716,332;727,329;739,323;751,319;760,315;770,309;776,308;785,306;792,302;799,297;806,292;811,289;815,286;820,283;823,281;826,278;827,275;829,273;829,271;829,269;830,266;830,265;830,264;830,261;830,260;830,258;830,257;830,255;829,253;829,252;827,251;826,248;825,247;825,246;822,244;822,243;820,242;819,241;818,240;816,240;815,238;813,238;812,237;809,237;808,236;807,236;804,236;803,236;802,236;801,236;800,236;798,236;797,236;796,236;795,236;794,236;793,236;793,237;792,237;792,237;790,237;790,236;790,234;790,231;790,230;791,230;791,230']\n"
     ]
    },
    {
     "ename": "ValueError",
     "evalue": "invalid literal for int() with base 10: '281,299;281,301;279,301;278,301;278,302;277,302;276,302;275,303;274,303;272,304;271,305;269,307;268,307;266,308;265,309;264,309;263,310;262,310;261,311;259,311;257,311;256,312;253,312;251,312;249,314",
     "output_type": "error",
     "traceback": [
      "\u001b[0;31m---------------------------------------------------------------------------\u001b[0m",
      "\u001b[0;31mValueError\u001b[0m                                Traceback (most recent call last)",
      "\u001b[0;32m<ipython-input-5-ebe33193e836>\u001b[0m in \u001b[0;36m<module>\u001b[0;34m()\u001b[0m\n\u001b[1;32m      5\u001b[0m     \u001b[0mt\u001b[0m\u001b[0;34m.\u001b[0m\u001b[0mloc\u001b[0m\u001b[0;34m[\u001b[0m\u001b[0;34m:\u001b[0m\u001b[0;34m,\u001b[0m \u001b[0;34m'dye'\u001b[0m\u001b[0;34m]\u001b[0m \u001b[0;34m=\u001b[0m \u001b[0mnp\u001b[0m\u001b[0;34m.\u001b[0m\u001b[0mediff1d\u001b[0m\u001b[0;34m(\u001b[0m\u001b[0mt\u001b[0m\u001b[0;34m.\u001b[0m\u001b[0meyey_raw\u001b[0m\u001b[0;34m.\u001b[0m\u001b[0mvalues\u001b[0m\u001b[0;34m,\u001b[0m \u001b[0mto_begin\u001b[0m\u001b[0;34m=\u001b[0m\u001b[0;36m0\u001b[0m\u001b[0;34m)\u001b[0m\u001b[0;34m\u001b[0m\u001b[0m\n\u001b[1;32m      6\u001b[0m     \u001b[0mprint\u001b[0m\u001b[0;34m(\u001b[0m\u001b[0mt\u001b[0m\u001b[0;34m.\u001b[0m\u001b[0mmousex\u001b[0m\u001b[0;34m.\u001b[0m\u001b[0mvalues\u001b[0m\u001b[0;34m.\u001b[0m\u001b[0mshape\u001b[0m\u001b[0;34m,\u001b[0m \u001b[0mt\u001b[0m\u001b[0;34m.\u001b[0m\u001b[0mmousex\u001b[0m\u001b[0;34m.\u001b[0m\u001b[0mvalues\u001b[0m\u001b[0;34m)\u001b[0m\u001b[0;34m\u001b[0m\u001b[0m\n\u001b[0;32m----> 7\u001b[0;31m     \u001b[0mt\u001b[0m\u001b[0;34m.\u001b[0m\u001b[0mloc\u001b[0m\u001b[0;34m[\u001b[0m\u001b[0;34m:\u001b[0m\u001b[0;34m,\u001b[0m \u001b[0;34m'dxm'\u001b[0m\u001b[0;34m]\u001b[0m \u001b[0;34m=\u001b[0m \u001b[0mnp\u001b[0m\u001b[0;34m.\u001b[0m\u001b[0mediff1d\u001b[0m\u001b[0;34m(\u001b[0m\u001b[0mt\u001b[0m\u001b[0;34m.\u001b[0m\u001b[0mmousex\u001b[0m\u001b[0;34m.\u001b[0m\u001b[0mvalues\u001b[0m\u001b[0;34m.\u001b[0m\u001b[0mastype\u001b[0m\u001b[0;34m(\u001b[0m\u001b[0mint\u001b[0m\u001b[0;34m)\u001b[0m\u001b[0;34m,\u001b[0m \u001b[0mto_begin\u001b[0m\u001b[0;34m=\u001b[0m\u001b[0;36m0\u001b[0m\u001b[0;34m)\u001b[0m\u001b[0;34m\u001b[0m\u001b[0m\n\u001b[0m\u001b[1;32m      8\u001b[0m     \u001b[0mt\u001b[0m\u001b[0;34m.\u001b[0m\u001b[0mloc\u001b[0m\u001b[0;34m[\u001b[0m\u001b[0;34m:\u001b[0m\u001b[0;34m,\u001b[0m \u001b[0;34m'dym'\u001b[0m\u001b[0;34m]\u001b[0m \u001b[0;34m=\u001b[0m \u001b[0mnp\u001b[0m\u001b[0;34m.\u001b[0m\u001b[0mediff1d\u001b[0m\u001b[0;34m(\u001b[0m\u001b[0mt\u001b[0m\u001b[0;34m.\u001b[0m\u001b[0mmousey\u001b[0m\u001b[0;34m.\u001b[0m\u001b[0mvalues\u001b[0m\u001b[0;34m,\u001b[0m \u001b[0mto_begin\u001b[0m\u001b[0;34m=\u001b[0m\u001b[0;36m0\u001b[0m\u001b[0;34m)\u001b[0m\u001b[0;34m\u001b[0m\u001b[0m\n\u001b[1;32m      9\u001b[0m     \u001b[0mt\u001b[0m\u001b[0;34m.\u001b[0m\u001b[0mloc\u001b[0m\u001b[0;34m[\u001b[0m\u001b[0;34m:\u001b[0m\u001b[0;34m,\u001b[0m \u001b[0;34m'emove'\u001b[0m\u001b[0;34m]\u001b[0m \u001b[0;34m=\u001b[0m \u001b[0;36m0\u001b[0m\u001b[0;34m\u001b[0m\u001b[0m\n",
      "\u001b[0;31mValueError\u001b[0m: invalid literal for int() with base 10: '281,299;281,301;279,301;278,301;278,302;277,302;276,302;275,303;274,303;272,304;271,305;269,307;268,307;266,308;265,309;264,309;263,310;262,310;261,311;259,311;257,311;256,312;253,312;251,312;249,314"
     ]
    }
   ],
   "source": [
    "for d in data:\n",
    "    t = d.tidy.copy()\n",
    "    t.loc[:, 'dt'] = np.ediff1d(t.index.values, to_begin=0)\n",
    "    t.loc[:, 'dxe'] = np.ediff1d(t.eyex_raw.values, to_begin=0)\n",
    "    t.loc[:, 'dye'] = np.ediff1d(t.eyey_raw.values, to_begin=0)\n",
    "    print(t.mousex.values.shape, t.mousex.values)\n",
    "    t.loc[:, 'dxm'] = np.ediff1d(t.mousex.values.astype(int), to_begin=0)\n",
    "    t.loc[:, 'dym'] = np.ediff1d(t.mousey.values, to_begin=0)\n",
    "    t.loc[:, 'emove'] = 0\n",
    "    t.loc[:, 'mmove'] = 0\n",
    "    t.loc[~((t.dxe == 0) & (t.dye == 0)), 'emove'] = 1\n",
    "    t.loc[~((t.dxm == 0) & (t.dym == 0)), 'mmove'] = 1\n",
    "    print(t.mmove.sum())"
   ]
  },
  {
   "cell_type": "code",
   "execution_count": 5,
   "metadata": {
    "collapsed": false
   },
   "outputs": [
    {
     "data": {
      "text/html": [
       "<div>\n",
       "<table border=\"1\" class=\"dataframe\">\n",
       "  <thead>\n",
       "    <tr style=\"text-align: right;\">\n",
       "      <th></th>\n",
       "      <th>color</th>\n",
       "      <th>gi</th>\n",
       "      <th>mi</th>\n",
       "      <th>status</th>\n",
       "      <th>bp</th>\n",
       "      <th>wp</th>\n",
       "      <th>zet</th>\n",
       "      <th>rt</th>\n",
       "      <th>eyex_raw</th>\n",
       "      <th>eyey_raw</th>\n",
       "      <th>...</th>\n",
       "      <th>eyey_tr</th>\n",
       "      <th>mousex</th>\n",
       "      <th>mousey</th>\n",
       "      <th>dt</th>\n",
       "      <th>dxe</th>\n",
       "      <th>dye</th>\n",
       "      <th>dxm</th>\n",
       "      <th>dym</th>\n",
       "      <th>emove</th>\n",
       "      <th>mmove</th>\n",
       "    </tr>\n",
       "  </thead>\n",
       "  <tbody>\n",
       "    <tr>\n",
       "      <th>1429887374940</th>\n",
       "      <td>0</td>\n",
       "      <td>1</td>\n",
       "      <td>0</td>\n",
       "      <td>eyecal</td>\n",
       "      <td>000000000000000000000000000000000000</td>\n",
       "      <td>100000000000000000000000000000000000</td>\n",
       "      <td>0</td>\n",
       "      <td>1737</td>\n",
       "      <td>231.7</td>\n",
       "      <td>261.5</td>\n",
       "      <td>...</td>\n",
       "      <td>0.617139</td>\n",
       "      <td>477.0</td>\n",
       "      <td>382.0</td>\n",
       "      <td>0</td>\n",
       "      <td>0.0</td>\n",
       "      <td>0.0</td>\n",
       "      <td>0.0</td>\n",
       "      <td>0.0</td>\n",
       "      <td>0</td>\n",
       "      <td>0</td>\n",
       "    </tr>\n",
       "    <tr>\n",
       "      <th>1429887377565</th>\n",
       "      <td>0</td>\n",
       "      <td>2</td>\n",
       "      <td>0</td>\n",
       "      <td>eyecal</td>\n",
       "      <td>000000000000000000000000000000000000</td>\n",
       "      <td>010000000000000000000000000000000000</td>\n",
       "      <td>1</td>\n",
       "      <td>1555</td>\n",
       "      <td>336.7</td>\n",
       "      <td>260.4</td>\n",
       "      <td>...</td>\n",
       "      <td>0.625378</td>\n",
       "      <td>477.0</td>\n",
       "      <td>382.0</td>\n",
       "      <td>2625</td>\n",
       "      <td>105.0</td>\n",
       "      <td>-1.1</td>\n",
       "      <td>0.0</td>\n",
       "      <td>0.0</td>\n",
       "      <td>1</td>\n",
       "      <td>0</td>\n",
       "    </tr>\n",
       "    <tr>\n",
       "      <th>1429887380172</th>\n",
       "      <td>0</td>\n",
       "      <td>3</td>\n",
       "      <td>0</td>\n",
       "      <td>eyecal</td>\n",
       "      <td>000000000000000000000000000000000000</td>\n",
       "      <td>001000000000000000000000000000000000</td>\n",
       "      <td>2</td>\n",
       "      <td>1552</td>\n",
       "      <td>433.4</td>\n",
       "      <td>258.6</td>\n",
       "      <td>...</td>\n",
       "      <td>0.625753</td>\n",
       "      <td>477.0</td>\n",
       "      <td>382.0</td>\n",
       "      <td>2607</td>\n",
       "      <td>96.7</td>\n",
       "      <td>-1.8</td>\n",
       "      <td>0.0</td>\n",
       "      <td>0.0</td>\n",
       "      <td>1</td>\n",
       "      <td>0</td>\n",
       "    </tr>\n",
       "    <tr>\n",
       "      <th>1429887382516</th>\n",
       "      <td>0</td>\n",
       "      <td>4</td>\n",
       "      <td>0</td>\n",
       "      <td>eyecal</td>\n",
       "      <td>000000000000000000000000000000000000</td>\n",
       "      <td>000100000000000000000000000000000000</td>\n",
       "      <td>3</td>\n",
       "      <td>1287</td>\n",
       "      <td>545.2</td>\n",
       "      <td>253.7</td>\n",
       "      <td>...</td>\n",
       "      <td>0.600350</td>\n",
       "      <td>477.0</td>\n",
       "      <td>382.0</td>\n",
       "      <td>2344</td>\n",
       "      <td>111.8</td>\n",
       "      <td>-4.9</td>\n",
       "      <td>0.0</td>\n",
       "      <td>0.0</td>\n",
       "      <td>1</td>\n",
       "      <td>0</td>\n",
       "    </tr>\n",
       "    <tr>\n",
       "      <th>1429887385044</th>\n",
       "      <td>0</td>\n",
       "      <td>5</td>\n",
       "      <td>0</td>\n",
       "      <td>eyecal</td>\n",
       "      <td>000000000000000000000000000000000000</td>\n",
       "      <td>000010000000000000000000000000000000</td>\n",
       "      <td>4</td>\n",
       "      <td>1511</td>\n",
       "      <td>639.3</td>\n",
       "      <td>248.3</td>\n",
       "      <td>...</td>\n",
       "      <td>0.567276</td>\n",
       "      <td>477.0</td>\n",
       "      <td>382.0</td>\n",
       "      <td>2528</td>\n",
       "      <td>94.1</td>\n",
       "      <td>-5.4</td>\n",
       "      <td>0.0</td>\n",
       "      <td>0.0</td>\n",
       "      <td>1</td>\n",
       "      <td>0</td>\n",
       "    </tr>\n",
       "  </tbody>\n",
       "</table>\n",
       "<p>5 rows × 21 columns</p>\n",
       "</div>"
      ],
      "text/plain": [
       "              color gi mi  status                                    bp  \\\n",
       "1429887374940     0  1  0  eyecal  000000000000000000000000000000000000   \n",
       "1429887377565     0  2  0  eyecal  000000000000000000000000000000000000   \n",
       "1429887380172     0  3  0  eyecal  000000000000000000000000000000000000   \n",
       "1429887382516     0  4  0  eyecal  000000000000000000000000000000000000   \n",
       "1429887385044     0  5  0  eyecal  000000000000000000000000000000000000   \n",
       "\n",
       "                                                 wp zet    rt  eyex_raw  \\\n",
       "1429887374940  100000000000000000000000000000000000   0  1737     231.7   \n",
       "1429887377565  010000000000000000000000000000000000   1  1555     336.7   \n",
       "1429887380172  001000000000000000000000000000000000   2  1552     433.4   \n",
       "1429887382516  000100000000000000000000000000000000   3  1287     545.2   \n",
       "1429887385044  000010000000000000000000000000000000   4  1511     639.3   \n",
       "\n",
       "               eyey_raw  ...     eyey_tr  mousex  mousey    dt    dxe  dye  \\\n",
       "1429887374940     261.5  ...    0.617139   477.0   382.0     0    0.0  0.0   \n",
       "1429887377565     260.4  ...    0.625378   477.0   382.0  2625  105.0 -1.1   \n",
       "1429887380172     258.6  ...    0.625753   477.0   382.0  2607   96.7 -1.8   \n",
       "1429887382516     253.7  ...    0.600350   477.0   382.0  2344  111.8 -4.9   \n",
       "1429887385044     248.3  ...    0.567276   477.0   382.0  2528   94.1 -5.4   \n",
       "\n",
       "               dxm  dym  emove  mmove  \n",
       "1429887374940  0.0  0.0      0      0  \n",
       "1429887377565  0.0  0.0      1      0  \n",
       "1429887380172  0.0  0.0      1      0  \n",
       "1429887382516  0.0  0.0      1      0  \n",
       "1429887385044  0.0  0.0      1      0  \n",
       "\n",
       "[5 rows x 21 columns]"
      ]
     },
     "execution_count": 5,
     "metadata": {},
     "output_type": "execute_result"
    }
   ],
   "source": [
    "t.head()"
   ]
  },
  {
   "cell_type": "code",
   "execution_count": null,
   "metadata": {
    "collapsed": true
   },
   "outputs": [],
   "source": []
  }
 ],
 "metadata": {
  "kernelspec": {
   "display_name": "Python 3",
   "language": "python",
   "name": "python3"
  },
  "language_info": {
   "codemirror_mode": {
    "name": "ipython",
    "version": 3
   },
   "file_extension": ".py",
   "mimetype": "text/x-python",
   "name": "python",
   "nbconvert_exporter": "python",
   "pygments_lexer": "ipython3",
   "version": "3.5.1"
  }
 },
 "nbformat": 4,
 "nbformat_minor": 0
}
