{
 "cells": [
  {
   "cell_type": "code",
   "execution_count": 2,
   "metadata": {
    "collapsed": true
   },
   "outputs": [],
   "source": [
    "import os\n",
    "import pandas as pd\n",
    "import numpy as np\n",
    "import matplotlib.pyplot as plt\n",
    "import seaborn as sns\n",
    "\n",
    "%matplotlib inline"
   ]
  },
  {
   "cell_type": "markdown",
   "metadata": {},
   "source": [
    "# Define data paths"
   ]
  },
  {
   "cell_type": "code",
   "execution_count": 3,
   "metadata": {
    "collapsed": false
   },
   "outputs": [],
   "source": [
    "data_dir = os.path.expanduser('~/Google Drive/Bas Zahy Gianni - Games/Data/2_eye/New')\n",
    "game_dir = os.path.join(data_dir, 'game')\n",
    "eyet_dir = os.path.join(data_dir, 'eyet')\n",
    "mous_dir = os.path.join(data_dir, 'mous')\n",
    "game_files = [os.path.join(game_dir, g) for g in os.listdir(game_dir) if g[-3:]=='csv']\n",
    "eyet_files = [os.path.join(eyet_dir, e) for e in os.listdir(eyet_dir) if e[-3:]=='csv']\n",
    "mous_files = [os.path.join(mous_dir, m) for m in os.listdir(mous_dir) if m[-3:]=='csv']"
   ]
  },
  {
   "cell_type": "markdown",
   "metadata": {},
   "source": [
    "# Load data"
   ]
  },
  {
   "cell_type": "code",
   "execution_count": 9,
   "metadata": {
    "collapsed": false
   },
   "outputs": [],
   "source": [
    "subject_initial_map = [g[-6:-4] for g in game_files]\n",
    "subject_initial_map = dict(zip(subject_initial_map, np.arange(len(subject_initial_map))))\n",
    "\n",
    "def load_game_file(gf):\n",
    "    D = pd.read_csv(gf)\n",
    "    D['subject'] = gf[-6:-4]\n",
    "    D['human'] = D['subject'].map(subject_initial_map)\n",
    "    return D\n",
    "\n",
    "def load_mous_file(mf):\n",
    "    mfnames = ['idx', 'id', 'color', 'gi', 'mi', 'status', 'bp', 'wp', 'zet', 'rt', 'ts', 'mt', 'mx']\n",
    "    D = pd.read_csv(mf, names=mfnames)\n",
    "    D = D[['mt', 'mx']]\n",
    "    valid = pd.notnull(D['mt'])\n",
    "    m = (D.loc[valid, 'mt'] + ',').sum().split(',')\n",
    "    x = [tuple(xx.split(',')) for xx in (D.loc[valid, 'mx'] + ';').sum().split(';')]\n",
    "    M = pd.DataFrame(data=[m, x])\n",
    "    M['subject'] = mf[-6:-4]\n",
    "    M['human'] = M['subject'].map(subject_initial_map)\n",
    "    return M\n",
    "\n",
    "def load_eyet_file(ef):\n",
    "    D = pd.read_csv(ef)\n",
    "    D = D.loc[D['etype']=='F']\n",
    "    D['subject'] = ef[-6:-4]\n",
    "    D['human'] = D['subject'].map(subject_initial_map)\n",
    "    return D[['start', 'end', 'transx', 'transy', 'human']]\n",
    "\n",
    "E = pd.concat([load_eyet_file(e) for e in eyet_files]).reset_index(drop=True)\n",
    "M = pd.concat([load_mous_file(m) for m in mous_files]).reset_index(drop=True)\n",
    "G = pd.concat([load_game_file(g) for g in game_files]).reset_index(drop=True)"
   ]
  },
  {
   "cell_type": "code",
   "execution_count": 10,
   "metadata": {
    "collapsed": false
   },
   "outputs": [
    {
     "data": {
      "text/plain": [
       "92039.0"
      ]
     },
     "execution_count": 10,
     "metadata": {},
     "output_type": "execute_result"
    }
   ],
   "source": [
    "int(M[0][0]) - float(str(E.start.loc[0]))*1000"
   ]
  },
  {
   "cell_type": "code",
   "execution_count": null,
   "metadata": {
    "collapsed": true
   },
   "outputs": [],
   "source": []
  }
 ],
 "metadata": {
  "anaconda-cloud": {},
  "kernelspec": {
   "display_name": "Python [default]",
   "language": "python",
   "name": "python3"
  },
  "language_info": {
   "codemirror_mode": {
    "name": "ipython",
    "version": 3
   },
   "file_extension": ".py",
   "mimetype": "text/x-python",
   "name": "python",
   "nbconvert_exporter": "python",
   "pygments_lexer": "ipython3",
   "version": "3.5.2"
  }
 },
 "nbformat": 4,
 "nbformat_minor": 1
}
