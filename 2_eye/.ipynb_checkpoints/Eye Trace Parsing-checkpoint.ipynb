{
 "cells": [
  {
   "cell_type": "code",
   "execution_count": 1,
   "metadata": {
    "collapsed": true
   },
   "outputs": [],
   "source": [
    "import os\n",
    "\n",
    "import numpy as np\n",
    "import pandas as pd\n",
    "import scipy.stats as sts\n",
    "import matplotlib.pyplot as plt\n",
    "import seaborn as sns\n",
    "\n",
    "sns.set_style('white')\n",
    "\n",
    "pd.set_option('display.max_rows', 300)\n",
    "pd.set_option('display.max_columns', 40)\n",
    "\n",
    "%matplotlib inline"
   ]
  },
  {
   "cell_type": "code",
   "execution_count": 2,
   "metadata": {
    "collapsed": true
   },
   "outputs": [],
   "source": [
    "data_directory = '../../../Data/2_eye/Game/Raw/'"
   ]
  },
  {
   "cell_type": "code",
   "execution_count": null,
   "metadata": {
    "collapsed": true
   },
   "outputs": [],
   "source": [
    "class Tidy(object):\n",
    "    def __init__(self, initials, sub_no=0):\n",
    "        self.directory = data_directory\n",
    "        self.subject = initials\n",
    "        self.sub_no = sub_no\n",
    "        \n",
    "        self.gcols = [\n",
    "            'idx', 'subid', 'color', 'gi', 'mi', 'status', \n",
    "            'bp', 'wp', 'zet', 'rt', 'tstamp', \n",
    "            'mouset', 'mousex', 'rt_comp', 'tstamp_comp'\n",
    "        ]\n",
    "        \n",
    "        self.tcols = [\n",
    "            'tstamp', 'mousex', 'mousey', 'dt', 'tile'\n",
    "        ]\n",
    "        \n",
    "        self.D = self.load()\n",
    "        self.T = self.make_tidy()\n",
    "        \n",
    "    def load(self):\n",
    "        pass\n",
    "    \n",
    "    def make_tidy(self):\n",
    "        pass\n",
    "    \n",
    "    "
   ]
  }
 ],
 "metadata": {
  "kernelspec": {
   "display_name": "Python 3",
   "language": "python",
   "name": "python3"
  },
  "language_info": {
   "codemirror_mode": {
    "name": "ipython",
    "version": 3
   },
   "file_extension": ".py",
   "mimetype": "text/x-python",
   "name": "python",
   "nbconvert_exporter": "python",
   "pygments_lexer": "ipython3",
   "version": "3.5.2"
  }
 },
 "nbformat": 4,
 "nbformat_minor": 0
}
