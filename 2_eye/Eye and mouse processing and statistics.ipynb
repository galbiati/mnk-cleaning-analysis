{
 "cells": [
  {
   "cell_type": "code",
   "execution_count": null,
   "metadata": {
    "collapsed": false,
    "deletable": true,
    "editable": true
   },
   "outputs": [],
   "source": [
    "import os\n",
    "import pandas as pd\n",
    "import numpy as np\n",
    "import scipy.stats as stats\n",
    "import matplotlib.pyplot as plt\n",
    "import seaborn as sns\n",
    "from preprocess import *\n",
    "\n",
    "%matplotlib inline"
   ]
  },
  {
   "cell_type": "code",
   "execution_count": null,
   "metadata": {
    "collapsed": false,
    "deletable": true,
    "editable": true
   },
   "outputs": [],
   "source": [
    "e_list = [load_eyetracker_file(e) for e in eyet_files]     # lists of dataframes containing respective data\n",
    "m_list = [load_mouse_file(m) for m in mous_files]\n",
    "g_list = [load_game_file(g) for g in mous_files]\n",
    "\n",
    "t = [\n",
    "    make_tidy(e_list[i], m_list[i], g_list[i]) \n",
    "    for i in range(len(e_list))\n",
    "]                                                          # create tidy dfs per subject along timestamp index\n",
    "\n",
    "mpivs = []                                                 # holding lists for pivoted histograms\n",
    "epivs = []\n",
    "\n",
    "for i in range(len(m_list)):                               # for each subject\n",
    "    \n",
    "    # MOUSE HISTOGRAMS\n",
    "    m_list[i], mpvt = mouse_hist(m_list[i], g_list[i])\n",
    "    mpivs.append(mpvt)\n",
    "    \n",
    "    # EYE HISTOGRAMS\n",
    "    \n",
    "    e_list[i], epvt = eye_hist(e_list[i], g_list[i])\n",
    "    epivs.append(epvt)"
   ]
  },
  {
   "cell_type": "markdown",
   "metadata": {
    "collapsed": false,
    "deletable": true,
    "editable": true
   },
   "source": [
    "# Statistics\n",
    "## Check eye-mouse correlations"
   ]
  },
  {
   "cell_type": "code",
   "execution_count": null,
   "metadata": {
    "collapsed": false,
    "deletable": true,
    "editable": true,
    "scrolled": false
   },
   "outputs": [],
   "source": [
    "figrows = len(e_list)                                       # n rows == n subjects\n",
    "fig, axes = plt.subplots(figrows, 2, figsize=(10, 40))      # initialize figure\n",
    "scatterkws = {'linestyle': 'none', 'marker': 'o', 'markersize': 1, 'alpha': .1}\n",
    "                                                            # set kws for scatter plot\n",
    "xrs = []                                                    # initialize lists for x and y r values (convert to numpy?)\n",
    "yrs = []\n",
    "for subject, ee in enumerate(e_list):                       # for every subject\n",
    "    for j, dim in enumerate(['x', 'y']):                    # for x and y dimensions      \n",
    "        ul = 4 if dim=='y' else 9\n",
    "        t_ = t[subject]                                     # select subject data\n",
    "        nanfilter = pd.notnull(t_['eye' + dim]) & pd.notnull(t_['mou' + dim])\n",
    "                                                            # filter records without mouse and eye vals\n",
    "        trialfilter = t[subject]['task']=='playing'         # filter convenience records\n",
    "        tt = t[subject].loc[nanfilter & trialfilter]        # apply filters\n",
    "        eyebounds = (tt['eye' + dim] >= 0) & (tt['eye' + dim] <= ul)\n",
    "        mousebounds = (tt['mou' + dim] >= 0) & (tt['mou' + dim] <= ul)\n",
    "                                                            # filter eye  and mousecoordinates off board\n",
    "        tt = tt.loc[eyebounds & mousebounds]                # apply eyebounds and mousebounds filters\n",
    "        lr = stats.linregress(tt['eye' + dim], tt['mou' + dim])\n",
    "                                                            # regress eye coordinate against mouse coordinate\n",
    "        \n",
    "        if dim == 'x':                                        # save regression coefficients\n",
    "            xrs.append(lr.rvalue)\n",
    "        else:\n",
    "            yrs.append(lr.rvalue)\n",
    "             \n",
    "        ax = axes[subject, j]                               # select axes\n",
    "        linex = [-2, 11]\n",
    "        liney = [-2*lr.slope + lr.intercept, 11*lr.slope + lr.intercept]\n",
    "                                                            # x and y coordinates for plotting regression line\n",
    "        ax.plot(linex, liney, color='black')                # plot regression line\n",
    "        ax.plot(tt['eye' + dim], tt['mou' + dim], **scatterkws)\n",
    "                                                            # scatter eye coordinates against mouse coordinates\n",
    "\n",
    "        \n",
    "plt.setp(axes[:, 0], xlim=[-1, 10], ylim=[-1, 10])          # plot formatting\n",
    "plt.setp(axes[:, 1], xlim=[-1, 5], ylim=[-1, 5])\n",
    "plt.setp(axes[:-1, :], xticklabels=[])\n",
    "plt.setp(axes[-1, 0], xlabel='Eye Pos (board coord.)')\n",
    "plt.setp(axes[4, 0], ylabel='Mouse Pos (board coord.)')\n",
    "plt.setp(axes[0, 0], title='X')\n",
    "plt.setp(axes[0, 1], title='Y')\n",
    "\n",
    "sns.despine()\n",
    "plt.tight_layout()"
   ]
  },
  {
   "cell_type": "code",
   "execution_count": null,
   "metadata": {
    "collapsed": false,
    "deletable": true,
    "editable": true
   },
   "outputs": [],
   "source": [
    "fig, axes = plt.subplots(1, 1, figsize=(5, 5))\n",
    "scatterkws['markersize'] = 10\n",
    "scatterkws['alpha'] = .9\n",
    "axes.plot(xrs, yrs, **scatterkws)\n",
    "plt.setp(axes, xlabel='X dim Pearson R', ylabel='Y dim Pearson R', xlim=[0, 1], ylim=[0, 1])\n",
    "\n",
    "sns.despine()\n",
    "plt.tight_layout()"
   ]
  }
 ],
 "metadata": {
  "anaconda-cloud": {},
  "kernelspec": {
   "display_name": "Python [default]",
   "language": "python",
   "name": "python3"
  },
  "language_info": {
   "codemirror_mode": {
    "name": "ipython",
    "version": 3
   },
   "file_extension": ".py",
   "mimetype": "text/x-python",
   "name": "python",
   "nbconvert_exporter": "python",
   "pygments_lexer": "ipython3",
   "version": "3.5.2"
  }
 },
 "nbformat": 4,
 "nbformat_minor": 1
}
