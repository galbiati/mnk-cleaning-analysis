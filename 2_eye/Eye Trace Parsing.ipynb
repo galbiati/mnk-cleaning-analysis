{
 "cells": [
  {
   "cell_type": "code",
   "execution_count": 1,
   "metadata": {
    "collapsed": true
   },
   "outputs": [],
   "source": [
    "import os\n",
    "\n",
    "import numpy as np\n",
    "import pandas as pd\n",
    "import scipy.stats as sts\n",
    "import matplotlib.pyplot as plt\n",
    "import seaborn as sns\n",
    "\n",
    "sns.set_style('white')\n",
    "\n",
    "pd.set_option('display.max_rows', 300)\n",
    "pd.set_option('display.max_columns', 40)\n",
    "\n",
    "%matplotlib inline"
   ]
  },
  {
   "cell_type": "code",
   "execution_count": 11,
   "metadata": {
    "collapsed": true
   },
   "outputs": [],
   "source": [
    "data_directory = '../../../Data/2_eye/Clean/'"
   ]
  },
  {
   "cell_type": "code",
   "execution_count": 45,
   "metadata": {
    "collapsed": true
   },
   "outputs": [],
   "source": [
    "class Tidy(object):\n",
    "    def __init__(self, initials, sub_no=0):\n",
    "        self.directory = data_directory\n",
    "        self.subject = initials\n",
    "        self.sub_no = sub_no\n",
    "        \n",
    "        self.tcols = [\n",
    "            'tstamp', 'eyex', 'eyey', 'dt', 'tile'\n",
    "        ]\n",
    "        \n",
    "        self.D = self.load()\n",
    "        self.T = self.make_tidy()\n",
    "        \n",
    "    def load(self):\n",
    "        eye = pd.read_csv(\n",
    "            '{}new_{}_events.csv'.format(self.directory, self.subject)\n",
    "        )\n",
    "        \n",
    "        eye = eye.loc[~pd.isnull(eye.exp_time), :]\n",
    "        eye.exp_time = (eye.exp_time*1000).astype(int)\n",
    "        print(eye.columns)\n",
    "        \n",
    "        return eye\n",
    "    \n",
    "    def make_tidy(self):\n",
    "        ts = self.D.exp_time.astype(int)\n",
    "        tidy = pd.DataFrame(\n",
    "            index=np.arange(ts.max() + 1 - ts.min()), \n",
    "            columns=self.tcols\n",
    "        )\n",
    "        tidy.loc[:, 'tstamp'] = np.arange(ts.min(), ts.max()+1, 1)\n",
    "        \n",
    "        tidy.loc[\n",
    "            tidy.tstamp.isin((1000*self.D.end.values).astype(int)), \n",
    "            ['eyex', 'eyey', 'dt', 'tile']\n",
    "        ] = self.D.loc[:, ['raw_xloc', 'raw_yloc', 'dur', 'tile']].values\n",
    "        \n",
    "        tidy = tidy.loc[pd.notnull(tidy.eyex), :]\n",
    "        tidy.dt = (tidy.tstamp - tidy.tstamp.shift(1)).shift(-1)\n",
    "        return tidy\n",
    "    \n",
    "    "
   ]
  },
  {
   "cell_type": "code",
   "execution_count": 46,
   "metadata": {
    "collapsed": false
   },
   "outputs": [
    {
     "name": "stdout",
     "output_type": "stream",
     "text": [
      "Index(['etstart', 'etend', 'dur', 'raw_xloc', 'raw_yloc', 'etype', 'start',\n",
      "       'end', 'res', 'subject', 'gi', 'mi', 'status', 'exp_time',\n",
      "       'exp_move_start', 'bp', 'wp', 'transx', 'transy', 'tile'],\n",
      "      dtype='object')\n"
     ]
    }
   ],
   "source": [
    "inits = [f[:2] for f in os.listdir('../../../Data/2_eye/Game/Raw/') if f[-3:]=='csv']\n",
    "t = Tidy(inits[0])"
   ]
  }
 ],
 "metadata": {
  "kernelspec": {
   "display_name": "Python 3",
   "language": "python",
   "name": "python3"
  },
  "language_info": {
   "codemirror_mode": {
    "name": "ipython",
    "version": 3
   },
   "file_extension": ".py",
   "mimetype": "text/x-python",
   "name": "python",
   "nbconvert_exporter": "python",
   "pygments_lexer": "ipython3",
   "version": "3.5.2"
  }
 },
 "nbformat": 4,
 "nbformat_minor": 0
}
