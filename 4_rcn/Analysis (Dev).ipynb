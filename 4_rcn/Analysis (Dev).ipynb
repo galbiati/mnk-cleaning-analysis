{
 "cells": [
  {
   "cell_type": "code",
   "execution_count": null,
   "metadata": {
    "collapsed": true,
    "deletable": true,
    "editable": true
   },
   "outputs": [],
   "source": [
    "import pandas as pd\n",
    "import numpy as np\n",
    "import os\n",
    "import matplotlib.pyplot as plt\n",
    "import seaborn as sns\n",
    "import scipy.stats as stats\n",
    "import scipy.signal as sig\n",
    "\n",
    "import reconstruction as recs\n",
    "\n",
    "%matplotlib inline"
   ]
  },
  {
   "cell_type": "code",
   "execution_count": null,
   "metadata": {
    "collapsed": false,
    "deletable": true,
    "editable": true,
    "scrolled": true
   },
   "outputs": [],
   "source": [
    "data_dir = os.path.expanduser('~/Google Drive/Bas Zahy Gianni - Games/Data/4_rcn/Clean/Game')\n",
    "files = [f for f in os.listdir(data_dir) if f[-3:] == 'csv']\n",
    "filepaths = [os.path.join(data_dir, f) for f in files]\n",
    "df = pd.concat([pd.read_csv(f) for f in filepaths]).reset_index(drop=True)"
   ]
  },
  {
   "cell_type": "code",
   "execution_count": null,
   "metadata": {
    "collapsed": true,
    "deletable": true,
    "editable": true
   },
   "outputs": [],
   "source": [
    "trained = df['trained']\n",
    "reconf = df['status'] == 'reconf'\n",
    "reconi = df['status'] == 'reconi'\n",
    "terminals = reconf | reconi"
   ]
  },
  {
   "cell_type": "code",
   "execution_count": null,
   "metadata": {
    "collapsed": false,
    "deletable": true,
    "editable": true
   },
   "outputs": [],
   "source": [
    "df.loc[trained, 'subject'] = '1' + df.loc[trained, 'subject']\n",
    "df.loc[~trained, 'subject'] = '0' + df.loc[~trained, 'subject']\n",
    "\n",
    "ipos = df.loc[reconi, ['subject', 'bp', 'wp']].copy().reset_index()\n",
    "ipos.columns = ['indexi', 'subject', 'bp true', 'wp true']\n",
    "fpos = df.loc[reconf, ['bp', 'wp']].copy().reset_index()\n",
    "fpos.columns = ['indexf', 'bp', 'wp']\n",
    "\n",
    "comp = pd.concat([ipos, fpos], axis=1)"
   ]
  },
  {
   "cell_type": "code",
   "execution_count": null,
   "metadata": {
    "collapsed": false
   },
   "outputs": [],
   "source": [
    "true_bp = np.stack(df.loc[reconi, 'bp'].map(recs.string_to_array).values)\n",
    "true_wp = np.stack(df.loc[reconi, 'wp'].map(recs.string_to_array).values)\n",
    "\n",
    "num_h_neighbors = np.apply_along_axis(recs.h_neighbors, axis=1, arr=true_bp + true_wp)\n",
    "num_v_neighbors = np.apply_along_axis(recs.v_neighbors, axis=1, arr=true_bp + true_wp)\n",
    "num_d_neighbors = np.apply_along_axis(recs.d_neighbors, axis=1, arr= true_bp + true_wp)\n",
    "total_neighbors = num_h_neighbors + num_v_neighbors + num_d_neighbors"
   ]
  },
  {
   "cell_type": "code",
   "execution_count": null,
   "metadata": {
    "collapsed": false
   },
   "outputs": [],
   "source": [
    "total_neighbors.reshape([num_h_neighbors.shape[0], 4, 9])[0, :, :]"
   ]
  },
  {
   "cell_type": "code",
   "execution_count": null,
   "metadata": {
    "collapsed": false
   },
   "outputs": [],
   "source": [
    "def count_h_neighbors(row):\n",
    "    bpt, wpt, bp, wp = recs.expand_row(row)\n",
    "    f = np.array([[1, 0, 1]])\n",
    "    \n",
    "    bpt_ = bpt.reshape([4, 9])\n",
    "    bpt_ = sig.convolve2d(bpt_, f, mode='same').reshape(36)\n",
    "    \n",
    "    wpt_ = wpt.reshape([4, 9])\n",
    "    wpt_ = sig.convolve2d(wpt_, f, mode='same').reshape(36)\n",
    "    \n",
    "    return bpt_ + wpt_\n",
    "\n",
    "comp.apply(count_h_neighbors, axis=1)"
   ]
  },
  {
   "cell_type": "code",
   "execution_count": null,
   "metadata": {
    "collapsed": false,
    "deletable": true,
    "editable": true
   },
   "outputs": [],
   "source": [
    "npieces = comp.apply(recs.n_pieces, axis=1)\n",
    "missing = comp.apply(recs.missing_pieces, axis=1)\n",
    "extra = comp.apply(recs.extra_pieces, axis=1)\n",
    "wrong = comp.apply(recs.wrong_color, axis=1)"
   ]
  },
  {
   "cell_type": "code",
   "execution_count": null,
   "metadata": {
    "collapsed": false,
    "deletable": true,
    "editable": true
   },
   "outputs": [],
   "source": [
    "df.loc[reconf, 'total errors'] = missing.values + extra.values + wrong.values\n",
    "df.loc[reconf, 'n initial'] = npieces.values\n",
    "df.loc[reconf, 'n missing'] = missing.values\n",
    "df.loc[reconf, 'n extra'] = extra.values\n",
    "df.loc[reconf, 'n wrong_color'] = wrong.values"
   ]
  },
  {
   "cell_type": "code",
   "execution_count": null,
   "metadata": {
    "collapsed": false,
    "deletable": true,
    "editable": true,
    "scrolled": true
   },
   "outputs": [],
   "source": [
    "fig, axes = plt.subplots(1, 1, figsize=(8, 5))\n",
    "trained_errors = df.loc[trained & reconf, 'total errors'].values\n",
    "untrained_errors = df.loc[(~trained) & reconf, 'total errors'].values\n",
    "\n",
    "label = 'Trained: {:.2f}'.format(trained_errors.mean())\n",
    "sns.distplot(trained_errors, ax=axes, label=label, kde=False, bins=np.arange(0, 36, 1))\n",
    "\n",
    "label = 'Untrained: {:.2f}'.format(untrained_errors.mean())\n",
    "sns.distplot(untrained_errors, ax=axes, label=label, kde=False, bins=np.arange(0, 36, 1))\n",
    "\n",
    "axes.legend()\n",
    "sns.despine()"
   ]
  },
  {
   "cell_type": "code",
   "execution_count": null,
   "metadata": {
    "collapsed": false,
    "deletable": true,
    "editable": true
   },
   "outputs": [],
   "source": [
    "# Ref here for method: https://onlinecourses.science.psu.edu/stat414/node/268\n",
    "\n",
    "n0 = trained_errors.size * 36              # Num possible error events = num trials * num positions\n",
    "n1 = untrained_errors.size * 36\n",
    "p0 = trained_errors.sum() / n0\n",
    "p1 = untrained_errors.sum() / n1\n",
    "\n",
    "phat = ((n0 * p0) + (n1 * p1)) / (n0 + n1)\n",
    "\n",
    "z = (p0 - p1) / np.sqrt(phat * (1 - phat) * (1/n0 + 1/n1))\n",
    "print('Trials per group: {}\\nZ-Stat: {:.2f}'.format(n0/36, np.abs(z)))"
   ]
  }
 ],
 "metadata": {
  "kernelspec": {
   "display_name": "Python [default]",
   "language": "python",
   "name": "python3"
  },
  "language_info": {
   "codemirror_mode": {
    "name": "ipython",
    "version": 3
   },
   "file_extension": ".py",
   "mimetype": "text/x-python",
   "name": "python",
   "nbconvert_exporter": "python",
   "pygments_lexer": "ipython3",
   "version": "3.5.2"
  }
 },
 "nbformat": 4,
 "nbformat_minor": 2
}
