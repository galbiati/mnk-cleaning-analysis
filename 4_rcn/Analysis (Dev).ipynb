{
 "cells": [
  {
   "cell_type": "code",
   "execution_count": null,
   "metadata": {
    "collapsed": true,
    "deletable": true,
    "editable": true
   },
   "outputs": [],
   "source": [
    "import pandas as pd\n",
    "import numpy as np\n",
    "import os\n",
    "import matplotlib.pyplot as plt\n",
    "import seaborn as sns\n",
    "import scipy.stats as stats\n",
    "\n",
    "%matplotlib inline"
   ]
  },
  {
   "cell_type": "code",
   "execution_count": null,
   "metadata": {
    "collapsed": false,
    "deletable": true,
    "editable": true,
    "scrolled": true
   },
   "outputs": [],
   "source": [
    "data_dir = os.path.expanduser('~/Google Drive/Bas Zahy Gianni - Games/Data/4_rcn/Clean/Game')\n",
    "files = [f for f in os.listdir(data_dir) if f[-3:] == 'csv']\n",
    "filepaths = [os.path.join(data_dir, f) for f in files]\n",
    "df = pd.concat([pd.read_csv(f) for f in filepaths]).reset_index(drop=True)"
   ]
  },
  {
   "cell_type": "code",
   "execution_count": null,
   "metadata": {
    "collapsed": true
   },
   "outputs": [],
   "source": [
    "trained = df['trained']\n",
    "reconf = df['status'] == 'reconf'\n",
    "reconi = df['status'] == 'reconi'\n",
    "terminals = reconf | reconi"
   ]
  },
  {
   "cell_type": "code",
   "execution_count": null,
   "metadata": {
    "collapsed": false
   },
   "outputs": [],
   "source": [
    "df.loc[trained, 'subject'] = '1' + df.loc[trained, 'subject']\n",
    "df.loc[~trained, 'subject'] = '0' + df.loc[~trained, 'subject']\n",
    "\n",
    "ipos = df.loc[reconi, ['subject', 'bp', 'wp']].copy().reset_index()\n",
    "ipos.columns = ['indexi', 'subject', 'bp true', 'wp true']\n",
    "fpos = df.loc[reconf, ['bp', 'wp']].copy().reset_index()\n",
    "fpos.columns = ['indexf', 'bp', 'wp']\n",
    "\n",
    "comp = pd.concat([ipos, fpos], axis=1)"
   ]
  },
  {
   "cell_type": "code",
   "execution_count": null,
   "metadata": {
    "collapsed": false,
    "deletable": true,
    "editable": true
   },
   "outputs": [],
   "source": [
    "def string_to_array(board_string):\n",
    "    return np.array(list(board_string)).astype(int)\n",
    "\n",
    "def expand_row(row):\n",
    "    bpt, wpt, bp, wp = row[['bp true', 'wp true', 'bp', 'wp']].map(string_to_array)\n",
    "    return bpt, wpt, bp, wp\n",
    "\n",
    "def score(row):\n",
    "    bpt, wpt, bp, wp = expand_row(row)\n",
    "    bperror = (bpt != bp).astype(int).sum()\n",
    "    wperror = (wpt != wp).astype(int).sum()\n",
    "    doubleerror = ((bpt != bp) & (wpt != wp)).astype(int).sum()\n",
    "    return bperror + wperror - doubleerror\n",
    "\n",
    "def extra_pieces(row):\n",
    "    bpt, wpt, bp, wp = expand_row(row)\n",
    "    pt = bpt + wpt\n",
    "    p = bp + wp\n",
    "    \n",
    "    return (pt - p < 0).sum()\n",
    "\n",
    "def missing_pieces(row):\n",
    "    bpt, wpt, bp, wp = expand_row(row)\n",
    "    pt = bpt + wpt\n",
    "    p = bp + wp\n",
    "    \n",
    "    return (pt - p > 0).sum()\n",
    "\n",
    "def wrong_color(row):\n",
    "    bpt, wpt, bp, wp = expand_row(row)\n",
    "    b2w = ((bpt == 1) & (wp == 1)).sum()\n",
    "#     print(b2w)\n",
    "    w2b = ((wpt == 1) & (bp == 1)).sum()\n",
    "    \n",
    "    return b2w + w2b\n",
    "    \n",
    "def n_pieces(row):\n",
    "    bpt, wpt = row[['bp true', 'wp true']]\n",
    "    n_bpieces = string_to_array(bpt).sum()\n",
    "    n_wpieces = string_to_array(wpt).sum()\n",
    "    return n_bpieces + n_wpieces\n",
    "\n",
    "npieces = comp.apply(n_pieces, axis=1)\n",
    "missing = comp.apply(missing_pieces, axis=1)\n",
    "extra = comp.apply(extra_pieces, axis=1)\n",
    "wrong = comp.apply(wrong_color, axis=1)"
   ]
  },
  {
   "cell_type": "code",
   "execution_count": null,
   "metadata": {
    "collapsed": false
   },
   "outputs": [],
   "source": [
    "df.loc[reconf, 'total errors'] = missing.values + extra.values + wrong.values\n",
    "df.loc[reconf, 'n initial'] = npieces.values\n",
    "df.loc[reconf, 'n missing'] = missing.values\n",
    "df.loc[reconf, 'n extra'] = extra.values\n",
    "df.loc[reconf, 'n wrong_color'] = wrong.values"
   ]
  },
  {
   "cell_type": "code",
   "execution_count": null,
   "metadata": {
    "collapsed": false
   },
   "outputs": [],
   "source": [
    "fig, axes = plt.subplots(1, 1, figsize=(8, 5))\n",
    "trained_errors = df.loc[trained & reconf, 'total errors'].values\n",
    "untrained_errors = df.loc[(~trained) & reconf, 'total errors'].values\n",
    "\n",
    "label = 'Trained: {:.2f}'.format(trained_errors.mean())\n",
    "sns.distplot(trained_errors, ax=axes, label=label, kde=False, bins=np.arange(0, 36, 1))\n",
    "\n",
    "label = 'Untrained: {:.2f}'.format(untrained_errors.mean())\n",
    "sns.distplot(untrained_errors, ax=axes, label=label, kde=False, bins=np.arange(0, 36, 1))\n",
    "\n",
    "axes.legend()\n",
    "sns.despine()"
   ]
  },
  {
   "cell_type": "code",
   "execution_count": null,
   "metadata": {
    "collapsed": false
   },
   "outputs": [],
   "source": [
    "# Ref here for method: https://onlinecourses.science.psu.edu/stat414/node/268\n",
    "\n",
    "n0 = trained_errors.size * 36              # Num possible error events = num trials * num positions\n",
    "n1 = untrained_errors.size * 36\n",
    "p0 = trained_errors.sum() / n0\n",
    "p1 = untrained_errors.sum() / n1\n",
    "\n",
    "phat = ((n0 * p0) + (n1 * p1)) / (n0 + n1)\n",
    "\n",
    "z = (p0 - p1) / np.sqrt(phat * (1 - phat) * (1/n0 + 1/n1))\n",
    "print('Trials per group: {}\\nZ-Stat: {:.2f}'.format(n0/36, np.abs(z)))"
   ]
  }
 ],
 "metadata": {
  "kernelspec": {
   "display_name": "Python [default]",
   "language": "python",
   "name": "python3"
  },
  "language_info": {
   "codemirror_mode": {
    "name": "ipython",
    "version": 3
   },
   "file_extension": ".py",
   "mimetype": "text/x-python",
   "name": "python",
   "nbconvert_exporter": "python",
   "pygments_lexer": "ipython3",
   "version": "3.5.2"
  }
 },
 "nbformat": 4,
 "nbformat_minor": 2
}
